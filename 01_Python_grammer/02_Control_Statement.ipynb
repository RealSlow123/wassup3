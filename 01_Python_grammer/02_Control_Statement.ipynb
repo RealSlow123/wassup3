{
 "cells": [
  {
   "cell_type": "code",
   "execution_count": 5,
   "id": "2d381396-7ad7-411d-8535-c10e485eae6a",
   "metadata": {},
   "outputs": [
    {
     "name": "stdout",
     "output_type": "stream",
     "text": [
      "택시를 타고 가라\n"
     ]
    }
   ],
   "source": [
    "money = True\n",
    "if money :\n",
    "    print(\"택시를 타고 가라\")\n",
    "else :\n",
    "    print(\"걸어 가라\")"
   ]
  },
  {
   "cell_type": "code",
   "execution_count": 6,
   "id": "d506eb62-c7b9-445b-9e87-702a430acf2e",
   "metadata": {},
   "outputs": [
    {
     "ename": "IndentationError",
     "evalue": "unexpected indent (1841204671.py, line 5)",
     "output_type": "error",
     "traceback": [
      "\u001b[1;36m  Cell \u001b[1;32mIn[6], line 5\u001b[1;36m\u001b[0m\n\u001b[1;33m    print(\"가라\")\u001b[0m\n\u001b[1;37m    ^\u001b[0m\n\u001b[1;31mIndentationError\u001b[0m\u001b[1;31m:\u001b[0m unexpected indent\n"
     ]
    }
   ],
   "source": [
    "money = True\n",
    "if money:\n",
    "    print(\"택시를\")\n",
    "print(\"타고\")\n",
    "    print(\"가라\")"
   ]
  },
  {
   "cell_type": "code",
   "execution_count": 7,
   "id": "affecfe3-a36e-425a-b6de-a5152365c065",
   "metadata": {},
   "outputs": [
    {
     "ename": "IndentationError",
     "evalue": "unexpected indent (73570325.py, line 5)",
     "output_type": "error",
     "traceback": [
      "\u001b[1;36m  Cell \u001b[1;32mIn[7], line 5\u001b[1;36m\u001b[0m\n\u001b[1;33m    print(\"가라\")\u001b[0m\n\u001b[1;37m    ^\u001b[0m\n\u001b[1;31mIndentationError\u001b[0m\u001b[1;31m:\u001b[0m unexpected indent\n"
     ]
    }
   ],
   "source": [
    "money = True\n",
    "if money:\n",
    "    print(\"택시를\")\n",
    "    print(\"타고\")\n",
    "        print(\"가라\")"
   ]
  },
  {
   "cell_type": "markdown",
   "id": "d41a125f-3b4d-4380-95c2-afcf039cd509",
   "metadata": {},
   "source": [
    "# 조건문이란 무엇인가\n",
    "참과 거짓을 판별하는 문장"
   ]
  },
  {
   "cell_type": "code",
   "execution_count": 8,
   "id": "5a1e1c04-80e8-4b49-8bcb-c23f8a14a6e3",
   "metadata": {},
   "outputs": [
    {
     "data": {
      "text/plain": [
       "False"
      ]
     },
     "execution_count": 8,
     "metadata": {},
     "output_type": "execute_result"
    }
   ],
   "source": [
    "# 비교 연산자\n",
    "x = 2\n",
    "y = 3\n",
    "x > y"
   ]
  },
  {
   "cell_type": "code",
   "execution_count": 9,
   "id": "0a330f4b-9fb7-4287-8c53-41247e9a5f59",
   "metadata": {},
   "outputs": [
    {
     "data": {
      "text/plain": [
       "True"
      ]
     },
     "execution_count": 9,
     "metadata": {},
     "output_type": "execute_result"
    }
   ],
   "source": [
    "x < y"
   ]
  },
  {
   "cell_type": "code",
   "execution_count": 10,
   "id": "cfa56548-eec6-416f-beeb-9c01946cf100",
   "metadata": {},
   "outputs": [
    {
     "data": {
      "text/plain": [
       "True"
      ]
     },
     "execution_count": 10,
     "metadata": {},
     "output_type": "execute_result"
    }
   ],
   "source": [
    "x != y"
   ]
  },
  {
   "cell_type": "code",
   "execution_count": 11,
   "id": "832d1490-354b-4767-8730-a5a452249790",
   "metadata": {},
   "outputs": [
    {
     "data": {
      "text/plain": [
       "False"
      ]
     },
     "execution_count": 11,
     "metadata": {},
     "output_type": "execute_result"
    }
   ],
   "source": [
    "x == y"
   ]
  },
  {
   "cell_type": "code",
   "execution_count": 12,
   "id": "db439997-5796-41df-8a5f-5fb1ef87d0ea",
   "metadata": {},
   "outputs": [
    {
     "name": "stdout",
     "output_type": "stream",
     "text": [
      "걸어 가라\n"
     ]
    }
   ],
   "source": [
    "money = 2000\n",
    "if money >= 3000:\n",
    "    print(\"택시를 타고 가라\")\n",
    "else :\n",
    "    print(\"걸어 가라\")"
   ]
  },
  {
   "cell_type": "code",
   "execution_count": 20,
   "id": "ab9592b1-deec-44b2-aa14-6381e245d67d",
   "metadata": {},
   "outputs": [
    {
     "name": "stdout",
     "output_type": "stream",
     "text": [
      "택시를 타고 가라\n"
     ]
    }
   ],
   "source": [
    "# and or not\n",
    "money = 2000\n",
    "have_card = True\n",
    "if money >= 3000 or have_card:\n",
    "    print(\"택시를 타고 가라\")\n",
    "else :\n",
    "    print(\"걸어 가라\")"
   ]
  },
  {
   "cell_type": "markdown",
   "id": "84c21e78-cafe-45fe-a8ba-9907e505cee5",
   "metadata": {},
   "source": [
    "# in, not in"
   ]
  },
  {
   "cell_type": "code",
   "execution_count": 21,
   "id": "431ca60e-8906-4507-8fa1-766f24d44f3d",
   "metadata": {},
   "outputs": [
    {
     "data": {
      "text/plain": [
       "True"
      ]
     },
     "execution_count": 21,
     "metadata": {},
     "output_type": "execute_result"
    }
   ],
   "source": [
    "1 in [1,2,3]"
   ]
  },
  {
   "cell_type": "code",
   "execution_count": 22,
   "id": "76cd7e35-18fe-43a2-9df2-2bec88ecc985",
   "metadata": {},
   "outputs": [
    {
     "data": {
      "text/plain": [
       "False"
      ]
     },
     "execution_count": 22,
     "metadata": {},
     "output_type": "execute_result"
    }
   ],
   "source": [
    "1 not in [1,2,3]"
   ]
  },
  {
   "cell_type": "code",
   "execution_count": 25,
   "id": "d41e9e17-f6b6-457e-b549-aadde564184c",
   "metadata": {},
   "outputs": [
    {
     "data": {
      "text/plain": [
       "True"
      ]
     },
     "execution_count": 25,
     "metadata": {},
     "output_type": "execute_result"
    }
   ],
   "source": [
    "'a' in ('a', 'b', 'c')"
   ]
  },
  {
   "cell_type": "code",
   "execution_count": 27,
   "id": "5dd32693-2399-46af-96a4-d28f162240bf",
   "metadata": {},
   "outputs": [
    {
     "name": "stdout",
     "output_type": "stream",
     "text": [
      "택시를 타고 가라\n"
     ]
    }
   ],
   "source": [
    "주머니 = ['돈', '담배', '라이터', '쓰레기']\n",
    "if '돈' in 주머니 :\n",
    "    print(\"택시를 타고 가라\")\n",
    "else :\n",
    "    print(\"걸어 가라\")"
   ]
  },
  {
   "cell_type": "markdown",
   "id": "7fcd8f82-cde0-4751-9224-07fcedb4c2c3",
   "metadata": {},
   "source": [
    "# 조건문에서 아무것도 일도 하지않게 설정 하려면?"
   ]
  },
  {
   "cell_type": "code",
   "execution_count": 29,
   "id": "a9b4a1a4-a0c3-4fcf-aa24-c4951c4d2a29",
   "metadata": {},
   "outputs": [],
   "source": [
    "if '돈' in 주머니 :\n",
    "    pass\n",
    "else :\n",
    "    print(\"걸어 가라\")"
   ]
  },
  {
   "cell_type": "markdown",
   "id": "20dbd191-a7b6-4d73-a92b-0eddaf4e36c5",
   "metadata": {},
   "source": [
    "# 다양한 조건을 판별하는 elif"
   ]
  },
  {
   "cell_type": "code",
   "execution_count": 31,
   "id": "874ebf6c-58c2-41a6-b25f-197df3561a3e",
   "metadata": {},
   "outputs": [
    {
     "name": "stdout",
     "output_type": "stream",
     "text": [
      "걸어 가라\n"
     ]
    }
   ],
   "source": [
    "주머니 = ['담배', '라이터', '쓰레기']\n",
    "if '돈' in 주머니 :\n",
    "    print(\"택시를 타고 가라\")\n",
    "else :\n",
    "    if '카드' in 주머니 :\n",
    "            print(\"택시를 타고 가라\")\n",
    "    else:\n",
    "        print(\"걸어 가라\")"
   ]
  },
  {
   "cell_type": "code",
   "execution_count": 32,
   "id": "59b3bfeb-a410-4366-bac8-46365e3d2429",
   "metadata": {},
   "outputs": [
    {
     "name": "stdout",
     "output_type": "stream",
     "text": [
      "걸어 가라\n"
     ]
    }
   ],
   "source": [
    "주머니 = ['담배', '라이터', '쓰레기']\n",
    "if '돈' in 주머니 :\n",
    "    print(\"택시를 타고 가라\")\n",
    "elif '카드' in 주머니 :\n",
    "    print(\"택시를 타고 가라\")\n",
    "else :\n",
    "    print(\"걸어 가라\")"
   ]
  },
  {
   "cell_type": "markdown",
   "id": "519c19cb-ee91-43ee-a5d9-c4676c35f8ad",
   "metadata": {},
   "source": [
    "# 조건부 표현식"
   ]
  },
  {
   "cell_type": "code",
   "execution_count": 36,
   "id": "af8d604f-4ba7-4311-91db-cae302fcd77a",
   "metadata": {},
   "outputs": [
    {
     "name": "stdout",
     "output_type": "stream",
     "text": [
      "합격\n"
     ]
    }
   ],
   "source": [
    "score = 88\n",
    "if score >= 60 :\n",
    "    message = \"합격\"\n",
    "else:\n",
    "    message = \"불합격\"\n",
    "print(message)"
   ]
  },
  {
   "cell_type": "code",
   "execution_count": 37,
   "id": "76a4bafe-d084-45ce-abf1-032a77d89e1a",
   "metadata": {},
   "outputs": [
    {
     "name": "stdout",
     "output_type": "stream",
     "text": [
      "합격\n"
     ]
    }
   ],
   "source": [
    "message = \"합격\" if score >= 60 else \"불합격\"\n",
    "print(message)"
   ]
  },
  {
   "cell_type": "markdown",
   "id": "84526559-3995-450e-b429-ea48bcc6af14",
   "metadata": {},
   "source": [
    "# while 조건반복문"
   ]
  },
  {
   "cell_type": "code",
   "execution_count": 51,
   "id": "69c526db-e2fe-4a2e-a7d1-b794b463a939",
   "metadata": {},
   "outputs": [
    {
     "name": "stdout",
     "output_type": "stream",
     "text": [
      "나무를 1번 찍었습니다\n",
      "나무를 2번 찍었습니다\n",
      "나무를 3번 찍었습니다\n",
      "나무를 4번 찍었습니다\n",
      "나무를 5번 찍었습니다\n",
      "나무를 6번 찍었습니다\n",
      "나무를 7번 찍었습니다\n",
      "나무를 8번 찍었습니다\n",
      "나무를 9번 찍었습니다\n",
      "나무를 10번 찍었습니다\n",
      "나무가 넘어 갔습니다\n"
     ]
    }
   ],
   "source": [
    "# 열번 찍어 안넘어 가는 나무 없다\n",
    "TreeHit = 0\n",
    "while TreeHit < 10 :\n",
    "    TreeHit = TreeHit + 1\n",
    "    print(f\"나무를 {TreeHit}번 찍었습니다\")\n",
    "    if TreeHit == 10 :\n",
    "        print(\"나무가 넘어 갔습니다\")"
   ]
  },
  {
   "cell_type": "markdown",
   "id": "99f6613c-e534-4a86-ad70-354ae00abad6",
   "metadata": {},
   "source": [
    "# While 문 만들기"
   ]
  },
  {
   "cell_type": "code",
   "execution_count": 56,
   "id": "67f3ef7b-5bb0-4e05-b12b-9b5254c9823d",
   "metadata": {},
   "outputs": [
    {
     "name": "stdout",
     "output_type": "stream",
     "text": [
      "\n",
      "1. add\n",
      "2. del\n",
      "3. list\n",
      "4. quit\n",
      "\n",
      "Enter number :\n"
     ]
    }
   ],
   "source": [
    "prompt = \"\"\"\n",
    "1. add\n",
    "2. del\n",
    "3. list\n",
    "4. quit\n",
    "\n",
    "Enter number :\"\"\"\n",
    "print(prompt)"
   ]
  },
  {
   "cell_type": "code",
   "execution_count": 58,
   "id": "1678f5a2-40ca-4048-b189-e3f456a2882f",
   "metadata": {},
   "outputs": [
    {
     "name": "stdout",
     "output_type": "stream",
     "text": [
      "\n",
      "1. add\n",
      "2. del\n",
      "3. list\n",
      "4. quit\n",
      "\n",
      "Enter number :\n"
     ]
    },
    {
     "name": "stdin",
     "output_type": "stream",
     "text": [
      " 1\n"
     ]
    },
    {
     "name": "stdout",
     "output_type": "stream",
     "text": [
      "\n",
      "1. add\n",
      "2. del\n",
      "3. list\n",
      "4. quit\n",
      "\n",
      "Enter number :\n"
     ]
    },
    {
     "name": "stdin",
     "output_type": "stream",
     "text": [
      " 2\n"
     ]
    },
    {
     "name": "stdout",
     "output_type": "stream",
     "text": [
      "\n",
      "1. add\n",
      "2. del\n",
      "3. list\n",
      "4. quit\n",
      "\n",
      "Enter number :\n"
     ]
    },
    {
     "name": "stdin",
     "output_type": "stream",
     "text": [
      " 3\n"
     ]
    },
    {
     "name": "stdout",
     "output_type": "stream",
     "text": [
      "\n",
      "1. add\n",
      "2. del\n",
      "3. list\n",
      "4. quit\n",
      "\n",
      "Enter number :\n"
     ]
    },
    {
     "name": "stdin",
     "output_type": "stream",
     "text": [
      " 4\n"
     ]
    }
   ],
   "source": [
    "number = 0\n",
    "while number < 4 :\n",
    "    print(prompt)\n",
    "    number = int(input())"
   ]
  },
  {
   "cell_type": "markdown",
   "id": "389a2285-a89b-4139-adcc-b312a7cfc8ba",
   "metadata": {},
   "source": [
    "# While 문 강제로 빠져나가기"
   ]
  },
  {
   "cell_type": "code",
   "execution_count": 59,
   "id": "3ee6f0fb-bb70-45f0-bd12-fbd9e8beafa2",
   "metadata": {},
   "outputs": [
    {
     "name": "stdout",
     "output_type": "stream",
     "text": [
      "돈을 받았으니 커피를 줍니다.\n",
      "남은 커피의 양은 9 입니다.\n",
      "돈을 받았으니 커피를 줍니다.\n",
      "남은 커피의 양은 8 입니다.\n",
      "돈을 받았으니 커피를 줍니다.\n",
      "남은 커피의 양은 7 입니다.\n",
      "돈을 받았으니 커피를 줍니다.\n",
      "남은 커피의 양은 6 입니다.\n",
      "돈을 받았으니 커피를 줍니다.\n",
      "남은 커피의 양은 5 입니다.\n",
      "돈을 받았으니 커피를 줍니다.\n",
      "남은 커피의 양은 4 입니다.\n",
      "돈을 받았으니 커피를 줍니다.\n",
      "남은 커피의 양은 3 입니다.\n",
      "돈을 받았으니 커피를 줍니다.\n",
      "남은 커피의 양은 2 입니다.\n",
      "돈을 받았으니 커피를 줍니다.\n",
      "남은 커피의 양은 1 입니다.\n",
      "돈을 받았으니 커피를 줍니다.\n",
      "남은 커피의 양은 0 입니다.\n",
      "커피가 다 떨어져서 판매를 중지합니다.\n"
     ]
    }
   ],
   "source": [
    "money = 300\n",
    "coffee = 10\n",
    "\n",
    "while money :\n",
    "    print(\"돈을 받았으니 커피를 줍니다.\")\n",
    "    coffee = coffee - 1\n",
    "    print(f\"남은 커피의 양은 {coffee} 입니다.\")\n",
    "    if coffee == 0:\n",
    "        print(\"커피가 다 떨어져서 판매를 중지합니다.\")\n",
    "        break"
   ]
  },
  {
   "cell_type": "code",
   "execution_count": 65,
   "id": "7200e8e0-fae3-44f2-8c9e-2fad9abac9bf",
   "metadata": {},
   "outputs": [
    {
     "name": "stdout",
     "output_type": "stream",
     "text": [
      "투입할 금액을 입력해 주세요.\n"
     ]
    },
    {
     "name": "stdin",
     "output_type": "stream",
     "text": [
      " 300\n"
     ]
    },
    {
     "name": "stdout",
     "output_type": "stream",
     "text": [
      "돈을 받았으니 커피를 줍니다.\n",
      "남은 커피의 양은 9 입니다.\n",
      "투입할 금액을 입력해 주세요.\n"
     ]
    },
    {
     "name": "stdin",
     "output_type": "stream",
     "text": [
      " 400\n"
     ]
    },
    {
     "name": "stdout",
     "output_type": "stream",
     "text": [
      "돈을 받았으니 커피를 줍니다.\n",
      "거스름돈이 반환됩니다\n",
      "거스름돈: 100\n",
      "남은 커피의 양은 8 입니다.\n",
      "투입할 금액을 입력해 주세요.\n"
     ]
    },
    {
     "name": "stdin",
     "output_type": "stream",
     "text": [
      " 333\n"
     ]
    },
    {
     "name": "stdout",
     "output_type": "stream",
     "text": [
      "돈을 받았으니 커피를 줍니다.\n",
      "거스름돈이 반환됩니다\n",
      "거스름돈: 33\n",
      "남은 커피의 양은 7 입니다.\n",
      "투입할 금액을 입력해 주세요.\n"
     ]
    },
    {
     "name": "stdin",
     "output_type": "stream",
     "text": [
      " 333\n"
     ]
    },
    {
     "name": "stdout",
     "output_type": "stream",
     "text": [
      "돈을 받았으니 커피를 줍니다.\n",
      "거스름돈이 반환됩니다\n",
      "거스름돈: 33\n",
      "남은 커피의 양은 6 입니다.\n",
      "투입할 금액을 입력해 주세요.\n"
     ]
    },
    {
     "name": "stdin",
     "output_type": "stream",
     "text": [
      " 333\n"
     ]
    },
    {
     "name": "stdout",
     "output_type": "stream",
     "text": [
      "돈을 받았으니 커피를 줍니다.\n",
      "거스름돈이 반환됩니다\n",
      "거스름돈: 33\n",
      "남은 커피의 양은 5 입니다.\n",
      "투입할 금액을 입력해 주세요.\n"
     ]
    },
    {
     "name": "stdin",
     "output_type": "stream",
     "text": [
      " 333\n"
     ]
    },
    {
     "name": "stdout",
     "output_type": "stream",
     "text": [
      "돈을 받았으니 커피를 줍니다.\n",
      "거스름돈이 반환됩니다\n",
      "거스름돈: 33\n",
      "남은 커피의 양은 4 입니다.\n",
      "투입할 금액을 입력해 주세요.\n"
     ]
    },
    {
     "name": "stdin",
     "output_type": "stream",
     "text": [
      " 333\n"
     ]
    },
    {
     "name": "stdout",
     "output_type": "stream",
     "text": [
      "돈을 받았으니 커피를 줍니다.\n",
      "거스름돈이 반환됩니다\n",
      "거스름돈: 33\n",
      "남은 커피의 양은 3 입니다.\n",
      "투입할 금액을 입력해 주세요.\n"
     ]
    },
    {
     "name": "stdin",
     "output_type": "stream",
     "text": [
      " 333\n"
     ]
    },
    {
     "name": "stdout",
     "output_type": "stream",
     "text": [
      "돈을 받았으니 커피를 줍니다.\n",
      "거스름돈이 반환됩니다\n",
      "거스름돈: 33\n",
      "남은 커피의 양은 2 입니다.\n",
      "투입할 금액을 입력해 주세요.\n"
     ]
    },
    {
     "name": "stdin",
     "output_type": "stream",
     "text": [
      " 333\n"
     ]
    },
    {
     "name": "stdout",
     "output_type": "stream",
     "text": [
      "돈을 받았으니 커피를 줍니다.\n",
      "거스름돈이 반환됩니다\n",
      "거스름돈: 33\n",
      "남은 커피의 양은 1 입니다.\n",
      "투입할 금액을 입력해 주세요.\n"
     ]
    },
    {
     "name": "stdin",
     "output_type": "stream",
     "text": [
      " 333\n"
     ]
    },
    {
     "name": "stdout",
     "output_type": "stream",
     "text": [
      "돈을 받았으니 커피를 줍니다.\n",
      "거스름돈이 반환됩니다\n",
      "거스름돈: 33\n",
      "남은 커피의 양은 0 입니다.\n",
      "커피가 다 떨어져서 판매를 중지합니다.\n"
     ]
    }
   ],
   "source": [
    "money = 0\n",
    "coffee = 10\n",
    "remain = 0\n",
    "\n",
    "while True :\n",
    "    print(\"투입할 금액을 입력해 주세요.\")\n",
    "    money = int(input())\n",
    "    if money >= 300 :\n",
    "        remain = money - 300\n",
    "        print(\"돈을 받았으니 커피를 줍니다.\")\n",
    "        if money > 300:\n",
    "            print(f\"거스름돈이 반환됩니다\\n거스름돈: {remain}\")\n",
    "        coffee = coffee - 1        \n",
    "        print(f\"남은 커피의 양은 {coffee} 입니다.\")\n",
    "        if coffee == 0:\n",
    "            print(\"커피가 다 떨어져서 판매를 중지합니다.\")\n",
    "            break\n",
    "    else:\n",
    "        print(f\"투입한 금액이 부족합니다. 투입한 금액:{money}\\n투입한 돈이 반환됩니다.\")\n"
   ]
  }
 ],
 "metadata": {
  "kernelspec": {
   "display_name": "Python 3 (ipykernel)",
   "language": "python",
   "name": "python3"
  },
  "language_info": {
   "codemirror_mode": {
    "name": "ipython",
    "version": 3
   },
   "file_extension": ".py",
   "mimetype": "text/x-python",
   "name": "python",
   "nbconvert_exporter": "python",
   "pygments_lexer": "ipython3",
   "version": "3.11.7"
  }
 },
 "nbformat": 4,
 "nbformat_minor": 5
}
