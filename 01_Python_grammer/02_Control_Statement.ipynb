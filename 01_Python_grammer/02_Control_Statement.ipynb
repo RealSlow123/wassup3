{
 "cells": [
  {
   "cell_type": "code",
   "execution_count": 5,
   "id": "2d381396-7ad7-411d-8535-c10e485eae6a",
   "metadata": {},
   "outputs": [
    {
     "name": "stdout",
     "output_type": "stream",
     "text": [
      "택시를 타고 가라\n"
     ]
    }
   ],
   "source": [
    "money = True\n",
    "if money :\n",
    "    print(\"택시를 타고 가라\")\n",
    "else :\n",
    "    print(\"걸어 가라\")"
   ]
  },
  {
   "cell_type": "code",
   "execution_count": 6,
   "id": "d506eb62-c7b9-445b-9e87-702a430acf2e",
   "metadata": {},
   "outputs": [
    {
     "ename": "IndentationError",
     "evalue": "unexpected indent (1841204671.py, line 5)",
     "output_type": "error",
     "traceback": [
      "\u001b[1;36m  Cell \u001b[1;32mIn[6], line 5\u001b[1;36m\u001b[0m\n\u001b[1;33m    print(\"가라\")\u001b[0m\n\u001b[1;37m    ^\u001b[0m\n\u001b[1;31mIndentationError\u001b[0m\u001b[1;31m:\u001b[0m unexpected indent\n"
     ]
    }
   ],
   "source": [
    "money = True\n",
    "if money:\n",
    "    print(\"택시를\")\n",
    "print(\"타고\")\n",
    "    print(\"가라\")"
   ]
  },
  {
   "cell_type": "code",
   "execution_count": 7,
   "id": "affecfe3-a36e-425a-b6de-a5152365c065",
   "metadata": {},
   "outputs": [
    {
     "ename": "IndentationError",
     "evalue": "unexpected indent (73570325.py, line 5)",
     "output_type": "error",
     "traceback": [
      "\u001b[1;36m  Cell \u001b[1;32mIn[7], line 5\u001b[1;36m\u001b[0m\n\u001b[1;33m    print(\"가라\")\u001b[0m\n\u001b[1;37m    ^\u001b[0m\n\u001b[1;31mIndentationError\u001b[0m\u001b[1;31m:\u001b[0m unexpected indent\n"
     ]
    }
   ],
   "source": [
    "money = True\n",
    "if money:\n",
    "    print(\"택시를\")\n",
    "    print(\"타고\")\n",
    "        print(\"가라\")"
   ]
  },
  {
   "cell_type": "markdown",
   "id": "d41a125f-3b4d-4380-95c2-afcf039cd509",
   "metadata": {},
   "source": [
    "# 조건문이란 무엇인가\n",
    "참과 거짓을 판별하는 문장"
   ]
  },
  {
   "cell_type": "code",
   "execution_count": 8,
   "id": "5a1e1c04-80e8-4b49-8bcb-c23f8a14a6e3",
   "metadata": {},
   "outputs": [
    {
     "data": {
      "text/plain": [
       "False"
      ]
     },
     "execution_count": 8,
     "metadata": {},
     "output_type": "execute_result"
    }
   ],
   "source": [
    "# 비교 연산자\n",
    "x = 2\n",
    "y = 3\n",
    "x > y"
   ]
  },
  {
   "cell_type": "code",
   "execution_count": 9,
   "id": "0a330f4b-9fb7-4287-8c53-41247e9a5f59",
   "metadata": {},
   "outputs": [
    {
     "data": {
      "text/plain": [
       "True"
      ]
     },
     "execution_count": 9,
     "metadata": {},
     "output_type": "execute_result"
    }
   ],
   "source": [
    "x < y"
   ]
  },
  {
   "cell_type": "code",
   "execution_count": 10,
   "id": "cfa56548-eec6-416f-beeb-9c01946cf100",
   "metadata": {},
   "outputs": [
    {
     "data": {
      "text/plain": [
       "True"
      ]
     },
     "execution_count": 10,
     "metadata": {},
     "output_type": "execute_result"
    }
   ],
   "source": [
    "x != y"
   ]
  },
  {
   "cell_type": "code",
   "execution_count": 11,
   "id": "832d1490-354b-4767-8730-a5a452249790",
   "metadata": {},
   "outputs": [
    {
     "data": {
      "text/plain": [
       "False"
      ]
     },
     "execution_count": 11,
     "metadata": {},
     "output_type": "execute_result"
    }
   ],
   "source": [
    "x == y"
   ]
  },
  {
   "cell_type": "code",
   "execution_count": 12,
   "id": "db439997-5796-41df-8a5f-5fb1ef87d0ea",
   "metadata": {},
   "outputs": [
    {
     "name": "stdout",
     "output_type": "stream",
     "text": [
      "걸어 가라\n"
     ]
    }
   ],
   "source": [
    "money = 2000\n",
    "if money >= 3000:\n",
    "    print(\"택시를 타고 가라\")\n",
    "else :\n",
    "    print(\"걸어 가라\")"
   ]
  },
  {
   "cell_type": "code",
   "execution_count": 20,
   "id": "ab9592b1-deec-44b2-aa14-6381e245d67d",
   "metadata": {},
   "outputs": [
    {
     "name": "stdout",
     "output_type": "stream",
     "text": [
      "택시를 타고 가라\n"
     ]
    }
   ],
   "source": [
    "# and or not\n",
    "money = 2000\n",
    "have_card = True\n",
    "if money >= 3000 or have_card:\n",
    "    print(\"택시를 타고 가라\")\n",
    "else :\n",
    "    print(\"걸어 가라\")"
   ]
  },
  {
   "cell_type": "markdown",
   "id": "84c21e78-cafe-45fe-a8ba-9907e505cee5",
   "metadata": {},
   "source": [
    "# in, not in"
   ]
  },
  {
   "cell_type": "code",
   "execution_count": 21,
   "id": "431ca60e-8906-4507-8fa1-766f24d44f3d",
   "metadata": {},
   "outputs": [
    {
     "data": {
      "text/plain": [
       "True"
      ]
     },
     "execution_count": 21,
     "metadata": {},
     "output_type": "execute_result"
    }
   ],
   "source": [
    "1 in [1,2,3]"
   ]
  },
  {
   "cell_type": "code",
   "execution_count": 22,
   "id": "76cd7e35-18fe-43a2-9df2-2bec88ecc985",
   "metadata": {},
   "outputs": [
    {
     "data": {
      "text/plain": [
       "False"
      ]
     },
     "execution_count": 22,
     "metadata": {},
     "output_type": "execute_result"
    }
   ],
   "source": [
    "1 not in [1,2,3]"
   ]
  },
  {
   "cell_type": "code",
   "execution_count": 25,
   "id": "d41e9e17-f6b6-457e-b549-aadde564184c",
   "metadata": {},
   "outputs": [
    {
     "data": {
      "text/plain": [
       "True"
      ]
     },
     "execution_count": 25,
     "metadata": {},
     "output_type": "execute_result"
    }
   ],
   "source": [
    "'a' in ('a', 'b', 'c')"
   ]
  },
  {
   "cell_type": "code",
   "execution_count": 27,
   "id": "5dd32693-2399-46af-96a4-d28f162240bf",
   "metadata": {},
   "outputs": [
    {
     "name": "stdout",
     "output_type": "stream",
     "text": [
      "택시를 타고 가라\n"
     ]
    }
   ],
   "source": [
    "주머니 = ['돈', '담배', '라이터', '쓰레기']\n",
    "if '돈' in 주머니 :\n",
    "    print(\"택시를 타고 가라\")\n",
    "else :\n",
    "    print(\"걸어 가라\")"
   ]
  },
  {
   "cell_type": "markdown",
   "id": "7fcd8f82-cde0-4751-9224-07fcedb4c2c3",
   "metadata": {},
   "source": [
    "# 조건문에서 아무것도 일도 하지않게 설정 하려면?"
   ]
  },
  {
   "cell_type": "code",
   "execution_count": 29,
   "id": "a9b4a1a4-a0c3-4fcf-aa24-c4951c4d2a29",
   "metadata": {},
   "outputs": [],
   "source": [
    "if '돈' in 주머니 :\n",
    "    pass\n",
    "else :\n",
    "    print(\"걸어 가라\")"
   ]
  },
  {
   "cell_type": "markdown",
   "id": "20dbd191-a7b6-4d73-a92b-0eddaf4e36c5",
   "metadata": {},
   "source": [
    "# 다양한 조건을 판별하는 elif"
   ]
  },
  {
   "cell_type": "code",
   "execution_count": 31,
   "id": "874ebf6c-58c2-41a6-b25f-197df3561a3e",
   "metadata": {},
   "outputs": [
    {
     "name": "stdout",
     "output_type": "stream",
     "text": [
      "걸어 가라\n"
     ]
    }
   ],
   "source": [
    "주머니 = ['담배', '라이터', '쓰레기']\n",
    "if '돈' in 주머니 :\n",
    "    print(\"택시를 타고 가라\")\n",
    "else :\n",
    "    if '카드' in 주머니 :\n",
    "            print(\"택시를 타고 가라\")\n",
    "    else:\n",
    "        print(\"걸어 가라\")"
   ]
  },
  {
   "cell_type": "code",
   "execution_count": 32,
   "id": "59b3bfeb-a410-4366-bac8-46365e3d2429",
   "metadata": {},
   "outputs": [
    {
     "name": "stdout",
     "output_type": "stream",
     "text": [
      "걸어 가라\n"
     ]
    }
   ],
   "source": [
    "주머니 = ['담배', '라이터', '쓰레기']\n",
    "if '돈' in 주머니 :\n",
    "    print(\"택시를 타고 가라\")\n",
    "elif '카드' in 주머니 :\n",
    "    print(\"택시를 타고 가라\")\n",
    "else :\n",
    "    print(\"걸어 가라\")"
   ]
  },
  {
   "cell_type": "markdown",
   "id": "519c19cb-ee91-43ee-a5d9-c4676c35f8ad",
   "metadata": {},
   "source": [
    "# 조건부 표현식"
   ]
  },
  {
   "cell_type": "code",
   "execution_count": 36,
   "id": "af8d604f-4ba7-4311-91db-cae302fcd77a",
   "metadata": {},
   "outputs": [
    {
     "name": "stdout",
     "output_type": "stream",
     "text": [
      "합격\n"
     ]
    }
   ],
   "source": [
    "score = 88\n",
    "if score >= 60 :\n",
    "    message = \"합격\"\n",
    "else:\n",
    "    message = \"불합격\"\n",
    "print(message)"
   ]
  },
  {
   "cell_type": "code",
   "execution_count": 37,
   "id": "76a4bafe-d084-45ce-abf1-032a77d89e1a",
   "metadata": {},
   "outputs": [
    {
     "name": "stdout",
     "output_type": "stream",
     "text": [
      "합격\n"
     ]
    }
   ],
   "source": [
    "message = \"합격\" if score >= 60 else \"불합격\"\n",
    "print(message)"
   ]
  },
  {
   "cell_type": "markdown",
   "id": "84526559-3995-450e-b429-ea48bcc6af14",
   "metadata": {},
   "source": [
    "# while 조건반복문"
   ]
  },
  {
   "cell_type": "code",
   "execution_count": 51,
   "id": "69c526db-e2fe-4a2e-a7d1-b794b463a939",
   "metadata": {},
   "outputs": [
    {
     "name": "stdout",
     "output_type": "stream",
     "text": [
      "나무를 1번 찍었습니다\n",
      "나무를 2번 찍었습니다\n",
      "나무를 3번 찍었습니다\n",
      "나무를 4번 찍었습니다\n",
      "나무를 5번 찍었습니다\n",
      "나무를 6번 찍었습니다\n",
      "나무를 7번 찍었습니다\n",
      "나무를 8번 찍었습니다\n",
      "나무를 9번 찍었습니다\n",
      "나무를 10번 찍었습니다\n",
      "나무가 넘어 갔습니다\n"
     ]
    }
   ],
   "source": [
    "# 열번 찍어 안넘어 가는 나무 없다\n",
    "TreeHit = 0\n",
    "while TreeHit < 10 :\n",
    "    TreeHit = TreeHit + 1\n",
    "    print(f\"나무를 {TreeHit}번 찍었습니다\")\n",
    "    if TreeHit == 10 :\n",
    "        print(\"나무가 넘어 갔습니다\")"
   ]
  },
  {
   "cell_type": "markdown",
   "id": "99f6613c-e534-4a86-ad70-354ae00abad6",
   "metadata": {},
   "source": [
    "# While 문 만들기"
   ]
  },
  {
   "cell_type": "code",
   "execution_count": 56,
   "id": "67f3ef7b-5bb0-4e05-b12b-9b5254c9823d",
   "metadata": {},
   "outputs": [
    {
     "name": "stdout",
     "output_type": "stream",
     "text": [
      "\n",
      "1. add\n",
      "2. del\n",
      "3. list\n",
      "4. quit\n",
      "\n",
      "Enter number :\n"
     ]
    }
   ],
   "source": [
    "prompt = \"\"\"\n",
    "1. add\n",
    "2. del\n",
    "3. list\n",
    "4. quit\n",
    "\n",
    "Enter number :\"\"\"\n",
    "print(prompt)"
   ]
  },
  {
   "cell_type": "code",
   "execution_count": 58,
   "id": "1678f5a2-40ca-4048-b189-e3f456a2882f",
   "metadata": {},
   "outputs": [
    {
     "name": "stdout",
     "output_type": "stream",
     "text": [
      "\n",
      "1. add\n",
      "2. del\n",
      "3. list\n",
      "4. quit\n",
      "\n",
      "Enter number :\n"
     ]
    },
    {
     "name": "stdin",
     "output_type": "stream",
     "text": [
      " 1\n"
     ]
    },
    {
     "name": "stdout",
     "output_type": "stream",
     "text": [
      "\n",
      "1. add\n",
      "2. del\n",
      "3. list\n",
      "4. quit\n",
      "\n",
      "Enter number :\n"
     ]
    },
    {
     "name": "stdin",
     "output_type": "stream",
     "text": [
      " 2\n"
     ]
    },
    {
     "name": "stdout",
     "output_type": "stream",
     "text": [
      "\n",
      "1. add\n",
      "2. del\n",
      "3. list\n",
      "4. quit\n",
      "\n",
      "Enter number :\n"
     ]
    },
    {
     "name": "stdin",
     "output_type": "stream",
     "text": [
      " 3\n"
     ]
    },
    {
     "name": "stdout",
     "output_type": "stream",
     "text": [
      "\n",
      "1. add\n",
      "2. del\n",
      "3. list\n",
      "4. quit\n",
      "\n",
      "Enter number :\n"
     ]
    },
    {
     "name": "stdin",
     "output_type": "stream",
     "text": [
      " 4\n"
     ]
    }
   ],
   "source": [
    "number = 0\n",
    "while number < 4 :\n",
    "    print(prompt)\n",
    "    number = int(input())"
   ]
  },
  {
   "cell_type": "markdown",
   "id": "389a2285-a89b-4139-adcc-b312a7cfc8ba",
   "metadata": {},
   "source": [
    "# While 문 강제로 빠져나가기"
   ]
  },
  {
   "cell_type": "code",
   "execution_count": 59,
   "id": "3ee6f0fb-bb70-45f0-bd12-fbd9e8beafa2",
   "metadata": {},
   "outputs": [
    {
     "name": "stdout",
     "output_type": "stream",
     "text": [
      "돈을 받았으니 커피를 줍니다.\n",
      "남은 커피의 양은 9 입니다.\n",
      "돈을 받았으니 커피를 줍니다.\n",
      "남은 커피의 양은 8 입니다.\n",
      "돈을 받았으니 커피를 줍니다.\n",
      "남은 커피의 양은 7 입니다.\n",
      "돈을 받았으니 커피를 줍니다.\n",
      "남은 커피의 양은 6 입니다.\n",
      "돈을 받았으니 커피를 줍니다.\n",
      "남은 커피의 양은 5 입니다.\n",
      "돈을 받았으니 커피를 줍니다.\n",
      "남은 커피의 양은 4 입니다.\n",
      "돈을 받았으니 커피를 줍니다.\n",
      "남은 커피의 양은 3 입니다.\n",
      "돈을 받았으니 커피를 줍니다.\n",
      "남은 커피의 양은 2 입니다.\n",
      "돈을 받았으니 커피를 줍니다.\n",
      "남은 커피의 양은 1 입니다.\n",
      "돈을 받았으니 커피를 줍니다.\n",
      "남은 커피의 양은 0 입니다.\n",
      "커피가 다 떨어져서 판매를 중지합니다.\n"
     ]
    }
   ],
   "source": [
    "money = 300\n",
    "coffee = 10\n",
    "\n",
    "while money :\n",
    "    print(\"돈을 받았으니 커피를 줍니다.\")\n",
    "    coffee = coffee - 1\n",
    "    print(f\"남은 커피의 양은 {coffee} 입니다.\")\n",
    "    if coffee == 0:\n",
    "        print(\"커피가 다 떨어져서 판매를 중지합니다.\")\n",
    "        break"
   ]
  },
  {
   "cell_type": "code",
   "execution_count": 65,
   "id": "7200e8e0-fae3-44f2-8c9e-2fad9abac9bf",
   "metadata": {},
   "outputs": [
    {
     "name": "stdout",
     "output_type": "stream",
     "text": [
      "투입할 금액을 입력해 주세요.\n"
     ]
    },
    {
     "name": "stdin",
     "output_type": "stream",
     "text": [
      " 300\n"
     ]
    },
    {
     "name": "stdout",
     "output_type": "stream",
     "text": [
      "돈을 받았으니 커피를 줍니다.\n",
      "남은 커피의 양은 9 입니다.\n",
      "투입할 금액을 입력해 주세요.\n"
     ]
    },
    {
     "name": "stdin",
     "output_type": "stream",
     "text": [
      " 400\n"
     ]
    },
    {
     "name": "stdout",
     "output_type": "stream",
     "text": [
      "돈을 받았으니 커피를 줍니다.\n",
      "거스름돈이 반환됩니다\n",
      "거스름돈: 100\n",
      "남은 커피의 양은 8 입니다.\n",
      "투입할 금액을 입력해 주세요.\n"
     ]
    },
    {
     "name": "stdin",
     "output_type": "stream",
     "text": [
      " 333\n"
     ]
    },
    {
     "name": "stdout",
     "output_type": "stream",
     "text": [
      "돈을 받았으니 커피를 줍니다.\n",
      "거스름돈이 반환됩니다\n",
      "거스름돈: 33\n",
      "남은 커피의 양은 7 입니다.\n",
      "투입할 금액을 입력해 주세요.\n"
     ]
    },
    {
     "name": "stdin",
     "output_type": "stream",
     "text": [
      " 333\n"
     ]
    },
    {
     "name": "stdout",
     "output_type": "stream",
     "text": [
      "돈을 받았으니 커피를 줍니다.\n",
      "거스름돈이 반환됩니다\n",
      "거스름돈: 33\n",
      "남은 커피의 양은 6 입니다.\n",
      "투입할 금액을 입력해 주세요.\n"
     ]
    },
    {
     "name": "stdin",
     "output_type": "stream",
     "text": [
      " 333\n"
     ]
    },
    {
     "name": "stdout",
     "output_type": "stream",
     "text": [
      "돈을 받았으니 커피를 줍니다.\n",
      "거스름돈이 반환됩니다\n",
      "거스름돈: 33\n",
      "남은 커피의 양은 5 입니다.\n",
      "투입할 금액을 입력해 주세요.\n"
     ]
    },
    {
     "name": "stdin",
     "output_type": "stream",
     "text": [
      " 333\n"
     ]
    },
    {
     "name": "stdout",
     "output_type": "stream",
     "text": [
      "돈을 받았으니 커피를 줍니다.\n",
      "거스름돈이 반환됩니다\n",
      "거스름돈: 33\n",
      "남은 커피의 양은 4 입니다.\n",
      "투입할 금액을 입력해 주세요.\n"
     ]
    },
    {
     "name": "stdin",
     "output_type": "stream",
     "text": [
      " 333\n"
     ]
    },
    {
     "name": "stdout",
     "output_type": "stream",
     "text": [
      "돈을 받았으니 커피를 줍니다.\n",
      "거스름돈이 반환됩니다\n",
      "거스름돈: 33\n",
      "남은 커피의 양은 3 입니다.\n",
      "투입할 금액을 입력해 주세요.\n"
     ]
    },
    {
     "name": "stdin",
     "output_type": "stream",
     "text": [
      " 333\n"
     ]
    },
    {
     "name": "stdout",
     "output_type": "stream",
     "text": [
      "돈을 받았으니 커피를 줍니다.\n",
      "거스름돈이 반환됩니다\n",
      "거스름돈: 33\n",
      "남은 커피의 양은 2 입니다.\n",
      "투입할 금액을 입력해 주세요.\n"
     ]
    },
    {
     "name": "stdin",
     "output_type": "stream",
     "text": [
      " 333\n"
     ]
    },
    {
     "name": "stdout",
     "output_type": "stream",
     "text": [
      "돈을 받았으니 커피를 줍니다.\n",
      "거스름돈이 반환됩니다\n",
      "거스름돈: 33\n",
      "남은 커피의 양은 1 입니다.\n",
      "투입할 금액을 입력해 주세요.\n"
     ]
    },
    {
     "name": "stdin",
     "output_type": "stream",
     "text": [
      " 333\n"
     ]
    },
    {
     "name": "stdout",
     "output_type": "stream",
     "text": [
      "돈을 받았으니 커피를 줍니다.\n",
      "거스름돈이 반환됩니다\n",
      "거스름돈: 33\n",
      "남은 커피의 양은 0 입니다.\n",
      "커피가 다 떨어져서 판매를 중지합니다.\n"
     ]
    }
   ],
   "source": [
    "money = 0\n",
    "coffee = 10\n",
    "remain = 0\n",
    "\n",
    "while True :\n",
    "    print(\"투입할 금액을 입력해 주세요.\")\n",
    "    money = int(input())\n",
    "    if money >= 300 :\n",
    "        remain = money - 300\n",
    "        print(\"돈을 받았으니 커피를 줍니다.\")\n",
    "        if money > 300:\n",
    "            print(f\"거스름돈이 반환됩니다\\n거스름돈: {remain}\")\n",
    "        coffee = coffee - 1        \n",
    "        print(f\"남은 커피의 양은 {coffee} 입니다.\")\n",
    "        if coffee == 0:\n",
    "            print(\"커피가 다 떨어져서 판매를 중지합니다.\")\n",
    "            break\n",
    "    else:\n",
    "        print(f\"투입한 금액이 부족합니다. 투입한 금액:{money}\\n투입한 돈이 반환됩니다.\")\n"
   ]
  },
  {
   "cell_type": "markdown",
   "id": "fdef3ab7-92ad-4e8f-9ba6-4e813dd70fbc",
   "metadata": {},
   "source": [
    "## For loop 반복문"
   ]
  },
  {
   "cell_type": "code",
   "execution_count": 3,
   "id": "e9267788-90a7-4268-b557-352029ddff7d",
   "metadata": {},
   "outputs": [
    {
     "name": "stdout",
     "output_type": "stream",
     "text": [
      "1\n",
      "2\n",
      "3\n"
     ]
    }
   ],
   "source": [
    "# 전형적인 for 문\n",
    "test_list = [\"1\",\"2\",\"3\"]\n",
    "for i in test_list:\n",
    "    print(i)"
   ]
  },
  {
   "cell_type": "code",
   "execution_count": 4,
   "id": "80897813-9d8c-4a94-a37f-f899646b206f",
   "metadata": {},
   "outputs": [
    {
     "name": "stdout",
     "output_type": "stream",
     "text": [
      "3\n",
      "7\n",
      "11\n"
     ]
    }
   ],
   "source": [
    "a = [(1,2), (3,4), (5,6)]\n",
    "for (first, last) in a:\n",
    "    print(first + last)"
   ]
  },
  {
   "cell_type": "code",
   "execution_count": 6,
   "id": "1da7eea7-31c8-4df3-af73-9857f11e9894",
   "metadata": {},
   "outputs": [
    {
     "name": "stdout",
     "output_type": "stream",
     "text": [
      "1 90 합격\n",
      "2 25 불합격\n",
      "3 67 합격\n",
      "4 45 불합격\n",
      "5 80 합격\n"
     ]
    }
   ],
   "source": [
    "scores=[90, 25, 67, 45, 80]\n",
    "합격불합격 = \"\"\n",
    "학번 = 0\n",
    "for score in scores:\n",
    "    학번 += 1\n",
    "    if score >= 60:\n",
    "        합격불합격 = \"합격\"\n",
    "    else:\n",
    "        합격불합격 = \"불합격\"\n",
    "    print(학번, score, 합격불합격)"
   ]
  },
  {
   "cell_type": "markdown",
   "id": "0ea9e86d-000c-47a6-8102-962e30eacece",
   "metadata": {},
   "source": [
    "## for 문과 continue 문"
   ]
  },
  {
   "cell_type": "code",
   "execution_count": 10,
   "id": "a62630f1-9869-49ef-8ee5-403088e21cca",
   "metadata": {},
   "outputs": [
    {
     "name": "stdout",
     "output_type": "stream",
     "text": [
      "1 90 <축>합격<축>\n",
      "3 67 <축>합격<축>\n",
      "5 80 <축>합격<축>\n"
     ]
    }
   ],
   "source": [
    "scores=[90, 25, 67, 45, 80]\n",
    "합격불합격 = \"\"\n",
    "학번 = 0\n",
    "for score in scores:\n",
    "    학번 += 1\n",
    "    if score >= 60:\n",
    "        합격불합격 = \"<축>합격<축>\"\n",
    "        print(학번, score, 합격불합격)    "
   ]
  },
  {
   "cell_type": "markdown",
   "id": "b925cefd-d360-4f9f-b4fb-9134c32ea5d8",
   "metadata": {},
   "source": [
    "## for 문과 함께 자주 사용하는 range 함수"
   ]
  },
  {
   "cell_type": "code",
   "execution_count": 12,
   "id": "b1b16b4b-437b-4411-a9ae-fc74ef537295",
   "metadata": {},
   "outputs": [
    {
     "name": "stdout",
     "output_type": "stream",
     "text": [
      "0\n",
      "1\n",
      "2\n",
      "3\n",
      "4\n",
      "5\n",
      "6\n",
      "7\n",
      "8\n",
      "9\n"
     ]
    }
   ],
   "source": [
    "for i in range(10):\n",
    "    print(i)"
   ]
  },
  {
   "cell_type": "code",
   "execution_count": 13,
   "id": "6c2c2c53-2247-43d5-9569-01369fe52778",
   "metadata": {},
   "outputs": [
    {
     "name": "stdout",
     "output_type": "stream",
     "text": [
      "1\n",
      "2\n",
      "3\n",
      "4\n",
      "5\n",
      "6\n",
      "7\n",
      "8\n",
      "9\n"
     ]
    }
   ],
   "source": [
    "for i in range(1, 10):\n",
    "    print(i)"
   ]
  },
  {
   "cell_type": "code",
   "execution_count": 14,
   "id": "2efa9c66-d9d3-4d7a-9211-8dee2364e1cf",
   "metadata": {},
   "outputs": [
    {
     "name": "stdout",
     "output_type": "stream",
     "text": [
      "55\n"
     ]
    }
   ],
   "source": [
    "sum = 0\n",
    "for i in range(1, 11):\n",
    "    sum += i\n",
    "print(sum)"
   ]
  },
  {
   "cell_type": "code",
   "execution_count": 15,
   "id": "5ab9bf77-b171-4c43-9515-5dd9e8427e84",
   "metadata": {},
   "outputs": [
    {
     "name": "stdout",
     "output_type": "stream",
     "text": [
      "1번 학생 축하합니다. 합격입니다.\n",
      "3번 학생 축하합니다. 합격입니다.\n",
      "5번 학생 축하합니다. 합격입니다.\n"
     ]
    }
   ],
   "source": [
    "marks = [90, 25, 67, 45, 80]\n",
    "for number in range(len(marks)): # marks 리스트에 저장된 value 개수를 range를 만듬\n",
    "    if marks[number] < 60: \n",
    "        continue\n",
    "    print(\"%d번 학생 축하합니다. 합격입니다.\" % (number+1))"
   ]
  },
  {
   "cell_type": "code",
   "execution_count": 23,
   "id": "bc6e7a86-df5e-4112-aaf3-3671a5f625b0",
   "metadata": {},
   "outputs": [
    {
     "name": "stdout",
     "output_type": "stream",
     "text": [
      "2 X 1 = 2\n",
      "2 X 2 = 4\n",
      "2 X 3 = 6\n",
      "2 X 4 = 8\n",
      "2 X 5 = 10\n",
      "2 X 6 = 12\n",
      "2 X 7 = 14\n",
      "2 X 8 = 16\n",
      "2 X 9 = 18\n",
      "\n",
      "3 X 1 = 3\n",
      "3 X 2 = 6\n",
      "3 X 3 = 9\n",
      "3 X 4 = 12\n",
      "3 X 5 = 15\n",
      "3 X 6 = 18\n",
      "3 X 7 = 21\n",
      "3 X 8 = 24\n",
      "3 X 9 = 27\n",
      "\n",
      "4 X 1 = 4\n",
      "4 X 2 = 8\n",
      "4 X 3 = 12\n",
      "4 X 4 = 16\n",
      "4 X 5 = 20\n",
      "4 X 6 = 24\n",
      "4 X 7 = 28\n",
      "4 X 8 = 32\n",
      "4 X 9 = 36\n",
      "\n",
      "5 X 1 = 5\n",
      "5 X 2 = 10\n",
      "5 X 3 = 15\n",
      "5 X 4 = 20\n",
      "5 X 5 = 25\n",
      "5 X 6 = 30\n",
      "5 X 7 = 35\n",
      "5 X 8 = 40\n",
      "5 X 9 = 45\n",
      "\n",
      "6 X 1 = 6\n",
      "6 X 2 = 12\n",
      "6 X 3 = 18\n",
      "6 X 4 = 24\n",
      "6 X 5 = 30\n",
      "6 X 6 = 36\n",
      "6 X 7 = 42\n",
      "6 X 8 = 48\n",
      "6 X 9 = 54\n",
      "\n",
      "7 X 1 = 7\n",
      "7 X 2 = 14\n",
      "7 X 3 = 21\n",
      "7 X 4 = 28\n",
      "7 X 5 = 35\n",
      "7 X 6 = 42\n",
      "7 X 7 = 49\n",
      "7 X 8 = 56\n",
      "7 X 9 = 63\n",
      "\n",
      "8 X 1 = 8\n",
      "8 X 2 = 16\n",
      "8 X 3 = 24\n",
      "8 X 4 = 32\n",
      "8 X 5 = 40\n",
      "8 X 6 = 48\n",
      "8 X 7 = 56\n",
      "8 X 8 = 64\n",
      "8 X 9 = 72\n",
      "\n",
      "9 X 1 = 9\n",
      "9 X 2 = 18\n",
      "9 X 3 = 27\n",
      "9 X 4 = 36\n",
      "9 X 5 = 45\n",
      "9 X 6 = 54\n",
      "9 X 7 = 63\n",
      "9 X 8 = 72\n",
      "9 X 9 = 81\n",
      "\n"
     ]
    }
   ],
   "source": [
    "for i in range(2, 10):\n",
    "    for j in range(1, 10):\n",
    "        print(f\"{i} X {j} = {i*j}\")\n",
    "    print(\"\")"
   ]
  },
  {
   "cell_type": "markdown",
   "id": "5245d126-4a13-485b-9116-7f1386fc26ff",
   "metadata": {},
   "source": [
    "## 리스트 컴프리헨션 사용하기"
   ]
  },
  {
   "cell_type": "code",
   "execution_count": 24,
   "id": "4a8493c5-9223-4968-92aa-8f5bff2e21c5",
   "metadata": {},
   "outputs": [
    {
     "name": "stdout",
     "output_type": "stream",
     "text": [
      "[3, 6, 9, 12]\n"
     ]
    }
   ],
   "source": [
    "a = [1,2,3,4]\n",
    "result = []\n",
    "for num in a:\n",
    "    result.append(num*3)\n",
    "print(result)"
   ]
  },
  {
   "cell_type": "code",
   "execution_count": 25,
   "id": "31f15894-281b-4565-a5a8-4e4ec0002fd6",
   "metadata": {},
   "outputs": [
    {
     "name": "stdout",
     "output_type": "stream",
     "text": [
      "[3, 6, 9, 12]\n"
     ]
    }
   ],
   "source": [
    "a = [1,2,3,4]\n",
    "result = [num * 3 for num in a]\n",
    "print(result)"
   ]
  },
  {
   "cell_type": "code",
   "execution_count": 26,
   "id": "65e3b3a0-6411-482b-bc71-8747dddf6606",
   "metadata": {},
   "outputs": [
    {
     "name": "stdout",
     "output_type": "stream",
     "text": [
      "[6, 12]\n"
     ]
    }
   ],
   "source": [
    "a = [1,2,3,4]\n",
    "result = [num * 3 for num in a if num % 2 == 0]\n",
    "print(result)"
   ]
  },
  {
   "cell_type": "code",
   "execution_count": 30,
   "id": "2a8900c0-2ea1-42d9-9472-b1050e0cb3b9",
   "metadata": {},
   "outputs": [
    {
     "name": "stdout",
     "output_type": "stream",
     "text": [
      "List Comprehension Time: 0.04367780685424805\n",
      "For loop Time: 0.09869837760925293\n"
     ]
    }
   ],
   "source": [
    "import time\n",
    "\n",
    "start = time.time() \n",
    "numbers = [i for i in range(1000000)] \n",
    "end = time.time() \n",
    "print('List Comprehension Time:', end-start)\n",
    "\n",
    "start = time.time() \n",
    "numbers = []\n",
    "for i in range(1000000):\n",
    "    numbers.append(i)\n",
    "end = time.time() \n",
    "print('For loop Time:', end-start)"
   ]
  },
  {
   "cell_type": "code",
   "execution_count": 31,
   "id": "2592ed70-86d5-4d12-bd2c-af05d618b0db",
   "metadata": {},
   "outputs": [
    {
     "name": "stdout",
     "output_type": "stream",
     "text": [
      "[2, 4, 6, 8, 10, 12, 14, 16, 18, 3, 6, 9, 12, 15, 18, 21, 24, 27, 4, 8, 12, 16, 20, 24, 28, 32, 36, 5, 10, 15, 20, 25, 30, 35, 40, 45, 6, 12, 18, 24, 30, 36, 42, 48, 54, 7, 14, 21, 28, 35, 42, 49, 56, 63, 8, 16, 24, 32, 40, 48, 56, 64, 72, 9, 18, 27, 36, 45, 54, 63, 72, 81]\n"
     ]
    }
   ],
   "source": [
    "result = [x*y for x in range(2,10)\n",
    "          for y in range(1,10)]\n",
    "print(result)"
   ]
  }
 ],
 "metadata": {
  "kernelspec": {
   "display_name": "Python 3 (ipykernel)",
   "language": "python",
   "name": "python3"
  },
  "language_info": {
   "codemirror_mode": {
    "name": "ipython",
    "version": 3
   },
   "file_extension": ".py",
   "mimetype": "text/x-python",
   "name": "python",
   "nbconvert_exporter": "python",
   "pygments_lexer": "ipython3",
   "version": "3.11.7"
  }
 },
 "nbformat": 4,
 "nbformat_minor": 5
}
