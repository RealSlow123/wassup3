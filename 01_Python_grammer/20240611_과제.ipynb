{
 "cells": [
  {
   "cell_type": "markdown",
   "id": "b59718bc-bf97-40cc-b4d1-ba26d34d3ef7",
   "metadata": {},
   "source": [
    "# 001 Print 기초"
   ]
  },
  {
   "cell_type": "code",
   "execution_count": 2,
   "id": "4f83e86e-f00c-42ce-b285-5f73357edcec",
   "metadata": {},
   "outputs": [
    {
     "name": "stdout",
     "output_type": "stream",
     "text": [
      "Hello World\n"
     ]
    }
   ],
   "source": [
    "print(\"Hello World\")"
   ]
  },
  {
   "cell_type": "markdown",
   "id": "cd8bfc52-ad5b-4a05-b49d-e57f84d32f02",
   "metadata": {},
   "source": [
    "# 002 Print 기초"
   ]
  },
  {
   "cell_type": "code",
   "execution_count": 3,
   "id": "38f4f6e8-8615-4841-9878-57676d19ecd6",
   "metadata": {},
   "outputs": [
    {
     "name": "stdout",
     "output_type": "stream",
     "text": [
      "Marry's cosmetics\n"
     ]
    }
   ],
   "source": [
    "print(\"Marry's cosmetics\")"
   ]
  },
  {
   "cell_type": "markdown",
   "id": "9255c4ef-0dc1-41f1-a780-5608a1932d7a",
   "metadata": {},
   "source": [
    "# 003 Print 기초"
   ]
  },
  {
   "cell_type": "code",
   "execution_count": 11,
   "id": "5cfda214-92f4-4a40-b252-2f670ffd6520",
   "metadata": {},
   "outputs": [
    {
     "name": "stdout",
     "output_type": "stream",
     "text": [
      "신씨가 소리 질렀다. \"도둑이야\"\n"
     ]
    }
   ],
   "source": [
    "print('신씨가 소리 질렀다. \"도둑이야\"')"
   ]
  },
  {
   "cell_type": "markdown",
   "id": "8c130369-d78e-4aa1-ac38-c7e306766701",
   "metadata": {},
   "source": [
    "# 004 Print 기초"
   ]
  },
  {
   "cell_type": "code",
   "execution_count": 12,
   "id": "71ab604f-9bfb-4f72-8406-4cd1a1560cb4",
   "metadata": {},
   "outputs": [
    {
     "name": "stdout",
     "output_type": "stream",
     "text": [
      "c:\\Windows\n"
     ]
    }
   ],
   "source": [
    "print(\"c:\\Windows\")"
   ]
  },
  {
   "cell_type": "markdown",
   "id": "60ef5776-cd34-41ff-8147-498fa0285718",
   "metadata": {},
   "source": [
    "# 005 print 탭과 줄바꿈"
   ]
  },
  {
   "cell_type": "code",
   "execution_count": 14,
   "id": "39eeae3c-91fa-4910-b4d0-3e64d310b047",
   "metadata": {},
   "outputs": [
    {
     "name": "stdout",
     "output_type": "stream",
     "text": [
      "안녕하세요. \n",
      "만나서\t\t반갑습니다.\n"
     ]
    }
   ],
   "source": [
    "print(\"안녕하세요. \\n만나서\\t\\t반갑습니다.\") # \\n은 줄바꿈, \\t는 탭"
   ]
  },
  {
   "cell_type": "markdown",
   "id": "41bad928-48e0-4a2f-8449-26f7877d95af",
   "metadata": {},
   "source": [
    "# 006 print 여러 데이터 출력"
   ]
  },
  {
   "cell_type": "code",
   "execution_count": 15,
   "id": "bd35b7da-5911-4fc8-bb82-8c2313010516",
   "metadata": {},
   "outputs": [
    {
     "name": "stdout",
     "output_type": "stream",
     "text": [
      "오늘도 일요일\n"
     ]
    }
   ],
   "source": [
    "print(\"오늘도\", \"일요일\") # 오늘도 일요일"
   ]
  },
  {
   "cell_type": "markdown",
   "id": "bce063d0-eca1-44b7-a20b-df6c318b3cbd",
   "metadata": {},
   "source": [
    "# 007 print 기초"
   ]
  },
  {
   "cell_type": "markdown",
   "id": "037215cc-0c93-4ab9-8dab-d83148fb9bf6",
   "metadata": {},
   "source": [
    "print('naver;kakao;sk;samsung')"
   ]
  },
  {
   "cell_type": "markdown",
   "id": "62ed4458-fbdc-4062-88ac-cea6d79cff12",
   "metadata": {},
   "source": [
    "# 008 print 기초"
   ]
  },
  {
   "cell_type": "code",
   "execution_count": 18,
   "id": "b52ed758-ab90-45b2-a66a-5914b45e54a0",
   "metadata": {},
   "outputs": [
    {
     "name": "stdout",
     "output_type": "stream",
     "text": [
      "naver/kakao/sk/samsung\n"
     ]
    }
   ],
   "source": [
    "print('naver/kakao/sk/samsung')"
   ]
  },
  {
   "cell_type": "markdown",
   "id": "c9ec94e2-025a-4cb5-86ee-4c3b50386674",
   "metadata": {},
   "source": [
    "# 009 print 줄바꿈"
   ]
  },
  {
   "cell_type": "code",
   "execution_count": 23,
   "id": "b7c91cad-2186-417c-8d87-2a121db49820",
   "metadata": {},
   "outputs": [
    {
     "name": "stdout",
     "output_type": "stream",
     "text": [
      "firstsecond\n"
     ]
    }
   ],
   "source": [
    "print(\"first\", end ='');print(\"second\")"
   ]
  },
  {
   "cell_type": "markdown",
   "id": "66f8e6b0-1f9d-452e-ad6a-1c19abecafd3",
   "metadata": {},
   "source": [
    "# 010 연산 결과 출력"
   ]
  },
  {
   "cell_type": "code",
   "execution_count": 24,
   "id": "98808cdc-4631-4c75-9098-59f2363d2fa3",
   "metadata": {},
   "outputs": [
    {
     "name": "stdout",
     "output_type": "stream",
     "text": [
      "1.6666666666666667\n"
     ]
    }
   ],
   "source": [
    "print(5/3)"
   ]
  },
  {
   "cell_type": "markdown",
   "id": "0fdeb832-5ca8-4331-82ef-b480739319b7",
   "metadata": {},
   "source": [
    "# 011 변수 사용하기"
   ]
  },
  {
   "cell_type": "code",
   "execution_count": 28,
   "id": "52e5d630-6ece-41f8-9ebf-5c7d93231ac0",
   "metadata": {},
   "outputs": [
    {
     "name": "stdout",
     "output_type": "stream",
     "text": [
      "총 평가금액 =  500000 원\n"
     ]
    }
   ],
   "source": [
    "삼성전자 = 50000\n",
    "보유주식 = 10\n",
    "print('총 평가금액 = ', 삼성전자*보유주식, '원')"
   ]
  },
  {
   "cell_type": "markdown",
   "id": "5bb7ac7c-c210-481f-beff-949b13127c97",
   "metadata": {},
   "source": [
    "# 012 변수 사용하기"
   ]
  },
  {
   "cell_type": "code",
   "execution_count": 33,
   "id": "05269860-479d-4e5c-a34b-ca43c5667025",
   "metadata": {},
   "outputs": [
    {
     "name": "stdout",
     "output_type": "stream",
     "text": [
      "298조,  50,000원,  15.79\n"
     ]
    }
   ],
   "source": [
    "시가총액 = '298조'\n",
    "현재가 = '50,000원'\n",
    "PER = 15.79\n",
    "print(시가총액+', ', 현재가+', ', PER)"
   ]
  },
  {
   "cell_type": "markdown",
   "id": "34f90fec-b1d0-451e-81f6-a591ae64a95f",
   "metadata": {},
   "source": [
    "# 013 문자열 출력"
   ]
  },
  {
   "cell_type": "code",
   "execution_count": 34,
   "id": "ae7b29ae-3cd4-44b3-86db-991f12903715",
   "metadata": {},
   "outputs": [
    {
     "name": "stdout",
     "output_type": "stream",
     "text": [
      "hello! python\n"
     ]
    }
   ],
   "source": [
    "s = 'hello'\n",
    "t = 'python'\n",
    "print(s+'! '+t)"
   ]
  },
  {
   "cell_type": "markdown",
   "id": "097f9638-4f16-459a-9ebb-1b27a3fc821c",
   "metadata": {},
   "source": [
    "# 014 파이썬을 이용한 값 계산"
   ]
  },
  {
   "cell_type": "code",
   "execution_count": 35,
   "id": "dc9d3fdb-84d8-4999-bf25-1ab99ab70df0",
   "metadata": {},
   "outputs": [
    {
     "data": {
      "text/plain": [
       "8"
      ]
     },
     "execution_count": 35,
     "metadata": {},
     "output_type": "execute_result"
    }
   ],
   "source": [
    "2 + 2 * 3 # 8"
   ]
  },
  {
   "cell_type": "markdown",
   "id": "860ba4d5-4ec8-4e97-ab9e-8ec3fd7504c8",
   "metadata": {},
   "source": [
    "# 015 type 함수"
   ]
  },
  {
   "cell_type": "code",
   "execution_count": 37,
   "id": "b432090a-b86f-4b0a-a2fc-0c86dac2e814",
   "metadata": {},
   "outputs": [
    {
     "name": "stdout",
     "output_type": "stream",
     "text": [
      "<class 'str'>\n"
     ]
    }
   ],
   "source": [
    "a = \"132\" # str\n",
    "print(type(a))"
   ]
  },
  {
   "cell_type": "markdown",
   "id": "48c05cd9-1376-4986-bbe3-a9a9b1960e8c",
   "metadata": {},
   "source": [
    "# 016 문자열을 정수로 변환"
   ]
  },
  {
   "cell_type": "code",
   "execution_count": 41,
   "id": "7bf38fdb-f40c-4650-9dcc-666a4302d526",
   "metadata": {},
   "outputs": [
    {
     "name": "stdout",
     "output_type": "stream",
     "text": [
      "720 <class 'int'>\n"
     ]
    }
   ],
   "source": [
    "num_str = \"720\"\n",
    "num = int(num_str)\n",
    "print(num, type(num))"
   ]
  },
  {
   "cell_type": "markdown",
   "id": "209085d4-ccd7-4603-ba39-4f1f23886b94",
   "metadata": {},
   "source": [
    "# 017 정수를 문자열 100으로 변환"
   ]
  },
  {
   "cell_type": "code",
   "execution_count": 42,
   "id": "4db16bc0-f147-48ba-a46d-7e57f92e86ff",
   "metadata": {},
   "outputs": [
    {
     "name": "stdout",
     "output_type": "stream",
     "text": [
      "100 <class 'str'>\n"
     ]
    }
   ],
   "source": [
    "num = 100\n",
    "n_str = str(num)\n",
    "print(n_str, type(n_str))"
   ]
  },
  {
   "cell_type": "markdown",
   "id": "673cddf2-cc6a-4001-9246-cd74908c8be0",
   "metadata": {},
   "source": [
    "# 018 문자열을 실수로 변환"
   ]
  },
  {
   "cell_type": "code",
   "execution_count": 44,
   "id": "e6422a16-78fc-4f02-86c3-f5efdcacedb6",
   "metadata": {},
   "outputs": [
    {
     "name": "stdout",
     "output_type": "stream",
     "text": [
      "15.79 <class 'float'>\n"
     ]
    }
   ],
   "source": [
    "str_num = '15.79'\n",
    "f_num = float(str_num)\n",
    "print(f_num, type(f_num))"
   ]
  },
  {
   "cell_type": "markdown",
   "id": "dc4d32f1-e594-4185-addc-9faf6f004bc1",
   "metadata": {},
   "source": [
    "# 019 문자열을 정수로 변환"
   ]
  },
  {
   "cell_type": "code",
   "execution_count": 48,
   "id": "e5ece731-5a24-4351-a538-efd93df86c84",
   "metadata": {},
   "outputs": [
    {
     "name": "stdout",
     "output_type": "stream",
     "text": [
      "2017,  2018,  2019\n"
     ]
    }
   ],
   "source": [
    "year = \"2020\"\n",
    "i_year = int(year)\n",
    "print(str(i_year-3) + \", \", str(i_year-2)+ \", \", i_year-1)"
   ]
  },
  {
   "cell_type": "markdown",
   "id": "68c4dc06-9df8-498d-b34d-85d21a50c469",
   "metadata": {},
   "source": [
    "# 020 파이썬 계산"
   ]
  },
  {
   "cell_type": "code",
   "execution_count": 49,
   "id": "8efa51ac-6cac-4207-a140-49f3307f9368",
   "metadata": {},
   "outputs": [
    {
     "name": "stdout",
     "output_type": "stream",
     "text": [
      "총 금액 =  1749024  원\n"
     ]
    }
   ],
   "source": [
    "Price = 48584\n",
    "Month = 36\n",
    "Total_Price = Price * Month\n",
    "print(\"총 금액 = \", Total_Price, \" 원\")"
   ]
  },
  {
   "cell_type": "markdown",
   "id": "3b98e2bf-4b7c-4066-bb8e-841b1c9bf4bd",
   "metadata": {},
   "source": [
    "# 021 문자열 인덱싱"
   ]
  },
  {
   "cell_type": "code",
   "execution_count": 50,
   "id": "292cd248-a12c-4840-a81f-e384d2905deb",
   "metadata": {},
   "outputs": [
    {
     "name": "stdout",
     "output_type": "stream",
     "text": [
      "p t\n"
     ]
    }
   ],
   "source": [
    "letters = 'python'\n",
    "print(letters[0], letters[2])"
   ]
  },
  {
   "cell_type": "markdown",
   "id": "b29d245d-a23f-4def-838a-418b179b2da4",
   "metadata": {},
   "source": [
    "# 022 문자열 슬라이싱"
   ]
  },
  {
   "cell_type": "code",
   "execution_count": 52,
   "id": "dc11d784-db25-40d6-bb1e-693d054fb526",
   "metadata": {},
   "outputs": [
    {
     "name": "stdout",
     "output_type": "stream",
     "text": [
      "2210\n"
     ]
    }
   ],
   "source": [
    "license_plate = \"24가 2210\"\n",
    "print(license_plate[4:])"
   ]
  },
  {
   "cell_type": "markdown",
   "id": "42eb0fb7-f91b-400a-bb50-d55a33f4789c",
   "metadata": {},
   "source": [
    "# 023 문자열 인덱싱"
   ]
  },
  {
   "cell_type": "code",
   "execution_count": 55,
   "id": "143a2062-e256-4773-ad39-af202a26a736",
   "metadata": {},
   "outputs": [
    {
     "name": "stdout",
     "output_type": "stream",
     "text": [
      "홀홀홀\n"
     ]
    }
   ],
   "source": [
    "str_temp = \"홀짝홀짝홀짝\"\n",
    "print(str_temp[0::2])"
   ]
  },
  {
   "cell_type": "markdown",
   "id": "98ad873a-4f7e-46ae-be5c-27e4f1e2fd8e",
   "metadata": {},
   "source": [
    "# 024 문자열 슬라이싱"
   ]
  },
  {
   "cell_type": "code",
   "execution_count": 75,
   "id": "98fd98c8-0460-477e-b731-f9c40098735c",
   "metadata": {},
   "outputs": [
    {
     "name": "stdout",
     "output_type": "stream",
     "text": [
      "NOHTYP\n"
     ]
    }
   ],
   "source": [
    "string = \"PYTHON\"\n",
    "print(string[::-1])"
   ]
  },
  {
   "cell_type": "markdown",
   "id": "04711409-c07c-4229-9563-f509d8fd25c1",
   "metadata": {},
   "source": [
    "# 025 문자열 치환"
   ]
  },
  {
   "cell_type": "code",
   "execution_count": 77,
   "id": "7bc37be5-6af4-4aba-9d68-cc1e0a29bd6b",
   "metadata": {},
   "outputs": [
    {
     "name": "stdout",
     "output_type": "stream",
     "text": [
      "010 1111 2222\n"
     ]
    }
   ],
   "source": [
    "phone_number = \"010-1111-2222\"\n",
    "phone_number = phone_number.replace('-', ' ')\n",
    "print(phone_number)"
   ]
  },
  {
   "cell_type": "markdown",
   "id": "5230da29-7542-4f34-a642-b2cfcebe46a9",
   "metadata": {},
   "source": [
    "# 026 문자열 다루기"
   ]
  },
  {
   "cell_type": "code",
   "execution_count": 80,
   "id": "66b7c8b4-4f90-402a-9a31-b2bde03521d4",
   "metadata": {},
   "outputs": [
    {
     "name": "stdout",
     "output_type": "stream",
     "text": [
      "01011112222\n"
     ]
    }
   ],
   "source": [
    "phone_number = phone_number.replace(' ', '')\n",
    "print(phone_number)"
   ]
  },
  {
   "cell_type": "markdown",
   "id": "bc6c0b22-4b27-45ab-9d7a-36da7f8b67d7",
   "metadata": {},
   "source": [
    "# 027 문자열 다루기"
   ]
  },
  {
   "cell_type": "code",
   "execution_count": 82,
   "id": "7d8473b1-7112-4c5d-89cc-728e0af5ee4f",
   "metadata": {},
   "outputs": [
    {
     "name": "stdout",
     "output_type": "stream",
     "text": [
      "kr\n"
     ]
    }
   ],
   "source": [
    "url = \"http://sharebook.kr\"\n",
    "print(url[url.find('.')+1:])"
   ]
  },
  {
   "cell_type": "markdown",
   "id": "c4b6b5d4-0da4-4394-a38e-5f88e11352eb",
   "metadata": {},
   "source": [
    "# 028 문자열은 immutable"
   ]
  },
  {
   "cell_type": "code",
   "execution_count": 83,
   "id": "428e6652-8f6e-412d-b971-84b514105af9",
   "metadata": {},
   "outputs": [
    {
     "ename": "TypeError",
     "evalue": "'str' object does not support item assignment",
     "output_type": "error",
     "traceback": [
      "\u001b[1;31m---------------------------------------------------------------------------\u001b[0m",
      "\u001b[1;31mTypeError\u001b[0m                                 Traceback (most recent call last)",
      "Cell \u001b[1;32mIn[83], line 2\u001b[0m\n\u001b[0;32m      1\u001b[0m lang \u001b[38;5;241m=\u001b[39m \u001b[38;5;124m'\u001b[39m\u001b[38;5;124mpython\u001b[39m\u001b[38;5;124m'\u001b[39m\n\u001b[1;32m----> 2\u001b[0m lang[\u001b[38;5;241m0\u001b[39m] \u001b[38;5;241m=\u001b[39m \u001b[38;5;124m'\u001b[39m\u001b[38;5;124mP\u001b[39m\u001b[38;5;124m'\u001b[39m\n\u001b[0;32m      3\u001b[0m \u001b[38;5;28mprint\u001b[39m(lang)\n",
      "\u001b[1;31mTypeError\u001b[0m: 'str' object does not support item assignment"
     ]
    }
   ],
   "source": [
    "lang = 'python'\n",
    "lang[0] = 'P'\n",
    "print(lang)   # 에러"
   ]
  },
  {
   "cell_type": "markdown",
   "id": "11e827f3-fab1-4b36-b189-840bbed74eb1",
   "metadata": {},
   "source": [
    "# 029 replace 메서드"
   ]
  },
  {
   "cell_type": "code",
   "execution_count": 84,
   "id": "925b4553-8b2d-452f-b5ee-e96c20bed882",
   "metadata": {},
   "outputs": [
    {
     "name": "stdout",
     "output_type": "stream",
     "text": [
      "Abcdfe2A354A32A\n"
     ]
    }
   ],
   "source": [
    "string = 'abcdfe2a354a32a'\n",
    "string = string.replace('a', 'A')\n",
    "print(string)"
   ]
  },
  {
   "cell_type": "markdown",
   "id": "3f7c323e-74fc-4dd7-b51a-18c56ccbedad",
   "metadata": {},
   "source": [
    "# 030 replace 메서드"
   ]
  },
  {
   "cell_type": "code",
   "execution_count": 86,
   "id": "dfc4129b-2c8c-42c0-a7c2-e264f2039b10",
   "metadata": {},
   "outputs": [
    {
     "name": "stdout",
     "output_type": "stream",
     "text": [
      "abcd\n"
     ]
    }
   ],
   "source": [
    "string = 'abcd'\n",
    "string.replace('b', 'B')\n",
    "print(string) # abcd"
   ]
  },
  {
   "cell_type": "markdown",
   "id": "c3877bae-c3c4-4fa6-a855-4ea552471d37",
   "metadata": {},
   "source": [
    "# 031 문자열 합치기"
   ]
  },
  {
   "cell_type": "code",
   "execution_count": 87,
   "id": "8db4b1a5-0300-4fd0-a5ee-5e1ccf3e962b",
   "metadata": {},
   "outputs": [
    {
     "name": "stdout",
     "output_type": "stream",
     "text": [
      "34\n"
     ]
    }
   ],
   "source": [
    "a = \"3\"\n",
    "b = \"4\"\n",
    "print(a + b)  # 34"
   ]
  },
  {
   "cell_type": "markdown",
   "id": "7496c528-aeb3-4ab5-812f-ad560a146eb0",
   "metadata": {},
   "source": [
    "# 032 문자열 곱하기"
   ]
  },
  {
   "cell_type": "code",
   "execution_count": 88,
   "id": "2cf55977-99e9-4b85-8f9e-06950656d588",
   "metadata": {},
   "outputs": [
    {
     "name": "stdout",
     "output_type": "stream",
     "text": [
      "HiHiHi\n"
     ]
    }
   ],
   "source": [
    "print(\"Hi\" * 3) # HiHiHi"
   ]
  },
  {
   "cell_type": "markdown",
   "id": "026dca06-be39-4ac0-84d5-9eb1c9da9899",
   "metadata": {},
   "source": [
    "# 033 문자열 곱하기"
   ]
  },
  {
   "cell_type": "code",
   "execution_count": 90,
   "id": "d7ec5f6c-5d23-428e-b2a7-ae814f2a0e2e",
   "metadata": {},
   "outputs": [
    {
     "name": "stdout",
     "output_type": "stream",
     "text": [
      "--------------------------------------------------------------------------------\n"
     ]
    }
   ],
   "source": [
    "print(\"-\" * 80)"
   ]
  },
  {
   "cell_type": "markdown",
   "id": "54750f85-12c3-4205-b66e-3670ac6a6318",
   "metadata": {},
   "source": [
    "# 034 문자열 곱하기"
   ]
  },
  {
   "cell_type": "code",
   "execution_count": 92,
   "id": "fc478251-36f1-42b4-8895-cb8955b6a8a1",
   "metadata": {},
   "outputs": [
    {
     "name": "stdout",
     "output_type": "stream",
     "text": [
      "python java python java python java python java \n"
     ]
    }
   ],
   "source": [
    "t1 = 'python'\n",
    "t2 = 'java'\n",
    "print((t1 + \" \" + t2 + \" \") * 4)"
   ]
  },
  {
   "cell_type": "markdown",
   "id": "43ad532b-7a1a-4291-bfcc-44d3820ae4b6",
   "metadata": {},
   "source": [
    "# 035 문자열 출력"
   ]
  },
  {
   "cell_type": "code",
   "execution_count": 97,
   "id": "56ac9d75-ee40-485e-aa52-75884a7b775b",
   "metadata": {},
   "outputs": [
    {
     "name": "stdout",
     "output_type": "stream",
     "text": [
      "이름: 김민수 나이: 10\n",
      "이름: 이철희 나이: 13\n"
     ]
    }
   ],
   "source": [
    "name1 = \"김민수\" \n",
    "age1 = 10\n",
    "name2 = \"이철희\"\n",
    "age2 = 13\n",
    "print(\"이름: %s 나이: %d\\n이름: %s 나이: %d\"%(name1,age1,name2,age2))"
   ]
  },
  {
   "cell_type": "markdown",
   "id": "b246c8ba-4d57-4ca4-9a85-8dcf743903c4",
   "metadata": {},
   "source": [
    "# 036 문자열 출력"
   ]
  },
  {
   "cell_type": "code",
   "execution_count": 99,
   "id": "0a9d0c5e-db9b-4baa-8233-a49ee5f8ac34",
   "metadata": {},
   "outputs": [
    {
     "name": "stdout",
     "output_type": "stream",
     "text": [
      "이름: 김민수 나이: 10\n",
      "이름: 이철희 나이: 13\n"
     ]
    }
   ],
   "source": [
    "print(\"이름: {} 나이: {}\\n이름: {} 나이: {}\".format(name1,age1,name2,age2))"
   ]
  },
  {
   "cell_type": "markdown",
   "id": "652f5c13-c548-4994-8c6e-3add24ac7428",
   "metadata": {},
   "source": [
    "# 037 문자열 출력"
   ]
  },
  {
   "cell_type": "code",
   "execution_count": 100,
   "id": "2986a2a1-97ce-48e2-8ec5-3f6a647192f0",
   "metadata": {},
   "outputs": [
    {
     "name": "stdout",
     "output_type": "stream",
     "text": [
      "이름: 김민수 나이: 10\n",
      "이름: 이철희 나이: 13\n"
     ]
    }
   ],
   "source": [
    "print(f\"이름: {name1} 나이: {age1}\\n이름: {name2} 나이: {age2}\")"
   ]
  },
  {
   "cell_type": "markdown",
   "id": "86be31b1-cfda-4d3b-8179-904308724ff4",
   "metadata": {},
   "source": [
    "# 038 컴마 제거하기"
   ]
  },
  {
   "cell_type": "code",
   "execution_count": 101,
   "id": "356a6243-722e-4453-88fa-cce0aca2cf54",
   "metadata": {},
   "outputs": [
    {
     "name": "stdout",
     "output_type": "stream",
     "text": [
      "5969782550\n"
     ]
    }
   ],
   "source": [
    "상장주식수 = \"5,969,782,550\"\n",
    "i_상장주식수 = int(상장주식수.replace(',', ''))\n",
    "print(i_상장주식수)"
   ]
  },
  {
   "cell_type": "markdown",
   "id": "1ca4128d-0f42-433b-9950-cfe88f1bcc9f",
   "metadata": {},
   "source": [
    "# 039 문자열 슬라이싱"
   ]
  },
  {
   "cell_type": "code",
   "execution_count": 103,
   "id": "0643f9c4-53ff-44b0-be61-17d2951e8e57",
   "metadata": {},
   "outputs": [
    {
     "name": "stdout",
     "output_type": "stream",
     "text": [
      "2020/03\n"
     ]
    }
   ],
   "source": [
    "분기 = \"2020/03(E) (IFRS연결)\"\n",
    "print(분기[0:7])"
   ]
  },
  {
   "cell_type": "markdown",
   "id": "42e6542e-15d8-4343-b25b-5073eaaadec0",
   "metadata": {},
   "source": [
    "# 040 strip 메서드"
   ]
  },
  {
   "cell_type": "code",
   "execution_count": 109,
   "id": "bf508593-39aa-41cd-bf29-34734101fbcf",
   "metadata": {},
   "outputs": [
    {
     "name": "stdout",
     "output_type": "stream",
     "text": [
      "삼성전자\n"
     ]
    }
   ],
   "source": [
    "data = \"   삼성전자    \"\n",
    "data = data.strip(' ')\n",
    "print(data)"
   ]
  },
  {
   "cell_type": "markdown",
   "id": "e9710c9a-fcd1-438c-9519-5fd14666f239",
   "metadata": {},
   "source": [
    "# 041 upper 메서드"
   ]
  },
  {
   "cell_type": "code",
   "execution_count": 110,
   "id": "4c2e0ab0-46c7-4142-9468-e0fe4ec956a6",
   "metadata": {},
   "outputs": [
    {
     "name": "stdout",
     "output_type": "stream",
     "text": [
      "BTC_KRW\n"
     ]
    }
   ],
   "source": [
    "ticker = \"btc_krw\"\n",
    "print(ticker.upper())"
   ]
  },
  {
   "cell_type": "markdown",
   "id": "37e5ef75-a3d4-47ea-b84b-33a654e54e92",
   "metadata": {},
   "source": [
    "# 042 lower 메서드"
   ]
  },
  {
   "cell_type": "code",
   "execution_count": 111,
   "id": "ee63a093-bea6-40c4-84de-a3e2dec87dcf",
   "metadata": {},
   "outputs": [
    {
     "name": "stdout",
     "output_type": "stream",
     "text": [
      "btc_krw\n"
     ]
    }
   ],
   "source": [
    "ticker = \"BTC_KRW\"\n",
    "print(ticker.lower())"
   ]
  },
  {
   "cell_type": "markdown",
   "id": "c10e011e-3cfa-4e9f-8fe6-d5955b723c3e",
   "metadata": {},
   "source": [
    "# 043 capitalize 메서드"
   ]
  },
  {
   "cell_type": "code",
   "execution_count": 115,
   "id": "51d39931-4dc4-4bb1-b9f2-6244c90ae3fd",
   "metadata": {},
   "outputs": [
    {
     "name": "stdout",
     "output_type": "stream",
     "text": [
      "Hello\n"
     ]
    }
   ],
   "source": [
    "temp = 'hello'\n",
    "print(temp.capitalize())"
   ]
  },
  {
   "cell_type": "markdown",
   "id": "e669572d-8ad6-4b12-acf7-bc102d1674b0",
   "metadata": {},
   "source": [
    "# 045 endswith 메서드"
   ]
  },
  {
   "cell_type": "code",
   "execution_count": 119,
   "id": "e15ceb56-0175-4341-89de-5b1e30eda197",
   "metadata": {},
   "outputs": [
    {
     "data": {
      "text/plain": [
       "True"
      ]
     },
     "execution_count": 119,
     "metadata": {},
     "output_type": "execute_result"
    }
   ],
   "source": [
    "file_name = \"보고서.xlsx\"\n",
    "file_name.endswith(('xlsx','xls'))"
   ]
  },
  {
   "cell_type": "markdown",
   "id": "5e7ee32d-8734-40ac-9b8c-7170d1a815fa",
   "metadata": {},
   "source": [
    "# 046 startswith 메서드"
   ]
  },
  {
   "cell_type": "code",
   "execution_count": 120,
   "id": "ec7c4a41-1294-466b-9e8b-6cafbcbda305",
   "metadata": {},
   "outputs": [
    {
     "data": {
      "text/plain": [
       "True"
      ]
     },
     "execution_count": 120,
     "metadata": {},
     "output_type": "execute_result"
    }
   ],
   "source": [
    "file_name = \"2020_보고서.xlsx\"\n",
    "file_name.startswith('2020')"
   ]
  },
  {
   "cell_type": "markdown",
   "id": "06d35bdf-aea6-41d8-b642-3a5ada43adf6",
   "metadata": {},
   "source": [
    "# 048 split 메서드"
   ]
  },
  {
   "cell_type": "code",
   "execution_count": 121,
   "id": "b7c77998-e4de-455e-824a-ad9b69b04e98",
   "metadata": {},
   "outputs": [
    {
     "name": "stdout",
     "output_type": "stream",
     "text": [
      "['btc', 'krw']\n"
     ]
    }
   ],
   "source": [
    "ticker = \"btc_krw\"\n",
    "print(ticker.split('_'))"
   ]
  },
  {
   "cell_type": "markdown",
   "id": "c100c23a-a790-4a47-981d-272f9153ac05",
   "metadata": {},
   "source": [
    "# 049 split 메서드"
   ]
  },
  {
   "cell_type": "code",
   "execution_count": 122,
   "id": "962dad3b-48f8-477f-ae81-056638124661",
   "metadata": {},
   "outputs": [
    {
     "name": "stdout",
     "output_type": "stream",
     "text": [
      "2020년 05월 01일\n"
     ]
    }
   ],
   "source": [
    "date = \"2020-05-01\"\n",
    "list = date.split('-')\n",
    "Year = list[0]\n",
    "Month = list[1]\n",
    "Day = list[2]\n",
    "print(f'{Year}년 {Month}월 {Day}일')"
   ]
  },
  {
   "cell_type": "markdown",
   "id": "9d9ddeb0-f679-4ac3-88bf-32022cbdc655",
   "metadata": {},
   "source": [
    "# 050 rstrip 메서드"
   ]
  },
  {
   "cell_type": "code",
   "execution_count": 123,
   "id": "5565ae06-a165-47d1-9a48-05cb5797aeae",
   "metadata": {},
   "outputs": [
    {
     "name": "stdout",
     "output_type": "stream",
     "text": [
      "039490\n"
     ]
    }
   ],
   "source": [
    "data = \"039490     \"\n",
    "print(data.rstrip())"
   ]
  },
  {
   "cell_type": "markdown",
   "id": "2b5912cf-4568-4cda-bec4-089e553704f2",
   "metadata": {},
   "source": [
    "# 051 리스트 생성"
   ]
  },
  {
   "cell_type": "code",
   "execution_count": 124,
   "id": "7de54019-babe-4490-85bb-01435cb0c206",
   "metadata": {},
   "outputs": [
    {
     "name": "stdout",
     "output_type": "stream",
     "text": [
      "['닥터 스트레인지', '스플릿', '럭키']\n"
     ]
    }
   ],
   "source": [
    "movie_rank = ['닥터 스트레인지','스플릿','럭키']\n",
    "print(movie_rank)"
   ]
  },
  {
   "cell_type": "markdown",
   "id": "2ceec866-ba86-42f2-9dd9-05f4f74018ca",
   "metadata": {},
   "source": [
    "# 052 리스트에 원소 추가"
   ]
  },
  {
   "cell_type": "code",
   "execution_count": 125,
   "id": "cde9db54-f200-450c-90b6-e0d6114079dd",
   "metadata": {},
   "outputs": [
    {
     "name": "stdout",
     "output_type": "stream",
     "text": [
      "['닥터 스트레인지', '스플릿', '럭키', '베트맨']\n"
     ]
    }
   ],
   "source": [
    "movie_rank.append('베트맨')\n",
    "print(movie_rank)"
   ]
  },
  {
   "cell_type": "markdown",
   "id": "da6e5896-a79b-40c3-b76d-f8727296e981",
   "metadata": {},
   "source": [
    "# 053"
   ]
  },
  {
   "cell_type": "code",
   "execution_count": 126,
   "id": "7b6d5412-9760-471c-b6e9-87eff0fa849e",
   "metadata": {},
   "outputs": [
    {
     "name": "stdout",
     "output_type": "stream",
     "text": [
      "['닥터 스트레인지', '슈퍼맨', '스플릿', '럭키', '베트맨']\n"
     ]
    }
   ],
   "source": [
    "movie_rank.insert(1, '슈퍼맨')\n",
    "print(movie_rank)"
   ]
  },
  {
   "cell_type": "markdown",
   "id": "5238780a-4ba2-4260-a6ce-d23b09ddb7c5",
   "metadata": {},
   "source": [
    "# 054"
   ]
  },
  {
   "cell_type": "code",
   "execution_count": 127,
   "id": "3f0373e1-1ebb-4c91-8fb8-1ff08f43012d",
   "metadata": {},
   "outputs": [
    {
     "name": "stdout",
     "output_type": "stream",
     "text": [
      "['닥터 스트레인지', '슈퍼맨', '스플릿', '베트맨']\n"
     ]
    }
   ],
   "source": [
    "movie_rank.remove(\"럭키\")\n",
    "print(movie_rank)"
   ]
  },
  {
   "cell_type": "markdown",
   "id": "e88540bc-d3d7-4c27-8543-bde841bb2a05",
   "metadata": {},
   "source": [
    "# 055"
   ]
  },
  {
   "cell_type": "code",
   "execution_count": 130,
   "id": "abdff103-a77c-4f6a-b184-5691fcad7c16",
   "metadata": {},
   "outputs": [
    {
     "name": "stdout",
     "output_type": "stream",
     "text": [
      "['닥터 스트레인지', '슈퍼맨']\n"
     ]
    }
   ],
   "source": [
    "movie_rank.pop()\n",
    "movie_rank.pop()\n",
    "print(movie_rank)"
   ]
  },
  {
   "cell_type": "markdown",
   "id": "a3841a68-c73e-419d-9917-aa24f54c4620",
   "metadata": {},
   "source": [
    "# 056"
   ]
  },
  {
   "cell_type": "code",
   "execution_count": 133,
   "id": "9e8e7b01-1703-4e95-a134-6c3a9b8b95a3",
   "metadata": {},
   "outputs": [
    {
     "name": "stdout",
     "output_type": "stream",
     "text": [
      "['C', 'C++', 'JAVA', 'Python', 'Go', 'C#']\n"
     ]
    }
   ],
   "source": [
    "lang1 = [\"C\", \"C++\", \"JAVA\"]\n",
    "lang2 = [\"Python\", \"Go\", \"C#\"]\n",
    "langs = lang1 + lang2\n",
    "print(langs)"
   ]
  },
  {
   "cell_type": "markdown",
   "id": "8fe6a663-ca5e-452c-8790-0596c079e732",
   "metadata": {},
   "source": [
    "# 057"
   ]
  },
  {
   "cell_type": "code",
   "execution_count": 184,
   "id": "c770d3f6-a37f-4a3b-9aab-00f00d03838d",
   "metadata": {},
   "outputs": [
    {
     "name": "stdout",
     "output_type": "stream",
     "text": [
      "max: 7\n",
      "min: 1\n"
     ]
    }
   ],
   "source": [
    "nums = [1, 2, 3, 4, 5, 6, 7]\n",
    "min_num = min(nums)\n",
    "max_num = max(nums)\n",
    "print(f\"max: {max_num}\\nmin: {min_num}\")"
   ]
  },
  {
   "cell_type": "markdown",
   "id": "b623a550-9625-4c7b-a3c8-bc434fc314a4",
   "metadata": {},
   "source": [
    "# 058"
   ]
  },
  {
   "cell_type": "code",
   "execution_count": 185,
   "id": "ed0160e8-c2bf-4224-8abd-24f2df312de9",
   "metadata": {},
   "outputs": [
    {
     "name": "stdout",
     "output_type": "stream",
     "text": [
      "15\n"
     ]
    }
   ],
   "source": [
    "nums = [1, 2, 3, 4, 5]\n",
    "print(sum(nums))"
   ]
  },
  {
   "cell_type": "markdown",
   "id": "9142b07e-2051-4acf-af56-2d4c91a8c302",
   "metadata": {},
   "source": [
    "# 059"
   ]
  },
  {
   "cell_type": "code",
   "execution_count": 189,
   "id": "ea0d9b70-bc24-412f-83de-3f3e642414a9",
   "metadata": {},
   "outputs": [
    {
     "name": "stdout",
     "output_type": "stream",
     "text": [
      "12\n"
     ]
    }
   ],
   "source": [
    "cook = [\"피자\", \"김밥\", \"만두\", \"양념치킨\", \"족발\", \"피자\", \"김치만두\", \"쫄면\", \"소시지\", \"라면\", \"팥빙수\", \"김치전\"]\n",
    "print(len(cook))"
   ]
  },
  {
   "cell_type": "markdown",
   "id": "549ba1ce-8b1c-4834-bea5-3f33fac720af",
   "metadata": {},
   "source": [
    "# 060"
   ]
  },
  {
   "cell_type": "code",
   "execution_count": 192,
   "id": "42157517-9f87-40bd-84f6-473250a56081",
   "metadata": {},
   "outputs": [
    {
     "name": "stdout",
     "output_type": "stream",
     "text": [
      "3.0\n"
     ]
    }
   ],
   "source": [
    "nums = [1, 2, 3, 4, 5]\n",
    "print(sum(nums)/len(nums))"
   ]
  },
  {
   "cell_type": "markdown",
   "id": "253c664e-98f3-4c92-9986-d0dcbe3511b4",
   "metadata": {},
   "source": [
    "# 061"
   ]
  },
  {
   "cell_type": "code",
   "execution_count": 193,
   "id": "b42eddff-b297-4370-be82-83ba82ffd27a",
   "metadata": {},
   "outputs": [
    {
     "name": "stdout",
     "output_type": "stream",
     "text": [
      "[100, 130, 140, 150, 160, 170]\n"
     ]
    }
   ],
   "source": [
    "price = ['20180728', 100, 130, 140, 150, 160, 170]\n",
    "print(price[1:])"
   ]
  },
  {
   "cell_type": "markdown",
   "id": "2d5e0a21-b00e-4575-828f-b20693dfd21b",
   "metadata": {},
   "source": [
    "# 062"
   ]
  },
  {
   "cell_type": "code",
   "execution_count": 194,
   "id": "d269d916-e956-435d-aa55-91ffa484fe53",
   "metadata": {},
   "outputs": [
    {
     "name": "stdout",
     "output_type": "stream",
     "text": [
      "[1, 3, 5, 7, 9]\n"
     ]
    }
   ],
   "source": [
    "nums = [1, 2, 3, 4, 5, 6, 7, 8, 9, 10]\n",
    "print(nums[0::2])"
   ]
  },
  {
   "cell_type": "markdown",
   "id": "7d33495b-0d37-41e7-a46a-9c85dacc1699",
   "metadata": {},
   "source": [
    "# 슬라이싱을 사용해서 짝수만 출력하라."
   ]
  },
  {
   "cell_type": "code",
   "execution_count": 195,
   "id": "8408ca42-26be-42d8-b608-70ef85b7f1a2",
   "metadata": {},
   "outputs": [
    {
     "name": "stdout",
     "output_type": "stream",
     "text": [
      "[2, 4, 6, 8, 10]\n"
     ]
    }
   ],
   "source": [
    "print(nums[1::2])"
   ]
  },
  {
   "cell_type": "markdown",
   "id": "9807aaec-f223-4ddc-abf0-689feebacc72",
   "metadata": {},
   "source": [
    "# 064"
   ]
  },
  {
   "cell_type": "code",
   "execution_count": 200,
   "id": "1015bd55-6782-447c-97f7-4701beded93a",
   "metadata": {},
   "outputs": [
    {
     "name": "stdout",
     "output_type": "stream",
     "text": [
      "[1, 2, 3, 4, 5]\n"
     ]
    }
   ],
   "source": [
    "nums = [1, 2, 3, 4, 5]\n",
    "nums.reverse\n",
    "print(nums)"
   ]
  },
  {
   "cell_type": "markdown",
   "id": "4e482eea-e057-4af4-80e5-29689db9d9fc",
   "metadata": {},
   "source": [
    "# 065"
   ]
  },
  {
   "cell_type": "code",
   "execution_count": 209,
   "id": "c27718b4-6848-4c02-b597-6e4999aad930",
   "metadata": {},
   "outputs": [
    {
     "name": "stdout",
     "output_type": "stream",
     "text": [
      "삼성전자 Naver\n"
     ]
    }
   ],
   "source": [
    "interest = ['삼성전자', 'LG전자', 'Naver']\n",
    "print(interest[0], interest[2])"
   ]
  },
  {
   "cell_type": "markdown",
   "id": "1a92779d-b2ff-441b-bf7d-e1188c655a71",
   "metadata": {},
   "source": [
    "# 066 join 메서드"
   ]
  },
  {
   "cell_type": "code",
   "execution_count": 211,
   "id": "74133d52-3248-4506-b961-107926a50248",
   "metadata": {},
   "outputs": [
    {
     "name": "stdout",
     "output_type": "stream",
     "text": [
      "삼성전자 LG전자 Naver SK하이닉스 미래에셋대우\n"
     ]
    }
   ],
   "source": [
    "interest = ['삼성전자', 'LG전자', 'Naver', 'SK하이닉스', '미래에셋대우']\n",
    "print(\" \".join(interest))"
   ]
  },
  {
   "cell_type": "markdown",
   "id": "8032a1e7-c584-4882-9fdb-a84c17619bc5",
   "metadata": {},
   "source": [
    "# 067 join 메서드"
   ]
  },
  {
   "cell_type": "code",
   "execution_count": 212,
   "id": "6caa45db-d5d2-4f6f-9a74-3f85693e3555",
   "metadata": {},
   "outputs": [
    {
     "name": "stdout",
     "output_type": "stream",
     "text": [
      "삼성전자/LG전자/Naver/SK하이닉스/미래에셋대우\n"
     ]
    }
   ],
   "source": [
    "interest = ['삼성전자', 'LG전자', 'Naver', 'SK하이닉스', '미래에셋대우']\n",
    "print(\"/\".join(interest))"
   ]
  },
  {
   "cell_type": "markdown",
   "id": "26bec739-eb68-45ce-8c35-b3bb16171879",
   "metadata": {},
   "source": [
    "# 068 join 메서드"
   ]
  },
  {
   "cell_type": "code",
   "execution_count": 213,
   "id": "e13808b0-8ce6-425e-9a6d-1b0c5ee96bdb",
   "metadata": {},
   "outputs": [
    {
     "name": "stdout",
     "output_type": "stream",
     "text": [
      "삼성전자\n",
      "LG전자\n",
      "Naver\n",
      "SK하이닉스\n",
      "미래에셋대우\n"
     ]
    }
   ],
   "source": [
    "interest = ['삼성전자', 'LG전자', 'Naver', 'SK하이닉스', '미래에셋대우']\n",
    "print(\"\\n\".join(interest))"
   ]
  },
  {
   "cell_type": "markdown",
   "id": "7e411bd7-3cad-44e6-bc28-7e038ee842a8",
   "metadata": {},
   "source": [
    "# 069 문자열 split 메서드"
   ]
  },
  {
   "cell_type": "code",
   "execution_count": 216,
   "id": "29da7b24-e55f-4892-9c49-00641bc87ee8",
   "metadata": {},
   "outputs": [
    {
     "name": "stdout",
     "output_type": "stream",
     "text": [
      "['삼성전자', 'LG전자', 'Naver']\n"
     ]
    }
   ],
   "source": [
    "string = \"삼성전자/LG전자/Naver\"\n",
    "interest = string.split('/')\n",
    "print(interest)"
   ]
  },
  {
   "cell_type": "markdown",
   "id": "10cdcc72-91c0-46fc-b0ba-766d91b2fb50",
   "metadata": {},
   "source": [
    "# 070 리스트 정렬"
   ]
  },
  {
   "cell_type": "code",
   "execution_count": 217,
   "id": "f343bc0b-9532-425b-b9fc-a08e23551e8d",
   "metadata": {},
   "outputs": [
    {
     "name": "stdout",
     "output_type": "stream",
     "text": [
      "[1, 2, 3, 4, 5, 9, 10]\n"
     ]
    }
   ],
   "source": [
    "data = [2, 4, 3, 1, 5, 10, 9]\n",
    "data.sort()\n",
    "print(data)"
   ]
  },
  {
   "cell_type": "markdown",
   "id": "87d303be-3a97-400c-96aa-db5048379169",
   "metadata": {},
   "source": [
    "# 071"
   ]
  },
  {
   "cell_type": "code",
   "execution_count": 226,
   "id": "eaa66faa-362b-4627-85ed-1c0e7f8cead1",
   "metadata": {},
   "outputs": [
    {
     "name": "stdout",
     "output_type": "stream",
     "text": [
      "() <class 'tuple'>\n"
     ]
    }
   ],
   "source": [
    "movie_rank = ()\n",
    "print(movie_rank, type(movie_rank))"
   ]
  },
  {
   "cell_type": "markdown",
   "id": "50eca453-fb38-4127-b897-37f687678a03",
   "metadata": {},
   "source": [
    "# 072"
   ]
  },
  {
   "cell_type": "code",
   "execution_count": 220,
   "id": "3bae8306-2ea7-45fd-89c3-aab0186e03fa",
   "metadata": {},
   "outputs": [
    {
     "name": "stdout",
     "output_type": "stream",
     "text": [
      "('닥터 스트레인지', '스플릿', '럭키')\n"
     ]
    }
   ],
   "source": [
    "movie_rank = ('닥터 스트레인지','스플릿','럭키')\n",
    "print(movie_rank)"
   ]
  },
  {
   "cell_type": "markdown",
   "id": "2a5da79d-3ce6-4376-a05c-e00c2c6e3d48",
   "metadata": {},
   "source": [
    "# 073"
   ]
  },
  {
   "cell_type": "markdown",
   "id": "33c3a97f-f0bb-412c-b9b1-629605dfc9ba",
   "metadata": {},
   "source": [
    "t_nums = (1,)\n",
    "print(t_nums, type(t_nums))"
   ]
  },
  {
   "cell_type": "markdown",
   "id": "3140e938-7087-40a9-acb5-0fe5bf763e0a",
   "metadata": {},
   "source": [
    "# 074"
   ]
  },
  {
   "cell_type": "code",
   "execution_count": 229,
   "id": "9edff760-e1b5-498c-a701-4ab9b8779cd2",
   "metadata": {},
   "outputs": [
    {
     "ename": "TypeError",
     "evalue": "'tuple' object does not support item assignment",
     "output_type": "error",
     "traceback": [
      "\u001b[1;31m---------------------------------------------------------------------------\u001b[0m",
      "\u001b[1;31mTypeError\u001b[0m                                 Traceback (most recent call last)",
      "Cell \u001b[1;32mIn[229], line 2\u001b[0m\n\u001b[0;32m      1\u001b[0m t \u001b[38;5;241m=\u001b[39m (\u001b[38;5;241m1\u001b[39m, \u001b[38;5;241m2\u001b[39m, \u001b[38;5;241m3\u001b[39m)\n\u001b[1;32m----> 2\u001b[0m t[\u001b[38;5;241m0\u001b[39m] \u001b[38;5;241m=\u001b[39m \u001b[38;5;124m'\u001b[39m\u001b[38;5;124ma\u001b[39m\u001b[38;5;124m'\u001b[39m\n",
      "\u001b[1;31mTypeError\u001b[0m: 'tuple' object does not support item assignment"
     ]
    }
   ],
   "source": [
    "t = (1, 2, 3)\n",
    "t[0] = 'a' # 튜플은 특정 인덱스의 데이터를 수정하는 것이 불가능함"
   ]
  },
  {
   "cell_type": "markdown",
   "id": "96ab1833-dc14-4258-bcd1-9046f4014f6e",
   "metadata": {},
   "source": [
    "# 075"
   ]
  },
  {
   "cell_type": "code",
   "execution_count": 230,
   "id": "458505eb-514c-43b8-871b-56a80a7524c8",
   "metadata": {},
   "outputs": [
    {
     "name": "stdout",
     "output_type": "stream",
     "text": [
      "<class 'tuple'>\n"
     ]
    }
   ],
   "source": [
    "t = 1, 2, 3, 4 # 튜플\n",
    "print(type(t))"
   ]
  },
  {
   "cell_type": "markdown",
   "id": "47fc32cc-e537-4aa4-bd36-cd665bb3f5ca",
   "metadata": {},
   "source": [
    "# 076"
   ]
  },
  {
   "cell_type": "code",
   "execution_count": 231,
   "id": "ed375c1e-cd28-4ebe-ba8d-fedd345a0a01",
   "metadata": {},
   "outputs": [
    {
     "name": "stdout",
     "output_type": "stream",
     "text": [
      "('A', 'b', 'c')\n"
     ]
    }
   ],
   "source": [
    "t = ('a', 'b', 'c')\n",
    "t = ('A', 'b', 'c')\n",
    "print(t)"
   ]
  },
  {
   "cell_type": "markdown",
   "id": "a8c493fc-830f-4fd5-b58d-93e50fd30f5a",
   "metadata": {},
   "source": [
    "# 077"
   ]
  },
  {
   "cell_type": "code",
   "execution_count": 246,
   "id": "963eb3e4-e140-4342-8a73-dd3e733dd8e3",
   "metadata": {},
   "outputs": [
    {
     "name": "stdout",
     "output_type": "stream",
     "text": [
      "['삼성전자', 'LG전자', 'SK Hynix']\n"
     ]
    }
   ],
   "source": [
    "interest = ('삼성전자', 'LG전자', 'SK Hynix')\n",
    "#data = list(interest) # 이거 안됨....\n",
    "l_interest = []\n",
    "l_interest.extend(interest)\n",
    "\n",
    "# ========== 다른 방법 ==========\n",
    "# my_list = [x for x in my_tuple]\n",
    "# my_list = [*my_tuple]\n",
    "# ==========++++++++++++=========\n",
    "\n",
    "print(l_interest)"
   ]
  },
  {
   "cell_type": "markdown",
   "id": "b259bc1b-f098-4216-bb9c-d15e15390ffc",
   "metadata": {},
   "source": [
    "# 078"
   ]
  },
  {
   "cell_type": "code",
   "execution_count": 248,
   "id": "543868f6-172f-47fe-a280-60d401148e42",
   "metadata": {},
   "outputs": [
    {
     "name": "stdout",
     "output_type": "stream",
     "text": [
      "('삼성전자', 'LG전자', 'SK Hynix')\n"
     ]
    }
   ],
   "source": [
    "interest = ['삼성전자', 'LG전자', 'SK Hynix']\n",
    "t_interest = tuple(interest)\n",
    "print(t_interest)"
   ]
  },
  {
   "cell_type": "markdown",
   "id": "a8dcbdaa-f565-4ceb-ba38-2cf3ab9789d8",
   "metadata": {},
   "source": [
    "# 079 튜플 언팩킹"
   ]
  },
  {
   "cell_type": "code",
   "execution_count": 249,
   "id": "706f3d4d-379f-4c5e-94ba-e405dd0a3901",
   "metadata": {},
   "outputs": [
    {
     "name": "stdout",
     "output_type": "stream",
     "text": [
      "apple banana cake\n"
     ]
    }
   ],
   "source": [
    "temp = ('apple', 'banana', 'cake')\n",
    "a, b, c = temp\n",
    "print(a, b, c) # apple banana cake"
   ]
  },
  {
   "cell_type": "markdown",
   "id": "b559f6af-76cd-49e6-99d9-587c6d0d71a6",
   "metadata": {},
   "source": [
    "# 080 range 함수"
   ]
  },
  {
   "cell_type": "code",
   "execution_count": 251,
   "id": "4c29b448-5028-40a2-bec1-0aaed6558fa0",
   "metadata": {},
   "outputs": [
    {
     "name": "stdout",
     "output_type": "stream",
     "text": [
      "(2, 4, 6, 8, 10, 12, 14, 16, 18, 20, 22, 24, 26, 28, 30, 32, 34, 36, 38, 40, 42, 44, 46, 48, 50, 52, 54, 56, 58, 60, 62, 64, 66, 68, 70, 72, 74, 76, 78, 80, 82, 84, 86, 88, 90, 92, 94, 96, 98)\n"
     ]
    }
   ],
   "source": [
    "t_nums = tuple(range(2, 100, 2))\n",
    "print(t_nums)"
   ]
  }
 ],
 "metadata": {
  "kernelspec": {
   "display_name": "Python 3 (ipykernel)",
   "language": "python",
   "name": "python3"
  },
  "language_info": {
   "codemirror_mode": {
    "name": "ipython",
    "version": 3
   },
   "file_extension": ".py",
   "mimetype": "text/x-python",
   "name": "python",
   "nbconvert_exporter": "python",
   "pygments_lexer": "ipython3",
   "version": "3.11.7"
  }
 },
 "nbformat": 4,
 "nbformat_minor": 5
}
