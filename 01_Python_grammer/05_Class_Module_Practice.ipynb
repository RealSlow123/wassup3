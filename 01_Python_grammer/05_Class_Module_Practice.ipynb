{
 "cells": [
  {
   "cell_type": "markdown",
   "id": "f1fdca32",
   "metadata": {},
   "source": [
    "# Q1. 다음은 Calculator 클래스이다.\n",
    "```python\n",
    "class Calculator:\n",
    "    def __init__(self):\n",
    "        self.value = 0\n",
    "    def add(self, val):\n",
    "        self.value += val\n",
    "```\n",
    "위 클래스를 상속하는 UpgradeCalculator를 만들고 값을 뺄 수 잇는 minus 메서드를 추가해보자.   \n",
    "즉 다음과 같이 동작하는 클래스를 만들어야 한다.\n",
    "```python\n",
    "cal = UpgradeCalculator()\n",
    "cal.add(10)\n",
    "cal.minus(7)\n",
    "print(cal.calue) # 10에서 7을 뺀 3을 출력\n",
    "```"
   ]
  },
  {
   "cell_type": "code",
   "execution_count": 3,
   "id": "f3345c8c",
   "metadata": {},
   "outputs": [
    {
     "name": "stdout",
     "output_type": "stream",
     "text": [
      "3\n"
     ]
    }
   ],
   "source": [
    "class Calculator:\n",
    "    def __init__(self):\n",
    "        self.value = 0\n",
    "    def add(self, val):\n",
    "        self.value += val\n",
    "        \n",
    "class UpgradeCalculator(Calculator):\n",
    "    def minus(self, val):\n",
    "        self.calue = self.value- val\n",
    "\n",
    "cal = UpgradeCalculator()\n",
    "cal.add(10)\n",
    "cal.minus(7)\n",
    "print(cal.calue) # 10에서 7을 뺀 3을 출력"
   ]
  },
  {
   "cell_type": "markdown",
   "id": "75806738",
   "metadata": {},
   "source": [
    "# Q2. 객체 변수 value가 100 이상의 값은 가질 수 없도록 제한하는 MaxLimitCalculator 클래스를 만들어 보자. 즉 다음과 같이 동작해야 한다.\n",
    "```python\n",
    "cal = MaxLimitCalculator()\n",
    "cal.add(50) # 50 더하기\n",
    "cal.add(60) # 60 더하기\n",
    "\n",
    "print(cal.value) # 100 출력\n",
    "```\n",
    "\n",
    "단 반드시 다음과 같은 calculator 클래스를 상속해서 만들어야 한다.\n",
    "```python\n",
    "class Calculator:\n",
    "    def __init__(self):\n",
    "        self.value = 0\n",
    "    def add(self, val):\n",
    "        self.value += val\n",
    "```"
   ]
  },
  {
   "cell_type": "code",
   "execution_count": 11,
   "id": "d5bc73e1",
   "metadata": {},
   "outputs": [
    {
     "name": "stdout",
     "output_type": "stream",
     "text": [
      "100\n"
     ]
    }
   ],
   "source": [
    "class Calculator:\n",
    "    def __init__(self):\n",
    "        self.value = 0\n",
    "    def add(self, val):\n",
    "        self.value += val\n",
    "        \n",
    "class MaxLimitCalculator(Calculator):\n",
    "    def add(self, val):\n",
    "        self.value += val\n",
    "        if self.value > 100:\n",
    "            self.value = 100\n",
    "\n",
    "cal = MaxLimitCalculator()\n",
    "cal.add(50) # 50 더하기\n",
    "cal.add(60) # 60 더하기\n",
    "\n",
    "print(cal.value) # 100 출력"
   ]
  },
  {
   "cell_type": "markdown",
   "id": "7286e434",
   "metadata": {},
   "source": [
    "# Q3. 다음 결과를 예측해 보자.\n",
    "```python\n",
    "# 1. all 함수를 iteration 변수내의 값이 모두 True일 때만 True\n",
    ">>> all({1, 2, abs(-3)-3})\n",
    "\n",
    "# 2. ord는 넘겨받은 문자의 유니코드 정수를 반환 \n",
    ">>> chr(ord('a')) == 'a'\n",
    "```"
   ]
  },
  {
   "cell_type": "code",
   "execution_count": 13,
   "id": "b686ab29",
   "metadata": {},
   "outputs": [
    {
     "data": {
      "text/plain": [
       "True"
      ]
     },
     "execution_count": 13,
     "metadata": {},
     "output_type": "execute_result"
    }
   ],
   "source": [
    "# all({1, 2, abs(-3)-3}) 세 번째 값이 0이므로 False\n",
    "# 유니토드 정수를 받고, 해당 유니코드를 다시 문자로 변환했으므로 True"
   ]
  },
  {
   "cell_type": "markdown",
   "id": "ff058604",
   "metadata": {},
   "source": [
    "# Q4. filter와 lambda를 사용하여 리스트 [1, -2, 3, -5, 8, -3]에서 음수를 모두 제거해 보자."
   ]
  },
  {
   "cell_type": "code",
   "execution_count": 67,
   "id": "4da2f202",
   "metadata": {},
   "outputs": [
    {
     "name": "stdout",
     "output_type": "stream",
     "text": [
      "1 3 8 "
     ]
    }
   ],
   "source": [
    "for i in filter(lambda num : num > 0, [1, -2, 3, -5, 8, -3]):\n",
    "  print(i, end = \" \")"
   ]
  },
  {
   "cell_type": "markdown",
   "id": "3810c0b8",
   "metadata": {},
   "source": [
    "# Q5. 234라는 10진수의 16진수는 다음과 같이 구할 수 있다.\n",
    "```python\n",
    ">>> hex(234)\n",
    "'0xea'\n",
    "```\n",
    "이번에는 반대로 16진수 문자열 0xea를 10진수로 변경해 보자."
   ]
  },
  {
   "cell_type": "code",
   "execution_count": 28,
   "id": "c94be636",
   "metadata": {},
   "outputs": [
    {
     "data": {
      "text/plain": [
       "'0o352'"
      ]
     },
     "execution_count": 28,
     "metadata": {},
     "output_type": "execute_result"
    }
   ],
   "source": [
    "oct(0xea)"
   ]
  },
  {
   "cell_type": "markdown",
   "id": "6c563fc7",
   "metadata": {},
   "source": [
    "# Q6. map과 lambda를 사용하여 [1, 2, 3, 4] 리스트의 각 요솟값에 3이 곱해진 리스트 [3, 6, 9, 12]를 만들어 보자."
   ]
  },
  {
   "cell_type": "code",
   "execution_count": 66,
   "id": "f303e800",
   "metadata": {},
   "outputs": [
    {
     "name": "stdout",
     "output_type": "stream",
     "text": [
      "2 4 6 8 "
     ]
    }
   ],
   "source": [
    "for i in (map(lambda a: a*2, [1, 2, 3, 4])):\n",
    "  print(i, end = \" \")"
   ]
  },
  {
   "cell_type": "markdown",
   "id": "5abd78a0",
   "metadata": {},
   "source": [
    "# Q7. 다음 리스트의 최댓값과 최솟값의 합을 구해 보자.\n",
    "[-8, 2, 7, 5, -3, 5, 0, 1]"
   ]
  },
  {
   "cell_type": "code",
   "execution_count": 29,
   "id": "4527968b",
   "metadata": {},
   "outputs": [
    {
     "data": {
      "text/plain": [
       "-56"
      ]
     },
     "execution_count": 29,
     "metadata": {},
     "output_type": "execute_result"
    }
   ],
   "source": [
    "max([-8, 2, 7, 5, -3, 5, 0, 1]) * min([-8, 2, 7, 5, -3, 5, 0, 1])"
   ]
  },
  {
   "cell_type": "markdown",
   "id": "b64ed240",
   "metadata": {},
   "source": [
    "# Q8. 17 / 3의 결과는 다음과 같다.\n",
    "```python\n",
    ">>> 17 / 3\n",
    "5.666666666667\n",
    "```\n",
    "위와 같은 결괏값 5.6666666666667을 소숫점 4자리까지만 반올림하여 표시해 보자."
   ]
  },
  {
   "cell_type": "code",
   "execution_count": 30,
   "id": "730d116a",
   "metadata": {},
   "outputs": [
    {
     "data": {
      "text/plain": [
       "5.6667"
      ]
     },
     "execution_count": 30,
     "metadata": {},
     "output_type": "execute_result"
    }
   ],
   "source": [
    "round(17 / 3, 4)"
   ]
  },
  {
   "cell_type": "markdown",
   "id": "6ae88f19",
   "metadata": {},
   "source": [
    "# Q9. 다음과 같이 실행할 때 입력값을 모두 더하여 출력하는 스크립트(C:\\doit\\myargv.py)를 작성해 보자.\n",
    "```\n",
    "C:\\> cd doit\n",
    "C:\\dodit> python myargv.py 1 2 3 4 5 6 7 8 9 10\n",
    "```"
   ]
  },
  {
   "cell_type": "code",
   "execution_count": null,
   "id": "93068ed8",
   "metadata": {},
   "outputs": [],
   "source": [
    "import sys # 이건 이해가 잘 안되네....\n",
    "\n",
    "#args = \"1 2 3 4 5 6 7 8 9 10\" 이걸 jupyter lab에서 돌리면 형변환 에러가 난다...\n",
    "args = sys.argv[1:] # 이걸로 하고 myargv.py를 돌리면  왜 되지...?모르겟다....\n",
    "number = 0\n",
    "for i in args:\n",
    "    number += int(i)\n",
    "print(number)"
   ]
  },
  {
   "cell_type": "markdown",
   "id": "ac41096a",
   "metadata": {},
   "source": [
    "# Q10. OS 모듈을 사용하여 다음과 같이 동작하도록 코드를 작성해 보자.\n",
    "1. C:\\doit 디렉터리로 이동한다.\n",
    "2. dir 명령을 실행하고 그 결과를 변수에 담는다.\n",
    "3. dir 명령의 결과를 출력한다."
   ]
  },
  {
   "cell_type": "code",
   "execution_count": 34,
   "id": "6cef3623",
   "metadata": {},
   "outputs": [
    {
     "name": "stdout",
     "output_type": "stream",
     "text": [
      " C 드라이브의 볼륨에는 이름이 없습니다.\n",
      " 볼륨 일련 번호: 9E65-E401\n",
      "\n",
      " C:\\workspace\\wassup3\\01_Python_grammer 디렉터리\n",
      "\n",
      "2024-06-17  오후 10:22    <DIR>          .\n",
      "2024-06-17  오후 09:44    <DIR>          ..\n",
      "2024-06-17  오후 09:40    <DIR>          .ipynb_checkpoints\n",
      "2024-06-12  오후 07:37            10,618 01_DatatypeVariable_practice.ipynb\n",
      "2024-06-12  오후 06:37           112,442 01_자료형과 변수.ipynb\n",
      "2024-06-13  오후 03:24            29,063 02_Control_Statement.ipynb\n",
      "2024-06-13  오후 05:12             8,285 02_Control_Statement_Practice.ipynb\n",
      "2024-06-14  오후 05:48             8,417 03_Coding_Practice_PhoneBookProgram.ipynb\n",
      "2024-06-14  오후 05:48            16,552 04_Function.ipynb\n",
      "2024-06-14  오후 04:39             9,694 04_Function__IO_Practice.ipynb\n",
      "2024-06-14  오후 05:48            17,734 04_IO.ipynb\n",
      "2024-06-17  오후 10:22            13,158 05_Class_Module_Practice.ipynb\n",
      "2024-06-17  오후 09:42            18,904 05_Class_Module_Practice_Answer.ipynb\n",
      "2024-06-17  오후 04:23            25,549 05_클레스와 예외처리.ipynb\n",
      "2024-06-11  오후 07:35            43,355 20240611_과제.ipynb\n",
      "2024-06-12  오후 07:24            35,508 20240612_과제.ipynb\n",
      "2024-06-13  오후 07:27            45,562 20240613_과제.ipynb\n",
      "2024-06-14  오후 06:57            29,180 20240614_과제.ipynb\n",
      "2024-06-17  오후 09:35            41,867 20240617_과제.ipynb\n",
      "2024-06-17  오후 04:06                 0 foo.txt\n",
      "2024-06-14  오후 04:04    <DIR>          output\n",
      "2024-06-13  오후 04:38             2,395 phonebook.py\n",
      "2024-06-14  오후 04:39                67 test.txt\n",
      "              19개 파일             468,350 바이트\n",
      "               4개 디렉터리  602,023,198,720 바이트 남음\n",
      "\n"
     ]
    }
   ],
   "source": [
    "import os\n",
    "os.system('cd C:/workspace/wassup3/01_Python_grammer')\n",
    "i = os.popen('dir').read()\n",
    "print(i)"
   ]
  },
  {
   "cell_type": "markdown",
   "id": "e1df445d",
   "metadata": {},
   "source": [
    "# Q11. glob 모듈을 사용하여 C:\\doit 디렉터리의 파일 중 확장자가 .ipynb인 파일만 출력하는 프로그램을 작성해 보자."
   ]
  },
  {
   "cell_type": "code",
   "execution_count": 27,
   "id": "b69ab522",
   "metadata": {},
   "outputs": [
    {
     "data": {
      "text/plain": [
       "['C:/workspace/wassup3/01_Python_grammer\\\\01_DatatypeVariable_practice.ipynb',\n",
       " 'C:/workspace/wassup3/01_Python_grammer\\\\01_자료형과 변수.ipynb',\n",
       " 'C:/workspace/wassup3/01_Python_grammer\\\\02_Control_Statement.ipynb',\n",
       " 'C:/workspace/wassup3/01_Python_grammer\\\\02_Control_Statement_Practice.ipynb',\n",
       " 'C:/workspace/wassup3/01_Python_grammer\\\\03_Coding_Practice_PhoneBookProgram.ipynb',\n",
       " 'C:/workspace/wassup3/01_Python_grammer\\\\04_Function.ipynb',\n",
       " 'C:/workspace/wassup3/01_Python_grammer\\\\04_Function__IO_Practice.ipynb',\n",
       " 'C:/workspace/wassup3/01_Python_grammer\\\\04_IO.ipynb',\n",
       " 'C:/workspace/wassup3/01_Python_grammer\\\\05_Class_Module_Practice.ipynb',\n",
       " 'C:/workspace/wassup3/01_Python_grammer\\\\05_Class_Module_Practice_Answer.ipynb',\n",
       " 'C:/workspace/wassup3/01_Python_grammer\\\\05_클레스와 예외처리.ipynb',\n",
       " 'C:/workspace/wassup3/01_Python_grammer\\\\20240611_과제.ipynb',\n",
       " 'C:/workspace/wassup3/01_Python_grammer\\\\20240612_과제.ipynb',\n",
       " 'C:/workspace/wassup3/01_Python_grammer\\\\20240613_과제.ipynb',\n",
       " 'C:/workspace/wassup3/01_Python_grammer\\\\20240614_과제.ipynb',\n",
       " 'C:/workspace/wassup3/01_Python_grammer\\\\20240617_과제.ipynb']"
      ]
     },
     "execution_count": 27,
     "metadata": {},
     "output_type": "execute_result"
    }
   ],
   "source": [
    "import glob\n",
    "output = glob.glob('C:/workspace/wassup3/01_Python_grammer/*.ipynb')\n",
    "output"
   ]
  },
  {
   "cell_type": "markdown",
   "id": "d7b91fea",
   "metadata": {},
   "source": [
    "# Q12. time 모듈을 사용하여 현재 날짜와 시간을 다음과 같은 형식으로 출력해 보자.\n",
    "2018/04/03 17:20:32"
   ]
  },
  {
   "cell_type": "code",
   "execution_count": 22,
   "id": "e2a5f482",
   "metadata": {},
   "outputs": [
    {
     "data": {
      "text/plain": [
       "'2024/06/17 22:16:05'"
      ]
     },
     "execution_count": 22,
     "metadata": {},
     "output_type": "execute_result"
    }
   ],
   "source": [
    "import time\n",
    "time.strftime('%Y/%m/%d %H:%M:%S', time.localtime(time.time()))"
   ]
  },
  {
   "cell_type": "markdown",
   "id": "393cd834",
   "metadata": {},
   "source": [
    "# Q13. random 모듈을 사용하여 로또 번호 (1~45 사이의 숫자 6개)를 생성해보자(단 중복된 숫자가 있으면 안됨)."
   ]
  },
  {
   "cell_type": "code",
   "execution_count": 24,
   "id": "c4b093dc",
   "metadata": {},
   "outputs": [
    {
     "name": "stdout",
     "output_type": "stream",
     "text": [
      "[27, 21, 41, 18, 33, 6]\n"
     ]
    }
   ],
   "source": [
    "import random\n",
    "로또번호 = []\n",
    "while len(로또번호) < 6:\n",
    "    번호 = random.randint(1, 45)\n",
    "    if 번호 not in 로또번호:\n",
    "        로또번호.append(번호)\n",
    "print(로또번호)"
   ]
  },
  {
   "cell_type": "markdown",
   "id": "ee89ff74",
   "metadata": {},
   "source": [
    "\"성공은 매일 반복한 작은 노력들의 합이다.\"\n",
    "- 로버트 콜리어"
   ]
  }
 ],
 "metadata": {
  "kernelspec": {
   "display_name": "Python 3 (ipykernel)",
   "language": "python",
   "name": "python3"
  },
  "language_info": {
   "codemirror_mode": {
    "name": "ipython",
    "version": 3
   },
   "file_extension": ".py",
   "mimetype": "text/x-python",
   "name": "python",
   "nbconvert_exporter": "python",
   "pygments_lexer": "ipython3",
   "version": "3.11.7"
  },
  "toc": {
   "base_numbering": 1,
   "nav_menu": {},
   "number_sections": true,
   "sideBar": true,
   "skip_h1_title": false,
   "title_cell": "Table of Contents",
   "title_sidebar": "Contents",
   "toc_cell": false,
   "toc_position": {},
   "toc_section_display": true,
   "toc_window_display": false
  },
  "varInspector": {
   "cols": {
    "lenName": 16,
    "lenType": 16,
    "lenVar": 40
   },
   "kernels_config": {
    "python": {
     "delete_cmd_postfix": "",
     "delete_cmd_prefix": "del ",
     "library": "var_list.py",
     "varRefreshCmd": "print(var_dic_list())"
    },
    "r": {
     "delete_cmd_postfix": ") ",
     "delete_cmd_prefix": "rm(",
     "library": "var_list.r",
     "varRefreshCmd": "cat(var_dic_list()) "
    }
   },
   "types_to_exclude": [
    "module",
    "function",
    "builtin_function_or_method",
    "instance",
    "_Feature"
   ],
   "window_display": false
  }
 },
 "nbformat": 4,
 "nbformat_minor": 5
}
