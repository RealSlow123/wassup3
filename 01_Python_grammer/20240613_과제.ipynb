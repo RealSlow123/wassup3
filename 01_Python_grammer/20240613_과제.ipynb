{
 "cells": [
  {
   "cell_type": "markdown",
   "id": "fcfc2ed2-b6c1-4be5-abab-02fb42db3652",
   "metadata": {},
   "source": [
    "## 131"
   ]
  },
  {
   "cell_type": "code",
   "execution_count": 1,
   "id": "5aca57b1-69ab-48ee-b291-dbd9e66134bd",
   "metadata": {},
   "outputs": [
    {
     "name": "stdout",
     "output_type": "stream",
     "text": [
      "사과\n",
      "귤\n",
      "수박\n"
     ]
    }
   ],
   "source": [
    "#사과\n",
    "#귱\n",
    "#수박\n",
    "과일 = [\"사과\", \"귤\", \"수박\"]\n",
    "for 변수 in 과일:\n",
    "    print(변수)"
   ]
  },
  {
   "cell_type": "markdown",
   "id": "94587082-744c-4c1f-92b2-a983f17361d9",
   "metadata": {},
   "source": [
    "## 132"
   ]
  },
  {
   "cell_type": "code",
   "execution_count": 2,
   "id": "a4dc42de-55fd-4fb1-9fb4-2ef543c2fc16",
   "metadata": {},
   "outputs": [
    {
     "name": "stdout",
     "output_type": "stream",
     "text": [
      "#####\n",
      "#####\n",
      "#####\n"
     ]
    }
   ],
   "source": [
    "#####\n",
    "#####\n",
    "#####\n",
    "과일 = [\"사과\", \"귤\", \"수박\"]\n",
    "for 변수 in 과일:\n",
    "  print(\"#####\")"
   ]
  },
  {
   "cell_type": "markdown",
   "id": "db1de0c9-fab5-4379-af58-4784722df25a",
   "metadata": {},
   "source": [
    "## 133"
   ]
  },
  {
   "cell_type": "code",
   "execution_count": 5,
   "id": "111b7ed3-ce32-4ab7-82ed-d41490dee9b8",
   "metadata": {},
   "outputs": [
    {
     "name": "stdout",
     "output_type": "stream",
     "text": [
      "A\n",
      "B\n",
      "C\n"
     ]
    }
   ],
   "source": [
    "#for 변수 in [\"A\", \"B\", \"C\"]:\n",
    "#  print(변수)\n",
    "print(\"A\")\n",
    "print(\"B\")\n",
    "print(\"C\")"
   ]
  },
  {
   "cell_type": "markdown",
   "id": "0f30acc2-06cb-4b9f-912f-f180ea669389",
   "metadata": {},
   "source": [
    "## 134"
   ]
  },
  {
   "cell_type": "code",
   "execution_count": 10,
   "id": "3417a2b0-ee2b-4a3e-94a2-50ae8c20cb71",
   "metadata": {},
   "outputs": [
    {
     "ename": "SyntaxError",
     "evalue": "unterminated string literal (detected at line 3) (1052851573.py, line 3)",
     "output_type": "error",
     "traceback": [
      "\u001b[1;36m  Cell \u001b[1;32mIn[10], line 3\u001b[1;36m\u001b[0m\n\u001b[1;33m    print(\"출력:\", A\")\u001b[0m\n\u001b[1;37m                  ^\u001b[0m\n\u001b[1;31mSyntaxError\u001b[0m\u001b[1;31m:\u001b[0m unterminated string literal (detected at line 3)\n"
     ]
    }
   ],
   "source": [
    "#for 변수 in [\"A\", \"B\", \"C\"]:\n",
    "#  print(\"출력:\", 변수)\n",
    "print(\"출력:\", \"A\")\n",
    "print(\"출력:\", \"B\")\n",
    "print(\"출력:\", \"C\")"
   ]
  },
  {
   "cell_type": "markdown",
   "id": "5bc79792-4247-455a-9c21-62ddbea3db0b",
   "metadata": {},
   "source": [
    "## 135"
   ]
  },
  {
   "cell_type": "code",
   "execution_count": 11,
   "id": "ff3b3830-8a5b-4004-b827-469f70efd8e0",
   "metadata": {},
   "outputs": [
    {
     "name": "stdout",
     "output_type": "stream",
     "text": [
      "변환: a\n",
      "변환: b\n",
      "변환: c\n"
     ]
    }
   ],
   "source": [
    "#for 변수 in [\"A\", \"B\", \"C\"]:\n",
    "#  b = 변수.lower()\n",
    "#  print(\"변환:\", b)\n",
    "\n",
    "print(\"변환:\", \"A\".lower())\n",
    "print(\"변환:\", \"B\".lower())\n",
    "print(\"변환:\", \"C\".lower())"
   ]
  },
  {
   "cell_type": "markdown",
   "id": "c6721905-10d5-407d-ae11-5db9bd2cb35b",
   "metadata": {},
   "source": [
    "## 136"
   ]
  },
  {
   "cell_type": "code",
   "execution_count": null,
   "id": "62075cca-9c8e-4df9-bda1-b51639be4f88",
   "metadata": {},
   "outputs": [],
   "source": [
    "for 변수 in [10, 20, 30]:\n",
    "    print(변수)"
   ]
  },
  {
   "cell_type": "markdown",
   "id": "79be82a0-eaaf-4eca-b531-9390189ee892",
   "metadata": {},
   "source": [
    "## 137"
   ]
  },
  {
   "cell_type": "code",
   "execution_count": 16,
   "id": "c5641908-4de1-4095-91c9-bc821c726091",
   "metadata": {},
   "outputs": [
    {
     "name": "stdout",
     "output_type": "stream",
     "text": [
      "10\n",
      "20\n",
      "30\n"
     ]
    }
   ],
   "source": [
    "for i in range(1,4):\n",
    "    print(i*10)"
   ]
  },
  {
   "cell_type": "markdown",
   "id": "7e6fa428-04dd-4e3c-9520-2fea9d04fd85",
   "metadata": {},
   "source": [
    "## 138"
   ]
  },
  {
   "cell_type": "code",
   "execution_count": 18,
   "id": "a178f260-3f92-49e8-a8cb-451f19adf5df",
   "metadata": {},
   "outputs": [
    {
     "name": "stdout",
     "output_type": "stream",
     "text": [
      "10\n",
      "-------\n",
      "20\n",
      "-------\n",
      "30\n",
      "-------\n"
     ]
    }
   ],
   "source": [
    "for i in range(1,4):\n",
    "    print(i*10)\n",
    "    print(\"-------\")"
   ]
  },
  {
   "cell_type": "markdown",
   "id": "91d4ac7f-9e36-4d41-95ac-2e89a346c6f8",
   "metadata": {},
   "source": [
    "## 139"
   ]
  },
  {
   "cell_type": "code",
   "execution_count": 19,
   "id": "e6a6e5ac-814d-49ab-b665-2c1db44caf1f",
   "metadata": {},
   "outputs": [
    {
     "name": "stdout",
     "output_type": "stream",
     "text": [
      "++++\n",
      "10\n",
      "20\n",
      "30\n"
     ]
    }
   ],
   "source": [
    "for i in range(1,4):\n",
    "    if i == 1:\n",
    "        print(\"++++\")\n",
    "    print(i*10)"
   ]
  },
  {
   "cell_type": "code",
   "execution_count": 20,
   "id": "256f421d-4d15-4ff9-9493-e91d67adb80c",
   "metadata": {},
   "outputs": [
    {
     "name": "stdout",
     "output_type": "stream",
     "text": [
      "-------\n",
      "-------\n",
      "-------\n",
      "-------\n"
     ]
    }
   ],
   "source": [
    "for i in range(1,5):\n",
    "    print(\"-------\")"
   ]
  },
  {
   "cell_type": "markdown",
   "id": "3c6bdc80-7ba3-47f4-b892-4ef0ece47576",
   "metadata": {},
   "source": [
    "## 141"
   ]
  },
  {
   "cell_type": "code",
   "execution_count": 21,
   "id": "58726cbb-84a3-4de0-92f6-84a07d2a1ba4",
   "metadata": {},
   "outputs": [
    {
     "name": "stdout",
     "output_type": "stream",
     "text": [
      "110\n",
      "210\n",
      "310\n"
     ]
    }
   ],
   "source": [
    "for i in [100, 200, 300]:\n",
    "    print(i+10)"
   ]
  },
  {
   "cell_type": "markdown",
   "id": "a73c1d52-06f9-4f90-8b13-82a6b804aa90",
   "metadata": {},
   "source": [
    "## 142"
   ]
  },
  {
   "cell_type": "code",
   "execution_count": 23,
   "id": "dc04a21d-275c-4a8a-9de5-28c8c5b0c392",
   "metadata": {},
   "outputs": [
    {
     "name": "stdout",
     "output_type": "stream",
     "text": [
      "오늘의 메뉴: 김밥\n",
      "오늘의 메뉴: 라면\n",
      "오늘의 메뉴: 튀김\n"
     ]
    }
   ],
   "source": [
    "for i in [\"김밥\", \"라면\", \"튀김\"]:\n",
    "    print(\"오늘의 메뉴:\" , i)"
   ]
  },
  {
   "cell_type": "markdown",
   "id": "514371db-ffa9-48c1-b64c-95ceff988838",
   "metadata": {},
   "source": [
    "## 143"
   ]
  },
  {
   "cell_type": "code",
   "execution_count": 25,
   "id": "cbdbecf0-d159-403c-9083-c1ef47a252b5",
   "metadata": {},
   "outputs": [
    {
     "name": "stdout",
     "output_type": "stream",
     "text": [
      "6\n",
      "4\n",
      "4\n"
     ]
    }
   ],
   "source": [
    "for i in [\"SK하이닉스\", \"삼성전자\", \"LG전자\"]:\n",
    "    print(len(i))"
   ]
  },
  {
   "cell_type": "markdown",
   "id": "6392f4f1-139c-4d48-9380-33b2a8f4f926",
   "metadata": {},
   "source": [
    "## 144"
   ]
  },
  {
   "cell_type": "code",
   "execution_count": 26,
   "id": "058ac9c8-06ee-44f7-8d3d-07a7dd7088a4",
   "metadata": {},
   "outputs": [
    {
     "name": "stdout",
     "output_type": "stream",
     "text": [
      "dog 3\n",
      "cat 3\n",
      "parrot 6\n"
     ]
    }
   ],
   "source": [
    "for i in ['dog', 'cat', 'parrot']:\n",
    "    print(i, len(i))"
   ]
  },
  {
   "cell_type": "markdown",
   "id": "c68d40f7-01af-4d40-afc1-8deb4006dfe6",
   "metadata": {},
   "source": [
    "## 145"
   ]
  },
  {
   "cell_type": "code",
   "execution_count": 27,
   "id": "2cc161cf-239a-40b8-8658-99d036006065",
   "metadata": {},
   "outputs": [
    {
     "name": "stdout",
     "output_type": "stream",
     "text": [
      "d\n",
      "c\n",
      "p\n"
     ]
    }
   ],
   "source": [
    "for i in ['dog', 'cat', 'parrot']:\n",
    "    print(i[0])"
   ]
  },
  {
   "cell_type": "markdown",
   "id": "27f28bac-5e74-49f6-9d0c-0cf84a5ef927",
   "metadata": {},
   "source": [
    "## 146"
   ]
  },
  {
   "cell_type": "code",
   "execution_count": 28,
   "id": "0aedfd23-64eb-4aa8-a84e-46cb50a9eae0",
   "metadata": {},
   "outputs": [
    {
     "name": "stdout",
     "output_type": "stream",
     "text": [
      "3 X 1\n",
      "3 X 2\n",
      "3 X 3\n"
     ]
    }
   ],
   "source": [
    "for i in [1, 2, 3]:\n",
    "    print(\"3 X\",i)"
   ]
  },
  {
   "cell_type": "markdown",
   "id": "4c683e46-2d6b-4f1a-84cb-1afb61f21fda",
   "metadata": {},
   "source": [
    "## 147"
   ]
  },
  {
   "cell_type": "code",
   "execution_count": 29,
   "id": "51bd50e0-06b7-46c1-9a46-598a3200d0d6",
   "metadata": {},
   "outputs": [
    {
     "name": "stdout",
     "output_type": "stream",
     "text": [
      "3 X 1 = 3\n",
      "3 X 2 = 6\n",
      "3 X 3 = 9\n"
     ]
    }
   ],
   "source": [
    "for i in [1, 2, 3]:\n",
    "    print(\"3 X\",i,\"=\",3*i)"
   ]
  },
  {
   "cell_type": "markdown",
   "id": "ac37a75f-a99a-4b7c-9295-f350f6cb7ed6",
   "metadata": {},
   "source": [
    "## 148"
   ]
  },
  {
   "cell_type": "code",
   "execution_count": 36,
   "id": "081de413-8cf0-4623-bada-8194899b2873",
   "metadata": {},
   "outputs": [
    {
     "name": "stdout",
     "output_type": "stream",
     "text": [
      "나\n",
      "다\n",
      "라\n"
     ]
    }
   ],
   "source": [
    "리스트 = [\"가\", \"나\", \"다\", \"라\"]\n",
    "for 변수 in 리스트[1:]:\n",
    "  print(변수)"
   ]
  },
  {
   "cell_type": "markdown",
   "id": "163619ec-4567-43ea-a252-914f96741237",
   "metadata": {},
   "source": [
    "## 149"
   ]
  },
  {
   "cell_type": "code",
   "execution_count": 35,
   "id": "078fc00b-d037-41c1-8ae0-a227b765270b",
   "metadata": {},
   "outputs": [
    {
     "name": "stdout",
     "output_type": "stream",
     "text": [
      "가\n",
      "다\n"
     ]
    }
   ],
   "source": [
    "리스트 = [\"가\", \"나\", \"다\", \"라\"]\n",
    "for 변수 in 리스트[: :2]:\n",
    "  print(변수)"
   ]
  },
  {
   "cell_type": "markdown",
   "id": "b9d6dc4f-c7a5-45cf-b362-436834cc38bb",
   "metadata": {},
   "source": [
    "## 150"
   ]
  },
  {
   "cell_type": "code",
   "execution_count": 41,
   "id": "2252669b-ca4d-4fa2-b446-28f62db2341a",
   "metadata": {},
   "outputs": [
    {
     "name": "stdout",
     "output_type": "stream",
     "text": [
      "라\n",
      "다\n",
      "나\n",
      "가\n"
     ]
    }
   ],
   "source": [
    "리스트 = [\"가\", \"나\", \"다\", \"라\"]\n",
    "for i in range(4):\n",
    "  print(리스트[3-i])"
   ]
  },
  {
   "cell_type": "markdown",
   "id": "42e018a1-5316-4ff5-8a8a-1cea0fc5462d",
   "metadata": {},
   "source": [
    "## 151"
   ]
  },
  {
   "cell_type": "code",
   "execution_count": 43,
   "id": "cf9e2693-fa87-4416-b87e-f92d5ad1749c",
   "metadata": {},
   "outputs": [
    {
     "name": "stdout",
     "output_type": "stream",
     "text": [
      "-20\n",
      "-3\n"
     ]
    }
   ],
   "source": [
    "for i in [3, -20, -3, 44]:\n",
    "    if i < 0:\n",
    "        print(i)"
   ]
  },
  {
   "cell_type": "markdown",
   "id": "24392307-611f-4602-b789-3fe4fce8a5b4",
   "metadata": {},
   "source": [
    "## 152"
   ]
  },
  {
   "cell_type": "code",
   "execution_count": 44,
   "id": "2e4f421c-1efe-46c4-8901-df2558c41a49",
   "metadata": {},
   "outputs": [
    {
     "name": "stdout",
     "output_type": "stream",
     "text": [
      "3\n"
     ]
    }
   ],
   "source": [
    "for i in [3, 100, 23, 44]:\n",
    "    if i % 3 == 0:\n",
    "        print(i)"
   ]
  },
  {
   "cell_type": "markdown",
   "id": "c6576085-46ec-4234-80f6-769eb92e1a57",
   "metadata": {},
   "source": [
    "## 153"
   ]
  },
  {
   "cell_type": "code",
   "execution_count": 45,
   "id": "2af07b37-b3d5-4338-aea1-b5d9939520c0",
   "metadata": {},
   "outputs": [
    {
     "name": "stdout",
     "output_type": "stream",
     "text": [
      "12\n",
      "18\n"
     ]
    }
   ],
   "source": [
    "for i in [13, 21, 12, 14, 30, 18]:\n",
    "    if i < 20 and i % 3 == 0:\n",
    "        print(i)"
   ]
  },
  {
   "cell_type": "markdown",
   "id": "b42bcfed-b2ae-4d2d-ae15-3541608a4048",
   "metadata": {},
   "source": [
    "## 154"
   ]
  },
  {
   "cell_type": "code",
   "execution_count": 46,
   "id": "a72ae6d3-be80-443f-906d-47538871bf4f",
   "metadata": {},
   "outputs": [
    {
     "name": "stdout",
     "output_type": "stream",
     "text": [
      "study\n",
      "python\n",
      "language\n"
     ]
    }
   ],
   "source": [
    "for i in [\"I\", \"study\", \"python\", \"language\", \"!\"]:\n",
    "    if len(i) >= 3:\n",
    "        print(i)"
   ]
  },
  {
   "cell_type": "code",
   "execution_count": 47,
   "id": "53b89e5b-2311-4cbf-a5eb-b569cfc11fd7",
   "metadata": {},
   "outputs": [
    {
     "name": "stdout",
     "output_type": "stream",
     "text": [
      "A\n",
      "D\n"
     ]
    }
   ],
   "source": [
    "for i in [\"A\", \"b\", \"c\", \"D\"]:\n",
    "    if i.isupper():\n",
    "        print(i)"
   ]
  },
  {
   "cell_type": "markdown",
   "id": "d0be2881-dbef-4553-846d-93953f3f0636",
   "metadata": {},
   "source": [
    "## 156"
   ]
  },
  {
   "cell_type": "code",
   "execution_count": 48,
   "id": "3eef20e1-db40-4469-aa2a-cad2eb293cf8",
   "metadata": {},
   "outputs": [
    {
     "name": "stdout",
     "output_type": "stream",
     "text": [
      "b\n",
      "c\n"
     ]
    }
   ],
   "source": [
    "for i in [\"A\", \"b\", \"c\", \"D\"]:\n",
    "    if i.islower():\n",
    "        print(i)"
   ]
  },
  {
   "cell_type": "markdown",
   "id": "ea24e695-a2e0-4d78-a3f0-843d8c5a84e5",
   "metadata": {},
   "source": [
    "## 157"
   ]
  },
  {
   "cell_type": "code",
   "execution_count": 49,
   "id": "b8bb0c98-e051-4eab-bc14-4a3c46d09de5",
   "metadata": {},
   "outputs": [
    {
     "name": "stdout",
     "output_type": "stream",
     "text": [
      "Dog\n",
      "Cat\n",
      "Parrot\n"
     ]
    }
   ],
   "source": [
    "for i in ['dog', 'cat', 'parrot']:\n",
    "    print(i.capitalize())"
   ]
  },
  {
   "cell_type": "markdown",
   "id": "d47a8807-c140-4adc-a2b7-20334bdbe8a9",
   "metadata": {},
   "source": [
    "## 158"
   ]
  },
  {
   "cell_type": "code",
   "execution_count": 50,
   "id": "1d3cb064-0720-4077-b60d-df1e94748f45",
   "metadata": {},
   "outputs": [
    {
     "name": "stdout",
     "output_type": "stream",
     "text": [
      "hello\n",
      "ex01\n",
      "intro\n"
     ]
    }
   ],
   "source": [
    "for i in ['hello.py', 'ex01.py', 'intro.hwp']:\n",
    "    print(i.split(\".\")[0])"
   ]
  },
  {
   "cell_type": "markdown",
   "id": "4f33fb53-d620-4755-8c15-72e7903fb919",
   "metadata": {},
   "source": [
    "## 159"
   ]
  },
  {
   "cell_type": "code",
   "execution_count": 52,
   "id": "3dc2f6fb-7e5a-41c4-90ab-17123f4dc079",
   "metadata": {},
   "outputs": [
    {
     "name": "stdout",
     "output_type": "stream",
     "text": [
      "intra.h\n",
      "define.h\n"
     ]
    }
   ],
   "source": [
    "for i in ['intra.h', 'intra.c', 'define.h', 'run.py']:\n",
    "    if i.split(\".\")[1] == 'h':\n",
    "        print(i)    "
   ]
  },
  {
   "cell_type": "markdown",
   "id": "96647688-c862-45a4-acf3-b890edc419d0",
   "metadata": {},
   "source": [
    "## 160"
   ]
  },
  {
   "cell_type": "code",
   "execution_count": 53,
   "id": "6c80b4f0-1ca1-4e39-965b-b41a3941ea70",
   "metadata": {},
   "outputs": [
    {
     "name": "stdout",
     "output_type": "stream",
     "text": [
      "intra.h\n",
      "intra.c\n",
      "define.h\n"
     ]
    }
   ],
   "source": [
    "for i in ['intra.h', 'intra.c', 'define.h', 'run.py']:\n",
    "    if i.split(\".\")[1] == 'h' or i.split(\".\")[1] == 'c':\n",
    "        print(i)    "
   ]
  },
  {
   "cell_type": "markdown",
   "id": "1d38225c-56b7-4030-87a4-885a263bb79d",
   "metadata": {},
   "source": [
    "## 161"
   ]
  },
  {
   "cell_type": "code",
   "execution_count": 55,
   "id": "c6a0bbe0-e5d1-4d42-91e1-045110434ae6",
   "metadata": {},
   "outputs": [
    {
     "name": "stdout",
     "output_type": "stream",
     "text": [
      "0\n",
      "1\n",
      "2\n",
      "3\n",
      "4\n",
      "5\n",
      "6\n",
      "7\n",
      "8\n",
      "9\n",
      "10\n",
      "11\n",
      "12\n",
      "13\n",
      "14\n",
      "15\n",
      "16\n",
      "17\n",
      "18\n",
      "19\n",
      "20\n",
      "21\n",
      "22\n",
      "23\n",
      "24\n",
      "25\n",
      "26\n",
      "27\n",
      "28\n",
      "29\n",
      "30\n",
      "31\n",
      "32\n",
      "33\n",
      "34\n",
      "35\n",
      "36\n",
      "37\n",
      "38\n",
      "39\n",
      "40\n",
      "41\n",
      "42\n",
      "43\n",
      "44\n",
      "45\n",
      "46\n",
      "47\n",
      "48\n",
      "49\n",
      "50\n",
      "51\n",
      "52\n",
      "53\n",
      "54\n",
      "55\n",
      "56\n",
      "57\n",
      "58\n",
      "59\n",
      "60\n",
      "61\n",
      "62\n",
      "63\n",
      "64\n",
      "65\n",
      "66\n",
      "67\n",
      "68\n",
      "69\n",
      "70\n",
      "71\n",
      "72\n",
      "73\n",
      "74\n",
      "75\n",
      "76\n",
      "77\n",
      "78\n",
      "79\n",
      "80\n",
      "81\n",
      "82\n",
      "83\n",
      "84\n",
      "85\n",
      "86\n",
      "87\n",
      "88\n",
      "89\n",
      "90\n",
      "91\n",
      "92\n",
      "93\n",
      "94\n",
      "95\n",
      "96\n",
      "97\n",
      "98\n",
      "99\n"
     ]
    }
   ],
   "source": [
    "for i in range(100):\n",
    "    print(i)"
   ]
  },
  {
   "cell_type": "markdown",
   "id": "6836facc-99a0-41af-b07e-dfa1ba30043e",
   "metadata": {},
   "source": [
    "## 162"
   ]
  },
  {
   "cell_type": "code",
   "execution_count": 58,
   "id": "91c3975b-2bc8-4c12-90dc-64e01c0774e7",
   "metadata": {},
   "outputs": [
    {
     "name": "stdout",
     "output_type": "stream",
     "text": [
      "2002\n",
      "2006\n",
      "2010\n",
      "2014\n",
      "2018\n",
      "2022\n",
      "2026\n",
      "2030\n",
      "2034\n",
      "2038\n",
      "2042\n",
      "2046\n",
      "2050\n"
     ]
    }
   ],
   "source": [
    "for i in range(2002, 2051, 4):\n",
    "    print(i)"
   ]
  },
  {
   "cell_type": "markdown",
   "id": "1ef5a5f6-683a-4368-86e4-5d649299719b",
   "metadata": {},
   "source": [
    "## 163"
   ]
  },
  {
   "cell_type": "code",
   "execution_count": 60,
   "id": "73463f22-804e-4f3c-b1e0-374aac6f106a",
   "metadata": {},
   "outputs": [
    {
     "name": "stdout",
     "output_type": "stream",
     "text": [
      "3\n",
      "6\n",
      "9\n",
      "12\n",
      "15\n",
      "18\n",
      "21\n",
      "24\n",
      "27\n",
      "30\n"
     ]
    }
   ],
   "source": [
    "for i in range(1, 31)[2::3]:\n",
    "    print(i)"
   ]
  },
  {
   "cell_type": "markdown",
   "id": "c3cd557e-ef77-4955-b45a-52e616d1690b",
   "metadata": {},
   "source": [
    "## 164"
   ]
  },
  {
   "cell_type": "code",
   "execution_count": 61,
   "id": "99158a25-64c3-472b-8ea2-4b31798a8b40",
   "metadata": {},
   "outputs": [
    {
     "name": "stdout",
     "output_type": "stream",
     "text": [
      "99\n",
      "98\n",
      "97\n",
      "96\n",
      "95\n",
      "94\n",
      "93\n",
      "92\n",
      "91\n",
      "90\n",
      "89\n",
      "88\n",
      "87\n",
      "86\n",
      "85\n",
      "84\n",
      "83\n",
      "82\n",
      "81\n",
      "80\n",
      "79\n",
      "78\n",
      "77\n",
      "76\n",
      "75\n",
      "74\n",
      "73\n",
      "72\n",
      "71\n",
      "70\n",
      "69\n",
      "68\n",
      "67\n",
      "66\n",
      "65\n",
      "64\n",
      "63\n",
      "62\n",
      "61\n",
      "60\n",
      "59\n",
      "58\n",
      "57\n",
      "56\n",
      "55\n",
      "54\n",
      "53\n",
      "52\n",
      "51\n",
      "50\n",
      "49\n",
      "48\n",
      "47\n",
      "46\n",
      "45\n",
      "44\n",
      "43\n",
      "42\n",
      "41\n",
      "40\n",
      "39\n",
      "38\n",
      "37\n",
      "36\n",
      "35\n",
      "34\n",
      "33\n",
      "32\n",
      "31\n",
      "30\n",
      "29\n",
      "28\n",
      "27\n",
      "26\n",
      "25\n",
      "24\n",
      "23\n",
      "22\n",
      "21\n",
      "20\n",
      "19\n",
      "18\n",
      "17\n",
      "16\n",
      "15\n",
      "14\n",
      "13\n",
      "12\n",
      "11\n",
      "10\n",
      "9\n",
      "8\n",
      "7\n",
      "6\n",
      "5\n",
      "4\n",
      "3\n",
      "2\n",
      "1\n",
      "0\n"
     ]
    }
   ],
   "source": [
    "for i in range(100):\n",
    "    print(99-i)"
   ]
  },
  {
   "cell_type": "markdown",
   "id": "39ad0a50-eb4f-4569-ba1a-f5d2d967a35c",
   "metadata": {},
   "source": [
    "## 165"
   ]
  },
  {
   "cell_type": "code",
   "execution_count": 62,
   "id": "a27f53f6-88d3-4ad6-b7f6-75bac9044b26",
   "metadata": {},
   "outputs": [
    {
     "name": "stdout",
     "output_type": "stream",
     "text": [
      "0.1\n",
      "0.2\n",
      "0.3\n",
      "0.4\n",
      "0.5\n",
      "0.6\n",
      "0.7\n",
      "0.8\n",
      "0.9\n"
     ]
    }
   ],
   "source": [
    "for i in range(1, 10):\n",
    "    print(i/10)"
   ]
  },
  {
   "cell_type": "markdown",
   "id": "3a8a9ed8-bc7a-45a3-950d-8554d1f848b6",
   "metadata": {},
   "source": [
    "## 166"
   ]
  },
  {
   "cell_type": "code",
   "execution_count": 70,
   "id": "9e7012d6-b921-40fb-958c-c3bfc83b8c58",
   "metadata": {},
   "outputs": [
    {
     "name": "stdout",
     "output_type": "stream",
     "text": [
      "3 X 1 = 3\n",
      "3 X 2 = 6\n",
      "3 X 3 = 9\n",
      "3 X 4 = 12\n",
      "3 X 5 = 15\n",
      "3 X 6 = 18\n",
      "3 X 7 = 21\n",
      "3 X 8 = 24\n",
      "3 X 9 = 27\n"
     ]
    }
   ],
   "source": [
    "for i in range(1, 10):\n",
    "    print(f\"3 X {i} = {3*i}\")"
   ]
  },
  {
   "cell_type": "markdown",
   "id": "17fdfa16-be5a-408b-bf62-4b1eb5f21750",
   "metadata": {},
   "source": [
    "## 167"
   ]
  },
  {
   "cell_type": "code",
   "execution_count": 65,
   "id": "4dd25e74-3da1-4392-976a-74954a1e3bed",
   "metadata": {},
   "outputs": [
    {
     "name": "stdout",
     "output_type": "stream",
     "text": [
      "3 X 1 = 3\n",
      "3 X 3 = 9\n",
      "3 X 5 = 15\n",
      "3 X 7 = 21\n",
      "3 X 9 = 27\n"
     ]
    }
   ],
   "source": [
    "for i in range(1, 10 , 2):\n",
    "    print(f\"3 X {i} = {3*i}\")"
   ]
  },
  {
   "cell_type": "markdown",
   "id": "e81c1a20-ae29-44a1-815f-d0812188a475",
   "metadata": {},
   "source": [
    "## 168"
   ]
  },
  {
   "cell_type": "code",
   "execution_count": 69,
   "id": "da5a5e1e-bee2-4ba6-a6e7-8f3aaa7a85d4",
   "metadata": {},
   "outputs": [
    {
     "name": "stdout",
     "output_type": "stream",
     "text": [
      "합 = 55\n"
     ]
    }
   ],
   "source": [
    "sum = 0\n",
    "for i in range(1, 11):\n",
    "    sum += i\n",
    "print(\"합 =\",sum)"
   ]
  },
  {
   "cell_type": "markdown",
   "id": "0ed4184c-a3a5-4209-a8b5-bde5e20f1117",
   "metadata": {},
   "source": [
    "## 169"
   ]
  },
  {
   "cell_type": "code",
   "execution_count": 71,
   "id": "ac88545d-3ed4-43f3-9255-1100ac0aa2c1",
   "metadata": {},
   "outputs": [
    {
     "name": "stdout",
     "output_type": "stream",
     "text": [
      "합 = 25\n"
     ]
    }
   ],
   "source": [
    "sum = 0\n",
    "for i in range(1, 11,2):\n",
    "    sum += i\n",
    "print(\"합 =\",sum)"
   ]
  },
  {
   "cell_type": "markdown",
   "id": "b20966a1-b064-41d8-9d12-41e72fecc6e1",
   "metadata": {},
   "source": [
    "## 170"
   ]
  },
  {
   "cell_type": "code",
   "execution_count": 74,
   "id": "df5f13fa-1df3-49ca-b350-b906263d7420",
   "metadata": {},
   "outputs": [
    {
     "name": "stdout",
     "output_type": "stream",
     "text": [
      "합 = 3628800\n"
     ]
    }
   ],
   "source": [
    "곱 = 1\n",
    "for i in range(1, 11):\n",
    "    곱 *= i\n",
    "print(\"합 =\",곱)"
   ]
  },
  {
   "cell_type": "markdown",
   "id": "f977c32b-e394-4d7f-9968-568a44af8df6",
   "metadata": {},
   "source": [
    "## 171"
   ]
  },
  {
   "cell_type": "code",
   "execution_count": 76,
   "id": "72f44648-0f8c-476f-bae7-24966842adb8",
   "metadata": {},
   "outputs": [
    {
     "name": "stdout",
     "output_type": "stream",
     "text": [
      "32100\n",
      "32150\n",
      "32000\n",
      "32500\n"
     ]
    }
   ],
   "source": [
    "price_list = [32100, 32150, 32000, 32500]\n",
    "for i in range(4):\n",
    "    print(price_list[i])"
   ]
  },
  {
   "cell_type": "markdown",
   "id": "8c0d2309-8f59-468b-9314-e9497c25dfed",
   "metadata": {},
   "source": [
    "## 172"
   ]
  },
  {
   "cell_type": "code",
   "execution_count": 78,
   "id": "d9cefc15-f980-40b8-aed4-a3d234b49706",
   "metadata": {},
   "outputs": [
    {
     "name": "stdout",
     "output_type": "stream",
     "text": [
      "0 32100\n",
      "1 32150\n",
      "2 32000\n",
      "3 32500\n"
     ]
    }
   ],
   "source": [
    "price_list = [32100, 32150, 32000, 32500]\n",
    "for i in range(4):\n",
    "    print(i, price_list[i])"
   ]
  },
  {
   "cell_type": "markdown",
   "id": "11c5c555-d11b-469b-a5cc-376de9f741fc",
   "metadata": {},
   "source": [
    "## 173"
   ]
  },
  {
   "cell_type": "code",
   "execution_count": 80,
   "id": "d1965723-6ee5-4998-8c8a-646abc2e262c",
   "metadata": {},
   "outputs": [
    {
     "name": "stdout",
     "output_type": "stream",
     "text": [
      "3 32100\n",
      "2 32150\n",
      "1 32000\n",
      "0 32500\n"
     ]
    }
   ],
   "source": [
    "price_list = [32100, 32150, 32000, 32500]\n",
    "for i in range(4):\n",
    "    print(3-i, price_list[i])"
   ]
  },
  {
   "cell_type": "markdown",
   "id": "c6c66dd9-2ef4-4be9-b67e-5c0cd6792e72",
   "metadata": {},
   "source": [
    "## 174"
   ]
  },
  {
   "cell_type": "code",
   "execution_count": 84,
   "id": "74172f2d-9530-44b5-984e-b501b6d1a5a1",
   "metadata": {},
   "outputs": [
    {
     "name": "stdout",
     "output_type": "stream",
     "text": [
      "100 32150\n",
      "110 32000\n",
      "120 32500\n"
     ]
    }
   ],
   "source": [
    "price_list = [32100, 32150, 32000, 32500]\n",
    "for i in range(1, 4):\n",
    "    print(i*10+90, price_list[i])"
   ]
  },
  {
   "cell_type": "markdown",
   "id": "b4f97315-137f-42dd-b163-6b4828d78f4d",
   "metadata": {},
   "source": [
    "## 175"
   ]
  },
  {
   "cell_type": "code",
   "execution_count": 81,
   "id": "124228ec-a285-4ced-8396-8676f59d5ac6",
   "metadata": {},
   "outputs": [
    {
     "name": "stdout",
     "output_type": "stream",
     "text": [
      "가 나\n",
      "나 다\n",
      "다 라\n"
     ]
    }
   ],
   "source": [
    "my_list = [\"가\", \"나\", \"다\", \"라\"]\n",
    "for i in range(3):\n",
    "    print(my_list[i], my_list[i+1])"
   ]
  },
  {
   "cell_type": "markdown",
   "id": "72c057bf-935c-4739-864c-4259b0267f76",
   "metadata": {},
   "source": [
    "## 176"
   ]
  },
  {
   "cell_type": "code",
   "execution_count": 85,
   "id": "fa3b0dd6-0aed-4c21-a74f-565d95131937",
   "metadata": {},
   "outputs": [
    {
     "name": "stdout",
     "output_type": "stream",
     "text": [
      "가 나 다\n",
      "나 다 라\n",
      "다 라 마\n"
     ]
    }
   ],
   "source": [
    "my_list = [\"가\", \"나\", \"다\", \"라\", \"마\"]\n",
    "for i in range(1, 4):\n",
    "    print(my_list[i-1], my_list[i], my_list[i+1])"
   ]
  },
  {
   "cell_type": "markdown",
   "id": "cbddd44e-bf6b-42ae-bd9b-4d802a1aa022",
   "metadata": {},
   "source": [
    "## 177"
   ]
  },
  {
   "cell_type": "code",
   "execution_count": 86,
   "id": "5872ef4b-6a16-4bfc-9b1e-42cdde44e9d3",
   "metadata": {},
   "outputs": [
    {
     "name": "stdout",
     "output_type": "stream",
     "text": [
      "라 다\n",
      "다 나\n",
      "나 가\n"
     ]
    }
   ],
   "source": [
    "my_list = [\"가\", \"나\", \"다\", \"라\"]\n",
    "for i in range(3):\n",
    "    print(my_list[2-i+1], my_list[(2-i)])"
   ]
  },
  {
   "cell_type": "markdown",
   "id": "64db560d-89f1-4fd9-a4e3-6cb741947086",
   "metadata": {},
   "source": [
    "## 178"
   ]
  },
  {
   "cell_type": "code",
   "execution_count": 87,
   "id": "b7dc5302-be93-42f5-bb4e-7382426e02d7",
   "metadata": {},
   "outputs": [
    {
     "name": "stdout",
     "output_type": "stream",
     "text": [
      "100\n",
      "200\n",
      "400\n"
     ]
    }
   ],
   "source": [
    "my_list = [100, 200, 400, 800]\n",
    "for i in range(3):\n",
    "    print(my_list[i+1] - my_list[(i)])"
   ]
  },
  {
   "cell_type": "markdown",
   "id": "a150498e-2493-4909-9d62-dce60b5bc9be",
   "metadata": {},
   "source": [
    "## 179"
   ]
  },
  {
   "cell_type": "code",
   "execution_count": 90,
   "id": "3686fe1d-2ea6-48f2-af48-a98126a40b23",
   "metadata": {},
   "outputs": [
    {
     "name": "stdout",
     "output_type": "stream",
     "text": [
      "233.33333333333334\n",
      "466.6666666666667\n",
      "733.3333333333334\n",
      "1033.3333333333333\n"
     ]
    }
   ],
   "source": [
    "my_list = [100, 200, 400, 800, 1000, 1300]\n",
    "for i in range(4):\n",
    "    print((my_list[i] + my_list[(i+1)] + my_list[i+2]) / 3)"
   ]
  },
  {
   "cell_type": "markdown",
   "id": "16404581-a327-4edf-b1b4-06d0e43faab2",
   "metadata": {},
   "source": [
    "## 180"
   ]
  },
  {
   "cell_type": "code",
   "execution_count": 92,
   "id": "5b9e5d95-5ca3-4a68-ac4d-e8ee7b5f300f",
   "metadata": {},
   "outputs": [
    {
     "name": "stdout",
     "output_type": "stream",
     "text": [
      "[50, 100, 30, 80, 0]\n"
     ]
    }
   ],
   "source": [
    "low_prices  = [100, 200, 400, 800, 1000]\n",
    "high_prices = [150, 300, 430, 880, 1000]\n",
    "volatility = []\n",
    "for i in range(5):\n",
    "    volatility.append(high_prices[i] - low_prices[i])\n",
    "print(volatility)"
   ]
  },
  {
   "cell_type": "markdown",
   "id": "0b1be4f2-d3ba-4d9b-8e8d-870bfdcc239c",
   "metadata": {},
   "source": [
    "## 181"
   ]
  },
  {
   "cell_type": "code",
   "execution_count": 96,
   "id": "c74a3d5f-3973-4ea8-aa47-8144fc6181d8",
   "metadata": {},
   "outputs": [
    {
     "name": "stdout",
     "output_type": "stream",
     "text": [
      "[[101, 102], [201, 202], [301, 302]]\n"
     ]
    }
   ],
   "source": [
    "list=[]\n",
    "temp_list = []\n",
    "for i in range(1, 4):\n",
    "    temp_list = []\n",
    "    for j in range(1, 3):\n",
    "        temp_list.append(i*100+j)\n",
    "    list.append(temp_list)\n",
    "print(list)"
   ]
  },
  {
   "cell_type": "markdown",
   "id": "d1d82847-92bb-4693-a591-0a4047fdfdb7",
   "metadata": {},
   "source": [
    "## 182"
   ]
  },
  {
   "cell_type": "code",
   "execution_count": 98,
   "id": "2d4c8a8b-cf0a-4bb1-945a-769116ee5bb0",
   "metadata": {},
   "outputs": [
    {
     "name": "stdout",
     "output_type": "stream",
     "text": [
      "[['시가', 100, 200, 300], ['종가', 80, 210, 330]]\n"
     ]
    }
   ],
   "source": [
    "stock = [ [\"시가\", 100, 200, 300], [\"종가\", 80, 210, 330] ]\n",
    "print(stock)"
   ]
  },
  {
   "cell_type": "markdown",
   "id": "f6f087e5-881c-418a-881c-a552b3e14d3b",
   "metadata": {},
   "source": [
    "## 183"
   ]
  },
  {
   "cell_type": "code",
   "execution_count": 101,
   "id": "3b597467-0485-4726-b61f-6b5e66b4dcce",
   "metadata": {},
   "outputs": [
    {
     "name": "stdout",
     "output_type": "stream",
     "text": [
      "{'시가': [100, 200, 300], '종가': [80, 210, 330]}\n"
     ]
    }
   ],
   "source": [
    "stock = { \"시가\":[100, 200, 300], \"종가\":[80, 210, 330] }\n",
    "print(stock)"
   ]
  },
  {
   "cell_type": "markdown",
   "id": "e0deeec1-796a-4332-aaee-72e831ece1b8",
   "metadata": {},
   "source": [
    "## 184"
   ]
  },
  {
   "cell_type": "code",
   "execution_count": 102,
   "id": "fd3597f2-99c9-4365-89e0-d168e011d8e2",
   "metadata": {},
   "outputs": [
    {
     "name": "stdout",
     "output_type": "stream",
     "text": [
      "{'10/10': [80, 110, 70, 90], '10/11': [210, 230, 190, 200]}\n"
     ]
    }
   ],
   "source": [
    "stock = { \"10/10\":[80, 110, 70, 90], \"10/11\":[210, 230, 190, 200] }\n",
    "print(stock)"
   ]
  },
  {
   "cell_type": "markdown",
   "id": "5a979a8a-bcc4-4c2c-9438-e747bf4848c2",
   "metadata": {},
   "source": [
    "## 185"
   ]
  },
  {
   "cell_type": "code",
   "execution_count": 104,
   "id": "49b43ca2-6603-49bb-ad2f-c3af5e4912da",
   "metadata": {},
   "outputs": [
    {
     "name": "stdout",
     "output_type": "stream",
     "text": [
      "101 호\n",
      "102 호\n",
      "201 호\n",
      "202 호\n",
      "301 호\n",
      "302 호\n"
     ]
    }
   ],
   "source": [
    "apart = [ [101, 102], [201, 202], [301, 302] ]\n",
    "for i in apart:\n",
    "    for j in i:\n",
    "        print(j, \"호\")"
   ]
  },
  {
   "cell_type": "markdown",
   "id": "f04d634f-814b-409f-ba15-b9eb35b1f038",
   "metadata": {},
   "source": [
    "## 186"
   ]
  },
  {
   "cell_type": "code",
   "execution_count": 107,
   "id": "e6adca2a-5fd9-4d67-8afc-5ecd6ffbf5b0",
   "metadata": {},
   "outputs": [
    {
     "name": "stdout",
     "output_type": "stream",
     "text": [
      "301 호\n",
      "302 호\n",
      "201 호\n",
      "202 호\n",
      "101 호\n",
      "102 호\n"
     ]
    }
   ],
   "source": [
    "apart = [ [101, 102], [201, 202], [301, 302] ]\n",
    "for i in range(3):\n",
    "    for j in range(2):\n",
    "        print(apart[2-i][j], \"호\")"
   ]
  },
  {
   "cell_type": "markdown",
   "id": "6f022ec9-98ea-41ff-a670-3e52bf7df50f",
   "metadata": {},
   "source": [
    "## 187"
   ]
  },
  {
   "cell_type": "code",
   "execution_count": 108,
   "id": "200fa258-166e-4eaf-a25a-f5981150dba5",
   "metadata": {},
   "outputs": [
    {
     "name": "stdout",
     "output_type": "stream",
     "text": [
      "302 호\n",
      "301 호\n",
      "202 호\n",
      "201 호\n",
      "102 호\n",
      "101 호\n"
     ]
    }
   ],
   "source": [
    "apart = [ [101, 102], [201, 202], [301, 302] ]\n",
    "for i in range(3):\n",
    "    for j in range(2):\n",
    "        print(apart[2-i][1-j], \"호\")"
   ]
  },
  {
   "cell_type": "markdown",
   "id": "2f15a898-9450-4d3e-802e-8185bdbeea13",
   "metadata": {},
   "source": [
    "## 188"
   ]
  },
  {
   "cell_type": "code",
   "execution_count": 111,
   "id": "13374e72-1464-4b0e-b310-4b454f3a9a84",
   "metadata": {},
   "outputs": [
    {
     "name": "stdout",
     "output_type": "stream",
     "text": [
      "101 호\n",
      "-----\n",
      "102 호\n",
      "-----\n",
      "201 호\n",
      "-----\n",
      "202 호\n",
      "-----\n",
      "301 호\n",
      "-----\n",
      "302 호\n",
      "-----\n"
     ]
    }
   ],
   "source": [
    "apart = [ [101, 102], [201, 202], [301, 302] ]\n",
    "for i in apart:\n",
    "    for j in i:\n",
    "        print(j, \"호\\n\"+\"-\"*5 )"
   ]
  },
  {
   "cell_type": "markdown",
   "id": "222f3d92-7b16-4591-9820-7d2a05b52b24",
   "metadata": {},
   "source": [
    "## 189"
   ]
  },
  {
   "cell_type": "code",
   "execution_count": 113,
   "id": "61253975-c741-462f-998e-913dc89da2fd",
   "metadata": {},
   "outputs": [
    {
     "name": "stdout",
     "output_type": "stream",
     "text": [
      "101 호\n",
      "102 호\n",
      "-----\n",
      "201 호\n",
      "202 호\n",
      "-----\n",
      "301 호\n",
      "302 호\n",
      "-----\n"
     ]
    }
   ],
   "source": [
    "apart = [ [101, 102], [201, 202], [301, 302] ]\n",
    "for i in apart:\n",
    "    for j in i:\n",
    "        print(j, \"호\")\n",
    "    print(\"-\"*5 )"
   ]
  },
  {
   "cell_type": "markdown",
   "id": "5555be4b-d5ed-4aa0-a22b-f20c26ade7bb",
   "metadata": {},
   "source": [
    "## 190"
   ]
  },
  {
   "cell_type": "code",
   "execution_count": 114,
   "id": "90e59e37-c730-4a63-a755-e2237b3f24b9",
   "metadata": {},
   "outputs": [
    {
     "name": "stdout",
     "output_type": "stream",
     "text": [
      "101 호\n",
      "102 호\n",
      "201 호\n",
      "202 호\n",
      "301 호\n",
      "302 호\n",
      "-----\n"
     ]
    }
   ],
   "source": [
    "apart = [ [101, 102], [201, 202], [301, 302] ]\n",
    "for i in apart:\n",
    "    for j in i:\n",
    "        print(j, \"호\")\n",
    "print(\"-\"*5 )"
   ]
  },
  {
   "cell_type": "markdown",
   "id": "43f09938-9cfa-429c-9a02-91c5864f8e34",
   "metadata": {},
   "source": [
    "## 191"
   ]
  },
  {
   "cell_type": "code",
   "execution_count": 120,
   "id": "6893a508-4d12-4cbc-b0ae-0a7f7a00f6c3",
   "metadata": {},
   "outputs": [
    {
     "name": "stdout",
     "output_type": "stream",
     "text": [
      "2000.28\n",
      "3050.427\n",
      "2050.2870000000003\n",
      "1980.2772\n",
      "7501.05\n",
      "2050.2870000000003\n",
      "2050.2870000000003\n",
      "1980.2772\n",
      "15452.163\n",
      "15052.107\n",
      "15552.177\n",
      "14902.086000000001\n"
     ]
    }
   ],
   "source": [
    "data = [\n",
    "    [ 2000,  3050,  2050,  1980],\n",
    "    [ 7500,  2050,  2050,  1980],\n",
    "    [15450, 15050, 15550, 14900]\n",
    "]\n",
    "\n",
    "for i in data:\n",
    "    for j in i:\n",
    "        print(float(j)*1.00014)"
   ]
  },
  {
   "cell_type": "markdown",
   "id": "4cf03729-9375-4f72-86e9-78429abf3a69",
   "metadata": {},
   "source": [
    "## 192"
   ]
  },
  {
   "cell_type": "code",
   "execution_count": 121,
   "id": "a5bdb73a-5932-4361-98f5-09fc30c8837d",
   "metadata": {},
   "outputs": [
    {
     "name": "stdout",
     "output_type": "stream",
     "text": [
      "2000.28\n",
      "3050.427\n",
      "2050.2870000000003\n",
      "1980.2772\n",
      "-----\n",
      "7501.05\n",
      "2050.2870000000003\n",
      "2050.2870000000003\n",
      "1980.2772\n",
      "-----\n",
      "15452.163\n",
      "15052.107\n",
      "15552.177\n",
      "14902.086000000001\n",
      "-----\n"
     ]
    }
   ],
   "source": [
    "data = [\n",
    "    [ 2000,  3050,  2050,  1980],\n",
    "    [ 7500,  2050,  2050,  1980],\n",
    "    [15450, 15050, 15550, 14900]\n",
    "]\n",
    "\n",
    "for i in data:\n",
    "    for j in i:\n",
    "        print(float(j)*1.00014)\n",
    "    print(\"-\"*5)"
   ]
  },
  {
   "cell_type": "markdown",
   "id": "15fb9285-2743-464f-913c-d36c7d1ab72b",
   "metadata": {},
   "source": [
    "## 193"
   ]
  },
  {
   "cell_type": "code",
   "execution_count": 122,
   "id": "98be87de-0113-49d6-b59e-1f7d0f6afb3c",
   "metadata": {},
   "outputs": [
    {
     "name": "stdout",
     "output_type": "stream",
     "text": [
      "[2000.28, 3050.427, 2050.2870000000003, 1980.2772, 7501.05, 2050.2870000000003, 2050.2870000000003, 1980.2772, 15452.163, 15052.107, 15552.177, 14902.086000000001]\n"
     ]
    }
   ],
   "source": [
    "data = [\n",
    "    [ 2000,  3050,  2050,  1980],\n",
    "    [ 7500,  2050,  2050,  1980],\n",
    "    [15450, 15050, 15550, 14900]\n",
    "]\n",
    "data_1 = []\n",
    "for i in data:\n",
    "    for j in i:\n",
    "        data_1.append(float(j)*1.00014)\n",
    "\n",
    "print(data_1)"
   ]
  },
  {
   "cell_type": "markdown",
   "id": "16de122b-7db7-403d-80f1-b9f3f779d971",
   "metadata": {},
   "source": [
    "## 194"
   ]
  },
  {
   "cell_type": "code",
   "execution_count": 124,
   "id": "017ec6d5-51c1-42cd-b706-f74b7a014f65",
   "metadata": {},
   "outputs": [
    {
     "name": "stdout",
     "output_type": "stream",
     "text": [
      "[[2000.28, 3050.427, 2050.2870000000003, 1980.2772], [7501.05, 2050.2870000000003, 2050.2870000000003, 1980.2772], [15452.163, 15052.107, 15552.177, 14902.086000000001]]\n"
     ]
    }
   ],
   "source": [
    "data = [\n",
    "    [ 2000,  3050,  2050,  1980],\n",
    "    [ 7500,  2050,  2050,  1980],\n",
    "    [15450, 15050, 15550, 14900]\n",
    "]\n",
    "data_1 = []\n",
    "data_2 = []\n",
    "\n",
    "for i in data:\n",
    "    data_1 = []\n",
    "    for j in i:\n",
    "        data_1.append(float(j)*1.00014)\n",
    "    data_2.append(data_1)\n",
    "print(data_2)"
   ]
  },
  {
   "cell_type": "markdown",
   "id": "6efb6030-d2e8-4116-9ab8-c887574ac1be",
   "metadata": {},
   "source": [
    "## 195"
   ]
  },
  {
   "cell_type": "code",
   "execution_count": 134,
   "id": "b07705ea-3015-4dcb-a8a8-2a8f42bb290f",
   "metadata": {},
   "outputs": [
    {
     "name": "stdout",
     "output_type": "stream",
     "text": [
      "100\n",
      "190\n",
      "310\n"
     ]
    }
   ],
   "source": [
    "ohlc = [[\"open\", \"high\", \"low\", \"close\"],\n",
    "        [100, 110, 70, 100],\n",
    "        [200, 210, 180, 190],\n",
    "        [300, 310, 300, 310]]\n",
    "for row in range(1,4):\n",
    "    print(ohlc[row][3])"
   ]
  },
  {
   "cell_type": "markdown",
   "id": "876d2098-c9af-48a2-a085-8e215a75e657",
   "metadata": {},
   "source": [
    "## 196"
   ]
  },
  {
   "cell_type": "code",
   "execution_count": 135,
   "id": "670d3513-300b-45b9-86ae-dee22b778cd3",
   "metadata": {},
   "outputs": [
    {
     "name": "stdout",
     "output_type": "stream",
     "text": [
      "190\n",
      "310\n"
     ]
    }
   ],
   "source": [
    "ohlc = [[\"open\", \"high\", \"low\", \"close\"],\n",
    "        [100, 110, 70, 100],\n",
    "        [200, 210, 180, 190],\n",
    "        [300, 310, 300, 310]]\n",
    "for row in range(1,4):\n",
    "    if ohlc[row][3] > 150:\n",
    "        print(ohlc[row][3])"
   ]
  },
  {
   "cell_type": "markdown",
   "id": "cc5c45a9-c78d-4ef6-b720-a9bca4c8018c",
   "metadata": {},
   "source": [
    "# 197"
   ]
  },
  {
   "cell_type": "code",
   "execution_count": 136,
   "id": "940cb585-cb1a-419e-adda-a9568354e74d",
   "metadata": {},
   "outputs": [
    {
     "name": "stdout",
     "output_type": "stream",
     "text": [
      "100\n",
      "310\n"
     ]
    }
   ],
   "source": [
    "ohlc = [[\"open\", \"high\", \"low\", \"close\"],\n",
    "        [100, 110, 70, 100],\n",
    "        [200, 210, 180, 190],\n",
    "        [300, 310, 300, 310]]\n",
    "for row in range(1,4):\n",
    "    if ohlc[row][3] >= ohlc[row][0]:\n",
    "        print(ohlc[row][3])"
   ]
  },
  {
   "cell_type": "markdown",
   "id": "80d142c5-bece-456d-b764-bc1012363791",
   "metadata": {},
   "source": [
    "## 198"
   ]
  },
  {
   "cell_type": "code",
   "execution_count": 139,
   "id": "c0b2689f-92bd-47c3-a8e0-6618fea81c20",
   "metadata": {},
   "outputs": [
    {
     "name": "stdout",
     "output_type": "stream",
     "text": [
      "[40, 30, 10]\n"
     ]
    }
   ],
   "source": [
    "ohlc = [[\"open\", \"high\", \"low\", \"close\"],\n",
    "        [100, 110, 70, 100],\n",
    "        [200, 210, 180, 190],\n",
    "        [300, 310, 300, 310]]\n",
    "volatility = []\n",
    "for row in range(1,4):\n",
    "    volatility.append(ohlc[row][1] - ohlc[row][2])\n",
    "print(volatility)"
   ]
  },
  {
   "cell_type": "markdown",
   "id": "6df0861e-8c72-4153-8d92-501b43d973a0",
   "metadata": {},
   "source": [
    "## 199"
   ]
  },
  {
   "cell_type": "code",
   "execution_count": 142,
   "id": "c9dc7649-f5ae-4015-b5e0-54750ff83f78",
   "metadata": {},
   "outputs": [
    {
     "name": "stdout",
     "output_type": "stream",
     "text": [
      "10\n"
     ]
    }
   ],
   "source": [
    "ohlc = [[\"open\", \"high\", \"low\", \"close\"],\n",
    "        [100, 110, 70, 100],\n",
    "        [200, 210, 180, 190],\n",
    "        [300, 310, 300, 310]]\n",
    "for row in range(1,4):\n",
    "    if ohlc[row][3] > ohlc[row][0]:\n",
    "        print(ohlc[row][3]-ohlc[row][0])"
   ]
  },
  {
   "cell_type": "markdown",
   "id": "8a4d6a81-204b-4f24-9eca-da1d79f74606",
   "metadata": {},
   "source": [
    "## 200"
   ]
  },
  {
   "cell_type": "code",
   "execution_count": 143,
   "id": "46edf9f0-74b0-431a-a367-8919c54b011d",
   "metadata": {},
   "outputs": [
    {
     "name": "stdout",
     "output_type": "stream",
     "text": [
      "0\n"
     ]
    }
   ],
   "source": [
    "ohlc = [[\"open\", \"high\", \"low\", \"close\"],\n",
    "        [100, 110, 70, 100],\n",
    "        [200, 210, 180, 190],\n",
    "        [300, 310, 300, 310]]\n",
    "손익 = 0\n",
    "for row in range(1,4):\n",
    "    손익 += (ohlc[row][3] - ohlc[row][0])\n",
    "\n",
    "print(손익)"
   ]
  }
 ],
 "metadata": {
  "kernelspec": {
   "display_name": "Python 3 (ipykernel)",
   "language": "python",
   "name": "python3"
  },
  "language_info": {
   "codemirror_mode": {
    "name": "ipython",
    "version": 3
   },
   "file_extension": ".py",
   "mimetype": "text/x-python",
   "name": "python",
   "nbconvert_exporter": "python",
   "pygments_lexer": "ipython3",
   "version": "3.11.7"
  }
 },
 "nbformat": 4,
 "nbformat_minor": 5
}
