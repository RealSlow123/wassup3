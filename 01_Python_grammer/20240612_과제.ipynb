{
 "cells": [
  {
   "cell_type": "markdown",
   "id": "8cd3a3be-e4c2-4e78-a7dd-00b76b455557",
   "metadata": {},
   "source": [
    "# 파이썬 300제"
   ]
  },
  {
   "cell_type": "markdown",
   "id": "be4738d6-7600-48ba-a645-9f7e370788fb",
   "metadata": {},
   "source": [
    "## 081 별 표현식"
   ]
  },
  {
   "cell_type": "code",
   "execution_count": 3,
   "id": "56985476-5bbd-40a1-8d16-d4145bdb79af",
   "metadata": {},
   "outputs": [
    {
     "data": {
      "text/plain": [
       "(0, 1, [2, 3, 4, 5])"
      ]
     },
     "execution_count": 3,
     "metadata": {},
     "output_type": "execute_result"
    }
   ],
   "source": [
    "a, b, *c = (0, 1, 2, 3, 4, 5)\n",
    "a, b, c"
   ]
  },
  {
   "cell_type": "code",
   "execution_count": 7,
   "id": "a9930765-965d-467b-92cb-d7ce5741d4c8",
   "metadata": {},
   "outputs": [
    {
     "data": {
      "text/plain": [
       "[8.8, 8.9, 8.7, 9.2, 9.3, 9.7, 9.9, 9.5]"
      ]
     },
     "execution_count": 7,
     "metadata": {},
     "output_type": "execute_result"
    }
   ],
   "source": [
    "scores = [8.8, 8.9, 8.7, 9.2, 9.3, 9.7, 9.9, 9.5, 7.8, 9.4]\n",
    "*valid_score, a, b= scores\n",
    "valid_score"
   ]
  },
  {
   "cell_type": "markdown",
   "id": "e6e844d7-431c-480d-8482-7c900c3f3806",
   "metadata": {},
   "source": [
    "## 082"
   ]
  },
  {
   "cell_type": "code",
   "execution_count": 8,
   "id": "1ca26b30-63d6-4025-a9ae-36397d70574d",
   "metadata": {},
   "outputs": [
    {
     "data": {
      "text/plain": [
       "[8.7, 9.2, 9.3, 9.7, 9.9, 9.5, 7.8, 9.4]"
      ]
     },
     "execution_count": 8,
     "metadata": {},
     "output_type": "execute_result"
    }
   ],
   "source": [
    "scores = [8.8, 8.9, 8.7, 9.2, 9.3, 9.7, 9.9, 9.5, 7.8, 9.4]\n",
    "a, b, *valid_score = scores\n",
    "valid_score"
   ]
  },
  {
   "cell_type": "markdown",
   "id": "ad684623-aa6b-48e0-a532-2a2c9cb97e82",
   "metadata": {},
   "source": [
    "## 083"
   ]
  },
  {
   "cell_type": "code",
   "execution_count": 9,
   "id": "3adcca3e-f2e3-48d5-9f3a-a8ec65cd19cf",
   "metadata": {},
   "outputs": [
    {
     "data": {
      "text/plain": [
       "[8.9, 8.7, 9.2, 9.3, 9.7, 9.9, 9.5, 7.8]"
      ]
     },
     "execution_count": 9,
     "metadata": {},
     "output_type": "execute_result"
    }
   ],
   "source": [
    "scores = [8.8, 8.9, 8.7, 9.2, 9.3, 9.7, 9.9, 9.5, 7.8, 9.4]\n",
    "a,  *valid_score, b = scores\n",
    "valid_score"
   ]
  },
  {
   "cell_type": "markdown",
   "id": "b4edc223-b86a-4236-bf61-a2bd3a2b09c5",
   "metadata": {},
   "source": [
    "## 084 비어있는 딕셔너리"
   ]
  },
  {
   "cell_type": "code",
   "execution_count": 11,
   "id": "835c27c8-9c78-4a52-a8a8-ac6d7534d687",
   "metadata": {},
   "outputs": [
    {
     "data": {
      "text/plain": [
       "dict"
      ]
     },
     "execution_count": 11,
     "metadata": {},
     "output_type": "execute_result"
    }
   ],
   "source": [
    "dic = {}\n",
    "type(dic)"
   ]
  },
  {
   "cell_type": "markdown",
   "id": "3ef266b5-105c-42f1-a15d-ccd2dd458b99",
   "metadata": {},
   "source": [
    "## 085"
   ]
  },
  {
   "cell_type": "code",
   "execution_count": 12,
   "id": "5e166e6f-f95a-4453-81bc-355b8507ac51",
   "metadata": {},
   "outputs": [
    {
     "data": {
      "text/plain": [
       "{'메로나': 1000, '폴라포': 1200, '빵빠레': 1800}"
      ]
     },
     "execution_count": 12,
     "metadata": {},
     "output_type": "execute_result"
    }
   ],
   "source": [
    "dic = {\"메로나\":1000, \"폴라포\":1200, \"빵빠레\":1800}\n",
    "dic"
   ]
  },
  {
   "cell_type": "markdown",
   "id": "036db584-d73e-4aac-b0f2-aff832dd5b2a",
   "metadata": {},
   "source": [
    "## 086"
   ]
  },
  {
   "cell_type": "code",
   "execution_count": 14,
   "id": "5ce3a8ff-afda-456e-9b5a-b34cf110ad18",
   "metadata": {},
   "outputs": [
    {
     "data": {
      "text/plain": [
       "{'메로나': 1000, '폴라포': 1200, '빵빠레': 1800, '죠스바': 1200, '월드콘': 1500}"
      ]
     },
     "execution_count": 14,
     "metadata": {},
     "output_type": "execute_result"
    }
   ],
   "source": [
    "dic[\"죠스바\"] = 1200\n",
    "dic[\"월드콘\"] = 1500\n",
    "dic"
   ]
  },
  {
   "cell_type": "markdown",
   "id": "59493226-27bb-4aaa-b160-e3a7433b1d9a",
   "metadata": {},
   "source": [
    "## 087"
   ]
  },
  {
   "cell_type": "code",
   "execution_count": 21,
   "id": "52ece0e2-23c7-4004-895e-2aab2e7d9bc3",
   "metadata": {},
   "outputs": [
    {
     "name": "stdout",
     "output_type": "stream",
     "text": [
      "메로나 가격: 1000\n"
     ]
    }
   ],
   "source": [
    "ice = {'메로나': 1000,\n",
    "       '폴로포': 1200,\n",
    "       '빵빠레': 1800,\n",
    "       '죠스바': 1200,\n",
    "       '월드콘': 1500}\n",
    "print(\"메로나 가격: %d\"%ice[\"메로나\"])"
   ]
  },
  {
   "cell_type": "markdown",
   "id": "bc63b8a5-eda2-4936-a3d7-257d59ef8c82",
   "metadata": {},
   "source": [
    "## 088"
   ]
  },
  {
   "cell_type": "code",
   "execution_count": 22,
   "id": "e6b4c8ec-b59a-4fdf-bc79-df13eeb6c102",
   "metadata": {},
   "outputs": [
    {
     "data": {
      "text/plain": [
       "1300"
      ]
     },
     "execution_count": 22,
     "metadata": {},
     "output_type": "execute_result"
    }
   ],
   "source": [
    "ice = {'메로나': 1000,\n",
    "       '폴로포': 1200,\n",
    "       '빵빠레': 1800,\n",
    "       '죠스바': 1200,\n",
    "       '월드콘': 1500}\n",
    "ice[\"메로나\"] = 1300\n",
    "ice[\"메로나\"]"
   ]
  },
  {
   "cell_type": "markdown",
   "id": "d0c60b71-d521-43d1-bedf-bc990e9339ad",
   "metadata": {},
   "source": [
    "## 089"
   ]
  },
  {
   "cell_type": "code",
   "execution_count": 24,
   "id": "44d13a4a-d8e3-4fb8-8da3-befdf5ddfe64",
   "metadata": {},
   "outputs": [
    {
     "data": {
      "text/plain": [
       "{'폴로포': 1200, '빵빠레': 1800, '죠스바': 1200, '월드콘': 1500}"
      ]
     },
     "execution_count": 24,
     "metadata": {},
     "output_type": "execute_result"
    }
   ],
   "source": [
    "ice = {'메로나': 1000,\n",
    "       '폴로포': 1200,\n",
    "       '빵빠레': 1800,\n",
    "       '죠스바': 1200,\n",
    "       '월드콘': 1500}\n",
    "del ice[\"메로나\"]\n",
    "ice"
   ]
  },
  {
   "cell_type": "markdown",
   "id": "5d3cc8c7-96f9-43b3-85bf-83ec5ec59eac",
   "metadata": {},
   "source": [
    "## 090"
   ]
  },
  {
   "cell_type": "code",
   "execution_count": 26,
   "id": "1e01f855-7655-4793-9b0c-63b2e5838193",
   "metadata": {},
   "outputs": [
    {
     "ename": "KeyError",
     "evalue": "'누가바'",
     "output_type": "error",
     "traceback": [
      "\u001b[1;31m---------------------------------------------------------------------------\u001b[0m",
      "\u001b[1;31mKeyError\u001b[0m                                  Traceback (most recent call last)",
      "Cell \u001b[1;32mIn[26], line 2\u001b[0m\n\u001b[0;32m      1\u001b[0m icecream \u001b[38;5;241m=\u001b[39m {\u001b[38;5;124m'\u001b[39m\u001b[38;5;124m폴라포\u001b[39m\u001b[38;5;124m'\u001b[39m: \u001b[38;5;241m1200\u001b[39m, \u001b[38;5;124m'\u001b[39m\u001b[38;5;124m빵빠레\u001b[39m\u001b[38;5;124m'\u001b[39m: \u001b[38;5;241m1800\u001b[39m, \u001b[38;5;124m'\u001b[39m\u001b[38;5;124m월드콘\u001b[39m\u001b[38;5;124m'\u001b[39m: \u001b[38;5;241m1500\u001b[39m, \u001b[38;5;124m'\u001b[39m\u001b[38;5;124m메로나\u001b[39m\u001b[38;5;124m'\u001b[39m: \u001b[38;5;241m1000\u001b[39m}\n\u001b[1;32m----> 2\u001b[0m icecream[\u001b[38;5;124m'\u001b[39m\u001b[38;5;124m누가바\u001b[39m\u001b[38;5;124m'\u001b[39m]\n",
      "\u001b[1;31mKeyError\u001b[0m: '누가바'"
     ]
    }
   ],
   "source": [
    "icecream = {'폴라포': 1200, '빵빠레': 1800, '월드콘': 1500, '메로나': 1000}\n",
    "icecream['누가바']\n",
    "# Key 값이 누가바인 데이터가 없으므로 에러 발생 "
   ]
  },
  {
   "cell_type": "markdown",
   "id": "722f4cef-b57b-4738-8288-4aa5f208d403",
   "metadata": {},
   "source": [
    "## 091 딕셔너리 생성"
   ]
  },
  {
   "cell_type": "code",
   "execution_count": 31,
   "id": "7c791212-69fe-430d-960c-11419b02b983",
   "metadata": {},
   "outputs": [
    {
     "data": {
      "text/plain": [
       "{'메로나': [300, 20], '비비빅': [400, 3], '죠스바': [250, 100]}"
      ]
     },
     "execution_count": 31,
     "metadata": {},
     "output_type": "execute_result"
    }
   ],
   "source": [
    "inventory = {\"메로나\":[300,20], \"비비빅\":[400,3], \"죠스바\":[250,100]}\n",
    "inventory"
   ]
  },
  {
   "cell_type": "markdown",
   "id": "1535bee0-fc6f-4fbd-83ab-81f21104c1f8",
   "metadata": {},
   "source": [
    "## 092 딕셔너리 인덱싱"
   ]
  },
  {
   "cell_type": "code",
   "execution_count": 33,
   "id": "b95597f1-6076-4a68-baee-833fbdb4a493",
   "metadata": {},
   "outputs": [
    {
     "data": {
      "text/plain": [
       "300"
      ]
     },
     "execution_count": 33,
     "metadata": {},
     "output_type": "execute_result"
    }
   ],
   "source": [
    "inventory = {\"메로나\": [300, 20],\n",
    "              \"비비빅\": [400, 3],\n",
    "              \"죠스바\": [250, 100]}\n",
    "inventory[\"메로나\"][0]"
   ]
  },
  {
   "cell_type": "markdown",
   "id": "47a90a6f-aed5-437a-8072-8cdfc242e2b0",
   "metadata": {},
   "source": [
    "## 093 딕셔너리 인덱싱"
   ]
  },
  {
   "cell_type": "code",
   "execution_count": 34,
   "id": "f02ca53c-559d-4b7d-b750-0a8945ee4518",
   "metadata": {},
   "outputs": [
    {
     "data": {
      "text/plain": [
       "20"
      ]
     },
     "execution_count": 34,
     "metadata": {},
     "output_type": "execute_result"
    }
   ],
   "source": [
    "inventory = {\"메로나\": [300, 20],\n",
    "              \"비비빅\": [400, 3],\n",
    "              \"죠스바\": [250, 100]}\n",
    "inventory[\"메로나\"][1]"
   ]
  },
  {
   "cell_type": "markdown",
   "id": "f0d9a4b4-b3c3-4d0c-ae32-332f9fd5a9cc",
   "metadata": {},
   "source": [
    "## 094 딕셔너리 추가"
   ]
  },
  {
   "cell_type": "code",
   "execution_count": 35,
   "id": "69c8f3be-51db-489d-94b9-f25bdb756a3b",
   "metadata": {},
   "outputs": [
    {
     "data": {
      "text/plain": [
       "{'메로나': [300, 20], '비비빅': [400, 3], '죠스바': [250, 100], '월드콘': [500, 7]}"
      ]
     },
     "execution_count": 35,
     "metadata": {},
     "output_type": "execute_result"
    }
   ],
   "source": [
    "inventory = {\"메로나\": [300, 20],\n",
    "              \"비비빅\": [400, 3],\n",
    "              \"죠스바\": [250, 100]}\n",
    "inventory[\"월드콘\"] = [500, 7]\n",
    "inventory"
   ]
  },
  {
   "cell_type": "markdown",
   "id": "0d5238d9-fd0a-4bc8-91ec-b396231f6824",
   "metadata": {},
   "source": [
    "## 095 딕셔너리 keys() 메서드"
   ]
  },
  {
   "cell_type": "code",
   "execution_count": 37,
   "id": "b46cd219-77e9-4254-a23b-364b3b6e8047",
   "metadata": {},
   "outputs": [
    {
     "data": {
      "text/plain": [
       "['탱크보이', '폴라포', '빵빠레', '월드콘', '메로나']"
      ]
     },
     "execution_count": 37,
     "metadata": {},
     "output_type": "execute_result"
    }
   ],
   "source": [
    "icecream = {'탱크보이': 1200, '폴라포': 1200, '빵빠레': 1800, '월드콘': 1500, '메로나': 1000}\n",
    "Keys = list(icecream.keys())\n",
    "Keys"
   ]
  },
  {
   "cell_type": "code",
   "execution_count": 38,
   "id": "5222057f-da6d-408f-a5b3-53b0103d4408",
   "metadata": {},
   "outputs": [
    {
     "data": {
      "text/plain": [
       "6700"
      ]
     },
     "execution_count": 38,
     "metadata": {},
     "output_type": "execute_result"
    }
   ],
   "source": [
    "icecream = {'탱크보이': 1200, '폴라포': 1200, '빵빠레': 1800, '월드콘': 1500, '메로나': 1000}\n",
    "values = list(icecream.values()) \n",
    "Sum = sum(values)\n",
    "Sum"
   ]
  },
  {
   "cell_type": "markdown",
   "id": "3a391dda-a21a-485e-a82e-b76a7cc06764",
   "metadata": {},
   "source": [
    "## 098 딕셔너리 update 메서드"
   ]
  },
  {
   "cell_type": "code",
   "execution_count": 39,
   "id": "1aa632fc-1b7e-44a0-98a9-9410b9917701",
   "metadata": {},
   "outputs": [
    {
     "data": {
      "text/plain": [
       "{'탱크보이': 1200,\n",
       " '폴라포': 1200,\n",
       " '빵빠레': 1800,\n",
       " '월드콘': 1500,\n",
       " '메로나': 1000,\n",
       " '팥빙수': 2700,\n",
       " '아맛나': 1000}"
      ]
     },
     "execution_count": 39,
     "metadata": {},
     "output_type": "execute_result"
    }
   ],
   "source": [
    "icecream = {'탱크보이': 1200, '폴라포': 1200, '빵빠레': 1800, '월드콘': 1500, '메로나': 1000}\n",
    "new_product = {'팥빙수':2700, '아맛나':1000}\n",
    "icecream.update(new_product)\n",
    "icecream"
   ]
  },
  {
   "cell_type": "markdown",
   "id": "b049aad8-fbe1-414e-8323-ccea0da950a1",
   "metadata": {},
   "source": [
    "## 099 zip과 dict"
   ]
  },
  {
   "cell_type": "code",
   "execution_count": 41,
   "id": "3a82b416-7a45-4cbc-9652-34be20aafe51",
   "metadata": {},
   "outputs": [
    {
     "data": {
      "text/plain": [
       "{'apple': 300, 'pear': 250, 'peach': 400}"
      ]
     },
     "execution_count": 41,
     "metadata": {},
     "output_type": "execute_result"
    }
   ],
   "source": [
    "keys = (\"apple\", \"pear\", \"peach\")\n",
    "vals = (300, 250, 400)\n",
    "result = dict(zip(keys, vals))\n",
    "result"
   ]
  },
  {
   "cell_type": "markdown",
   "id": "1f403426-b69f-4951-b67f-75f8d59c936a",
   "metadata": {},
   "source": [
    "## 100 zip과 dict"
   ]
  },
  {
   "cell_type": "code",
   "execution_count": 42,
   "id": "56b64ff8-1fb8-4b19-b2da-1515f96cb2ce",
   "metadata": {},
   "outputs": [
    {
     "data": {
      "text/plain": [
       "{'09/05': 10500,\n",
       " '09/06': 10300,\n",
       " '09/07': 10100,\n",
       " '09/08': 10800,\n",
       " '09/09': 11000}"
      ]
     },
     "execution_count": 42,
     "metadata": {},
     "output_type": "execute_result"
    }
   ],
   "source": [
    "date = ['09/05', '09/06', '09/07', '09/08', '09/09']\n",
    "close_price = [10500, 10300, 10100, 10800, 11000]\n",
    "close_table = dict(zip(date, close_price))\n",
    "close_table"
   ]
  },
  {
   "cell_type": "markdown",
   "id": "4fbbf31c-30cc-4afb-b5df-6fa2fcc8a83f",
   "metadata": {},
   "source": [
    "## 101"
   ]
  },
  {
   "cell_type": "code",
   "execution_count": null,
   "id": "ec776336-d418-411b-9e72-33cf6187e203",
   "metadata": {},
   "outputs": [],
   "source": [
    "# bool type"
   ]
  },
  {
   "cell_type": "markdown",
   "id": "845c1554-0f88-41c5-8615-4cfcee1754eb",
   "metadata": {},
   "source": [
    "## 102"
   ]
  },
  {
   "cell_type": "code",
   "execution_count": 43,
   "id": "098e83d6-f498-45ab-bc0e-fc1d483508dd",
   "metadata": {},
   "outputs": [
    {
     "name": "stdout",
     "output_type": "stream",
     "text": [
      "False\n"
     ]
    }
   ],
   "source": [
    "print(3 == 5) # False"
   ]
  },
  {
   "cell_type": "markdown",
   "id": "ff0c3874-546e-47da-a6b1-2c3f63ec23cb",
   "metadata": {},
   "source": [
    "## 103"
   ]
  },
  {
   "cell_type": "code",
   "execution_count": 44,
   "id": "a1e38627-92b4-4233-8f63-c4511ffbeb83",
   "metadata": {},
   "outputs": [
    {
     "name": "stdout",
     "output_type": "stream",
     "text": [
      "True\n"
     ]
    }
   ],
   "source": [
    "print(3 < 5) # True"
   ]
  },
  {
   "cell_type": "markdown",
   "id": "e371d5fa-24f6-4f09-ba62-d17fbb218da2",
   "metadata": {},
   "source": [
    "## 104"
   ]
  },
  {
   "cell_type": "code",
   "execution_count": 45,
   "id": "9071dd26-079a-4cd1-8218-8aeb6c88c992",
   "metadata": {},
   "outputs": [
    {
     "name": "stdout",
     "output_type": "stream",
     "text": [
      "True\n"
     ]
    }
   ],
   "source": [
    "x = 4\n",
    "print(1 < x < 5) # True"
   ]
  },
  {
   "cell_type": "markdown",
   "id": "faede86c-1edc-4a42-9963-39ed7dab2583",
   "metadata": {},
   "source": [
    "## 105"
   ]
  },
  {
   "cell_type": "code",
   "execution_count": 46,
   "id": "5532b731-5428-4a6f-9004-e9edea3484ae",
   "metadata": {},
   "outputs": [
    {
     "name": "stdout",
     "output_type": "stream",
     "text": [
      "True\n"
     ]
    }
   ],
   "source": [
    "print ((3 == 3) and (4 != 3)) # True"
   ]
  },
  {
   "cell_type": "markdown",
   "id": "d934e367-babb-4d11-bda7-e5643f806c08",
   "metadata": {},
   "source": [
    "## 106"
   ]
  },
  {
   "cell_type": "code",
   "execution_count": 48,
   "id": "0483b430-4ccf-4b35-a395-699d47ead330",
   "metadata": {},
   "outputs": [
    {
     "name": "stdout",
     "output_type": "stream",
     "text": [
      "False\n"
     ]
    }
   ],
   "source": [
    "print(3 >= 4) # False"
   ]
  },
  {
   "cell_type": "markdown",
   "id": "5ed22017-6b50-4a38-8261-4f0ba629dc50",
   "metadata": {},
   "source": [
    "## 107"
   ]
  },
  {
   "cell_type": "code",
   "execution_count": 50,
   "id": "bbb54e7a-6253-40b0-946e-193e0b8fbffb",
   "metadata": {},
   "outputs": [
    {
     "name": "stdout",
     "output_type": "stream",
     "text": [
      "Hi, there.\n"
     ]
    }
   ],
   "source": [
    "if 4 < 3:\n",
    "    print(\"Hello World.\")\n",
    "else:\n",
    "    print(\"Hi, there.\")  # Hi, there."
   ]
  },
  {
   "cell_type": "markdown",
   "id": "ffdbf654-3171-4396-8538-f32a47c59a78",
   "metadata": {},
   "source": [
    "## 109"
   ]
  },
  {
   "cell_type": "code",
   "execution_count": 51,
   "id": "93b85688-7a36-49dd-9bcb-f188abea0d8b",
   "metadata": {},
   "outputs": [
    {
     "name": "stdout",
     "output_type": "stream",
     "text": [
      "1\n",
      "2\n"
     ]
    }
   ],
   "source": [
    "if True :\n",
    "    print (\"1\")\n",
    "    print (\"2\")\n",
    "else :\n",
    "    print(\"3\")\n",
    "print(\"4\") # 1 2 4"
   ]
  },
  {
   "cell_type": "markdown",
   "id": "5a0a0898-3f88-4226-8076-1748b4e71f9b",
   "metadata": {},
   "source": [
    "## 110"
   ]
  },
  {
   "cell_type": "code",
   "execution_count": 52,
   "id": "78b57eaf-b4b8-4ba4-af97-57721bb6f634",
   "metadata": {},
   "outputs": [
    {
     "name": "stdout",
     "output_type": "stream",
     "text": [
      "3\n",
      "5\n"
     ]
    }
   ],
   "source": [
    "if True :\n",
    "    if False:\n",
    "        print(\"1\")\n",
    "        print(\"2\")\n",
    "    else:\n",
    "        print(\"3\")\n",
    "else :\n",
    "    print(\"4\")\n",
    "print(\"5\")     # 3 5"
   ]
  },
  {
   "cell_type": "markdown",
   "id": "2a9ecb70-612b-419f-b07c-7030858d9044",
   "metadata": {},
   "source": [
    "## 111"
   ]
  },
  {
   "cell_type": "code",
   "execution_count": 54,
   "id": "7abc225d-ea8e-4956-b4e1-f337755d65e8",
   "metadata": {},
   "outputs": [
    {
     "name": "stdin",
     "output_type": "stream",
     "text": [
      " 하이\n"
     ]
    },
    {
     "data": {
      "text/plain": [
       "'하이하이'"
      ]
     },
     "execution_count": 54,
     "metadata": {},
     "output_type": "execute_result"
    }
   ],
   "source": [
    "input_str = input()\n",
    "input_str*2"
   ]
  },
  {
   "cell_type": "markdown",
   "id": "346d342e-8f32-440d-9c31-30d5edfcf9da",
   "metadata": {},
   "source": [
    "## 112"
   ]
  },
  {
   "cell_type": "code",
   "execution_count": 58,
   "id": "053956da-947c-4429-8d88-2cf6cf89a404",
   "metadata": {},
   "outputs": [
    {
     "name": "stdout",
     "output_type": "stream",
     "text": [
      "숫자를 입력하세요:\n"
     ]
    },
    {
     "name": "stdin",
     "output_type": "stream",
     "text": [
      " 10\n"
     ]
    },
    {
     "name": "stdout",
     "output_type": "stream",
     "text": [
      "20\n"
     ]
    }
   ],
   "source": [
    "print(\"숫자를 입력하세요:\")\n",
    "num = int(input())\n",
    "print(num+10)"
   ]
  },
  {
   "cell_type": "markdown",
   "id": "68ac014d-3d45-4dd0-bc61-390038f345a5",
   "metadata": {},
   "source": [
    "## 113"
   ]
  },
  {
   "cell_type": "code",
   "execution_count": 61,
   "id": "05e9a2ff-f29f-4de7-ab4f-2c67e2c049f8",
   "metadata": {},
   "outputs": [
    {
     "name": "stdin",
     "output_type": "stream",
     "text": [
      " 1\n"
     ]
    },
    {
     "name": "stdout",
     "output_type": "stream",
     "text": [
      "홀수\n"
     ]
    }
   ],
   "source": [
    "num = int(input())\n",
    "if (num % 2) == 0:\n",
    "    print(\"짝수\")\n",
    "else:\n",
    "    print(\"홀수\")"
   ]
  },
  {
   "cell_type": "markdown",
   "id": "4e44f4f5-5e2f-4360-be49-4d56cbb7b0a9",
   "metadata": {},
   "source": [
    "## 114"
   ]
  },
  {
   "cell_type": "code",
   "execution_count": 63,
   "id": "4198eeed-c27a-4fd1-8874-ff14c693bb41",
   "metadata": {},
   "outputs": [
    {
     "name": "stdin",
     "output_type": "stream",
     "text": [
      " 240\n"
     ]
    },
    {
     "name": "stdout",
     "output_type": "stream",
     "text": [
      "255\n"
     ]
    }
   ],
   "source": [
    "num = int(input())\n",
    "calc = num + 20\n",
    "if calc > 255:\n",
    "    calc = 255\n",
    "\n",
    "print(calc)\n"
   ]
  },
  {
   "cell_type": "markdown",
   "id": "d408a7a2-ce36-43ac-9806-bf2caf447ae6",
   "metadata": {},
   "source": [
    "## 115"
   ]
  },
  {
   "cell_type": "code",
   "execution_count": 68,
   "id": "64f3112f-b0cf-4c23-a215-b803610b2662",
   "metadata": {},
   "outputs": [
    {
     "name": "stdin",
     "output_type": "stream",
     "text": [
      " 22\n"
     ]
    },
    {
     "name": "stdout",
     "output_type": "stream",
     "text": [
      "42\n"
     ]
    }
   ],
   "source": [
    "num = int(input())\n",
    "calc = num + 20\n",
    "if calc > 255:\n",
    "    calc = 255\n",
    "elif calc < 0 :\n",
    "    calc = 0\n",
    "\n",
    "print(calc)"
   ]
  },
  {
   "cell_type": "markdown",
   "id": "242bdf8e-1e71-43fe-a051-cfcbb02c8e56",
   "metadata": {},
   "source": [
    "## 116"
   ]
  },
  {
   "cell_type": "code",
   "execution_count": 67,
   "id": "6b1790b3-e189-4475-91df-4b0c23d49aa2",
   "metadata": {},
   "outputs": [
    {
     "name": "stdin",
     "output_type": "stream",
     "text": [
      "현재시간:  1:11\n"
     ]
    },
    {
     "name": "stdout",
     "output_type": "stream",
     "text": [
      "정각이 아닙니다.\n"
     ]
    }
   ],
   "source": [
    "time = input(\"현재시간: \")\n",
    "if time[-2:] == \"00\":\n",
    "    print(\"정각 입니다.\")\n",
    "else:\n",
    "    print(\"정각이 아닙니다.\")"
   ]
  },
  {
   "cell_type": "markdown",
   "id": "e7201d9d-7609-4f62-b1db-c92da4163b1b",
   "metadata": {},
   "source": [
    "## 117"
   ]
  },
  {
   "cell_type": "code",
   "execution_count": 85,
   "id": "04e466a9-a768-49b6-a58b-92c239321b4e",
   "metadata": {},
   "outputs": [
    {
     "name": "stdin",
     "output_type": "stream",
     "text": [
      "좋아하는 과일은?  ㅁㅇㄴㄻ\n"
     ]
    },
    {
     "name": "stdout",
     "output_type": "stream",
     "text": [
      "오답입니다\n"
     ]
    }
   ],
   "source": [
    "fruit = [\"사과\", \"포도\", \"홍시\"]\n",
    "search = input(\"좋아하는 과일은? \")\n",
    "\n",
    "if search in fruit:\n",
    "    print(\"정답입니다\")\n",
    "else:\n",
    "    print(\"오답입니다\")\n",
    "    \n",
    "    "
   ]
  },
  {
   "cell_type": "markdown",
   "id": "92886f45-ebb2-450d-9330-3453847c5282",
   "metadata": {},
   "source": [
    "## 118"
   ]
  },
  {
   "cell_type": "code",
   "execution_count": 86,
   "id": "3fe15bff-881f-4905-8c52-c25feeb04881",
   "metadata": {},
   "outputs": [
    {
     "name": "stdin",
     "output_type": "stream",
     "text": [
      "종목명을 입력 : 123\n"
     ]
    },
    {
     "name": "stdout",
     "output_type": "stream",
     "text": [
      "투자 경고 종목이 아닙니다.\n"
     ]
    }
   ],
   "source": [
    "warn_investment_list = [\"Microsoft\", \"Google\", \"Naver\", \"Kakao\", \"SAMSUNG\", \"LG\"]\n",
    "search = input(\"종목명을 입력 :\")\n",
    "\n",
    "if search in warn_investment_list:\n",
    "    print(\"투자 경고 종목입니다.\")\n",
    "else:\n",
    "    print(\"투자 경고 종목이 아닙니다.\")"
   ]
  },
  {
   "cell_type": "markdown",
   "id": "79ae1b65-4631-4af1-a5d3-c10d958cd7b8",
   "metadata": {},
   "source": [
    "## 119"
   ]
  },
  {
   "cell_type": "code",
   "execution_count": 89,
   "id": "ec0fd26b-d929-47c0-91ed-f38f46b2c125",
   "metadata": {},
   "outputs": [
    {
     "name": "stdin",
     "output_type": "stream",
     "text": [
      "계절 입력 : 여름\n"
     ]
    },
    {
     "name": "stdout",
     "output_type": "stream",
     "text": [
      "정답입니다\n"
     ]
    }
   ],
   "source": [
    "fruit = {\"봄\" : \"딸기\", \"여름\" : \"토마토\", \"가을\" : \"사과\"}\n",
    "search = input(\"제가좋아하는계절은: \")\n",
    "if search in fruit:\n",
    "    print(\"정답입니다\")\n",
    "else:\n",
    "    print(\"오답입니다\")"
   ]
  },
  {
   "cell_type": "markdown",
   "id": "9f5e24c2-91bd-41bb-98b5-b9140f1aff79",
   "metadata": {},
   "source": [
    "## 120"
   ]
  },
  {
   "cell_type": "code",
   "execution_count": 93,
   "id": "f0073d04-ff99-437b-a41f-1a1113d760c2",
   "metadata": {},
   "outputs": [
    {
     "name": "stdin",
     "output_type": "stream",
     "text": [
      "좋아하는과일은?  배\n"
     ]
    },
    {
     "name": "stdout",
     "output_type": "stream",
     "text": [
      "오답입니다\n"
     ]
    }
   ],
   "source": [
    "fruit = {\"봄\" : \"딸기\", \"여름\" : \"토마토\", \"가을\" : \"사과\"}\n",
    "search = input(\"좋아하는과일은? \")\n",
    "if search in fruit.values():\n",
    "    print(\"정답입니다\")\n",
    "else:\n",
    "    print(\"오답입니다\")"
   ]
  },
  {
   "cell_type": "markdown",
   "id": "e2164db0-12d0-4bd3-b5d8-0a6da300893e",
   "metadata": {},
   "source": [
    "## 121"
   ]
  },
  {
   "cell_type": "code",
   "execution_count": 97,
   "id": "47494e3d-1147-4972-bab3-d585730c343a",
   "metadata": {},
   "outputs": [
    {
     "name": "stdin",
     "output_type": "stream",
     "text": [
      "알파벳 입력:  A\n"
     ]
    },
    {
     "name": "stdout",
     "output_type": "stream",
     "text": [
      "a\n"
     ]
    }
   ],
   "source": [
    "temp = input(\"알파벳 입력: \")\n",
    "\n",
    "if temp.islower():\n",
    "    temp = temp.upper()\n",
    "else:\n",
    "    temp = temp.lower()\n",
    "\n",
    "print(temp)"
   ]
  },
  {
   "cell_type": "markdown",
   "id": "f33b213e-620b-4d01-b1ae-2b324d22f3f4",
   "metadata": {},
   "source": [
    "## 122"
   ]
  },
  {
   "cell_type": "code",
   "execution_count": 100,
   "id": "580c47b7-35cf-4935-b754-d5beb811f30d",
   "metadata": {},
   "outputs": [
    {
     "name": "stdin",
     "output_type": "stream",
     "text": [
      "점수 입력:  10\n"
     ]
    },
    {
     "name": "stdout",
     "output_type": "stream",
     "text": [
      "grade is  F\n"
     ]
    }
   ],
   "source": [
    "score = int(input(\"점수 입력: \"))\n",
    "grade=\"\"\n",
    "\n",
    "if score > 80:\n",
    "    grade = 'A'\n",
    "elif score > 60:\n",
    "    grade = 'B'\n",
    "elif score > 40:\n",
    "    grade = 'C'\n",
    "elif score > 20:\n",
    "    grade = 'D'\n",
    "else:\n",
    "    grade = 'F'\n",
    "\n",
    "print(\"grade is \", grade)"
   ]
  },
  {
   "cell_type": "markdown",
   "id": "0746067e-332c-46d3-93b5-3cb576a6be57",
   "metadata": {},
   "source": [
    "## 123"
   ]
  },
  {
   "cell_type": "code",
   "execution_count": 114,
   "id": "2f038a78-36c4-41ad-ac5c-70aaf5f25d76",
   "metadata": {},
   "outputs": [
    {
     "name": "stdin",
     "output_type": "stream",
     "text": [
      "입력:  100 달러\n"
     ]
    },
    {
     "name": "stdout",
     "output_type": "stream",
     "text": [
      "116700.0 원\n"
     ]
    }
   ],
   "source": [
    "money_dic= {\"달러\":1167, \"엔\":1.096, \"유로\":1268, \"위안\":171}\n",
    "\n",
    "input_money = input(\"입력: \")\n",
    "temp_input = input_money.split(\" \")\n",
    "if temp_input[1] in money_dic:\n",
    "    print(float(temp_input[0])*money_dic[temp_input[1]], \"원\")\n",
    "else:\n",
    "    print(\"지원하지 않는 통화 입니다.\")"
   ]
  },
  {
   "cell_type": "markdown",
   "id": "919bee3d-1ba1-4b05-ba3c-90bc8e073a1d",
   "metadata": {},
   "source": [
    "## 124"
   ]
  },
  {
   "cell_type": "code",
   "execution_count": 115,
   "id": "c5e26420-0100-48ac-b876-788abd48e947",
   "metadata": {},
   "outputs": [
    {
     "name": "stdin",
     "output_type": "stream",
     "text": [
      "input number1: 1\n",
      "input number2: 2\n",
      "input number3: 3\n"
     ]
    },
    {
     "name": "stdout",
     "output_type": "stream",
     "text": [
      "3\n"
     ]
    }
   ],
   "source": [
    "num = []\n",
    "num.append(int(input(\"input number1:\")))\n",
    "num.append(int(input(\"input number2:\")))\n",
    "num.append(int(input(\"input number3:\")))\n",
    "\n",
    "print(max(num))"
   ]
  },
  {
   "cell_type": "markdown",
   "id": "4a5d2142-b3e4-4ae0-b8bf-ea58b51f6c15",
   "metadata": {},
   "source": [
    "## 125"
   ]
  },
  {
   "cell_type": "code",
   "execution_count": 117,
   "id": "3c590d51-f43b-4c02-ac88-c199b2afc369",
   "metadata": {},
   "outputs": [
    {
     "name": "stdin",
     "output_type": "stream",
     "text": [
      "휴대전화 번호 입력:  010-1111-1111\n"
     ]
    },
    {
     "name": "stdout",
     "output_type": "stream",
     "text": [
      "당신은 알수없음 이용자 입니다.\n"
     ]
    }
   ],
   "source": [
    "money_dic= {\"011\":\"SKT\", \"016\":\"KT\", \"019\":\"LGU\", \"010\":\"알수없음\"}\n",
    "Phone_num = input(\"휴대전화 번호 입력: \")\n",
    "first, middle, last = Phone_num.split(\"-\")\n",
    "\n",
    "print(\"당신은\", money_dic[first], \"이용자 입니다.\")"
   ]
  },
  {
   "cell_type": "markdown",
   "id": "b4731aea-5b63-416c-a021-e31846d7d3d8",
   "metadata": {},
   "source": [
    "## 126"
   ]
  },
  {
   "cell_type": "code",
   "execution_count": 126,
   "id": "6159920c-8a78-4845-9ac4-511040d3439f",
   "metadata": {},
   "outputs": [
    {
     "name": "stdin",
     "output_type": "stream",
     "text": [
      "우편번호:  01100\n"
     ]
    },
    {
     "name": "stdout",
     "output_type": "stream",
     "text": [
      "강북구\n"
     ]
    }
   ],
   "source": [
    "code = input(\"우편번호: \")\n",
    "구 = \"\"\n",
    "if int(code[2]) >= 0  and int(code[2]) <= 2:\n",
    "    구 = \"강북구\"\n",
    "elif int(code[2]) >= 3  and int(code[2]) <= 5:\n",
    "    구 = \"도봉구\"\n",
    "elif int(code[2]) >= 6  and int(code[2]) <= 9:\n",
    "    구 = \"노원구\"\n",
    "else:\n",
    "    구 = \"알수없음\"\n",
    "\n",
    "print(구)"
   ]
  },
  {
   "cell_type": "markdown",
   "id": "fa1dc37e-b838-4ead-ac2d-f2a8a229c8e0",
   "metadata": {},
   "source": [
    "## 127"
   ]
  },
  {
   "cell_type": "code",
   "execution_count": 125,
   "id": "cc7ef78e-580d-4c20-afc5-25b5476e02fa",
   "metadata": {},
   "outputs": [
    {
     "name": "stdin",
     "output_type": "stream",
     "text": [
      "주민등록번호:  222222-222222\n"
     ]
    },
    {
     "name": "stdout",
     "output_type": "stream",
     "text": [
      "여자\n"
     ]
    }
   ],
   "source": [
    "code = input(\"주민등록번호: \")\n",
    "뒷자리 = code.split(\"-\")[1]\n",
    "성 = \"\"\n",
    "if 뒷자리[0] == \"1\" or 뒷자리[0] == \"3\":\n",
    "    성 = \"남자\"\n",
    "elif 뒷자리[0] == \"2\" or 뒷자리[0] == \"4\":\n",
    "    성 = \"여자\"\n",
    "else:\n",
    "    성 = \"알수 없음\"\n",
    "\n",
    "print(성)\n",
    "\n"
   ]
  },
  {
   "cell_type": "markdown",
   "id": "1e1ab801-0d54-4cb6-834d-8e49617c142d",
   "metadata": {},
   "source": [
    "## 128"
   ]
  },
  {
   "cell_type": "code",
   "execution_count": 132,
   "id": "1a65a474-63da-4c9e-bbc6-26297524acef",
   "metadata": {},
   "outputs": [
    {
     "name": "stdin",
     "output_type": "stream",
     "text": [
      "주민등록번호:  861010-1015210\n"
     ]
    },
    {
     "name": "stdout",
     "output_type": "stream",
     "text": [
      "서울 입니다.\n"
     ]
    }
   ],
   "source": [
    "code = input(\"주민등록번호: \")\n",
    "뒷자리 = code.split(\"-\")[1]\n",
    "지역코드 = int(뒷자리[1:3])\n",
    "\n",
    "if 지역코드 >= 0 and 지역코드 < 9:\n",
    "    print(\"서울 입니다.\")\n",
    "else:\n",
    "    print(\"서울이 아닙니다.\")"
   ]
  },
  {
   "cell_type": "markdown",
   "id": "22b8887e-f82b-4f76-8949-9988a4903121",
   "metadata": {},
   "source": [
    "## 129"
   ]
  },
  {
   "cell_type": "code",
   "execution_count": 151,
   "id": "49eb3507-15d4-4fc8-888c-aa4eda8938da",
   "metadata": {},
   "outputs": [
    {
     "name": "stdin",
     "output_type": "stream",
     "text": [
      "주민등록번호:  821010-1635214\n"
     ]
    },
    {
     "name": "stdout",
     "output_type": "stream",
     "text": [
      "4 4\n",
      "유효한 주민등록번호 입니다.\n"
     ]
    }
   ],
   "source": [
    "code = input(\"주민등록번호: \")\n",
    "앞자리, 뒷자리 = code.split(\"-\")\n",
    "일차계산 = int(앞자리[0])*2+int(앞자리[1])*3+int(앞자리[2])*4+int(앞자리[3])*5+int(앞자리[4])*6+int(앞자리[5])*7+int(뒷자리[0])*8+int(뒷자리[1])*9+int(뒷자리[2])*2+int(뒷자리[3])*3+int(뒷자리[4])*4+int(뒷자리[5])*5\n",
    "이차계산 = 11-(일차계산%11)\n",
    "\n",
    "if 이차계산 == int(뒷자리[6]):\n",
    "    print(\"유효한 주민등록번호 입니다.\")\n",
    "else:\n",
    "    print(\"유효하지 않은 주민등록번호 입니다.\")\n"
   ]
  },
  {
   "cell_type": "markdown",
   "id": "1e9ad6a2-ad4a-4d8d-acf6-d7a5fa88cad9",
   "metadata": {},
   "source": [
    "## 130"
   ]
  },
  {
   "cell_type": "code",
   "execution_count": 155,
   "id": "3efcca17-ff50-4320-a2a2-b2566e5c0619",
   "metadata": {},
   "outputs": [
    {
     "name": "stdout",
     "output_type": "stream",
     "text": [
      "상승장\n"
     ]
    }
   ],
   "source": [
    "import requests\n",
    "btc = requests.get(\"https://api.bithumb.com/public/ticker/\").json()['data']\n",
    "변동폭 = float(btc[\"max_price\"])-int(btc[\"min_price\"])\n",
    "\n",
    "if (float(btc[\"opening_price\"])+변동폭) > float(btc[\"max_price\"]):\n",
    "    print(\"상승장\")\n",
    "else:\n",
    "    print(\"하락장\")\n"
   ]
  }
 ],
 "metadata": {
  "kernelspec": {
   "display_name": "Python 3 (ipykernel)",
   "language": "python",
   "name": "python3"
  },
  "language_info": {
   "codemirror_mode": {
    "name": "ipython",
    "version": 3
   },
   "file_extension": ".py",
   "mimetype": "text/x-python",
   "name": "python",
   "nbconvert_exporter": "python",
   "pygments_lexer": "ipython3",
   "version": "3.11.7"
  }
 },
 "nbformat": 4,
 "nbformat_minor": 5
}
