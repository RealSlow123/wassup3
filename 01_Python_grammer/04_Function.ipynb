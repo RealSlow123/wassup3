{
 "cells": [
  {
   "cell_type": "markdown",
   "id": "7715e971-187e-4bc1-9d56-f881fd75f398",
   "metadata": {},
   "source": [
    "# 함수와 입출력"
   ]
  },
  {
   "cell_type": "code",
   "execution_count": 2,
   "id": "a224413d-b7db-42cc-8857-1c9162d3e838",
   "metadata": {},
   "outputs": [],
   "source": [
    "def add(a, b):\n",
    "    return a + b"
   ]
  },
  {
   "cell_type": "code",
   "execution_count": 3,
   "id": "4c0515d5-8373-4c2a-a125-a218b52c50d5",
   "metadata": {},
   "outputs": [
    {
     "data": {
      "text/plain": [
       "7"
      ]
     },
     "execution_count": 3,
     "metadata": {},
     "output_type": "execute_result"
    }
   ],
   "source": [
    "a = 3\n",
    "b = 4\n",
    "add(a, b)"
   ]
  },
  {
   "cell_type": "code",
   "execution_count": 4,
   "id": "3c470efc-41c2-4767-89eb-ba22bef22a1f",
   "metadata": {},
   "outputs": [
    {
     "data": {
      "text/plain": [
       "7"
      ]
     },
     "execution_count": 4,
     "metadata": {},
     "output_type": "execute_result"
    }
   ],
   "source": [
    "c = add(a, b)\n",
    "c"
   ]
  },
  {
   "cell_type": "markdown",
   "id": "7d0c2a18-d759-4313-81d1-659ab69f32ba",
   "metadata": {},
   "source": [
    "# 입력값과 리턴값에 따른 함수의 형태"
   ]
  },
  {
   "cell_type": "code",
   "execution_count": 6,
   "id": "dc3abb2a-4152-414e-b37c-469fd7412c77",
   "metadata": {},
   "outputs": [],
   "source": [
    "# 일반적인 함수의 형태\n",
    "def add(a, b):\n",
    "    result = a + b\n",
    "    return result"
   ]
  },
  {
   "cell_type": "code",
   "execution_count": 10,
   "id": "d675b6ab-0d61-4936-a604-204d664a070e",
   "metadata": {},
   "outputs": [],
   "source": [
    "# 앱력값이 없는 함수\n",
    "def say():\n",
    "    return 'hi'"
   ]
  },
  {
   "cell_type": "code",
   "execution_count": 11,
   "id": "b639d6ab-3aeb-4dc1-9d0c-19e36e406ad1",
   "metadata": {},
   "outputs": [
    {
     "data": {
      "text/plain": [
       "'hi'"
      ]
     },
     "execution_count": 11,
     "metadata": {},
     "output_type": "execute_result"
    }
   ],
   "source": [
    "say()"
   ]
  },
  {
   "cell_type": "markdown",
   "id": "4f866209-8533-4725-a085-4f53fdad3d79",
   "metadata": {},
   "source": [
    "# 리턴값이 없는 함수"
   ]
  },
  {
   "cell_type": "code",
   "execution_count": 13,
   "id": "048dc2fc-fdf7-41e5-8691-6e9dbc91b633",
   "metadata": {},
   "outputs": [],
   "source": [
    "def add(a, b):\n",
    "    print(f\"{a} + {b} = {a + b}\")"
   ]
  },
  {
   "cell_type": "code",
   "execution_count": 14,
   "id": "cfb56281-01a0-4721-98dc-70238c4a85ae",
   "metadata": {},
   "outputs": [
    {
     "name": "stdout",
     "output_type": "stream",
     "text": [
      "3 + 4 = 7\n"
     ]
    }
   ],
   "source": [
    "add(3, 4)"
   ]
  },
  {
   "cell_type": "code",
   "execution_count": 16,
   "id": "fb87fa2a-6c67-47bb-8972-962d0853163d",
   "metadata": {},
   "outputs": [
    {
     "name": "stdout",
     "output_type": "stream",
     "text": [
      "3 + 4 = 7\n"
     ]
    }
   ],
   "source": [
    "c = add(3, 4)"
   ]
  },
  {
   "cell_type": "code",
   "execution_count": 17,
   "id": "f93c881b-09cb-41e8-80dc-c0a4a36607dc",
   "metadata": {},
   "outputs": [],
   "source": [
    "c"
   ]
  },
  {
   "cell_type": "markdown",
   "id": "f98464ac-3469-40ea-9407-a52120abda0b",
   "metadata": {},
   "source": [
    "# 매개변수를 지정하여 호출하기"
   ]
  },
  {
   "cell_type": "code",
   "execution_count": 18,
   "id": "490ec9e0-1c9d-4166-817c-34b123f0ee5a",
   "metadata": {},
   "outputs": [],
   "source": [
    "def sub(a, b):\n",
    "    return a - b"
   ]
  },
  {
   "cell_type": "code",
   "execution_count": 19,
   "id": "6813523e-49e6-47ab-b529-72181fd85eb2",
   "metadata": {},
   "outputs": [
    {
     "data": {
      "text/plain": [
       "-4"
      ]
     },
     "execution_count": 19,
     "metadata": {},
     "output_type": "execute_result"
    }
   ],
   "source": [
    "sub(3, 7)"
   ]
  },
  {
   "cell_type": "code",
   "execution_count": 20,
   "id": "90d9ca44-1ac8-4bfc-a26f-26dc85057fc5",
   "metadata": {},
   "outputs": [
    {
     "data": {
      "text/plain": [
       "-4"
      ]
     },
     "execution_count": 20,
     "metadata": {},
     "output_type": "execute_result"
    }
   ],
   "source": [
    "sub(a = 3, b = 7)"
   ]
  },
  {
   "cell_type": "code",
   "execution_count": 21,
   "id": "80ae138e-805d-48f2-86af-f841b18f6c44",
   "metadata": {},
   "outputs": [
    {
     "data": {
      "text/plain": [
       "-4"
      ]
     },
     "execution_count": 21,
     "metadata": {},
     "output_type": "execute_result"
    }
   ],
   "source": [
    "sub(b = 7, a = 3)"
   ]
  },
  {
   "cell_type": "markdown",
   "id": "b9b2e691-1c37-482e-80f4-e48a5b591568",
   "metadata": {},
   "source": [
    "# 입력값이 몇개가 될지 모를 대에으 ㅇ어떻게 해야할까?"
   ]
  },
  {
   "cell_type": "code",
   "execution_count": 50,
   "id": "3f2db002-1f62-4aa5-91ca-ddf1338bb146",
   "metadata": {},
   "outputs": [
    {
     "data": {
      "text/plain": [
       "15"
      ]
     },
     "execution_count": 50,
     "metadata": {},
     "output_type": "execute_result"
    }
   ],
   "source": [
    "def add_many(*args):\n",
    "    result = 0\n",
    "    for i in args:\n",
    "        result += i\n",
    "    return result\n",
    "\n",
    "add_many(1,2,3,4,5)"
   ]
  },
  {
   "cell_type": "code",
   "execution_count": 51,
   "id": "268bf48f-2e1b-4f2a-923b-95e24381740c",
   "metadata": {},
   "outputs": [],
   "source": [
    "def calculator(Operator, *args):\n",
    "    result = 0\n",
    "    if Operator == \"*\":\n",
    "        result = 1\n",
    "        \n",
    "    for i in args:\n",
    "        if Operator == \"+\":\n",
    "            result += i\n",
    "        elif Operator == \"*\":            \n",
    "            result *= i\n",
    "        else:\n",
    "            result = 0        \n",
    "    return result"
   ]
  },
  {
   "cell_type": "code",
   "execution_count": 52,
   "id": "d4301a7f-5ea6-4fa4-8d19-8b587903ed69",
   "metadata": {},
   "outputs": [
    {
     "data": {
      "text/plain": [
       "120"
      ]
     },
     "execution_count": 52,
     "metadata": {},
     "output_type": "execute_result"
    }
   ],
   "source": [
    "calculator(\"*\", 1,2,3,4,5)"
   ]
  },
  {
   "cell_type": "markdown",
   "id": "2f74b5fa-2d90-4a93-9f1a-ac77c560879d",
   "metadata": {},
   "source": [
    "# 키워드 매개변수, Kwargs"
   ]
  },
  {
   "cell_type": "code",
   "execution_count": 54,
   "id": "bc8ab2ae-9382-4328-9669-871167144e8d",
   "metadata": {},
   "outputs": [
    {
     "data": {
      "text/plain": [
       "{'a': 1}"
      ]
     },
     "execution_count": 54,
     "metadata": {},
     "output_type": "execute_result"
    }
   ],
   "source": [
    "def print_kwargs(**kwargs):\n",
    "    return kwargs\n",
    "print_kwargs(a = 1)"
   ]
  },
  {
   "cell_type": "code",
   "execution_count": 55,
   "id": "eeb2790a-125d-4b37-9100-5380057836b6",
   "metadata": {},
   "outputs": [
    {
     "data": {
      "text/plain": [
       "{'name': 'KCM', 'age': 30}"
      ]
     },
     "execution_count": 55,
     "metadata": {},
     "output_type": "execute_result"
    }
   ],
   "source": [
    "print_kwargs(name = \"KCM\", age = 30)"
   ]
  },
  {
   "cell_type": "markdown",
   "id": "de210ff7-92cb-493d-9ddf-50d86718d913",
   "metadata": {},
   "source": [
    "# 함수의 리턴은 언제나 하나이다."
   ]
  },
  {
   "cell_type": "code",
   "execution_count": 58,
   "id": "5fb60def-d37a-47a4-a287-4d3b2453219c",
   "metadata": {},
   "outputs": [
    {
     "data": {
      "text/plain": [
       "(3, 2)"
      ]
     },
     "execution_count": 58,
     "metadata": {},
     "output_type": "execute_result"
    }
   ],
   "source": [
    "def add_and_mul(a,b):\n",
    "    return a+b, a*b\n",
    "\n",
    "add_and_mul(1, 2)"
   ]
  },
  {
   "cell_type": "code",
   "execution_count": 59,
   "id": "6805da16-20e2-41c0-a8e7-81c2ff24c98e",
   "metadata": {},
   "outputs": [],
   "source": [
    "a = add_and_mul(1, 2)"
   ]
  },
  {
   "cell_type": "code",
   "execution_count": 60,
   "id": "2c7cf72f-659d-4324-a8e5-177d50a40344",
   "metadata": {},
   "outputs": [
    {
     "data": {
      "text/plain": [
       "((3, 2), tuple)"
      ]
     },
     "execution_count": 60,
     "metadata": {},
     "output_type": "execute_result"
    }
   ],
   "source": [
    "a, type(a)"
   ]
  },
  {
   "cell_type": "code",
   "execution_count": 63,
   "id": "bf29ab24-12f5-4d28-944e-ead045868b93",
   "metadata": {},
   "outputs": [
    {
     "data": {
      "text/plain": [
       "3"
      ]
     },
     "execution_count": 63,
     "metadata": {},
     "output_type": "execute_result"
    }
   ],
   "source": [
    "a, b = add_and_mul(1, 2)\n",
    "a"
   ]
  },
  {
   "cell_type": "code",
   "execution_count": 64,
   "id": "d3009ef7-c5d0-4249-a70d-6efaec6cb99c",
   "metadata": {},
   "outputs": [
    {
     "data": {
      "text/plain": [
       "2"
      ]
     },
     "execution_count": 64,
     "metadata": {},
     "output_type": "execute_result"
    }
   ],
   "source": [
    "b"
   ]
  },
  {
   "cell_type": "code",
   "execution_count": 66,
   "id": "0842f8db-b50b-40fa-9661-7b5d4365b602",
   "metadata": {},
   "outputs": [
    {
     "data": {
      "text/plain": [
       "3"
      ]
     },
     "execution_count": 66,
     "metadata": {},
     "output_type": "execute_result"
    }
   ],
   "source": [
    "a, _ = add_and_mul(1, 2)\n",
    "a"
   ]
  },
  {
   "cell_type": "code",
   "execution_count": 68,
   "id": "7434e707-3e15-49f4-bd72-9dc4bc1c8600",
   "metadata": {},
   "outputs": [
    {
     "data": {
      "text/plain": [
       "3"
      ]
     },
     "execution_count": 68,
     "metadata": {},
     "output_type": "execute_result"
    }
   ],
   "source": [
    "def add_and_mul(a,b):\n",
    "    return a+b\n",
    "    return a*b\n",
    "add_and_mul(1, 2)"
   ]
  },
  {
   "cell_type": "markdown",
   "id": "557f0aa2-7c6f-41ec-b5af-d2e9e9b0a94e",
   "metadata": {},
   "source": [
    "# 리턴의 또다른 쓰임새"
   ]
  },
  {
   "cell_type": "code",
   "execution_count": 69,
   "id": "1820fa83-f44d-4bf0-a452-0ee5d0e4a929",
   "metadata": {},
   "outputs": [],
   "source": [
    "def say_nick(nick):\n",
    "    if nick == \"바보\":\n",
    "        return\n",
    "    print(\"나의 별멸은 %s 입니다\" %nick)"
   ]
  },
  {
   "cell_type": "code",
   "execution_count": 70,
   "id": "981d7e63-1248-4617-a75e-6fa62984ffbb",
   "metadata": {},
   "outputs": [
    {
     "name": "stdout",
     "output_type": "stream",
     "text": [
      "나의 별멸은 야호 입니다\n"
     ]
    }
   ],
   "source": [
    "say_nick(\"야호\")"
   ]
  },
  {
   "cell_type": "code",
   "execution_count": 71,
   "id": "ae92e52a-04ff-4e8d-a946-685e6f7d7932",
   "metadata": {},
   "outputs": [],
   "source": [
    "say_nick(\"바보\")"
   ]
  },
  {
   "cell_type": "markdown",
   "id": "68899074-da09-4032-8e83-26757013c828",
   "metadata": {},
   "source": [
    "# 매개변우싀 초깃값 미리 설정하기"
   ]
  },
  {
   "cell_type": "code",
   "execution_count": 73,
   "id": "c9ffb566-7bec-417a-9a23-8b176a99b6e8",
   "metadata": {},
   "outputs": [
    {
     "name": "stdout",
     "output_type": "stream",
     "text": [
      "나의 이름은 하으뜸 입니다.\n",
      "나이는 37살입니다.\n",
      "남자입니다.\n"
     ]
    }
   ],
   "source": [
    "def say_myself(name, age, man=True): \n",
    "    print(\"나의 이름은 %s 입니다.\" % name) \n",
    "    print(\"나이는 %d살입니다.\" % age) \n",
    "    if man: \n",
    "        print(\"남자입니다.\")\n",
    "    else: \n",
    "        print(\"여자입니다.\")\n",
    "say_myself(\"하으뜸\", 37)"
   ]
  },
  {
   "cell_type": "code",
   "execution_count": 76,
   "id": "f8905f22-ce30-4ca8-a337-a8b15403af74",
   "metadata": {},
   "outputs": [
    {
     "name": "stdout",
     "output_type": "stream",
     "text": [
      "나의 이름은 하뿅뿅 입니다.\n",
      "나이는 37살입니다.\n",
      "여자입니다.\n"
     ]
    }
   ],
   "source": [
    "say_myself(\"하뿅뿅\", 37, man = False)"
   ]
  },
  {
   "cell_type": "code",
   "execution_count": 77,
   "id": "5db46aac-8944-41ef-8dbb-c65cff7a7f39",
   "metadata": {},
   "outputs": [
    {
     "ename": "SyntaxError",
     "evalue": "non-default argument follows default argument (2767377560.py, line 1)",
     "output_type": "error",
     "traceback": [
      "\u001b[1;36m  Cell \u001b[1;32mIn[77], line 1\u001b[1;36m\u001b[0m\n\u001b[1;33m    def say_myself(name, man=True, age):\u001b[0m\n\u001b[1;37m                                   ^\u001b[0m\n\u001b[1;31mSyntaxError\u001b[0m\u001b[1;31m:\u001b[0m non-default argument follows default argument\n"
     ]
    }
   ],
   "source": [
    "def say_myself(name, man=True, age): # 초기화를 해주고 싶은 매개변수는 맨뒤로...\n",
    "    print(\"나의 이름은 %s 입니다.\" % name) \n",
    "    print(\"나이는 %d살입니다.\" % age) \n",
    "    if man: \n",
    "        print(\"남자입니다.\") \n",
    "    else: \n",
    "        print(\"여자입니다.\")"
   ]
  },
  {
   "cell_type": "code",
   "execution_count": 79,
   "id": "06c7b967-b2a8-4581-b85f-0282eb0b9f45",
   "metadata": {},
   "outputs": [],
   "source": [
    "a = 1\n",
    "def vartest(a):\n",
    "    a = a + 1\n",
    "    print(a)"
   ]
  },
  {
   "cell_type": "code",
   "execution_count": 80,
   "id": "f808757c-ac0f-4599-8306-40e819350ccf",
   "metadata": {},
   "outputs": [
    {
     "name": "stdout",
     "output_type": "stream",
     "text": [
      "2\n"
     ]
    }
   ],
   "source": [
    "vartest(a)"
   ]
  },
  {
   "cell_type": "code",
   "execution_count": 81,
   "id": "e5c92f99-cbf6-42e4-8093-bb173cfd30f3",
   "metadata": {},
   "outputs": [
    {
     "data": {
      "text/plain": [
       "1"
      ]
     },
     "execution_count": 81,
     "metadata": {},
     "output_type": "execute_result"
    }
   ],
   "source": [
    "a"
   ]
  },
  {
   "cell_type": "markdown",
   "id": "cedfb116-1b23-4d38-b579-2e91e08e553f",
   "metadata": {},
   "source": [
    "# 함수안에서 함수 밖의 변수를 변경하는 방법"
   ]
  },
  {
   "cell_type": "code",
   "execution_count": 83,
   "id": "6685c4e5-2551-4059-b702-13358411e9cf",
   "metadata": {},
   "outputs": [
    {
     "name": "stdout",
     "output_type": "stream",
     "text": [
      "2\n"
     ]
    }
   ],
   "source": [
    "a = 1 \n",
    "def vartest(a): \n",
    "    a = a +1 \n",
    "    return a\n",
    "\n",
    "a = vartest(a) \n",
    "print(a)"
   ]
  },
  {
   "cell_type": "code",
   "execution_count": 84,
   "id": "a5eca96a-6894-4346-8fdc-bedaa1611a8c",
   "metadata": {},
   "outputs": [
    {
     "name": "stdout",
     "output_type": "stream",
     "text": [
      "2\n"
     ]
    }
   ],
   "source": [
    "a = 1 \n",
    "def vartest(): \n",
    "    global a \n",
    "    a = a+1\n",
    "\n",
    "vartest() \n",
    "print(a)"
   ]
  },
  {
   "cell_type": "markdown",
   "id": "a80f8d2f-0e65-46b4-af39-bcd87dc861bf",
   "metadata": {},
   "source": [
    "# 람다 예약어(일회용 함수)"
   ]
  },
  {
   "cell_type": "code",
   "execution_count": 86,
   "id": "932c7388-4fa7-430e-b84c-9a2eb88431a8",
   "metadata": {},
   "outputs": [
    {
     "name": "stdout",
     "output_type": "stream",
     "text": [
      "7\n"
     ]
    }
   ],
   "source": [
    "add = lambda a, b: a+b\n",
    "result = add(3, 4)\n",
    "print(result)"
   ]
  },
  {
   "cell_type": "code",
   "execution_count": 87,
   "id": "e2fba66e-e786-4cf4-9d49-15f6cadcd96c",
   "metadata": {},
   "outputs": [
    {
     "name": "stdout",
     "output_type": "stream",
     "text": [
      "7\n"
     ]
    }
   ],
   "source": [
    "result = add(3, 4)\n",
    "print(result)"
   ]
  }
 ],
 "metadata": {
  "kernelspec": {
   "display_name": "Python 3 (ipykernel)",
   "language": "python",
   "name": "python3"
  },
  "language_info": {
   "codemirror_mode": {
    "name": "ipython",
    "version": 3
   },
   "file_extension": ".py",
   "mimetype": "text/x-python",
   "name": "python",
   "nbconvert_exporter": "python",
   "pygments_lexer": "ipython3",
   "version": "3.11.7"
  }
 },
 "nbformat": 4,
 "nbformat_minor": 5
}
