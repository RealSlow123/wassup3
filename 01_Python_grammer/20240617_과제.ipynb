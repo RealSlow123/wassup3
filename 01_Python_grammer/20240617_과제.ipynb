{
 "cells": [
  {
   "cell_type": "markdown",
   "id": "f53bd836-d849-43cd-b9df-e3105c42f3d2",
   "metadata": {},
   "source": [
    "# 251"
   ]
  },
  {
   "cell_type": "markdown",
   "id": "86ad44b2-bc03-431b-b76f-5a1e178f5786",
   "metadata": {},
   "source": [
    "클래스는 Templete과 유사한 개념으로 유사한 특징을 갖는 Object를 추상화한 것\n",
    "인스턴스란 독립적인 Object, 예를 들어 도로 위르 각각의 차량이 Object 임"
   ]
  },
  {
   "cell_type": "markdown",
   "id": "4671c832-a385-4a4f-93aa-e1164eeb87d1",
   "metadata": {},
   "source": [
    "# 252"
   ]
  },
  {
   "cell_type": "code",
   "execution_count": null,
   "id": "00deaba3-b4ce-44fb-8769-15977e96d128",
   "metadata": {},
   "outputs": [],
   "source": [
    "class Human:\n",
    "    pass"
   ]
  },
  {
   "cell_type": "markdown",
   "id": "e2e688a4-a835-415f-b88c-29e498693a27",
   "metadata": {},
   "source": [
    "# 253"
   ]
  },
  {
   "cell_type": "code",
   "execution_count": 2,
   "id": "b24f8c9b-2659-48d6-a25f-36dc783c80c2",
   "metadata": {},
   "outputs": [],
   "source": [
    "areum = Human()"
   ]
  },
  {
   "cell_type": "markdown",
   "id": "44d70e0c-ea45-4b5a-8bc9-3081479a21fd",
   "metadata": {},
   "source": [
    "# 254"
   ]
  },
  {
   "cell_type": "code",
   "execution_count": 4,
   "id": "a5e419ea-dc2f-4362-b1a8-986c6340204b",
   "metadata": {},
   "outputs": [
    {
     "name": "stdout",
     "output_type": "stream",
     "text": [
      "응애응애\n"
     ]
    }
   ],
   "source": [
    "class Human:\n",
    "    def __init__(self):\n",
    "        print(\"응애응애\")\n",
    "\n",
    "areum = Human()"
   ]
  },
  {
   "cell_type": "markdown",
   "id": "4f175c98-588f-481b-b6a3-1189af4981e8",
   "metadata": {},
   "source": [
    "# 255"
   ]
  },
  {
   "cell_type": "code",
   "execution_count": 5,
   "id": "33a9b1e7-2bd0-4f45-8f24-e25af411a199",
   "metadata": {},
   "outputs": [
    {
     "data": {
      "text/plain": [
       "('아름', 25, '여')"
      ]
     },
     "execution_count": 5,
     "metadata": {},
     "output_type": "execute_result"
    }
   ],
   "source": [
    "class Human:\n",
    "    def __init__(self, 이름,  나이, 성별):\n",
    "        self.이름 = 이름\n",
    "        self.나이 = 나이\n",
    "        self.성별 = 성별\n",
    "\n",
    "areum = Human(\"아름\", 25, \"여\")\n",
    "\n",
    "areum.이름, areum.나이, areum.성별"
   ]
  },
  {
   "cell_type": "markdown",
   "id": "43357757-504d-4143-b142-b2163246849c",
   "metadata": {},
   "source": [
    "# 256"
   ]
  },
  {
   "cell_type": "code",
   "execution_count": 7,
   "id": "fd9ed43a-a730-49eb-a99f-77787ac418e8",
   "metadata": {},
   "outputs": [
    {
     "data": {
      "text/plain": [
       "25"
      ]
     },
     "execution_count": 7,
     "metadata": {},
     "output_type": "execute_result"
    }
   ],
   "source": [
    "areum.나이"
   ]
  },
  {
   "cell_type": "markdown",
   "id": "f8c311f6-a2e1-4773-9267-087234d38abb",
   "metadata": {},
   "source": [
    "# 257"
   ]
  },
  {
   "cell_type": "code",
   "execution_count": 9,
   "id": "718dcc77-fc02-4378-8b6b-8e41591e0698",
   "metadata": {},
   "outputs": [
    {
     "name": "stdout",
     "output_type": "stream",
     "text": [
      "이름: 아름, 나이: 25, 성별: 여\n"
     ]
    }
   ],
   "source": [
    "class Human:\n",
    "    def __init__(self, 이름,  나이, 성별):\n",
    "        self.이름 = 이름\n",
    "        self.나이 = 나이\n",
    "        self.성별 = 성별\n",
    "    def who(self):\n",
    "        print(f\"이름: {self.이름}, 나이: {self.나이}, 성별: {self.성별}\")\n",
    "\n",
    "areum = Human(\"아름\", 25, \"여\")\n",
    "areum.who()"
   ]
  },
  {
   "cell_type": "markdown",
   "id": "21840fcf-acf3-4fbd-ad88-795fd7799861",
   "metadata": {},
   "source": [
    "# 258"
   ]
  },
  {
   "cell_type": "code",
   "execution_count": 11,
   "id": "65e835b6-b8dd-4859-946e-58d00dd95f9a",
   "metadata": {},
   "outputs": [
    {
     "name": "stdout",
     "output_type": "stream",
     "text": [
      "이름: 모름, 나이: 0, 성별: 모름\n",
      "이름: 아름, 나이: 25, 성별: 여자\n"
     ]
    }
   ],
   "source": [
    "class Human:\n",
    "    def __init__(self, 이름,  나이, 성별):\n",
    "        self.이름 = 이름\n",
    "        self.나이 = 나이\n",
    "        self.성별 = 성별\n",
    "    def setInfo(self, 이름,  나이, 성별):\n",
    "        self.이름 = 이름\n",
    "        self.나이 = 나이\n",
    "        self.성별 = 성별\n",
    "    def who(self):\n",
    "        print(f\"이름: {self.이름}, 나이: {self.나이}, 성별: {self.성별}\")\n",
    "\n",
    "areum = Human(\"모름\", 0, \"모름\")\n",
    "areum.who()\n",
    "areum.setInfo(\"아름\", 25, \"여자\")\n",
    "areum.who()"
   ]
  },
  {
   "cell_type": "markdown",
   "id": "e633e2cf-48e8-43d8-a3dd-089d2aecdb8c",
   "metadata": {},
   "source": [
    "# 259"
   ]
  },
  {
   "cell_type": "code",
   "execution_count": 13,
   "id": "b471e466-0c24-4c7c-a979-9f7b64105e73",
   "metadata": {},
   "outputs": [
    {
     "name": "stdout",
     "output_type": "stream",
     "text": [
      "나의 죽음을 알리지마라\n"
     ]
    }
   ],
   "source": [
    "class Human:\n",
    "    def __init__(self, 이름,  나이, 성별):\n",
    "        self.이름 = 이름\n",
    "        self.나이 = 나이\n",
    "        self.성별 = 성별\n",
    "    def __del__(self):\n",
    "        print(\"나의 죽음을 알리지마라\")\n",
    "    def setInfo(self, 이름,  나이, 성별):\n",
    "        self.이름 = 이름\n",
    "        self.나이 = 나이\n",
    "        self.성별 = 성별\n",
    "    def who(self):\n",
    "        print(f\"이름: {self.이름}, 나이: {self.나이}, 성별: {self.성별}\")\n",
    "\n",
    "areum = Human(\"모름\", 0, \"모름\")\n",
    "del areum"
   ]
  },
  {
   "cell_type": "markdown",
   "id": "f0d897c2-90b4-4eed-b08e-59a7b73963c2",
   "metadata": {},
   "source": [
    "# 260"
   ]
  },
  {
   "cell_type": "code",
   "execution_count": null,
   "id": "25e85079-d822-47d9-adf1-b9afded261f8",
   "metadata": {},
   "outputs": [],
   "source": [
    "class OMG : \n",
    "    def print() :\n",
    "        print(\"Oh my god\")\n",
    "\n",
    ">>> >>> myStock = OMG()\n",
    ">>> myStock.print()\n",
    "TypeError Traceback (most recent call last)\n",
    "<ipython-input-233-c85c04535b22> in <module>()\n",
    "----> myStock.print()\n",
    "\n",
    "TypeError: print() takes 0 positional arguments but 1 was given\n",
    "\n",
    "# 클래스 함수의 매개변수에 self가 없기 때문에 호출한 객체를 인자로 넘겨주어야 한다."
   ]
  },
  {
   "cell_type": "markdown",
   "id": "360bd6b0-1a6e-42f3-a733-8cf619ffe9d4",
   "metadata": {},
   "source": [
    "# 261"
   ]
  },
  {
   "cell_type": "code",
   "execution_count": 14,
   "id": "777bf332-a23e-4b40-a408-bdb604585c9e",
   "metadata": {},
   "outputs": [],
   "source": [
    "class Stock:\n",
    "    pass\n"
   ]
  },
  {
   "cell_type": "markdown",
   "id": "04e53794-4229-4ace-a8c3-328ce94210ca",
   "metadata": {},
   "source": [
    "# 262"
   ]
  },
  {
   "cell_type": "code",
   "execution_count": 16,
   "id": "b8eccf31-80bb-4548-b70b-bbb858701223",
   "metadata": {},
   "outputs": [
    {
     "data": {
      "text/plain": [
       "('삼성전자', '005830')"
      ]
     },
     "execution_count": 16,
     "metadata": {},
     "output_type": "execute_result"
    }
   ],
   "source": [
    "class Stock:\n",
    "    def __init__(self, 종목, 종목코드):\n",
    "        self.종목 = 종목\n",
    "        self.종목코드 = 종목코드\n",
    "\n",
    "a = Stock(\"삼성전자\", \"005830\")\n",
    "a.종목, a.종목코드"
   ]
  },
  {
   "cell_type": "markdown",
   "id": "d0540a1f-b64c-483e-82ab-3d7deb3c491a",
   "metadata": {},
   "source": [
    "# 263"
   ]
  },
  {
   "cell_type": "code",
   "execution_count": 17,
   "id": "fc5bebbf-5de6-4f0d-bb02-f77e7fb33b5c",
   "metadata": {},
   "outputs": [
    {
     "data": {
      "text/plain": [
       "('삼설전자', None)"
      ]
     },
     "execution_count": 17,
     "metadata": {},
     "output_type": "execute_result"
    }
   ],
   "source": [
    "class Stock:\n",
    "    def __init__(self, 종목, 종목코드):\n",
    "        self.종목 = 종목\n",
    "        self.종목코드 = 종목코드\n",
    "    def set_namme(self, 종목):\n",
    "        self.종목 = 종목\n",
    "\n",
    "a = Stock(None, None)\n",
    "a.set_namme(\"삼설전자\")\n",
    "a.종목, a.종목코드"
   ]
  },
  {
   "cell_type": "markdown",
   "id": "7619c302-8de5-4949-91d6-635b60e290c3",
   "metadata": {},
   "source": [
    "# 264"
   ]
  },
  {
   "cell_type": "code",
   "execution_count": 20,
   "id": "ee7eba52-023b-4ce4-9192-124e9aa46ea5",
   "metadata": {},
   "outputs": [
    {
     "data": {
      "text/plain": [
       "(None, '005930')"
      ]
     },
     "execution_count": 20,
     "metadata": {},
     "output_type": "execute_result"
    }
   ],
   "source": [
    "class Stock:\n",
    "    def __init__(self, 종목, 종목코드):\n",
    "        self.종목 = 종목\n",
    "        self.종목코드 = 종목코드\n",
    "    def set_namme(self, 종목):\n",
    "        self.종목 = 종목\n",
    "    def set_code(self, 종목코드):\n",
    "        self.종목코드 = 종목코드\n",
    "\n",
    "a = Stock(None, None)\n",
    "a.set_code(\"005930\")\n",
    "a.종목, a.종목코드"
   ]
  },
  {
   "cell_type": "markdown",
   "id": "379ba91d-66b8-439c-b27b-326245a40cc7",
   "metadata": {},
   "source": [
    "# 265"
   ]
  },
  {
   "cell_type": "code",
   "execution_count": 22,
   "id": "1a89765f-8f96-4f7d-a68f-fed74b7d5e56",
   "metadata": {},
   "outputs": [
    {
     "data": {
      "text/plain": [
       "('삼성전자', '005930')"
      ]
     },
     "execution_count": 22,
     "metadata": {},
     "output_type": "execute_result"
    }
   ],
   "source": [
    "class Stock:\n",
    "    def __init__(self, 종목, 종목코드):\n",
    "        self.종목 = 종목\n",
    "        self.종목코드 = 종목코드\n",
    "    def set_namme(self, 종목):\n",
    "        self.종목 = 종목\n",
    "    def set_code(self, 종목코드):\n",
    "        self.종목코드 = 종목코드\n",
    "    def get_namme(self):\n",
    "        return  self.종목\n",
    "    def get_code(self):\n",
    "        return self.종목코드\n",
    "\n",
    "삼성 = Stock(\"삼성전자\", \"005930\")\n",
    "삼성.get_namme(), 삼성.get_code()"
   ]
  },
  {
   "cell_type": "markdown",
   "id": "c116184a-3149-4a93-9939-558638c3339c",
   "metadata": {},
   "source": [
    "# 266"
   ]
  },
  {
   "cell_type": "code",
   "execution_count": 24,
   "id": "acb124cf-3f98-41a1-b47f-f943f0ef6e14",
   "metadata": {},
   "outputs": [],
   "source": [
    "class Stock:\n",
    "    def __init__(self, 종목, 종목코드, PER, PBR, 배당수익):\n",
    "        self.종목 = 종목\n",
    "        self.종목코드 = 종목코드\n",
    "        self.PER = PER\n",
    "        self.PBR = PBR\n",
    "        self.배당수익률 = 배당수익률\n",
    "    def set_namme(self, 종목):\n",
    "        self.종목 = 종목\n",
    "        \n",
    "    def set_code(self, 종목코드):\n",
    "        self.종목코드 = 종목코드\n",
    "        \n",
    "    def get_namme(self):\n",
    "        return  self.종목\n",
    "        \n",
    "    def get_code(self):\n",
    "        return self.종목코드\n",
    "    "
   ]
  },
  {
   "cell_type": "markdown",
   "id": "9e776662-602a-4c73-8d35-f35eef0128e5",
   "metadata": {},
   "source": [
    "# 267"
   ]
  },
  {
   "cell_type": "code",
   "execution_count": 28,
   "id": "1ab99942-a4bb-4917-9c16-86a2448d7c37",
   "metadata": {},
   "outputs": [
    {
     "data": {
      "text/plain": [
       "('삼성전자', '005930', 15.79, 1.33, 2.83)"
      ]
     },
     "execution_count": 28,
     "metadata": {},
     "output_type": "execute_result"
    }
   ],
   "source": [
    "class Stock:\n",
    "    def __init__(self, 종목, 종목코드, PER, PBR, 배당수익률):\n",
    "        self.종목 = 종목\n",
    "        self.종목코드 = 종목코드\n",
    "        self.PER = PER\n",
    "        self.PBR = PBR\n",
    "        self.배당수익률 = 배당수익률\n",
    "    def set_namme(self, 종목):\n",
    "        self.종목 = 종목\n",
    "        \n",
    "    def set_code(self, 종목코드):\n",
    "        self.종목코드 = 종목코드\n",
    "        \n",
    "    def get_namme(self):\n",
    "        return  self.종목\n",
    "        \n",
    "    def get_code(self):\n",
    "        return self.종목코드\n",
    "\n",
    "삼성 = Stock(\"삼성전자\", \"005930\", 15.79, 1.33, 2.83)\n",
    "삼성.종목, 삼성.종목코드, 삼성.PER, 삼성.PBR, 삼성.배당수익률"
   ]
  },
  {
   "cell_type": "markdown",
   "id": "3be96c2c-1a37-431a-8568-69ec87b8c063",
   "metadata": {},
   "source": [
    "# 268"
   ]
  },
  {
   "cell_type": "code",
   "execution_count": 29,
   "id": "611b6c0d-2379-4526-b506-611d56e4d553",
   "metadata": {},
   "outputs": [],
   "source": [
    "class Stock:\n",
    "    def __init__(self, 종목, 종목코드, PER, PBR, 배당수익률):\n",
    "        self.종목 = 종목\n",
    "        self.종목코드 = 종목코드\n",
    "        self.PER = PER\n",
    "        self.PBR = PBR\n",
    "        self.배당수익률 = 배당수익률\n",
    "    def set_namme(self, 종목):\n",
    "        self.종목 = 종목\n",
    "        \n",
    "    def set_code(self, 종목코드):\n",
    "        self.종목코드 = 종목코드\n",
    "        \n",
    "    def set_per(self, PER):\n",
    "        self.PER = PER\n",
    "\n",
    "    def set_pbr(self, PBR):\n",
    "        self.PBR = PBR\n",
    "    \n",
    "    def set_dividend (self, 배당수익률):\n",
    "        self.배당수익률 = 배당수익률\n",
    "        \n",
    "    def get_namme(self):\n",
    "        return  self.종목\n",
    "        \n",
    "    def get_code(self):\n",
    "        return self.종목코드"
   ]
  },
  {
   "cell_type": "markdown",
   "id": "779fc063-b293-4bce-91a2-34659eea3684",
   "metadata": {},
   "source": [
    "# 269"
   ]
  },
  {
   "cell_type": "code",
   "execution_count": 30,
   "id": "c6ba3cf3-277d-49be-b311-17f5164c7846",
   "metadata": {},
   "outputs": [
    {
     "name": "stdout",
     "output_type": "stream",
     "text": [
      "2.83\n",
      "12.75\n"
     ]
    }
   ],
   "source": [
    "class Stock:\n",
    "    def __init__(self, 종목, 종목코드, PER, PBR, 배당수익률):\n",
    "        self.종목 = 종목\n",
    "        self.종목코드 = 종목코드\n",
    "        self.PER = PER\n",
    "        self.PBR = PBR\n",
    "        self.배당수익률 = 배당수익률\n",
    "    def set_namme(self, 종목):\n",
    "        self.종목 = 종목\n",
    "        \n",
    "    def set_code(self, 종목코드):\n",
    "        self.종목코드 = 종목코드\n",
    "        \n",
    "    def set_per(self, PER):\n",
    "        self.PER = PER\n",
    "\n",
    "    def set_pbr(self, PBR):\n",
    "        self.PBR = PBR\n",
    "    \n",
    "    def set_dividend (self, 배당수익률):\n",
    "        self.배당수익률 = 배당수익률\n",
    "        \n",
    "    def get_namme(self):\n",
    "        return  self.종목\n",
    "        \n",
    "    def get_code(self):\n",
    "        return self.종목코드\n",
    "\n",
    "삼성 = Stock(\"삼성전자\", \"005930\", 15.79, 1.33, 2.83)\n",
    "print(삼성.배당수익률)\n",
    "삼성.set_dividend(12.75)\n",
    "print(삼성.배당수익률)"
   ]
  },
  {
   "cell_type": "markdown",
   "id": "751e8ed9-0731-4836-b470-c32a5db73ec2",
   "metadata": {},
   "source": [
    "# 270"
   ]
  },
  {
   "cell_type": "code",
   "execution_count": 34,
   "id": "eb3b467f-1793-44c6-96aa-eb54ec49fd58",
   "metadata": {},
   "outputs": [
    {
     "name": "stdout",
     "output_type": "stream",
     "text": [
      "삼성전자 15.79\n",
      "현대차 8.7\n",
      "LG전자 317.34\n"
     ]
    }
   ],
   "source": [
    "class Stock:\n",
    "    def __init__(self, 종목, 종목코드, PER, PBR, 배당수익률):\n",
    "        self.종목 = 종목\n",
    "        self.종목코드 = 종목코드\n",
    "        self.PER = PER\n",
    "        self.PBR = PBR\n",
    "        self.배당수익률 = 배당수익률\n",
    "        \n",
    "    def set_namme(self, 종목):\n",
    "        self.종목 = 종목\n",
    "        \n",
    "    def set_code(self, 종목코드):\n",
    "        self.종목코드 = 종목코드\n",
    "        \n",
    "    def set_per(self, PER):\n",
    "        self.PER = PER\n",
    "\n",
    "    def set_pbr(self, PBR):\n",
    "        self.PBR = PBR\n",
    "    \n",
    "    def set_dividend (self, 배당수익률):\n",
    "        self.배당수익률 = 배당수익률\n",
    "        \n",
    "    def get_namme(self):\n",
    "        return  self.종목\n",
    "        \n",
    "    def get_code(self):\n",
    "        return self.종목코드\n",
    "\n",
    "종목 = []\n",
    "\n",
    "삼성 = Stock(\"삼성전자\", \"005930\", 15.79, 1.33, 2.83)\n",
    "현대차 = Stock(\"현대차\", \"005380\", 8.70, 0.35, 4.27)\n",
    "LG전자 = Stock(\"LG전자\", \"066570\", 317.34, 0.69, 1.37)\n",
    "\n",
    "종목.append(삼성)\n",
    "종목.append(현대차)\n",
    "종목.append(LG전자)\n",
    "\n",
    "for i in 종목:\n",
    "    print(i.종목, i.PER)"
   ]
  },
  {
   "cell_type": "markdown",
   "id": "6fa413bb-5764-473f-aa1d-1f8a53e469ee",
   "metadata": {},
   "source": [
    "# 271"
   ]
  },
  {
   "cell_type": "code",
   "execution_count": 40,
   "id": "114158be-1953-45bc-a2fd-b01a97f8af2d",
   "metadata": {},
   "outputs": [
    {
     "data": {
      "text/plain": [
       "('홍길동', 'SC은행', '793-75-000213', 10000)"
      ]
     },
     "execution_count": 40,
     "metadata": {},
     "output_type": "execute_result"
    }
   ],
   "source": [
    "import random\n",
    "\n",
    "class Account:\n",
    "    def __init__(self, 예금주, 잔액):\n",
    "        self.예금주 = 예금주\n",
    "        self.잔액 = 잔액\n",
    "        self.은행이름 = \"SC은행\"\n",
    "        self.계좌번호 = str(random.randrange(1, 999)).zfill(3) + \"-\" + str(random.randrange(1, 99)).zfill(2) + \"-\" + str(random.randrange(1, 999)).zfill(6)\n",
    "\n",
    "\n",
    "a = Account(\"홍길동\", 10000)\n",
    "a.예금주, a.은행이름, a.계좌번호, a.잔액"
   ]
  },
  {
   "cell_type": "markdown",
   "id": "ae8e3d9d-0af7-4f82-a77b-3896288835e3",
   "metadata": {},
   "source": [
    "# 272"
   ]
  },
  {
   "cell_type": "code",
   "execution_count": 43,
   "id": "6258d282-fa7c-4492-9cca-519bca64195c",
   "metadata": {},
   "outputs": [
    {
     "data": {
      "text/plain": [
       "2"
      ]
     },
     "execution_count": 43,
     "metadata": {},
     "output_type": "execute_result"
    }
   ],
   "source": [
    "import random\n",
    "\n",
    "class Account:\n",
    "    count = 0\n",
    "    def __init__(self, 예금주, 잔액):\n",
    "        self.예금주 = 예금주\n",
    "        self.잔액 = 잔액\n",
    "        self.은행이름 = \"SC은행\"\n",
    "        self.계좌번호 = str(random.randrange(1, 999)).zfill(3) + \"-\" + str(random.randrange(1, 99)).zfill(2) + \"-\" + str(random.randrange(1, 999)).zfill(6)\n",
    "        Account.count += 1\n",
    "\n",
    "a = Account(\"홍길동\", 10000)\n",
    "b = Account(\"임꺽정\", 20000)\n",
    "Account.count"
   ]
  },
  {
   "cell_type": "markdown",
   "id": "b9e9ecee-2a07-4bfd-924f-40774db8e067",
   "metadata": {},
   "source": [
    "# 273"
   ]
  },
  {
   "cell_type": "code",
   "execution_count": 54,
   "id": "63c43258-872b-43ab-8628-a26c1a169486",
   "metadata": {},
   "outputs": [
    {
     "data": {
      "text/plain": [
       "2"
      ]
     },
     "execution_count": 54,
     "metadata": {},
     "output_type": "execute_result"
    }
   ],
   "source": [
    "import random\n",
    "\n",
    "class Account:\n",
    "    count = 0\n",
    "    def __init__(self, 예금주, 잔액):\n",
    "        self.예금주 = 예금주\n",
    "        self.잔액 = 잔액\n",
    "        self.은행이름 = \"SC은행\"\n",
    "        self.계좌번호 = str(random.randrange(1, 999)).zfill(3) + \"-\" + str(random.randrange(1, 99)).zfill(2) + \"-\" + str(random.randrange(1, 999)).zfill(6)\n",
    "        Account.count += 1\n",
    "    def get_account_num(Account):\n",
    "        return Account.count\n",
    "\n",
    "a = Account(\"홍길동\", 10000)\n",
    "b = Account(\"임꺽정\", 20000)\n",
    "a.get_account_num()"
   ]
  },
  {
   "cell_type": "markdown",
   "id": "4f710f5f-355c-49b8-aa45-2d29105d4a16",
   "metadata": {},
   "source": [
    "# 274"
   ]
  },
  {
   "cell_type": "code",
   "execution_count": 55,
   "id": "b14b35f3-7eb9-4206-8a4e-ec162b1a389b",
   "metadata": {},
   "outputs": [
    {
     "name": "stdout",
     "output_type": "stream",
     "text": [
      "10000\n",
      "10100\n"
     ]
    }
   ],
   "source": [
    "import random\n",
    "\n",
    "class Account:\n",
    "    count = 0\n",
    "    def __init__(self, 예금주, 잔액):\n",
    "        self.예금주 = 예금주\n",
    "        self.잔액 = 잔액\n",
    "        self.은행이름 = \"SC은행\"\n",
    "        self.계좌번호 = str(random.randrange(1, 999)).zfill(3) + \"-\" + str(random.randrange(1, 99)).zfill(2) + \"-\" + str(random.randrange(1, 999)).zfill(6)\n",
    "        Account.count += 1\n",
    "        \n",
    "    def get_account_num(Account):\n",
    "        return Account.count\n",
    "        \n",
    "    def deposit(self, 입금액):\n",
    "        if 입금액 > 0 :\n",
    "            self.잔액 += 입금액\n",
    "\n",
    "a = Account(\"홍길동\", 10000)\n",
    "print(a.잔액)\n",
    "a.deposit(100)\n",
    "print(a.잔액)"
   ]
  },
  {
   "cell_type": "markdown",
   "id": "7bfad4de-60bc-4062-926d-d7b5b8516d21",
   "metadata": {},
   "source": [
    "# 275"
   ]
  },
  {
   "cell_type": "code",
   "execution_count": 57,
   "id": "dfe393a0-173a-4eb0-9e01-c432cd00da20",
   "metadata": {},
   "outputs": [
    {
     "name": "stdout",
     "output_type": "stream",
     "text": [
      "10000\n",
      "9900\n"
     ]
    }
   ],
   "source": [
    "import random\n",
    "\n",
    "class Account:\n",
    "    count = 0\n",
    "    def __init__(self, 예금주, 잔액):\n",
    "        self.예금주 = 예금주\n",
    "        self.잔액 = 잔액\n",
    "        self.은행이름 = \"SC은행\"\n",
    "        self.계좌번호 = str(random.randrange(1, 999)).zfill(3) + \"-\" + str(random.randrange(1, 99)).zfill(2) + \"-\" + str(random.randrange(1, 999)).zfill(6)\n",
    "        Account.count += 1\n",
    "        \n",
    "    def get_account_num(Account):\n",
    "        return Account.count\n",
    "        \n",
    "    def deposit(self, 입금액):\n",
    "        if 입금액 > 0 :\n",
    "            self.잔액 += 입금액\n",
    "            \n",
    "    def withdraw (self, 출금액):\n",
    "        if self.잔액 > 출금액:\n",
    "            self.잔액 -= 출금액\n",
    "\n",
    "a = Account(\"홍길동\", 10000)\n",
    "print(a.잔액)\n",
    "a.withdraw(100)\n",
    "print(a.잔액)"
   ]
  },
  {
   "cell_type": "markdown",
   "id": "d6e979e2-91ab-4c67-b7fc-6890aea2bf5e",
   "metadata": {},
   "source": [
    "# 276"
   ]
  },
  {
   "cell_type": "code",
   "execution_count": 62,
   "id": "2fffbabe-f04f-45da-8b98-b6405fe7d200",
   "metadata": {},
   "outputs": [
    {
     "name": "stdout",
     "output_type": "stream",
     "text": [
      "은행이름: SC은행\n",
      "예금주: 홍길동\n",
      "계좌번호: 303-47-000324\n",
      "잔고:  10,000원\n"
     ]
    }
   ],
   "source": [
    "import random\n",
    "\n",
    "class Account:\n",
    "    count = 0\n",
    "    def __init__(self, 예금주, 잔액):\n",
    "        self.예금주 = 예금주\n",
    "        self.잔액 = 잔액\n",
    "        self.은행이름 = \"SC은행\"\n",
    "        self.계좌번호 = str(random.randrange(1, 999)).zfill(3) + \"-\" + str(random.randrange(1, 99)).zfill(2) + \"-\" + str(random.randrange(1, 999)).zfill(6)\n",
    "        Account.count += 1\n",
    "        \n",
    "    def get_account_num(Account):\n",
    "        return Account.count\n",
    "        \n",
    "    def deposit(self, 입금액):\n",
    "        if 입금액 > 0 :\n",
    "            self.잔액 += 입금액\n",
    "        \n",
    "    def withdraw (self, 출금액):\n",
    "        if self.잔액 > 출금액:\n",
    "            self.잔액 -= 출금액\n",
    "\n",
    "    def display_info (self):\n",
    "        print(f\"은행이름: {self.은행이름}\")\n",
    "        print(f\"예금주: {self.예금주}\")\n",
    "        print(f\"계좌번호: {self.계좌번호}\")\n",
    "        print(\"잔고: \", f\"{self.잔액:,}\"+\"원\")\n",
    "\n",
    "\n",
    "a = Account(\"홍길동\", 10000)\n",
    "a.display_info()"
   ]
  },
  {
   "cell_type": "markdown",
   "id": "facc70df-1950-4292-ada5-0a443f0d77d6",
   "metadata": {},
   "source": [
    "# 277"
   ]
  },
  {
   "cell_type": "code",
   "execution_count": 65,
   "id": "58c69b37-b0c2-46a6-a761-05b808d12c6a",
   "metadata": {},
   "outputs": [
    {
     "name": "stdout",
     "output_type": "stream",
     "text": [
      "1\n",
      "2\n",
      "3\n",
      "4\n",
      "0\n"
     ]
    },
    {
     "data": {
      "text/plain": [
       "60059.99999999999"
      ]
     },
     "execution_count": 65,
     "metadata": {},
     "output_type": "execute_result"
    }
   ],
   "source": [
    "import random\n",
    "\n",
    "class Account:\n",
    "    count = 0\n",
    "    deposit_count = 0\n",
    "    def __init__(self, 예금주, 잔액):\n",
    "        self.예금주 = 예금주\n",
    "        self.잔액 = 잔액\n",
    "        self.은행이름 = \"SC은행\"\n",
    "        self.계좌번호 = str(random.randrange(1, 999)).zfill(3) + \"-\" + str(random.randrange(1, 99)).zfill(2) + \"-\" + str(random.randrange(1, 999)).zfill(6)\n",
    "        Account.count += 1\n",
    "        \n",
    "    def get_account_num(Account):\n",
    "        return Account.count\n",
    "        \n",
    "    def deposit(self, 입금액):\n",
    "        if 입금액 > 0 :\n",
    "            self.잔액 += 입금액\n",
    "        self.deposit_count += 1\n",
    "        if self.deposit_count == 5:\n",
    "            self.잔액 *= 1.001\n",
    "            self.deposit_count = 0\n",
    "            \n",
    "    def withdraw (self, 출금액):\n",
    "        if self.잔액 > 출금액:\n",
    "            self.잔액 -= 출금액\n",
    "\n",
    "    def display_info (self):\n",
    "        print(f\"은행이름: {self.은행이름}\")\n",
    "        print(f\"예금주: {self.예금주}\")\n",
    "        print(f\"계좌번호: {self.계좌번호}\")\n",
    "        print(\"잔고: \", f\"{self.잔액:,}\"+\"원\")\n",
    "\n",
    "\n",
    "a = Account(\"홍길동\", 10000)\n",
    "a.deposit(10000)\n",
    "print(a.deposit_count)\n",
    "a.deposit(10000)\n",
    "print(a.deposit_count)\n",
    "a.deposit(10000)\n",
    "print(a.deposit_count)\n",
    "a.deposit(10000)\n",
    "print(a.deposit_count)\n",
    "a.deposit(10000)\n",
    "print(a.deposit_count)\n",
    "a.잔액"
   ]
  },
  {
   "cell_type": "markdown",
   "id": "e4f86804-2293-421d-bf3f-aaa34d94334f",
   "metadata": {},
   "source": [
    "# 278"
   ]
  },
  {
   "cell_type": "code",
   "execution_count": 68,
   "id": "a5165e88-16d7-43af-9cd3-24831a06bd02",
   "metadata": {},
   "outputs": [
    {
     "name": "stdout",
     "output_type": "stream",
     "text": [
      "홍길동\n",
      "임꺽정\n",
      "이순신\n"
     ]
    }
   ],
   "source": [
    "import random\n",
    "계좌리스트 = []\n",
    "class Account:\n",
    "    count = 0\n",
    "    deposit_count = 0\n",
    "    def __init__(self, 예금주, 잔액):\n",
    "        self.예금주 = 예금주\n",
    "        self.잔액 = 잔액\n",
    "        self.은행이름 = \"SC은행\"\n",
    "        self.계좌번호 = str(random.randrange(1, 999)).zfill(3) + \"-\" + str(random.randrange(1, 99)).zfill(2) + \"-\" + str(random.randrange(1, 999)).zfill(6)\n",
    "        Account.count += 1\n",
    "        \n",
    "    def get_account_num(Account):\n",
    "        return Account.count\n",
    "        \n",
    "    def deposit(self, 입금액):\n",
    "        if 입금액 > 0 :\n",
    "            self.잔액 += 입금액\n",
    "        self.deposit_count += 1\n",
    "        if self.deposit_count == 5:\n",
    "            self.잔액 *= 1.001\n",
    "            self.deposit_count = 0\n",
    "            \n",
    "    def withdraw (self, 출금액):\n",
    "        if self.잔액 > 출금액:\n",
    "            self.잔액 -= 출금액\n",
    "\n",
    "    def display_info (self):\n",
    "        print(f\"은행이름: {self.은행이름}\")\n",
    "        print(f\"예금주: {self.예금주}\")\n",
    "        print(f\"계좌번호: {self.계좌번호}\")\n",
    "        print(\"잔고: \", f\"{self.잔액:,}\"+\"원\")\n",
    "\n",
    "\n",
    "a = Account(\"홍길동\", 10000)\n",
    "b = Account(\"임꺽정\", 20000)\n",
    "c = Account(\"이순신\", 30000)\n",
    "\n",
    "계좌리스트.append(a)\n",
    "계좌리스트.append(b)\n",
    "계좌리스트.append(c)\n",
    "\n",
    "for i in 계좌리스트:\n",
    "    print(i.예금주)\n"
   ]
  },
  {
   "cell_type": "markdown",
   "id": "679d8147-efbd-4fba-af88-ee6107800e4e",
   "metadata": {},
   "source": [
    "# 279"
   ]
  },
  {
   "cell_type": "code",
   "execution_count": 88,
   "id": "364c34ae-fc7e-445a-988d-c698764a7fbc",
   "metadata": {},
   "outputs": [
    {
     "name": "stdout",
     "output_type": "stream",
     "text": [
      "홍길동\n",
      "이순신\n"
     ]
    }
   ],
   "source": [
    "a = Account(\"홍길동\", 1000000)\n",
    "b = Account(\"임꺽정\", 200000)\n",
    "c = Account(\"이순신\", 3000000)\n",
    "\n",
    "계좌리스트.append(a)\n",
    "계좌리스트.append(b)\n",
    "계좌리스트.append(c)\n",
    "\n",
    "for i in 계좌리스트:\n",
    "    if i.잔액 >= 1000000:\n",
    "        print(i.예금주)"
   ]
  },
  {
   "cell_type": "markdown",
   "id": "5e6657a0-4891-40ed-b7f3-f6a461282be0",
   "metadata": {},
   "source": [
    "# 280"
   ]
  },
  {
   "cell_type": "code",
   "execution_count": 104,
   "id": "9a11f98c-93d0-4c12-b8f9-ec0f728c9b4e",
   "metadata": {},
   "outputs": [
    {
     "name": "stdout",
     "output_type": "stream",
     "text": [
      "10000\n",
      "5000\n",
      "100\n",
      "10000\n",
      "3000\n"
     ]
    }
   ],
   "source": [
    "import random\n",
    "계좌리스트 = []\n",
    "class Account:\n",
    "    count = 0\n",
    "    deposit_count = 0\n",
    "    입금내역 = []\n",
    "    출금내역 = []\n",
    "    def __init__(self, 예금주, 잔액):\n",
    "        self.예금주 = 예금주\n",
    "        self.잔액 = 잔액\n",
    "        self.은행이름 = \"SC은행\"\n",
    "        self.계좌번호 = str(random.randrange(1, 999)).zfill(3) + \"-\" + str(random.randrange(1, 99)).zfill(2) + \"-\" + str(random.randrange(1, 999)).zfill(6)\n",
    "        Account.count += 1\n",
    "        self.입금내역.clear()\n",
    "        self.출금내역.clear()\n",
    "    def get_account_num(Account):\n",
    "        return Account.count\n",
    "        \n",
    "    def deposit(self, 입금액):\n",
    "        if 입금액 > 0 :\n",
    "            self.잔액 += 입금액\n",
    "            self.입금내역.append(입금액)\n",
    "        self.deposit_count += 1\n",
    "        if self.deposit_count == 5:\n",
    "            self.잔액 *= 1.01\n",
    "            self.deposit_count = 0\n",
    "            \n",
    "    def withdraw (self, 출금액):\n",
    "        if self.잔액 > 출금액:\n",
    "            self.잔액 -= 출금액\n",
    "\n",
    "    def withdraw (self, 출금액):\n",
    "        if self.잔액 > 출금액:\n",
    "            self.잔액 -= 출금액\n",
    "            self.출금내역.append(출금액)\n",
    "\n",
    "    def display_info (self):\n",
    "        print(f\"은행이름: {self.은행이름}\")\n",
    "        print(f\"예금주: {self.예금주}\")\n",
    "        print(f\"계좌번호: {self.계좌번호}\")\n",
    "        print(\"잔고: \", f\"{self.잔액:,}\"+\"원\")\n",
    "\n",
    "    def deposit_history(self):\n",
    "        for i in self.입금내역:\n",
    "            print(i)\n",
    "    \n",
    "    def withdraw_history(self):\n",
    "        for i in self.출금내역:\n",
    "            print(i)\n",
    "\n",
    "a = Account(\"홍길동\", 10000)\n",
    "a.deposit(10000)\n",
    "a.deposit(5000)\n",
    "a.deposit(100)\n",
    "a.deposit_history()\n",
    "\n",
    "a.withdraw(10000)\n",
    "a.withdraw(3000)\n",
    "a.withdraw_history()"
   ]
  },
  {
   "cell_type": "markdown",
   "id": "f5c3ca3e-1b92-4669-a030-2c138cfbb0ea",
   "metadata": {},
   "source": [
    "# 281"
   ]
  },
  {
   "cell_type": "code",
   "execution_count": 108,
   "id": "0d689038-9ec5-444a-bacb-78a9ab7d4994",
   "metadata": {},
   "outputs": [
    {
     "name": "stdout",
     "output_type": "stream",
     "text": [
      "2\n",
      "1000\n"
     ]
    }
   ],
   "source": [
    "class 차:\n",
    "    def __init__(self, 바퀴, 가격):\n",
    "        self.바퀴 = 바퀴\n",
    "        self.가격 = 가격\n",
    "\n",
    "car = 차(2, 1000)\n",
    "print(car.바퀴)\n",
    "print(car.가격)\n"
   ]
  },
  {
   "cell_type": "markdown",
   "id": "64269ba7-9f7d-483c-b66f-4852a234a5fc",
   "metadata": {},
   "source": [
    "# 282"
   ]
  },
  {
   "cell_type": "code",
   "execution_count": null,
   "id": "c24c7dcb-e33a-4782-99b7-8c4e24631113",
   "metadata": {},
   "outputs": [],
   "source": [
    "class 차:\n",
    "    def __init__(self, 바퀴, 가격):\n",
    "        self.바퀴 = 바퀴\n",
    "        self.가격 = 가격\n",
    "\n",
    "class 자전차(차):\n",
    "    pass\n",
    "\n",
    "bicycle = 자전차(2, 100)\n",
    "bicycle.가격"
   ]
  },
  {
   "cell_type": "markdown",
   "id": "0f434165-ed5f-41c4-b52e-8acef6c8357c",
   "metadata": {},
   "source": [
    "# 284"
   ]
  },
  {
   "cell_type": "code",
   "execution_count": 111,
   "id": "8e6e07dd-6b72-4b79-8152-cfe6c32d4ad5",
   "metadata": {},
   "outputs": [
    {
     "data": {
      "text/plain": [
       "'시마노'"
      ]
     },
     "execution_count": 111,
     "metadata": {},
     "output_type": "execute_result"
    }
   ],
   "source": [
    "class 차:\n",
    "    def __init__(self, 바퀴, 가격):\n",
    "        self.바퀴 = 바퀴\n",
    "        self.가격 = 가격\n",
    "\n",
    "class 자전차(차):\n",
    "    def __init__(self, 바퀴, 가격, 구동계):\n",
    "        self.바퀴 = 바퀴\n",
    "        self.가격 = 가격\n",
    "        self.구동계 = 구동계\n",
    "\n",
    "bicycle = 자전차(2, 100, \"시마노\")\n",
    "bicycle.구동계"
   ]
  },
  {
   "cell_type": "markdown",
   "id": "c1f6a4d3-4533-4553-9636-e5303f514776",
   "metadata": {},
   "source": [
    "# 285"
   ]
  },
  {
   "cell_type": "code",
   "execution_count": 115,
   "id": "e39589e2-4fc0-4e9a-9ca0-a825f6d9b997",
   "metadata": {},
   "outputs": [
    {
     "name": "stdout",
     "output_type": "stream",
     "text": [
      "바퀴수 4\n",
      "가격 1000\n"
     ]
    }
   ],
   "source": [
    "class 차:\n",
    "    def __init__(self, 바퀴, 가격):\n",
    "        self.바퀴 = 바퀴\n",
    "        self.가격 = 가격\n",
    "\n",
    "class 자동차(차):\n",
    "    def __init__(self, 바퀴, 가격):\n",
    "        self.바퀴 = 바퀴\n",
    "        self.가격 = 가격\n",
    "    def 정보(self):\n",
    "        print(f\"바퀴수 {self.바퀴}\")\n",
    "        print(f\"가격 {self.가격}\")\n",
    "\n",
    "car = 자동차(4, 1000)\n",
    "car.정보()"
   ]
  },
  {
   "cell_type": "markdown",
   "id": "8736a0b8-ba01-4603-9d87-954dd241283f",
   "metadata": {},
   "source": [
    "# 286"
   ]
  },
  {
   "cell_type": "code",
   "execution_count": 119,
   "id": "aa338faf-f8ad-47d4-b21c-ec30433edc43",
   "metadata": {},
   "outputs": [
    {
     "name": "stdout",
     "output_type": "stream",
     "text": [
      "바퀴수 2\n",
      "가격 100\n"
     ]
    }
   ],
   "source": [
    "class 차:\n",
    "    def __init__(self, 바퀴, 가격):\n",
    "        self.바퀴 = 바퀴\n",
    "        self.가격 = 가격\n",
    "\n",
    "    def 정보(self):\n",
    "            print(f\"바퀴수 {self.바퀴}\")\n",
    "            print(f\"가격 {self.가격}\")\n",
    "\n",
    "class 자전차(차):\n",
    "    def __init__(self, 바퀴, 가격, 구동계):\n",
    "        super().__init__(바퀴, 가격)\n",
    "        self.구동계 = 구동계\n",
    "\n",
    "bicycle = 자전차(2, 100, \"시마노\")\n",
    "bicycle.정보()"
   ]
  },
  {
   "cell_type": "markdown",
   "id": "7c8c1318-64c4-4f7e-8dc6-5d28474788a3",
   "metadata": {},
   "source": [
    "# 287"
   ]
  },
  {
   "cell_type": "code",
   "execution_count": 122,
   "id": "401b4a8d-0ae2-4e6a-adbd-c4f1aab9b538",
   "metadata": {},
   "outputs": [
    {
     "name": "stdout",
     "output_type": "stream",
     "text": [
      "바퀴수 2\n",
      "가격 100\n",
      "구동계 시마노\n"
     ]
    }
   ],
   "source": [
    "class 차:\n",
    "    def __init__(self, 바퀴, 가격):\n",
    "        self.바퀴 = 바퀴\n",
    "        self.가격 = 가격\n",
    "\n",
    "    def 정보(self):\n",
    "            print(f\"바퀴수 {self.바퀴}\")\n",
    "            print(f\"가격 {self.가격}\")\n",
    "\n",
    "class 자전차(차):\n",
    "    def __init__(self, 바퀴, 가격, 구동계):\n",
    "        super().__init__(바퀴, 가격)\n",
    "        self.구동계 = 구동계\n",
    "        \n",
    "    def 정보(self):\n",
    "        super().정보()\n",
    "        print(f\"구동계 {self.구동계}\")\n",
    "\n",
    "bicycle = 자전차(2, 100, \"시마노\")\n",
    "bicycle.정보()"
   ]
  },
  {
   "cell_type": "markdown",
   "id": "4898937a-3746-4122-b1f7-b6f53904cfbb",
   "metadata": {},
   "source": [
    "# 288"
   ]
  },
  {
   "cell_type": "code",
   "execution_count": 123,
   "id": "9b543354-f6f4-44b7-8404-c70e5b92eebc",
   "metadata": {},
   "outputs": [
    {
     "name": "stdout",
     "output_type": "stream",
     "text": [
      "자식호출\n"
     ]
    }
   ],
   "source": [
    "class 부모:\n",
    "  def 호출(self):\n",
    "    print(\"부모호출\")\n",
    "\n",
    "class 자식(부모):\n",
    "  def 호출(self):\n",
    "    print(\"자식호출\")\n",
    "\n",
    "나 = 자식()\n",
    "나.호출()\n",
    "\n",
    "# 자식호출"
   ]
  },
  {
   "cell_type": "markdown",
   "id": "b0e565bd-18bf-426c-bfb0-2ffb5b6da88a",
   "metadata": {},
   "source": [
    "# 289"
   ]
  },
  {
   "cell_type": "code",
   "execution_count": 124,
   "id": "b99fb5bb-ea7e-47d8-91ad-2fa29dbaa371",
   "metadata": {},
   "outputs": [
    {
     "name": "stdout",
     "output_type": "stream",
     "text": [
      "자식생성\n"
     ]
    }
   ],
   "source": [
    "class 부모:\n",
    "  def __init__(self):\n",
    "    print(\"부모생성\")\n",
    "\n",
    "class 자식(부모):\n",
    "  def __init__(self):\n",
    "    print(\"자식생성\")\n",
    "      \n",
    "나 = 자식()\n",
    "# 자식생성"
   ]
  },
  {
   "cell_type": "markdown",
   "id": "d9a40c84-bfc2-4514-9eec-f479a225aead",
   "metadata": {},
   "source": [
    "# 290"
   ]
  },
  {
   "cell_type": "code",
   "execution_count": 125,
   "id": "1fb2e53b-e083-4de3-8ffd-b07212df9d6a",
   "metadata": {},
   "outputs": [
    {
     "name": "stdout",
     "output_type": "stream",
     "text": [
      "자식생성\n",
      "부모생성\n"
     ]
    }
   ],
   "source": [
    "class 부모:\n",
    "  def __init__(self):\n",
    "    print(\"부모생성\")\n",
    "\n",
    "class 자식(부모):\n",
    "  def __init__(self):\n",
    "    print(\"자식생성\")\n",
    "    super().__init__()\n",
    "\n",
    "나 = 자식()\n",
    "# 자식생성\n",
    "#부모생성"
   ]
  },
  {
   "cell_type": "code",
   "execution_count": null,
   "id": "fd3bb413-3a8a-42ff-bdbf-2c9a791ccc61",
   "metadata": {},
   "outputs": [],
   "source": []
  }
 ],
 "metadata": {
  "kernelspec": {
   "display_name": "Python 3 (ipykernel)",
   "language": "python",
   "name": "python3"
  },
  "language_info": {
   "codemirror_mode": {
    "name": "ipython",
    "version": 3
   },
   "file_extension": ".py",
   "mimetype": "text/x-python",
   "name": "python",
   "nbconvert_exporter": "python",
   "pygments_lexer": "ipython3",
   "version": "3.11.7"
  }
 },
 "nbformat": 4,
 "nbformat_minor": 5
}
