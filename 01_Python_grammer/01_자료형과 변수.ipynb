{
 "cells": [
  {
   "cell_type": "markdown",
   "id": "641c4115-bcbe-4c1a-850f-cd1ec1371969",
   "metadata": {
    "jp-MarkdownHeadingCollapsed": true
   },
   "source": [
    "# 숫자 자료형"
   ]
  },
  {
   "cell_type": "code",
   "execution_count": 1,
   "id": "661466a3-b65a-4aec-a8d3-e7a6e1bbfc77",
   "metadata": {},
   "outputs": [],
   "source": [
    "a=123"
   ]
  },
  {
   "cell_type": "code",
   "execution_count": 2,
   "id": "b3aa26bf-2850-4f2a-941b-3b2ad5ae5789",
   "metadata": {},
   "outputs": [
    {
     "data": {
      "text/plain": [
       "123"
      ]
     },
     "execution_count": 2,
     "metadata": {},
     "output_type": "execute_result"
    }
   ],
   "source": [
    "a"
   ]
  },
  {
   "cell_type": "code",
   "execution_count": 4,
   "id": "fcf483e3-0721-4750-b623-7b4798b0d18f",
   "metadata": {},
   "outputs": [
    {
     "data": {
      "text/plain": [
       "-178"
      ]
     },
     "execution_count": 4,
     "metadata": {},
     "output_type": "execute_result"
    }
   ],
   "source": [
    "a=-178\n",
    "a"
   ]
  },
  {
   "cell_type": "code",
   "execution_count": 5,
   "id": "1bd4fc44-9b2e-4316-be15-e74f9cc4ed70",
   "metadata": {},
   "outputs": [
    {
     "data": {
      "text/plain": [
       "0"
      ]
     },
     "execution_count": 5,
     "metadata": {},
     "output_type": "execute_result"
    }
   ],
   "source": [
    "a=0\n",
    "a"
   ]
  },
  {
   "cell_type": "code",
   "execution_count": 6,
   "id": "dcf81baa-34db-45f9-b5ec-75aa370d63e0",
   "metadata": {},
   "outputs": [
    {
     "data": {
      "text/plain": [
       "1.2"
      ]
     },
     "execution_count": 6,
     "metadata": {},
     "output_type": "execute_result"
    }
   ],
   "source": [
    "a=1.2\n",
    "a"
   ]
  },
  {
   "cell_type": "code",
   "execution_count": 7,
   "id": "70feb361-a199-42dc-9bfc-5e1457ade15c",
   "metadata": {},
   "outputs": [
    {
     "data": {
      "text/plain": [
       "-3.45"
      ]
     },
     "execution_count": 7,
     "metadata": {},
     "output_type": "execute_result"
    }
   ],
   "source": [
    "a=-3.45\n",
    "a"
   ]
  },
  {
   "cell_type": "code",
   "execution_count": 8,
   "id": "4ed00b42-dae7-481b-a63b-97cdc547be4a",
   "metadata": {},
   "outputs": [
    {
     "data": {
      "text/plain": [
       "42300000000.0"
      ]
     },
     "execution_count": 8,
     "metadata": {},
     "output_type": "execute_result"
    }
   ],
   "source": [
    "a=4.23E10\n",
    "a"
   ]
  },
  {
   "cell_type": "code",
   "execution_count": 9,
   "id": "00465606-acd1-47d6-97a5-6e9649cdf56b",
   "metadata": {},
   "outputs": [
    {
     "data": {
      "text/plain": [
       "4.23e-10"
      ]
     },
     "execution_count": 9,
     "metadata": {},
     "output_type": "execute_result"
    }
   ],
   "source": [
    "a=4.23E-10\n",
    "a"
   ]
  },
  {
   "cell_type": "code",
   "execution_count": 10,
   "id": "437bc370-a38a-4ad0-8ab7-25776fa990a9",
   "metadata": {},
   "outputs": [
    {
     "data": {
      "text/plain": [
       "127"
      ]
     },
     "execution_count": 10,
     "metadata": {},
     "output_type": "execute_result"
    }
   ],
   "source": [
    "a=0o177\n",
    "a"
   ]
  },
  {
   "cell_type": "code",
   "execution_count": 13,
   "id": "eab61f02-93a1-47d9-ab69-24aa7edff7da",
   "metadata": {},
   "outputs": [
    {
     "data": {
      "text/plain": [
       "(2303, 2748)"
      ]
     },
     "execution_count": 13,
     "metadata": {},
     "output_type": "execute_result"
    }
   ],
   "source": [
    "a=0x8ff\n",
    "b=0xABC\n",
    "a, b"
   ]
  },
  {
   "cell_type": "markdown",
   "id": "6141c456-f563-43f4-a6be-c2957ce41095",
   "metadata": {
    "jp-MarkdownHeadingCollapsed": true
   },
   "source": [
    "# 사칙연산"
   ]
  },
  {
   "cell_type": "code",
   "execution_count": 14,
   "id": "7891f0f3-2960-4b38-83e8-22e39a552ad3",
   "metadata": {},
   "outputs": [
    {
     "data": {
      "text/plain": [
       "7"
      ]
     },
     "execution_count": 14,
     "metadata": {},
     "output_type": "execute_result"
    }
   ],
   "source": [
    "a=3\n",
    "b=4\n",
    "a+b"
   ]
  },
  {
   "cell_type": "code",
   "execution_count": 15,
   "id": "3bde89db-9660-46ce-a5c0-4daa70d2e3c8",
   "metadata": {},
   "outputs": [
    {
     "data": {
      "text/plain": [
       "-1"
      ]
     },
     "execution_count": 15,
     "metadata": {},
     "output_type": "execute_result"
    }
   ],
   "source": [
    "a-b"
   ]
  },
  {
   "cell_type": "code",
   "execution_count": 16,
   "id": "018ae523-e289-4417-bd0d-3db2a9d06092",
   "metadata": {},
   "outputs": [
    {
     "data": {
      "text/plain": [
       "12"
      ]
     },
     "execution_count": 16,
     "metadata": {},
     "output_type": "execute_result"
    }
   ],
   "source": [
    "a*b"
   ]
  },
  {
   "cell_type": "code",
   "execution_count": 18,
   "id": "eda67f10-a0b1-47e6-81e0-0d1b1109ec3a",
   "metadata": {},
   "outputs": [
    {
     "data": {
      "text/plain": [
       "0.75"
      ]
     },
     "execution_count": 18,
     "metadata": {},
     "output_type": "execute_result"
    }
   ],
   "source": [
    "a/b"
   ]
  },
  {
   "cell_type": "markdown",
   "id": "8e81e04b-418e-44ba-8356-c8321f42a35e",
   "metadata": {
    "jp-MarkdownHeadingCollapsed": true
   },
   "source": [
    "# 제곱 연산"
   ]
  },
  {
   "cell_type": "code",
   "execution_count": 19,
   "id": "b52c85ff-9613-41c0-991a-33d2194e1cac",
   "metadata": {},
   "outputs": [
    {
     "data": {
      "text/plain": [
       "81"
      ]
     },
     "execution_count": 19,
     "metadata": {},
     "output_type": "execute_result"
    }
   ],
   "source": [
    "a**b"
   ]
  },
  {
   "cell_type": "markdown",
   "id": "0f7ab775-df04-4e14-8e9a-31f770e176c1",
   "metadata": {
    "jp-MarkdownHeadingCollapsed": true
   },
   "source": [
    "# 나눗셈 나머지 연산"
   ]
  },
  {
   "cell_type": "code",
   "execution_count": 20,
   "id": "73b3575d-947f-4391-afb4-2a940972ec70",
   "metadata": {},
   "outputs": [
    {
     "data": {
      "text/plain": [
       "1"
      ]
     },
     "execution_count": 20,
     "metadata": {},
     "output_type": "execute_result"
    }
   ],
   "source": [
    "7%3"
   ]
  },
  {
   "cell_type": "code",
   "execution_count": 21,
   "id": "3e60b9f8-f207-4228-862b-3e5d76fb8a20",
   "metadata": {},
   "outputs": [
    {
     "data": {
      "text/plain": [
       "3"
      ]
     },
     "execution_count": 21,
     "metadata": {},
     "output_type": "execute_result"
    }
   ],
   "source": [
    "3%7"
   ]
  },
  {
   "cell_type": "markdown",
   "id": "869af310-bbd7-4415-86a6-02defd2ee9d4",
   "metadata": {
    "jp-MarkdownHeadingCollapsed": true
   },
   "source": [
    "# 나눗셈 몫 연산"
   ]
  },
  {
   "cell_type": "code",
   "execution_count": 22,
   "id": "7dd53125-fd8d-4885-9eff-8891f67e03b3",
   "metadata": {},
   "outputs": [
    {
     "data": {
      "text/plain": [
       "1"
      ]
     },
     "execution_count": 22,
     "metadata": {},
     "output_type": "execute_result"
    }
   ],
   "source": [
    "7//4"
   ]
  },
  {
   "cell_type": "code",
   "execution_count": 24,
   "id": "018119dc-dc22-426d-837f-4345eb9ac232",
   "metadata": {},
   "outputs": [
    {
     "data": {
      "text/plain": [
       "1.75"
      ]
     },
     "execution_count": 24,
     "metadata": {},
     "output_type": "execute_result"
    }
   ],
   "source": [
    "7/4"
   ]
  },
  {
   "cell_type": "markdown",
   "id": "c18ccc99-3ad8-4cb6-8512-b16408b6c20b",
   "metadata": {
    "jp-MarkdownHeadingCollapsed": true
   },
   "source": [
    "# 문자열 자료형"
   ]
  },
  {
   "cell_type": "code",
   "execution_count": 25,
   "id": "ebf9b1b8-a680-4790-9ebf-dd37bd0973d7",
   "metadata": {},
   "outputs": [
    {
     "data": {
      "text/plain": [
       "'Hello World!'"
      ]
     },
     "execution_count": 25,
     "metadata": {},
     "output_type": "execute_result"
    }
   ],
   "source": [
    "\"Hello World!\""
   ]
  },
  {
   "cell_type": "code",
   "execution_count": 26,
   "id": "1955b841-a7e0-4fb0-9569-38b9621c3bf7",
   "metadata": {},
   "outputs": [
    {
     "data": {
      "text/plain": [
       "'Hello World!'"
      ]
     },
     "execution_count": 26,
     "metadata": {},
     "output_type": "execute_result"
    }
   ],
   "source": [
    "'Hello World!'"
   ]
  },
  {
   "cell_type": "code",
   "execution_count": 31,
   "id": "0fabe4ee-a620-48a7-94dd-39cad3dabb6c",
   "metadata": {},
   "outputs": [
    {
     "data": {
      "text/plain": [
       "'Hello World!'"
      ]
     },
     "execution_count": 31,
     "metadata": {},
     "output_type": "execute_result"
    }
   ],
   "source": [
    "\"\"\"Hello World!\"\"\""
   ]
  },
  {
   "cell_type": "code",
   "execution_count": 33,
   "id": "e7697fd4-d9f3-4942-a649-84cb9a029f3b",
   "metadata": {},
   "outputs": [
    {
     "data": {
      "text/plain": [
       "'\\nHello World!\\n'"
      ]
     },
     "execution_count": 33,
     "metadata": {},
     "output_type": "execute_result"
    }
   ],
   "source": [
    "'''\n",
    "Hello World!\n",
    "'''"
   ]
  },
  {
   "cell_type": "markdown",
   "id": "f168beb3-c070-46e4-bc11-e63d7476a598",
   "metadata": {
    "jp-MarkdownHeadingCollapsed": true
   },
   "source": [
    "# 문자열 안에 작은 따옴표나 큰 따옴표를 포함시키고 싶을 때\n",
    "-- Python's favorite food is perl"
   ]
  },
  {
   "cell_type": "code",
   "execution_count": 34,
   "id": "1a2c182b-3e41-480a-9b43-d627318f3fe9",
   "metadata": {},
   "outputs": [
    {
     "ename": "SyntaxError",
     "evalue": "unterminated string literal (detected at line 1) (2917458957.py, line 1)",
     "output_type": "error",
     "traceback": [
      "\u001b[1;36m  Cell \u001b[1;32mIn[34], line 1\u001b[1;36m\u001b[0m\n\u001b[1;33m    Python's favorite food is perl\u001b[0m\n\u001b[1;37m          ^\u001b[0m\n\u001b[1;31mSyntaxError\u001b[0m\u001b[1;31m:\u001b[0m unterminated string literal (detected at line 1)\n"
     ]
    }
   ],
   "source": [
    "Python's favorite food is perl"
   ]
  },
  {
   "cell_type": "code",
   "execution_count": 36,
   "id": "59c152c3-044b-4fa2-b3f3-b90efeab9a7e",
   "metadata": {},
   "outputs": [
    {
     "ename": "SyntaxError",
     "evalue": "unterminated string literal (detected at line 1) (1974562179.py, line 1)",
     "output_type": "error",
     "traceback": [
      "\u001b[1;36m  Cell \u001b[1;32mIn[36], line 1\u001b[1;36m\u001b[0m\n\u001b[1;33m    'Python's favorite food is perl'\u001b[0m\n\u001b[1;37m                                   ^\u001b[0m\n\u001b[1;31mSyntaxError\u001b[0m\u001b[1;31m:\u001b[0m unterminated string literal (detected at line 1)\n"
     ]
    }
   ],
   "source": [
    "'Python's favorite food is perl'"
   ]
  },
  {
   "cell_type": "code",
   "execution_count": 37,
   "id": "1eb21067-f51c-4afe-9ae2-2c7bf99a6c10",
   "metadata": {},
   "outputs": [
    {
     "data": {
      "text/plain": [
       "\"Python's favorite food is perl\""
      ]
     },
     "execution_count": 37,
     "metadata": {},
     "output_type": "execute_result"
    }
   ],
   "source": [
    "\"Python's favorite food is perl\""
   ]
  },
  {
   "cell_type": "code",
   "execution_count": 38,
   "id": "45e894df-fda6-469f-b46f-02d5f711b69f",
   "metadata": {},
   "outputs": [
    {
     "ename": "SyntaxError",
     "evalue": "invalid syntax (4154917585.py, line 1)",
     "output_type": "error",
     "traceback": [
      "\u001b[1;36m  Cell \u001b[1;32mIn[38], line 1\u001b[1;36m\u001b[0m\n\u001b[1;33m    \"Pythoen is very easy.\" he says.\u001b[0m\n\u001b[1;37m                            ^\u001b[0m\n\u001b[1;31mSyntaxError\u001b[0m\u001b[1;31m:\u001b[0m invalid syntax\n"
     ]
    }
   ],
   "source": [
    "\"Pythoen is very easy.\" he says."
   ]
  },
  {
   "cell_type": "code",
   "execution_count": 39,
   "id": "8aa7e76d-eda1-4469-9f46-93e2a66a863c",
   "metadata": {},
   "outputs": [
    {
     "data": {
      "text/plain": [
       "'\"Pythoen is very easy.\" he says.'"
      ]
     },
     "execution_count": 39,
     "metadata": {},
     "output_type": "execute_result"
    }
   ],
   "source": [
    "'\"Pythoen is very easy.\" he says.'"
   ]
  },
  {
   "cell_type": "code",
   "execution_count": 42,
   "id": "17107c6b-c918-473e-aecc-e7273809ec7d",
   "metadata": {},
   "outputs": [
    {
     "data": {
      "text/plain": [
       "\"Python's favorite food is perl\""
      ]
     },
     "execution_count": 42,
     "metadata": {},
     "output_type": "execute_result"
    }
   ],
   "source": [
    "'Python\\'s favorite food is perl'"
   ]
  },
  {
   "cell_type": "code",
   "execution_count": 43,
   "id": "86945d06-a3b9-46d7-87c1-622b078a69fa",
   "metadata": {},
   "outputs": [
    {
     "data": {
      "text/plain": [
       "'\"Pythoen is very easy.\" he says.'"
      ]
     },
     "execution_count": 43,
     "metadata": {},
     "output_type": "execute_result"
    }
   ],
   "source": [
    "\"\\\"Pythoen is very easy.\\\" he says.\""
   ]
  },
  {
   "cell_type": "code",
   "execution_count": 44,
   "id": "c881c40f-719e-4228-91ac-b448253996be",
   "metadata": {},
   "outputs": [
    {
     "data": {
      "text/plain": [
       "'Life is too short, You need Python'"
      ]
     },
     "execution_count": 44,
     "metadata": {},
     "output_type": "execute_result"
    }
   ],
   "source": [
    "\"Life is too short, You need Python\""
   ]
  },
  {
   "cell_type": "code",
   "execution_count": 46,
   "id": "1a52d312-2f1a-4996-b78d-4ca004d289d1",
   "metadata": {},
   "outputs": [
    {
     "data": {
      "text/plain": [
       "'Life is too short, \\nYou need Python'"
      ]
     },
     "execution_count": 46,
     "metadata": {},
     "output_type": "execute_result"
    }
   ],
   "source": [
    "\"Life is too short, \\nYou need Python\""
   ]
  },
  {
   "cell_type": "code",
   "execution_count": 48,
   "id": "46654eda-94b6-41c1-8ea3-852695dd3b6e",
   "metadata": {},
   "outputs": [
    {
     "data": {
      "text/plain": [
       "'Life is too short, \\nYou need Python'"
      ]
     },
     "execution_count": 48,
     "metadata": {},
     "output_type": "execute_result"
    }
   ],
   "source": [
    "multiline = \"Life is too short, \\nYou need Python\"\n",
    "multiline"
   ]
  },
  {
   "cell_type": "code",
   "execution_count": 50,
   "id": "bb0c40e6-55ab-43aa-8f2b-c5ef746d3979",
   "metadata": {},
   "outputs": [
    {
     "name": "stdout",
     "output_type": "stream",
     "text": [
      "Life is too short, \n",
      "You need Python\n"
     ]
    }
   ],
   "source": [
    "print(multiline)"
   ]
  },
  {
   "cell_type": "code",
   "execution_count": 55,
   "id": "7223ae14-db68-471a-841b-d2163db4e7e0",
   "metadata": {},
   "outputs": [
    {
     "data": {
      "text/plain": [
       "'Life is too short,\\nYou need Python\\n'"
      ]
     },
     "execution_count": 55,
     "metadata": {},
     "output_type": "execute_result"
    }
   ],
   "source": [
    "multiline = '''Life is too short,\n",
    "You need Python\n",
    "'''\n",
    "multiline"
   ]
  },
  {
   "cell_type": "code",
   "execution_count": 56,
   "id": "17e1e48e-37bc-4dc7-a5e1-986374b20f68",
   "metadata": {},
   "outputs": [
    {
     "name": "stdout",
     "output_type": "stream",
     "text": [
      "Life is too short,\n",
      "You need Python\n",
      "\n"
     ]
    }
   ],
   "source": [
    "print(multiline)"
   ]
  },
  {
   "cell_type": "markdown",
   "id": "18cc60b7-d900-4551-a592-13fb4c0ae1a1",
   "metadata": {
    "jp-MarkdownHeadingCollapsed": true
   },
   "source": [
    "# 문자열 연산하기"
   ]
  },
  {
   "cell_type": "code",
   "execution_count": 58,
   "id": "6d680efa-12fc-4939-85b5-0838e8c99593",
   "metadata": {},
   "outputs": [
    {
     "data": {
      "text/plain": [
       "'Python is fun!'"
      ]
     },
     "execution_count": 58,
     "metadata": {},
     "output_type": "execute_result"
    }
   ],
   "source": [
    "head = \"Python\"\n",
    "tail = \" is fun!\"\n",
    "head + tail"
   ]
  },
  {
   "cell_type": "code",
   "execution_count": 59,
   "id": "46d2440e-c384-43c8-a261-f906f54da04b",
   "metadata": {},
   "outputs": [
    {
     "data": {
      "text/plain": [
       "'PythonPythonPythonPythonPython'"
      ]
     },
     "execution_count": 59,
     "metadata": {},
     "output_type": "execute_result"
    }
   ],
   "source": [
    "a = \"Python\"\n",
    "a*5"
   ]
  },
  {
   "cell_type": "code",
   "execution_count": 60,
   "id": "88fe97f1-39e8-4369-ab22-e78a8a336942",
   "metadata": {},
   "outputs": [
    {
     "name": "stdout",
     "output_type": "stream",
     "text": [
      "==================================================\n"
     ]
    }
   ],
   "source": [
    "print('='*50)"
   ]
  },
  {
   "cell_type": "code",
   "execution_count": 61,
   "id": "dace4a7f-18fe-43c6-8c25-70f18a1cba1c",
   "metadata": {},
   "outputs": [
    {
     "data": {
      "text/plain": [
       "17"
      ]
     },
     "execution_count": 61,
     "metadata": {},
     "output_type": "execute_result"
    }
   ],
   "source": [
    "a = \"Life is too short\"\n",
    "len(a)"
   ]
  },
  {
   "cell_type": "markdown",
   "id": "985d2a6c-c608-422b-8769-5473eda67a2b",
   "metadata": {
    "jp-MarkdownHeadingCollapsed": true
   },
   "source": [
    "# 문자열 인덱싱"
   ]
  },
  {
   "cell_type": "code",
   "execution_count": 62,
   "id": "9c845637-119f-4c81-9680-f2a9f57d78da",
   "metadata": {},
   "outputs": [
    {
     "data": {
      "text/plain": [
       "34"
      ]
     },
     "execution_count": 62,
     "metadata": {},
     "output_type": "execute_result"
    }
   ],
   "source": [
    "a = \"Life is too short, You need Python\"\n",
    "len(a)"
   ]
  },
  {
   "cell_type": "code",
   "execution_count": 63,
   "id": "0b2df528-79e4-4fe2-8e85-73824b5d4eaa",
   "metadata": {},
   "outputs": [
    {
     "data": {
      "text/plain": [
       "'e'"
      ]
     },
     "execution_count": 63,
     "metadata": {},
     "output_type": "execute_result"
    }
   ],
   "source": [
    "a[3]"
   ]
  },
  {
   "cell_type": "code",
   "execution_count": 65,
   "id": "62987e52-e9b5-4506-8715-df7d2d0b30e6",
   "metadata": {},
   "outputs": [
    {
     "data": {
      "text/plain": [
       "'h'"
      ]
     },
     "execution_count": 65,
     "metadata": {},
     "output_type": "execute_result"
    }
   ],
   "source": [
    "a[13]"
   ]
  },
  {
   "cell_type": "code",
   "execution_count": 66,
   "id": "776c67cc-3f93-4bae-932d-46fb3b832716",
   "metadata": {},
   "outputs": [
    {
     "data": {
      "text/plain": [
       "'n'"
      ]
     },
     "execution_count": 66,
     "metadata": {},
     "output_type": "execute_result"
    }
   ],
   "source": [
    "a[-1]"
   ]
  },
  {
   "cell_type": "code",
   "execution_count": 67,
   "id": "f8b89170-eed7-470b-a7cf-e5d349e2aafa",
   "metadata": {},
   "outputs": [
    {
     "data": {
      "text/plain": [
       "' '"
      ]
     },
     "execution_count": 67,
     "metadata": {},
     "output_type": "execute_result"
    }
   ],
   "source": [
    "a[-7]"
   ]
  },
  {
   "cell_type": "code",
   "execution_count": 68,
   "id": "9f96977f-cd8e-4a92-b64a-16b7eacd92bf",
   "metadata": {},
   "outputs": [
    {
     "data": {
      "text/plain": [
       "'L'"
      ]
     },
     "execution_count": 68,
     "metadata": {},
     "output_type": "execute_result"
    }
   ],
   "source": [
    "a[-0]"
   ]
  },
  {
   "cell_type": "markdown",
   "id": "3d0f084d-955e-4dc4-be62-91b2a29e9abb",
   "metadata": {
    "jp-MarkdownHeadingCollapsed": true
   },
   "source": [
    "# 문자열 슬라이싱"
   ]
  },
  {
   "cell_type": "code",
   "execution_count": 75,
   "id": "700ea925-0083-4751-a3bb-521b2c0a755f",
   "metadata": {},
   "outputs": [
    {
     "data": {
      "text/plain": [
       "'Life'"
      ]
     },
     "execution_count": 75,
     "metadata": {},
     "output_type": "execute_result"
    }
   ],
   "source": [
    "a = \"Life is too short, You need Python\"\n",
    "a[0]+a[1]+a[2]+a[3]"
   ]
  },
  {
   "cell_type": "code",
   "execution_count": 79,
   "id": "d9d84c93-0588-47ef-8c36-3eaefbd612e1",
   "metadata": {},
   "outputs": [
    {
     "data": {
      "text/plain": [
       "'Life'"
      ]
     },
     "execution_count": 79,
     "metadata": {},
     "output_type": "execute_result"
    }
   ],
   "source": [
    "a[0:4]"
   ]
  },
  {
   "cell_type": "code",
   "execution_count": 84,
   "id": "721fb106-db0d-4f8c-88be-0e8a05c825b3",
   "metadata": {},
   "outputs": [
    {
     "data": {
      "text/plain": [
       "'You need Python'"
      ]
     },
     "execution_count": 84,
     "metadata": {},
     "output_type": "execute_result"
    }
   ],
   "source": [
    "a[19:34]"
   ]
  },
  {
   "cell_type": "code",
   "execution_count": 85,
   "id": "18404403-2561-407d-a2f7-92840d40dd02",
   "metadata": {},
   "outputs": [
    {
     "data": {
      "text/plain": [
       "'You need Python'"
      ]
     },
     "execution_count": 85,
     "metadata": {},
     "output_type": "execute_result"
    }
   ],
   "source": [
    "a[19:]"
   ]
  },
  {
   "cell_type": "code",
   "execution_count": 86,
   "id": "c32425f9-239c-4659-af6a-b72ead1c0e77",
   "metadata": {},
   "outputs": [
    {
     "data": {
      "text/plain": [
       "'You need'"
      ]
     },
     "execution_count": 86,
     "metadata": {},
     "output_type": "execute_result"
    }
   ],
   "source": [
    "a[19:-7]"
   ]
  },
  {
   "cell_type": "markdown",
   "id": "8c90d7df-3475-4a62-b7f9-333e7e092ed0",
   "metadata": {
    "jp-MarkdownHeadingCollapsed": true
   },
   "source": [
    "# 슬라이싱으로 문자열 나누기"
   ]
  },
  {
   "cell_type": "code",
   "execution_count": 97,
   "id": "5bb64742-40a4-45c9-91ec-87511e983190",
   "metadata": {},
   "outputs": [
    {
     "data": {
      "text/plain": [
       "('20240610', 'Sunny')"
      ]
     },
     "execution_count": 97,
     "metadata": {},
     "output_type": "execute_result"
    }
   ],
   "source": [
    "a=\"20240610Sunny\"\n",
    "a[:8], a[8:]"
   ]
  },
  {
   "cell_type": "markdown",
   "id": "ddd1cd81-945a-419c-b3f3-ab1afa7e0fc8",
   "metadata": {
    "jp-MarkdownHeadingCollapsed": true
   },
   "source": [
    "# 문자열 수정하기"
   ]
  },
  {
   "cell_type": "code",
   "execution_count": 102,
   "id": "67c4eec1-66e3-4752-a924-ddd07021d675",
   "metadata": {},
   "outputs": [
    {
     "ename": "TypeError",
     "evalue": "'str' object does not support item assignment",
     "output_type": "error",
     "traceback": [
      "\u001b[1;31m---------------------------------------------------------------------------\u001b[0m",
      "\u001b[1;31mTypeError\u001b[0m                                 Traceback (most recent call last)",
      "Cell \u001b[1;32mIn[102], line 2\u001b[0m\n\u001b[0;32m      1\u001b[0m a\u001b[38;5;241m=\u001b[39m\u001b[38;5;124m\"\u001b[39m\u001b[38;5;124mpithon\u001b[39m\u001b[38;5;124m\"\u001b[39m\n\u001b[1;32m----> 2\u001b[0m a[\u001b[38;5;241m1\u001b[39m] \u001b[38;5;241m=\u001b[39m \u001b[38;5;124m'\u001b[39m\u001b[38;5;124my\u001b[39m\u001b[38;5;124m'\u001b[39m\n\u001b[0;32m      3\u001b[0m a\n",
      "\u001b[1;31mTypeError\u001b[0m: 'str' object does not support item assignment"
     ]
    }
   ],
   "source": [
    "a=\"pithon\"\n",
    "a[1] = 'y'\n",
    "a"
   ]
  },
  {
   "cell_type": "code",
   "execution_count": 103,
   "id": "e3a07ac9-817f-4d87-8157-85758b249f40",
   "metadata": {},
   "outputs": [
    {
     "data": {
      "text/plain": [
       "'python'"
      ]
     },
     "execution_count": 103,
     "metadata": {},
     "output_type": "execute_result"
    }
   ],
   "source": [
    "b = a[0] + 'y' + a[2:]\n",
    "b"
   ]
  },
  {
   "cell_type": "markdown",
   "id": "85a0563c-89a8-4f47-bf63-e73452a71f62",
   "metadata": {},
   "source": [
    "# 문자열 포매팅"
   ]
  },
  {
   "cell_type": "code",
   "execution_count": 105,
   "id": "863a036c-9a2c-45e9-9106-bdf07d5f2a89",
   "metadata": {},
   "outputs": [
    {
     "data": {
      "text/plain": [
       "'I eat 3 apples'"
      ]
     },
     "execution_count": 105,
     "metadata": {},
     "output_type": "execute_result"
    }
   ],
   "source": [
    "# 숫자 바로 대입\n",
    "\"I eat %d apples\"%3"
   ]
  },
  {
   "cell_type": "code",
   "execution_count": 106,
   "id": "b636e836-18b0-4c54-bf36-81e5960a5496",
   "metadata": {},
   "outputs": [
    {
     "data": {
      "text/plain": [
       "'I eat five apples'"
      ]
     },
     "execution_count": 106,
     "metadata": {},
     "output_type": "execute_result"
    }
   ],
   "source": [
    "# 문자열 바로 대입\n",
    "\"I eat %s apples\"%'five'"
   ]
  },
  {
   "cell_type": "code",
   "execution_count": 107,
   "id": "2f580c98-fb0e-4866-80ed-989b17f30161",
   "metadata": {},
   "outputs": [
    {
     "data": {
      "text/plain": [
       "'I eat 5 apples'"
      ]
     },
     "execution_count": 107,
     "metadata": {},
     "output_type": "execute_result"
    }
   ],
   "source": [
    "\"I eat %s apples\"%5"
   ]
  },
  {
   "cell_type": "code",
   "execution_count": 114,
   "id": "eb945adc-01fd-40e8-970e-e79309014d34",
   "metadata": {},
   "outputs": [
    {
     "ename": "NameError",
     "evalue": "name '삼' is not defined",
     "output_type": "error",
     "traceback": [
      "\u001b[1;31m---------------------------------------------------------------------------\u001b[0m",
      "\u001b[1;31mNameError\u001b[0m                                 Traceback (most recent call last)",
      "Cell \u001b[1;32mIn[114], line 1\u001b[0m\n\u001b[1;32m----> 1\u001b[0m \u001b[38;5;124m\"\u001b[39m\u001b[38;5;124mI eat \u001b[39m\u001b[38;5;132;01m%d\u001b[39;00m\u001b[38;5;124m apples\u001b[39m\u001b[38;5;124m\"\u001b[39m\u001b[38;5;241m%\u001b[39m삼\n",
      "\u001b[1;31mNameError\u001b[0m: name '삼' is not defined"
     ]
    }
   ],
   "source": [
    "\"I eat %d apples\"%삼"
   ]
  },
  {
   "cell_type": "code",
   "execution_count": 115,
   "id": "a2e0db20-53bf-4bc1-969b-1d0a6abf7b6c",
   "metadata": {},
   "outputs": [
    {
     "data": {
      "text/plain": [
       "'I eat 3 apples'"
      ]
     },
     "execution_count": 115,
     "metadata": {},
     "output_type": "execute_result"
    }
   ],
   "source": [
    "# 숫자 값을 나타내는 변수로 대입\n",
    "num = 3\n",
    "\"I eat %d apples\"%num"
   ]
  },
  {
   "cell_type": "code",
   "execution_count": 117,
   "id": "6c31fe42-fe79-41ec-8367-43110625bcac",
   "metadata": {},
   "outputs": [
    {
     "data": {
      "text/plain": [
       "'I eat 10 apples. so i was sick for three days'"
      ]
     },
     "execution_count": 117,
     "metadata": {},
     "output_type": "execute_result"
    }
   ],
   "source": [
    "# 2개 이상 값 넣기\n",
    "num=10\n",
    "day='three'\n",
    "\"I eat %d apples. so i was sick for %s days\"%(num, day)"
   ]
  },
  {
   "cell_type": "code",
   "execution_count": 118,
   "id": "6a34933b-63cb-496c-9493-f0e08f39c18e",
   "metadata": {},
   "outputs": [
    {
     "ename": "TypeError",
     "evalue": "%d format: a real number is required, not str",
     "output_type": "error",
     "traceback": [
      "\u001b[1;31m---------------------------------------------------------------------------\u001b[0m",
      "\u001b[1;31mTypeError\u001b[0m                                 Traceback (most recent call last)",
      "Cell \u001b[1;32mIn[118], line 1\u001b[0m\n\u001b[1;32m----> 1\u001b[0m \u001b[38;5;124m\"\u001b[39m\u001b[38;5;124mI eat \u001b[39m\u001b[38;5;132;01m%d\u001b[39;00m\u001b[38;5;124m apples. so i was sick for \u001b[39m\u001b[38;5;132;01m%s\u001b[39;00m\u001b[38;5;124m days\u001b[39m\u001b[38;5;124m\"\u001b[39m\u001b[38;5;241m%\u001b[39m(day, num)\n",
      "\u001b[1;31mTypeError\u001b[0m: %d format: a real number is required, not str"
     ]
    }
   ],
   "source": [
    "\"I eat %d apples. so i was sick for %s days\"%(day, num)"
   ]
  },
  {
   "cell_type": "code",
   "execution_count": 119,
   "id": "5a36695a-aedf-4d4e-a877-1b47e67834fe",
   "metadata": {},
   "outputs": [
    {
     "data": {
      "text/plain": [
       "'I have 3 apples'"
      ]
     },
     "execution_count": 119,
     "metadata": {},
     "output_type": "execute_result"
    }
   ],
   "source": [
    "\"I have %s apples\"%3"
   ]
  },
  {
   "cell_type": "code",
   "execution_count": 120,
   "id": "369fe8d3-00b6-467d-a521-d5d7156f5d4b",
   "metadata": {},
   "outputs": [
    {
     "data": {
      "text/plain": [
       "'rate is 3.234'"
      ]
     },
     "execution_count": 120,
     "metadata": {},
     "output_type": "execute_result"
    }
   ],
   "source": [
    "\"rate is %s\"%3.234"
   ]
  },
  {
   "cell_type": "code",
   "execution_count": 124,
   "id": "8a1383f7-208c-463d-aa4f-d326285c0a4d",
   "metadata": {},
   "outputs": [
    {
     "ename": "TypeError",
     "evalue": "not enough arguments for format string",
     "output_type": "error",
     "traceback": [
      "\u001b[1;31m---------------------------------------------------------------------------\u001b[0m",
      "\u001b[1;31mTypeError\u001b[0m                                 Traceback (most recent call last)",
      "Cell \u001b[1;32mIn[124], line 1\u001b[0m\n\u001b[1;32m----> 1\u001b[0m \u001b[38;5;124m\"\u001b[39m\u001b[38;5;124m오늘의 습도는 \u001b[39m\u001b[38;5;132;01m%d\u001b[39;00m\u001b[38;5;124m%\u001b[39m\u001b[38;5;124m 입니다\u001b[39m\u001b[38;5;124m\"\u001b[39m\u001b[38;5;241m%\u001b[39m\u001b[38;5;241m70\u001b[39m\n",
      "\u001b[1;31mTypeError\u001b[0m: not enough arguments for format string"
     ]
    }
   ],
   "source": [
    "\"오늘의 습도는 %d% 입니다\"%70"
   ]
  },
  {
   "cell_type": "code",
   "execution_count": 125,
   "id": "122314dc-ef7b-481f-8e8f-4735aef6467d",
   "metadata": {},
   "outputs": [
    {
     "data": {
      "text/plain": [
       "'오늘의 습도는 70% 입니다'"
      ]
     },
     "execution_count": 125,
     "metadata": {},
     "output_type": "execute_result"
    }
   ],
   "source": [
    "\"오늘의 습도는 %d%% 입니다\"%70"
   ]
  },
  {
   "cell_type": "markdown",
   "id": "e3d4da8a-245b-4a32-979d-3c32e9a9bf96",
   "metadata": {
    "jp-MarkdownHeadingCollapsed": true
   },
   "source": [
    "# 소수점 표현하기"
   ]
  },
  {
   "cell_type": "code",
   "execution_count": 128,
   "id": "cc6cbcd8-dbbb-4d9f-9b91-776e2bef5b3f",
   "metadata": {},
   "outputs": [
    {
     "data": {
      "text/plain": [
       "'3.14'"
      ]
     },
     "execution_count": 128,
     "metadata": {},
     "output_type": "execute_result"
    }
   ],
   "source": [
    "\"%0.2f\"%3.14159268"
   ]
  },
  {
   "cell_type": "code",
   "execution_count": 129,
   "id": "69585220-d9f8-4721-b65a-442078f46a77",
   "metadata": {},
   "outputs": [
    {
     "data": {
      "text/plain": [
       "'3.1416'"
      ]
     },
     "execution_count": 129,
     "metadata": {},
     "output_type": "execute_result"
    }
   ],
   "source": [
    "\"%0.4f\"%3.14159268"
   ]
  },
  {
   "cell_type": "markdown",
   "id": "ecfe5ba9-fa3e-468a-b275-cde787763f48",
   "metadata": {},
   "source": [
    "# format 함수를 사용한 포매팅"
   ]
  },
  {
   "cell_type": "code",
   "execution_count": 132,
   "id": "4c263201-9f24-4cd9-9ec3-0e08fbd1f924",
   "metadata": {},
   "outputs": [
    {
     "data": {
      "text/plain": [
       "'I eat 3 apples'"
      ]
     },
     "execution_count": 132,
     "metadata": {},
     "output_type": "execute_result"
    }
   ],
   "source": [
    "\"I eat {} apples\".format(3)"
   ]
  },
  {
   "cell_type": "code",
   "execution_count": 135,
   "id": "82e11218-fd77-4c94-b6d0-8bde9c3f7d97",
   "metadata": {},
   "outputs": [
    {
     "data": {
      "text/plain": [
       "'I eat five apples'"
      ]
     },
     "execution_count": 135,
     "metadata": {},
     "output_type": "execute_result"
    }
   ],
   "source": [
    "\"I eat {} apples\".format('five')"
   ]
  },
  {
   "cell_type": "code",
   "execution_count": 136,
   "id": "7832acf5-5ce9-4a3d-aa21-2e71def0a80c",
   "metadata": {},
   "outputs": [
    {
     "data": {
      "text/plain": [
       "'I eat 3 apples'"
      ]
     },
     "execution_count": 136,
     "metadata": {},
     "output_type": "execute_result"
    }
   ],
   "source": [
    "num=3\n",
    "\"I eat {} apples\".format(num)"
   ]
  },
  {
   "cell_type": "code",
   "execution_count": 141,
   "id": "e7ef75f6-615f-4627-acd0-090f7bc70902",
   "metadata": {},
   "outputs": [
    {
     "data": {
      "text/plain": [
       "'I eat 10 apples. so i was sick for three days'"
      ]
     },
     "execution_count": 141,
     "metadata": {},
     "output_type": "execute_result"
    }
   ],
   "source": [
    "num=10\n",
    "day='three'\n",
    "\"I eat {} apples. so i was sick for {} days\".format(num, day)"
   ]
  },
  {
   "cell_type": "code",
   "execution_count": 142,
   "id": "588a6a79-2a73-4f6d-b6d8-67ccb2aae60e",
   "metadata": {},
   "outputs": [
    {
     "data": {
      "text/plain": [
       "'I eat three apples. so i was sick for 10 days'"
      ]
     },
     "execution_count": 142,
     "metadata": {},
     "output_type": "execute_result"
    }
   ],
   "source": [
    "\"I eat {} apples. so i was sick for {} days\".format(day, num)"
   ]
  },
  {
   "cell_type": "code",
   "execution_count": 143,
   "id": "fc119901-f252-4e4a-a448-1bfa4ccbd849",
   "metadata": {},
   "outputs": [
    {
     "data": {
      "text/plain": [
       "'I eat 10 apples. so i was sick for three days'"
      ]
     },
     "execution_count": 143,
     "metadata": {},
     "output_type": "execute_result"
    }
   ],
   "source": [
    "\"I eat {0} apples. so i was sick for {1} days\".format(num, day)"
   ]
  },
  {
   "cell_type": "code",
   "execution_count": 146,
   "id": "dac9157a-0122-42a4-a6dd-3bd825cff561",
   "metadata": {},
   "outputs": [
    {
     "data": {
      "text/plain": [
       "'I eat 10 apples. so i was sick for 3 days'"
      ]
     },
     "execution_count": 146,
     "metadata": {},
     "output_type": "execute_result"
    }
   ],
   "source": [
    "\"I eat {num} apples. so i was sick for {day} days\".format(num=10, day=3)"
   ]
  },
  {
   "cell_type": "code",
   "execution_count": 147,
   "id": "bf378002-2020-4be6-8511-95cc26a488b3",
   "metadata": {},
   "outputs": [
    {
     "data": {
      "text/plain": [
       "'I eat 10 apples. so i was sick for 3 days'"
      ]
     },
     "execution_count": 147,
     "metadata": {},
     "output_type": "execute_result"
    }
   ],
   "source": [
    "\"I eat {num} apples. so i was sick for {day} days\".format( day=3, num=10)"
   ]
  },
  {
   "cell_type": "code",
   "execution_count": 148,
   "id": "cb62b3d8-0cb3-4680-be6c-3d2fda085e4b",
   "metadata": {},
   "outputs": [
    {
     "ename": "SyntaxError",
     "evalue": "positional argument follows keyword argument (3633057426.py, line 1)",
     "output_type": "error",
     "traceback": [
      "\u001b[1;36m  Cell \u001b[1;32mIn[148], line 1\u001b[1;36m\u001b[0m\n\u001b[1;33m    \"I eat {} apples. so i was sick for {day} days\".format( day=3, 10)\u001b[0m\n\u001b[1;37m                                                                     ^\u001b[0m\n\u001b[1;31mSyntaxError\u001b[0m\u001b[1;31m:\u001b[0m positional argument follows keyword argument\n"
     ]
    }
   ],
   "source": [
    "\"I eat {} apples. so i was sick for {day} days\".format( day=3, 10)"
   ]
  },
  {
   "cell_type": "code",
   "execution_count": 149,
   "id": "9bd9b325-2e75-4520-b769-e19774b863e7",
   "metadata": {},
   "outputs": [
    {
     "data": {
      "text/plain": [
       "'I eat 10 apples. so i was sick for 3 days'"
      ]
     },
     "execution_count": 149,
     "metadata": {},
     "output_type": "execute_result"
    }
   ],
   "source": [
    "\"I eat {} apples. so i was sick for {day} days\".format(10, day=3)"
   ]
  },
  {
   "cell_type": "markdown",
   "id": "b4c37675-c64a-4239-aab5-40d5bb25fca9",
   "metadata": {
    "jp-MarkdownHeadingCollapsed": true
   },
   "source": [
    "# 소수점 표현하기"
   ]
  },
  {
   "cell_type": "code",
   "execution_count": 153,
   "id": "2451d5a1-e89d-4b58-885e-a0bda2fc68fd",
   "metadata": {},
   "outputs": [
    {
     "data": {
      "text/plain": [
       "'3.1234'"
      ]
     },
     "execution_count": 153,
     "metadata": {},
     "output_type": "execute_result"
    }
   ],
   "source": [
    "y=3.123411\n",
    "\"{0:0.4f}\".format(y)"
   ]
  },
  {
   "cell_type": "markdown",
   "id": "9049e417-c1e3-46b0-847f-27b4d783439a",
   "metadata": {},
   "source": [
    "# f문자열 포매팅"
   ]
  },
  {
   "cell_type": "code",
   "execution_count": 156,
   "id": "4aa0cd66-2824-40bb-90b0-f97bb55b2a2a",
   "metadata": {},
   "outputs": [
    {
     "data": {
      "text/plain": [
       "'나의 이름은 홍길동입니다. 나이는 30입니다.'"
      ]
     },
     "execution_count": 156,
     "metadata": {},
     "output_type": "execute_result"
    }
   ],
   "source": [
    "name = \"홍길동\"\n",
    "age = 30\n",
    "f'나의 이름은 {name}입니다. 나이는 {age}입니다.'"
   ]
  },
  {
   "cell_type": "code",
   "execution_count": 157,
   "id": "60f12821-0f13-421f-9be6-6ff29c9b996f",
   "metadata": {},
   "outputs": [
    {
     "data": {
      "text/plain": [
       "'나는 내년이면 31살이 됩니다'"
      ]
     },
     "execution_count": 157,
     "metadata": {},
     "output_type": "execute_result"
    }
   ],
   "source": [
    "f\"나는 내년이면 {age+1}살이 됩니다\""
   ]
  },
  {
   "cell_type": "code",
   "execution_count": 159,
   "id": "65e913f9-b801-4076-b3fe-74c0647e49e3",
   "metadata": {},
   "outputs": [
    {
     "data": {
      "text/plain": [
       "'나의 이름은 홍길동 입니다 나이는 30입니다'"
      ]
     },
     "execution_count": 159,
     "metadata": {},
     "output_type": "execute_result"
    }
   ],
   "source": [
    "d={'name':'홍길동','age':30}\n",
    "f'나의 이름은 {d[\"name\"]} 입니다 나이는 {d[\"age\"]}입니다'"
   ]
  },
  {
   "cell_type": "markdown",
   "id": "0d080d03-8b69-41c0-8834-d3ddee43a315",
   "metadata": {},
   "source": [
    "# 문자열 함수들"
   ]
  },
  {
   "cell_type": "code",
   "execution_count": 7,
   "id": "0dcc9148-5711-40cc-82b7-c30f938e1a12",
   "metadata": {
    "scrolled": true
   },
   "outputs": [
    {
     "data": {
      "text/plain": [
       "2"
      ]
     },
     "execution_count": 7,
     "metadata": {},
     "output_type": "execute_result"
    }
   ],
   "source": [
    "# 문자 개수 세기 count\n",
    "a = 'hobby'\n",
    "a.count('b')"
   ]
  },
  {
   "cell_type": "code",
   "execution_count": 9,
   "id": "aa41c716-faea-4183-a63d-b08effbed29f",
   "metadata": {},
   "outputs": [
    {
     "data": {
      "text/plain": [
       "14"
      ]
     },
     "execution_count": 9,
     "metadata": {},
     "output_type": "execute_result"
    }
   ],
   "source": [
    "# 위치 알려주기 find => 오류를 유보시켜야 할 때\n",
    "a = 'Python is the best choise'\n",
    "a.find('b')"
   ]
  },
  {
   "cell_type": "code",
   "execution_count": 10,
   "id": "7580ac90-392d-4a4e-97f8-caf8da3d2e9b",
   "metadata": {},
   "outputs": [
    {
     "data": {
      "text/plain": [
       "-1"
      ]
     },
     "execution_count": 10,
     "metadata": {},
     "output_type": "execute_result"
    }
   ],
   "source": [
    "a.find('k')"
   ]
  },
  {
   "cell_type": "code",
   "execution_count": 12,
   "id": "2e6cf7f0-f702-4800-94cb-d3f343e676db",
   "metadata": {},
   "outputs": [
    {
     "data": {
      "text/plain": [
       "8"
      ]
     },
     "execution_count": 12,
     "metadata": {},
     "output_type": "execute_result"
    }
   ],
   "source": [
    "# 위치 알려주기 index => 오류를 발생시켜야 할때\n",
    "a = 'Life is too short'\n",
    "a.index('t')"
   ]
  },
  {
   "cell_type": "code",
   "execution_count": 13,
   "id": "6ddd8b4d-43e3-4290-8294-0cf5bd416bc0",
   "metadata": {},
   "outputs": [
    {
     "ename": "ValueError",
     "evalue": "substring not found",
     "output_type": "error",
     "traceback": [
      "\u001b[1;31m---------------------------------------------------------------------------\u001b[0m",
      "\u001b[1;31mValueError\u001b[0m                                Traceback (most recent call last)",
      "Cell \u001b[1;32mIn[13], line 1\u001b[0m\n\u001b[1;32m----> 1\u001b[0m a\u001b[38;5;241m.\u001b[39mindex(\u001b[38;5;124m'\u001b[39m\u001b[38;5;124mk\u001b[39m\u001b[38;5;124m'\u001b[39m)\n",
      "\u001b[1;31mValueError\u001b[0m: substring not found"
     ]
    }
   ],
   "source": [
    "a.index('k')"
   ]
  },
  {
   "cell_type": "code",
   "execution_count": 14,
   "id": "6eccce8f-9b6b-4e4b-8a7a-eed9f5bb6a15",
   "metadata": {},
   "outputs": [
    {
     "data": {
      "text/plain": [
       "'abcd'"
      ]
     },
     "execution_count": 14,
     "metadata": {},
     "output_type": "execute_result"
    }
   ],
   "source": [
    "# 문자열 삽입 join\n",
    "a = 'abcd'\n",
    "a"
   ]
  },
  {
   "cell_type": "code",
   "execution_count": 15,
   "id": "ded963c5-eb41-4427-aea9-2c1ed0b8341a",
   "metadata": {},
   "outputs": [
    {
     "data": {
      "text/plain": [
       "'a,b,c,d'"
      ]
     },
     "execution_count": 15,
     "metadata": {},
     "output_type": "execute_result"
    }
   ],
   "source": [
    "','.join(a)"
   ]
  },
  {
   "cell_type": "code",
   "execution_count": 17,
   "id": "88adffe0-4f9a-4214-b009-a1d72023910e",
   "metadata": {},
   "outputs": [
    {
     "data": {
      "text/plain": [
       "['a', 'b', 'c', 'd']"
      ]
     },
     "execution_count": 17,
     "metadata": {},
     "output_type": "execute_result"
    }
   ],
   "source": [
    "a = ['a','b','c','d']\n",
    "a"
   ]
  },
  {
   "cell_type": "code",
   "execution_count": 18,
   "id": "c7974684-cc1a-481e-a6d4-3025373f3739",
   "metadata": {},
   "outputs": [
    {
     "data": {
      "text/plain": [
       "'a:b:c:d'"
      ]
     },
     "execution_count": 18,
     "metadata": {},
     "output_type": "execute_result"
    }
   ],
   "source": [
    "':'.join(a)"
   ]
  },
  {
   "cell_type": "markdown",
   "id": "6171cc30-10a7-4280-8b46-c93a45a801ba",
   "metadata": {},
   "source": [
    "# 소문자를 대문자로 바꾸기"
   ]
  },
  {
   "cell_type": "code",
   "execution_count": 19,
   "id": "a1d17b59-dcdd-4f66-9895-e448cce8f062",
   "metadata": {},
   "outputs": [
    {
     "data": {
      "text/plain": [
       "'HI'"
      ]
     },
     "execution_count": 19,
     "metadata": {},
     "output_type": "execute_result"
    }
   ],
   "source": [
    "a = 'hi'\n",
    "a.upper()"
   ]
  },
  {
   "cell_type": "code",
   "execution_count": 20,
   "id": "47f49385-9453-4bda-94e4-c286e05cd64c",
   "metadata": {},
   "outputs": [
    {
     "data": {
      "text/plain": [
       "'hi'"
      ]
     },
     "execution_count": 20,
     "metadata": {},
     "output_type": "execute_result"
    }
   ],
   "source": [
    "a = 'HI'\n",
    "a.lower()"
   ]
  },
  {
   "cell_type": "code",
   "execution_count": 23,
   "id": "6cca827b-cfb1-41a6-9541-e7ed42712550",
   "metadata": {},
   "outputs": [
    {
     "data": {
      "text/plain": [
       "\u001b[1;31mSignature:\u001b[0m \u001b[0ma\u001b[0m\u001b[1;33m.\u001b[0m\u001b[0mupper\u001b[0m\u001b[1;33m(\u001b[0m\u001b[1;33m)\u001b[0m\u001b[1;33m\u001b[0m\u001b[1;33m\u001b[0m\u001b[0m\n",
       "\u001b[1;31mDocstring:\u001b[0m Return a copy of the string converted to uppercase.\n",
       "\u001b[1;31mType:\u001b[0m      builtin_function_or_method"
      ]
     },
     "metadata": {},
     "output_type": "display_data"
    }
   ],
   "source": [
    "a.upper?"
   ]
  },
  {
   "cell_type": "code",
   "execution_count": 24,
   "id": "7902d651-6b75-4c95-8d61-832b04cbe55a",
   "metadata": {},
   "outputs": [
    {
     "data": {
      "text/plain": [
       "\u001b[1;31mSignature:\u001b[0m \u001b[0mprint\u001b[0m\u001b[1;33m(\u001b[0m\u001b[1;33m*\u001b[0m\u001b[0margs\u001b[0m\u001b[1;33m,\u001b[0m \u001b[0msep\u001b[0m\u001b[1;33m=\u001b[0m\u001b[1;34m' '\u001b[0m\u001b[1;33m,\u001b[0m \u001b[0mend\u001b[0m\u001b[1;33m=\u001b[0m\u001b[1;34m'\\n'\u001b[0m\u001b[1;33m,\u001b[0m \u001b[0mfile\u001b[0m\u001b[1;33m=\u001b[0m\u001b[1;32mNone\u001b[0m\u001b[1;33m,\u001b[0m \u001b[0mflush\u001b[0m\u001b[1;33m=\u001b[0m\u001b[1;32mFalse\u001b[0m\u001b[1;33m)\u001b[0m\u001b[1;33m\u001b[0m\u001b[1;33m\u001b[0m\u001b[0m\n",
       "\u001b[1;31mDocstring:\u001b[0m\n",
       "Prints the values to a stream, or to sys.stdout by default.\n",
       "\n",
       "sep\n",
       "  string inserted between values, default a space.\n",
       "end\n",
       "  string appended after the last value, default a newline.\n",
       "file\n",
       "  a file-like object (stream); defaults to the current sys.stdout.\n",
       "flush\n",
       "  whether to forcibly flush the stream.\n",
       "\u001b[1;31mType:\u001b[0m      builtin_function_or_method"
      ]
     },
     "metadata": {},
     "output_type": "display_data"
    }
   ],
   "source": [
    "print?"
   ]
  },
  {
   "cell_type": "code",
   "execution_count": 25,
   "id": "0ce319ae-172e-4080-85c5-9a738e9df96e",
   "metadata": {},
   "outputs": [
    {
     "name": "stdout",
     "output_type": "stream",
     "text": [
      "Help on built-in function print in module builtins:\n",
      "\n",
      "print(*args, sep=' ', end='\\n', file=None, flush=False)\n",
      "    Prints the values to a stream, or to sys.stdout by default.\n",
      "    \n",
      "    sep\n",
      "      string inserted between values, default a space.\n",
      "    end\n",
      "      string appended after the last value, default a newline.\n",
      "    file\n",
      "      a file-like object (stream); defaults to the current sys.stdout.\n",
      "    flush\n",
      "      whether to forcibly flush the stream.\n",
      "\n"
     ]
    }
   ],
   "source": [
    "help(print)"
   ]
  },
  {
   "cell_type": "code",
   "execution_count": null,
   "id": "0184ea79-6c2f-448b-996b-ea189c7064d7",
   "metadata": {},
   "outputs": [],
   "source": [
    "# https://www.python.org/doc/ <- 파이썬 찬 문서"
   ]
  },
  {
   "cell_type": "markdown",
   "id": "49a137fb-13a8-4780-86e2-0794ea836776",
   "metadata": {},
   "source": [
    "# 왼쪽 공백 지우기"
   ]
  },
  {
   "cell_type": "code",
   "execution_count": 27,
   "id": "0ee66fe2-c92b-47e6-bcea-45d2873602c3",
   "metadata": {},
   "outputs": [
    {
     "data": {
      "text/plain": [
       "'hi      '"
      ]
     },
     "execution_count": 27,
     "metadata": {},
     "output_type": "execute_result"
    }
   ],
   "source": [
    "a = \"      hi      \"\n",
    "a.lstrip()"
   ]
  },
  {
   "cell_type": "code",
   "execution_count": 29,
   "id": "392b4c1b-77f0-431d-afb1-667f2a630357",
   "metadata": {},
   "outputs": [
    {
     "data": {
      "text/plain": [
       "'      hi'"
      ]
     },
     "execution_count": 29,
     "metadata": {},
     "output_type": "execute_result"
    }
   ],
   "source": [
    "a.rstrip()"
   ]
  },
  {
   "cell_type": "markdown",
   "id": "3006179d-b7a7-475f-a186-7bb8343d5698",
   "metadata": {},
   "source": [
    "# 문자열 바꾸기"
   ]
  },
  {
   "cell_type": "code",
   "execution_count": 30,
   "id": "1f918118-9a88-4856-909e-d001642f9de4",
   "metadata": {},
   "outputs": [
    {
     "data": {
      "text/plain": [
       "\u001b[1;31mSignature:\u001b[0m \u001b[0ma\u001b[0m\u001b[1;33m.\u001b[0m\u001b[0mreplace\u001b[0m\u001b[1;33m(\u001b[0m\u001b[0mold\u001b[0m\u001b[1;33m,\u001b[0m \u001b[0mnew\u001b[0m\u001b[1;33m,\u001b[0m \u001b[0mcount\u001b[0m\u001b[1;33m=\u001b[0m\u001b[1;33m-\u001b[0m\u001b[1;36m1\u001b[0m\u001b[1;33m,\u001b[0m \u001b[1;33m/\u001b[0m\u001b[1;33m)\u001b[0m\u001b[1;33m\u001b[0m\u001b[1;33m\u001b[0m\u001b[0m\n",
       "\u001b[1;31mDocstring:\u001b[0m\n",
       "Return a copy with all occurrences of substring old replaced by new.\n",
       "\n",
       "  count\n",
       "    Maximum number of occurrences to replace.\n",
       "    -1 (the default value) means replace all occurrences.\n",
       "\n",
       "If the optional argument count is given, only the first count occurrences are\n",
       "replaced.\n",
       "\u001b[1;31mType:\u001b[0m      builtin_function_or_method"
      ]
     },
     "metadata": {},
     "output_type": "display_data"
    }
   ],
   "source": [
    "a = \"Life is too short\"\n",
    "a.replace?"
   ]
  },
  {
   "cell_type": "code",
   "execution_count": 31,
   "id": "52fa8e69-d641-43d6-a1b2-8a58749b1274",
   "metadata": {},
   "outputs": [
    {
     "data": {
      "text/plain": [
       "'Your leg is too short'"
      ]
     },
     "execution_count": 31,
     "metadata": {},
     "output_type": "execute_result"
    }
   ],
   "source": [
    "a.replace(\"Life\", \"Your leg\")"
   ]
  },
  {
   "cell_type": "code",
   "execution_count": 33,
   "id": "9b6f83e5-ca08-4b7a-9c9f-0890060fdcab",
   "metadata": {},
   "outputs": [
    {
     "data": {
      "text/plain": [
       "'Life is too short'"
      ]
     },
     "execution_count": 33,
     "metadata": {},
     "output_type": "execute_result"
    }
   ],
   "source": [
    "a"
   ]
  },
  {
   "cell_type": "code",
   "execution_count": 35,
   "id": "280b4073-5f51-4901-9789-af901f4bfa3c",
   "metadata": {},
   "outputs": [
    {
     "data": {
      "text/plain": [
       "'Your leg is too short'"
      ]
     },
     "execution_count": 35,
     "metadata": {},
     "output_type": "execute_result"
    }
   ],
   "source": [
    "a = a.replace(\"Life\", \"Your leg\")\n",
    "a"
   ]
  },
  {
   "cell_type": "markdown",
   "id": "b8002e26-9cc4-4c63-87a9-d833ac97dbe9",
   "metadata": {},
   "source": [
    "# 문자열 나누기 split"
   ]
  },
  {
   "cell_type": "code",
   "execution_count": 36,
   "id": "50ab0943-093e-4e3c-a533-df4838899877",
   "metadata": {},
   "outputs": [
    {
     "data": {
      "text/plain": [
       "['Your', 'leg', 'is', 'too', 'short']"
      ]
     },
     "execution_count": 36,
     "metadata": {},
     "output_type": "execute_result"
    }
   ],
   "source": [
    "a.split()"
   ]
  },
  {
   "cell_type": "code",
   "execution_count": 37,
   "id": "4d56bc0a-e043-46e7-95a0-04c044cac673",
   "metadata": {},
   "outputs": [
    {
     "data": {
      "text/plain": [
       "\u001b[1;31mSignature:\u001b[0m \u001b[0ma\u001b[0m\u001b[1;33m.\u001b[0m\u001b[0msplit\u001b[0m\u001b[1;33m(\u001b[0m\u001b[0msep\u001b[0m\u001b[1;33m=\u001b[0m\u001b[1;32mNone\u001b[0m\u001b[1;33m,\u001b[0m \u001b[0mmaxsplit\u001b[0m\u001b[1;33m=\u001b[0m\u001b[1;33m-\u001b[0m\u001b[1;36m1\u001b[0m\u001b[1;33m)\u001b[0m\u001b[1;33m\u001b[0m\u001b[1;33m\u001b[0m\u001b[0m\n",
       "\u001b[1;31mDocstring:\u001b[0m\n",
       "Return a list of the substrings in the string, using sep as the separator string.\n",
       "\n",
       "  sep\n",
       "    The separator used to split the string.\n",
       "\n",
       "    When set to None (the default value), will split on any whitespace\n",
       "    character (including \\n \\r \\t \\f and spaces) and will discard\n",
       "    empty strings from the result.\n",
       "  maxsplit\n",
       "    Maximum number of splits (starting from the left).\n",
       "    -1 (the default value) means no limit.\n",
       "\n",
       "Note, str.split() is mainly useful for data that has been intentionally\n",
       "delimited.  With natural text that includes punctuation, consider using\n",
       "the regular expression module.\n",
       "\u001b[1;31mType:\u001b[0m      builtin_function_or_method"
      ]
     },
     "metadata": {},
     "output_type": "display_data"
    }
   ],
   "source": [
    "a.split?"
   ]
  },
  {
   "cell_type": "code",
   "execution_count": 38,
   "id": "f346105e-ebd4-4b27-b11a-c26819181716",
   "metadata": {},
   "outputs": [
    {
     "data": {
      "text/plain": [
       "'a:b:c:d'"
      ]
     },
     "execution_count": 38,
     "metadata": {},
     "output_type": "execute_result"
    }
   ],
   "source": [
    "b = \"a:b:c:d\"\n",
    "b"
   ]
  },
  {
   "cell_type": "code",
   "execution_count": 40,
   "id": "9fa60e86-2b54-4fab-923e-1507d1e6748c",
   "metadata": {},
   "outputs": [
    {
     "data": {
      "text/plain": [
       "['a', 'b', 'c', 'd']"
      ]
     },
     "execution_count": 40,
     "metadata": {},
     "output_type": "execute_result"
    }
   ],
   "source": [
    "b.split(\":\")"
   ]
  },
  {
   "cell_type": "markdown",
   "id": "a8338739-b858-4323-b6c0-25fa83898619",
   "metadata": {},
   "source": [
    "# 변수"
   ]
  },
  {
   "cell_type": "code",
   "execution_count": 42,
   "id": "7ba3c1c3-04fc-4b6f-913e-850bf339651d",
   "metadata": {},
   "outputs": [
    {
     "data": {
      "text/plain": [
       "(1, int)"
      ]
     },
     "execution_count": 42,
     "metadata": {},
     "output_type": "execute_result"
    }
   ],
   "source": [
    "a = 1\n",
    "a,  type(a)"
   ]
  },
  {
   "cell_type": "code",
   "execution_count": 45,
   "id": "138aa9c3-d540-4dd9-8289-88b83012e20e",
   "metadata": {},
   "outputs": [
    {
     "data": {
      "text/plain": [
       "('python', str)"
      ]
     },
     "execution_count": 45,
     "metadata": {},
     "output_type": "execute_result"
    }
   ],
   "source": [
    "b = \"python\"\n",
    "b, type(b)"
   ]
  },
  {
   "cell_type": "code",
   "execution_count": 46,
   "id": "740932a0-f98f-4484-a02d-3a7a63a47d0d",
   "metadata": {},
   "outputs": [
    {
     "data": {
      "text/plain": [
       "([1, 2, 3, 4], list)"
      ]
     },
     "execution_count": 46,
     "metadata": {},
     "output_type": "execute_result"
    }
   ],
   "source": [
    "c = [1,2,3,4]\n",
    "c, type(c)"
   ]
  },
  {
   "cell_type": "code",
   "execution_count": 48,
   "id": "b46ee946-fd48-4b6b-a264-58777515594b",
   "metadata": {},
   "outputs": [
    {
     "data": {
      "text/plain": [
       "140714827039528"
      ]
     },
     "execution_count": 48,
     "metadata": {},
     "output_type": "execute_result"
    }
   ],
   "source": [
    "id(a)"
   ]
  },
  {
   "cell_type": "code",
   "execution_count": 54,
   "id": "2b03f6d9-e4ea-4be1-bf08-fa2062b67bac",
   "metadata": {},
   "outputs": [
    {
     "data": {
      "text/plain": [
       "(1646180191552, 1646180191552)"
      ]
     },
     "execution_count": 54,
     "metadata": {},
     "output_type": "execute_result"
    }
   ],
   "source": [
    "# 복사\n",
    "# 주소 복사\n",
    "a = [1,2,3]\n",
    "b = a\n",
    "id(a), id(b)"
   ]
  },
  {
   "cell_type": "code",
   "execution_count": 55,
   "id": "7830defd-9a03-4ac2-aedc-964f66ccd364",
   "metadata": {},
   "outputs": [
    {
     "data": {
      "text/plain": [
       "([1, 2, 3], [1, 2, 3], 1646198530560, 1646195217344)"
      ]
     },
     "execution_count": 55,
     "metadata": {},
     "output_type": "execute_result"
    }
   ],
   "source": [
    "# 값 복사\n",
    "c = [1,2,3]\n",
    "d = c.copy()\n",
    "c, d, id(c), id(d)"
   ]
  },
  {
   "cell_type": "code",
   "execution_count": 69,
   "id": "7dc79eb0-22fd-4e1a-9146-fc7bd4d1a4b9",
   "metadata": {},
   "outputs": [
    {
     "data": {
      "text/plain": [
       "True"
      ]
     },
     "execution_count": 69,
     "metadata": {},
     "output_type": "execute_result"
    }
   ],
   "source": [
    "a is b"
   ]
  },
  {
   "cell_type": "code",
   "execution_count": 70,
   "id": "91230ad9-786d-47d1-ae3d-10bb406af7b7",
   "metadata": {},
   "outputs": [
    {
     "data": {
      "text/plain": [
       "True"
      ]
     },
     "execution_count": 70,
     "metadata": {},
     "output_type": "execute_result"
    }
   ],
   "source": [
    "a == b"
   ]
  },
  {
   "cell_type": "code",
   "execution_count": 71,
   "id": "bb0295b9-d99f-492d-af38-25e04fbebd45",
   "metadata": {},
   "outputs": [],
   "source": [
    "del b"
   ]
  },
  {
   "cell_type": "code",
   "execution_count": 72,
   "id": "d40a94e3-8bce-4bff-b86f-9055cf8bd3da",
   "metadata": {},
   "outputs": [
    {
     "data": {
      "text/plain": [
       "[1, 2, 3]"
      ]
     },
     "execution_count": 72,
     "metadata": {},
     "output_type": "execute_result"
    }
   ],
   "source": [
    "a"
   ]
  },
  {
   "cell_type": "code",
   "execution_count": 73,
   "id": "aec428b7-15c4-4ccd-96fc-2b15a42edc0e",
   "metadata": {},
   "outputs": [
    {
     "ename": "NameError",
     "evalue": "name 'b' is not defined",
     "output_type": "error",
     "traceback": [
      "\u001b[1;31m---------------------------------------------------------------------------\u001b[0m",
      "\u001b[1;31mNameError\u001b[0m                                 Traceback (most recent call last)",
      "Cell \u001b[1;32mIn[73], line 1\u001b[0m\n\u001b[1;32m----> 1\u001b[0m b\n",
      "\u001b[1;31mNameError\u001b[0m: name 'b' is not defined"
     ]
    }
   ],
   "source": [
    "b"
   ]
  },
  {
   "cell_type": "code",
   "execution_count": 74,
   "id": "115ac1f7-a881-4bdc-a485-17be03938006",
   "metadata": {},
   "outputs": [
    {
     "data": {
      "text/plain": [
       "(1646199330816, 1646199330816)"
      ]
     },
     "execution_count": 74,
     "metadata": {},
     "output_type": "execute_result"
    }
   ],
   "source": [
    "a = [1,2,3]\n",
    "b = a\n",
    "id(a), id(b)"
   ]
  },
  {
   "cell_type": "code",
   "execution_count": 78,
   "id": "9b0790ab-cbaa-4a3c-8d70-b7ad2f46e0e0",
   "metadata": {},
   "outputs": [
    {
     "data": {
      "text/plain": [
       "([1, 4, 3], [1, 4, 3])"
      ]
     },
     "execution_count": 78,
     "metadata": {},
     "output_type": "execute_result"
    }
   ],
   "source": [
    "a[1] = 4\n",
    "a, b"
   ]
  },
  {
   "cell_type": "code",
   "execution_count": 79,
   "id": "36c144c5-41b0-403d-8e7e-191f4fb54837",
   "metadata": {},
   "outputs": [
    {
     "data": {
      "text/plain": [
       "(1646199319040, 1646199059456)"
      ]
     },
     "execution_count": 79,
     "metadata": {},
     "output_type": "execute_result"
    }
   ],
   "source": [
    "a = [1,2,3]\n",
    "b = a[:]\n",
    "id(a), id(b)"
   ]
  },
  {
   "cell_type": "code",
   "execution_count": 80,
   "id": "92efd3ee-d1df-4898-88f2-2bf31249851c",
   "metadata": {},
   "outputs": [
    {
     "data": {
      "text/plain": [
       "[1, 2, 3]"
      ]
     },
     "execution_count": 80,
     "metadata": {},
     "output_type": "execute_result"
    }
   ],
   "source": [
    "a[:]"
   ]
  },
  {
   "cell_type": "markdown",
   "id": "fb0ad7c1-a694-4d89-936f-4456e4583c18",
   "metadata": {},
   "source": [
    "# Copy"
   ]
  },
  {
   "cell_type": "code",
   "execution_count": 81,
   "id": "5fe3bad7-e996-45d6-b666-6d4311e76972",
   "metadata": {},
   "outputs": [],
   "source": [
    "from copy import copy"
   ]
  },
  {
   "cell_type": "code",
   "execution_count": 82,
   "id": "997a6386-de94-48e0-ad87-417a21bd3276",
   "metadata": {},
   "outputs": [
    {
     "data": {
      "text/plain": [
       "[1, 2, 3]"
      ]
     },
     "execution_count": 82,
     "metadata": {},
     "output_type": "execute_result"
    }
   ],
   "source": [
    "a = [1,2,3]\n",
    "a"
   ]
  },
  {
   "cell_type": "code",
   "execution_count": 83,
   "id": "af9676f9-8222-405e-9c3a-0b5e11d1837e",
   "metadata": {},
   "outputs": [
    {
     "data": {
      "text/plain": [
       "(1646194072064, 1646197659072)"
      ]
     },
     "execution_count": 83,
     "metadata": {},
     "output_type": "execute_result"
    }
   ],
   "source": [
    "b = copy(a)\n",
    "id(a), id(b)"
   ]
  },
  {
   "cell_type": "code",
   "execution_count": 84,
   "id": "af7920d2-090b-4625-9136-5bc0233867f3",
   "metadata": {},
   "outputs": [
    {
     "data": {
      "text/plain": [
       "False"
      ]
     },
     "execution_count": 84,
     "metadata": {},
     "output_type": "execute_result"
    }
   ],
   "source": [
    "b is a"
   ]
  },
  {
   "cell_type": "code",
   "execution_count": 85,
   "id": "c4cdc0c3-1a19-4fcc-b63b-12affecfc733",
   "metadata": {},
   "outputs": [
    {
     "data": {
      "text/plain": [
       "True"
      ]
     },
     "execution_count": 85,
     "metadata": {},
     "output_type": "execute_result"
    }
   ],
   "source": [
    "b == a"
   ]
  },
  {
   "cell_type": "markdown",
   "id": "512c760e-30cb-42b7-978a-84a50a02ceb4",
   "metadata": {},
   "source": [
    "# 변수를 만드는 여러가지 방법"
   ]
  },
  {
   "cell_type": "code",
   "execution_count": 88,
   "id": "22ba9a27-2ddb-4dfa-88c2-bc0ffd4d7551",
   "metadata": {},
   "outputs": [
    {
     "data": {
      "text/plain": [
       "('Python', 'Life')"
      ]
     },
     "execution_count": 88,
     "metadata": {},
     "output_type": "execute_result"
    }
   ],
   "source": [
    "a, b = (\"Python\", \"Life\")\n",
    "a,b"
   ]
  },
  {
   "cell_type": "code",
   "execution_count": 89,
   "id": "f28c17ea-726f-414b-be32-6b26b84fc02c",
   "metadata": {},
   "outputs": [
    {
     "data": {
      "text/plain": [
       "('Python', 'Life')"
      ]
     },
     "execution_count": 89,
     "metadata": {},
     "output_type": "execute_result"
    }
   ],
   "source": [
    "a, b = \"Python\", \"Life\"\n",
    "a,b"
   ]
  },
  {
   "cell_type": "code",
   "execution_count": 90,
   "id": "4b9305b9-5052-4266-92ad-c005b5135c90",
   "metadata": {},
   "outputs": [
    {
     "data": {
      "text/plain": [
       "'Python'"
      ]
     },
     "execution_count": 90,
     "metadata": {},
     "output_type": "execute_result"
    }
   ],
   "source": [
    "a"
   ]
  },
  {
   "cell_type": "code",
   "execution_count": 91,
   "id": "67e0845b-fc12-46df-8658-5c9098026f73",
   "metadata": {},
   "outputs": [
    {
     "data": {
      "text/plain": [
       "'Life'"
      ]
     },
     "execution_count": 91,
     "metadata": {},
     "output_type": "execute_result"
    }
   ],
   "source": [
    "b"
   ]
  },
  {
   "cell_type": "code",
   "execution_count": 92,
   "id": "3b3d4bbc-df27-4b7f-9f02-7c8d01a5f184",
   "metadata": {},
   "outputs": [
    {
     "data": {
      "text/plain": [
       "'Python'"
      ]
     },
     "execution_count": 92,
     "metadata": {},
     "output_type": "execute_result"
    }
   ],
   "source": [
    "[a, b] = [\"Python\", \"Life\"]\n",
    "a"
   ]
  },
  {
   "cell_type": "code",
   "execution_count": 93,
   "id": "8a689884-60c0-4ffa-b0c2-188f10f80130",
   "metadata": {},
   "outputs": [
    {
     "data": {
      "text/plain": [
       "'Life'"
      ]
     },
     "execution_count": 93,
     "metadata": {},
     "output_type": "execute_result"
    }
   ],
   "source": [
    "b"
   ]
  },
  {
   "cell_type": "code",
   "execution_count": 95,
   "id": "5fddc7fb-e44d-409c-b8d4-a69795d8e746",
   "metadata": {},
   "outputs": [
    {
     "data": {
      "text/plain": [
       "(5, 3)"
      ]
     },
     "execution_count": 95,
     "metadata": {},
     "output_type": "execute_result"
    }
   ],
   "source": [
    "a = 3\n",
    "b = 5\n",
    "a,b = b,a\n",
    "a,b"
   ]
  },
  {
   "cell_type": "markdown",
   "id": "5000f2cb-51b1-4d05-ae1b-3aeff1133049",
   "metadata": {},
   "source": [
    "# 리스트 자료형"
   ]
  },
  {
   "cell_type": "code",
   "execution_count": 98,
   "id": "4875af3b-80c5-4dbd-adc7-b13802d53d89",
   "metadata": {},
   "outputs": [
    {
     "data": {
      "text/plain": [
       "[1, 3, 5, 7, 9]"
      ]
     },
     "execution_count": 98,
     "metadata": {},
     "output_type": "execute_result"
    }
   ],
   "source": [
    "odd = [1,3,5,7,9]\n",
    "odd"
   ]
  },
  {
   "cell_type": "code",
   "execution_count": 99,
   "id": "31c2c719-4ae0-4f06-a1d0-9aa189289df3",
   "metadata": {},
   "outputs": [
    {
     "data": {
      "text/plain": [
       "list"
      ]
     },
     "execution_count": 99,
     "metadata": {},
     "output_type": "execute_result"
    }
   ],
   "source": [
    "type(odd)"
   ]
  },
  {
   "cell_type": "code",
   "execution_count": 100,
   "id": "53af3ce7-34bd-4007-a9d8-67acfb167b0a",
   "metadata": {},
   "outputs": [
    {
     "name": "stdout",
     "output_type": "stream",
     "text": [
      "[] <class 'list'>\n",
      "[1, 2, 3] <class 'list'>\n",
      "['Life', 'is', 'too', 'short'] <class 'list'>\n",
      "[1, 2, 'Life', 'is'] <class 'list'>\n",
      "[1, 2, ['Life', 'is']] <class 'list'>\n"
     ]
    }
   ],
   "source": [
    "a = []\n",
    "b = [1,2,3]\n",
    "c = ['Life', 'is', 'too' , 'short']\n",
    "d = [1,2, 'Life', 'is']\n",
    "e = [1,2, ['Life', 'is']]\n",
    "print(a, type(a))\n",
    "print(b, type(b))\n",
    "print(c, type(c))\n",
    "print(d, type(d))\n",
    "print(e, type(e))"
   ]
  },
  {
   "cell_type": "markdown",
   "id": "47a15a6c-9720-456a-a1d9-ab0ea3093251",
   "metadata": {},
   "source": [
    "# 리스트 인덱싱"
   ]
  },
  {
   "cell_type": "code",
   "execution_count": 107,
   "id": "344316b9-eaf2-4383-a7fc-b751adffc5b9",
   "metadata": {},
   "outputs": [
    {
     "data": {
      "text/plain": [
       "[1, 2, 3]"
      ]
     },
     "execution_count": 107,
     "metadata": {},
     "output_type": "execute_result"
    }
   ],
   "source": [
    "a = [1,2,3]\n",
    "a"
   ]
  },
  {
   "cell_type": "code",
   "execution_count": 108,
   "id": "0e7cb6df-ced4-49c4-9d9a-81eddaa33316",
   "metadata": {},
   "outputs": [
    {
     "data": {
      "text/plain": [
       "1"
      ]
     },
     "execution_count": 108,
     "metadata": {},
     "output_type": "execute_result"
    }
   ],
   "source": [
    "a[0]"
   ]
  },
  {
   "cell_type": "code",
   "execution_count": 109,
   "id": "b5aef92a-00dc-43d5-8701-53592242a7d7",
   "metadata": {},
   "outputs": [
    {
     "data": {
      "text/plain": [
       "4"
      ]
     },
     "execution_count": 109,
     "metadata": {},
     "output_type": "execute_result"
    }
   ],
   "source": [
    "a[0] + a[2]"
   ]
  },
  {
   "cell_type": "code",
   "execution_count": 111,
   "id": "7bf38681-379a-4445-a837-c25058394cc3",
   "metadata": {},
   "outputs": [
    {
     "data": {
      "text/plain": [
       "4"
      ]
     },
     "execution_count": 111,
     "metadata": {},
     "output_type": "execute_result"
    }
   ],
   "source": [
    "a = [1,2,3,['a','b','c']]\n",
    "len(a)"
   ]
  },
  {
   "cell_type": "code",
   "execution_count": 112,
   "id": "59df8df9-a9c6-4f58-abc7-59d68ff2398f",
   "metadata": {},
   "outputs": [
    {
     "data": {
      "text/plain": [
       "['a', 'b', 'c']"
      ]
     },
     "execution_count": 112,
     "metadata": {},
     "output_type": "execute_result"
    }
   ],
   "source": [
    "a[3]"
   ]
  },
  {
   "cell_type": "code",
   "execution_count": 116,
   "id": "a64e16df-2392-470d-ab70-1220e227b10c",
   "metadata": {},
   "outputs": [
    {
     "data": {
      "text/plain": [
       "'b'"
      ]
     },
     "execution_count": 116,
     "metadata": {},
     "output_type": "execute_result"
    }
   ],
   "source": [
    "a[3][1]"
   ]
  },
  {
   "cell_type": "code",
   "execution_count": 118,
   "id": "9eaf739e-0acb-4ff0-8519-66ed97d1777d",
   "metadata": {},
   "outputs": [
    {
     "data": {
      "text/plain": [
       "[1, 2, ['a', 'b', ['Life', 'is']]]"
      ]
     },
     "execution_count": 118,
     "metadata": {},
     "output_type": "execute_result"
    }
   ],
   "source": [
    "# 삼중리스트 인데싱\n",
    "a = [1,2,['a','b',['Life','is']]]\n",
    "a"
   ]
  },
  {
   "cell_type": "code",
   "execution_count": 119,
   "id": "7c1e63ca-1f95-40eb-ba45-0e9d855cf2d7",
   "metadata": {},
   "outputs": [
    {
     "data": {
      "text/plain": [
       "'Life'"
      ]
     },
     "execution_count": 119,
     "metadata": {},
     "output_type": "execute_result"
    }
   ],
   "source": [
    "a[2][2][0]"
   ]
  },
  {
   "cell_type": "markdown",
   "id": "1d0a3240-5fdf-456e-a6c3-f224852d21f1",
   "metadata": {},
   "source": [
    "# 리스트 슬라이싱"
   ]
  },
  {
   "cell_type": "code",
   "execution_count": 122,
   "id": "58044978-cd36-493f-8115-636c92bba6af",
   "metadata": {},
   "outputs": [
    {
     "data": {
      "text/plain": [
       "[3, 4]"
      ]
     },
     "execution_count": 122,
     "metadata": {},
     "output_type": "execute_result"
    }
   ],
   "source": [
    "a = [1,2,3,4,5]\n",
    "a[2:4]"
   ]
  },
  {
   "cell_type": "code",
   "execution_count": 124,
   "id": "8bdd5bdb-4980-4fa2-8b45-ab2ce455249a",
   "metadata": {},
   "outputs": [
    {
     "data": {
      "text/plain": [
       "[1, 3, 5]"
      ]
     },
     "execution_count": 124,
     "metadata": {},
     "output_type": "execute_result"
    }
   ],
   "source": [
    "a[::2] #Step"
   ]
  },
  {
   "cell_type": "code",
   "execution_count": 125,
   "id": "2e7c770e-b329-425c-a188-afdf348e5b02",
   "metadata": {},
   "outputs": [
    {
     "data": {
      "text/plain": [
       "[2, 4]"
      ]
     },
     "execution_count": 125,
     "metadata": {},
     "output_type": "execute_result"
    }
   ],
   "source": [
    "a[1::2] #Step"
   ]
  },
  {
   "cell_type": "markdown",
   "id": "28cd21ce-9851-48bb-8166-7d3ac259034a",
   "metadata": {},
   "source": [
    "# 중첩 리스트 슬리아싱"
   ]
  },
  {
   "cell_type": "code",
   "execution_count": 126,
   "id": "5707ed96-4453-4df3-aaf9-6536c2385512",
   "metadata": {},
   "outputs": [
    {
     "data": {
      "text/plain": [
       "[3, ['a', 'b', 'c'], 4]"
      ]
     },
     "execution_count": 126,
     "metadata": {},
     "output_type": "execute_result"
    }
   ],
   "source": [
    "a = [1,2,3,['a','b','c'],4,5]\n",
    "a[2:5]"
   ]
  },
  {
   "cell_type": "code",
   "execution_count": 132,
   "id": "204d5635-3fce-436d-ba8d-d35b80bb7f93",
   "metadata": {},
   "outputs": [
    {
     "data": {
      "text/plain": [
       "['a', 'b']"
      ]
     },
     "execution_count": 132,
     "metadata": {},
     "output_type": "execute_result"
    }
   ],
   "source": [
    "a[3][0:2]"
   ]
  },
  {
   "cell_type": "markdown",
   "id": "bea830f2-9afa-40b4-9ff4-8713f1369e78",
   "metadata": {},
   "source": [
    "# del로 리스트 요소 삭제"
   ]
  },
  {
   "cell_type": "code",
   "execution_count": 133,
   "id": "d6354785-16f1-4c9c-ba6d-116cbdc90cd5",
   "metadata": {},
   "outputs": [
    {
     "data": {
      "text/plain": [
       "[1, 3]"
      ]
     },
     "execution_count": 133,
     "metadata": {},
     "output_type": "execute_result"
    }
   ],
   "source": [
    "a = [1,2,3]\n",
    "del a[1]\n",
    "a"
   ]
  },
  {
   "cell_type": "code",
   "execution_count": 138,
   "id": "74c3c686-361f-492c-a10a-7f50bd5d5317",
   "metadata": {},
   "outputs": [
    {
     "data": {
      "text/plain": [
       "[1, 2]"
      ]
     },
     "execution_count": 138,
     "metadata": {},
     "output_type": "execute_result"
    }
   ],
   "source": [
    "a=[1,2,3,4,5]\n",
    "del a[2:]\n",
    "a"
   ]
  },
  {
   "cell_type": "markdown",
   "id": "007b52ac-19ee-4518-8143-bb2512534cd8",
   "metadata": {},
   "source": [
    "# 리스트 관련 함수"
   ]
  },
  {
   "cell_type": "code",
   "execution_count": 139,
   "id": "1eeb6e74-ddde-4f1c-a577-0ccd593db592",
   "metadata": {},
   "outputs": [
    {
     "data": {
      "text/plain": [
       "[1, 2, 3, 4]"
      ]
     },
     "execution_count": 139,
     "metadata": {},
     "output_type": "execute_result"
    }
   ],
   "source": [
    "# 리스트 요소 추라 apped\n",
    "a = [1,2,3]\n",
    "a.append(4)\n",
    "a"
   ]
  },
  {
   "cell_type": "code",
   "execution_count": 141,
   "id": "b75893af-88cc-4f47-a796-64d3f4de292d",
   "metadata": {},
   "outputs": [
    {
     "data": {
      "text/plain": [
       "[1, 3, 2, 4]"
      ]
     },
     "execution_count": 141,
     "metadata": {},
     "output_type": "execute_result"
    }
   ],
   "source": [
    "# 리스트 정렬\n",
    "a = [1,3,2,4]\n",
    "a"
   ]
  },
  {
   "cell_type": "code",
   "execution_count": 143,
   "id": "0dcfbf0d-db9f-4166-814f-201820c19bbd",
   "metadata": {},
   "outputs": [
    {
     "data": {
      "text/plain": [
       "[1, 2, 3, 4]"
      ]
     },
     "execution_count": 143,
     "metadata": {},
     "output_type": "execute_result"
    }
   ],
   "source": [
    "a.sort()\n",
    "a"
   ]
  },
  {
   "cell_type": "code",
   "execution_count": 145,
   "id": "b32736c1-b162-4f60-9090-0552d7848bda",
   "metadata": {},
   "outputs": [
    {
     "data": {
      "text/plain": [
       "[4, 3, 2, 1]"
      ]
     },
     "execution_count": 145,
     "metadata": {},
     "output_type": "execute_result"
    }
   ],
   "source": [
    "a.sort(reverse=True)\n",
    "a"
   ]
  },
  {
   "cell_type": "code",
   "execution_count": 146,
   "id": "370cb86b-49c2-4bc0-9fec-625e24ffb390",
   "metadata": {},
   "outputs": [
    {
     "data": {
      "text/plain": [
       "['b', 'c', 'a']"
      ]
     },
     "execution_count": 146,
     "metadata": {},
     "output_type": "execute_result"
    }
   ],
   "source": [
    "a = ['a','c','b']\n",
    "a.reverse()\n",
    "a"
   ]
  },
  {
   "cell_type": "code",
   "execution_count": 148,
   "id": "0c10e8f4-9e96-4af2-ad88-7b8d0ef08699",
   "metadata": {},
   "outputs": [
    {
     "data": {
      "text/plain": [
       "2"
      ]
     },
     "execution_count": 148,
     "metadata": {},
     "output_type": "execute_result"
    }
   ],
   "source": [
    "# 인덱스 반환\n",
    "a = [1,2,3]\n",
    "a.index(3)"
   ]
  },
  {
   "cell_type": "code",
   "execution_count": 149,
   "id": "1dfb6b44-a05a-4059-9b9c-aafe72bde358",
   "metadata": {},
   "outputs": [
    {
     "ename": "ValueError",
     "evalue": "0 is not in list",
     "output_type": "error",
     "traceback": [
      "\u001b[1;31m---------------------------------------------------------------------------\u001b[0m",
      "\u001b[1;31mValueError\u001b[0m                                Traceback (most recent call last)",
      "Cell \u001b[1;32mIn[149], line 1\u001b[0m\n\u001b[1;32m----> 1\u001b[0m a\u001b[38;5;241m.\u001b[39mindex(\u001b[38;5;241m0\u001b[39m)\n",
      "\u001b[1;31mValueError\u001b[0m: 0 is not in list"
     ]
    }
   ],
   "source": [
    "a.index(0)"
   ]
  },
  {
   "cell_type": "code",
   "execution_count": 150,
   "id": "809d9213-9277-4dba-b1b1-084e65c37929",
   "metadata": {},
   "outputs": [
    {
     "data": {
      "text/plain": [
       "[4, 1, 2, 3]"
      ]
     },
     "execution_count": 150,
     "metadata": {},
     "output_type": "execute_result"
    }
   ],
   "source": [
    "# 리스트 요소 삽입 insert\n",
    "a = [1,2,3]\n",
    "a.insert(0,4)\n",
    "a"
   ]
  },
  {
   "cell_type": "code",
   "execution_count": 151,
   "id": "0a24a354-ec0e-4285-afe5-2e2f59fb74db",
   "metadata": {},
   "outputs": [
    {
     "data": {
      "text/plain": [
       "\u001b[1;31mSignature:\u001b[0m \u001b[0ma\u001b[0m\u001b[1;33m.\u001b[0m\u001b[0minsert\u001b[0m\u001b[1;33m(\u001b[0m\u001b[0mindex\u001b[0m\u001b[1;33m,\u001b[0m \u001b[0mobject\u001b[0m\u001b[1;33m,\u001b[0m \u001b[1;33m/\u001b[0m\u001b[1;33m)\u001b[0m\u001b[1;33m\u001b[0m\u001b[1;33m\u001b[0m\u001b[0m\n",
       "\u001b[1;31mDocstring:\u001b[0m Insert object before index.\n",
       "\u001b[1;31mType:\u001b[0m      builtin_function_or_method"
      ]
     },
     "metadata": {},
     "output_type": "display_data"
    }
   ],
   "source": [
    "a.insert?"
   ]
  },
  {
   "cell_type": "code",
   "execution_count": 152,
   "id": "8c7ea26f-6c88-4b86-a266-e4ca5f59822a",
   "metadata": {},
   "outputs": [
    {
     "data": {
      "text/plain": [
       "[1, 2, 1, 2, 3]"
      ]
     },
     "execution_count": 152,
     "metadata": {},
     "output_type": "execute_result"
    }
   ],
   "source": [
    "# remove\n",
    "a = [1,2,3,1,2,3]\n",
    "a.remove(3)\n",
    "a"
   ]
  },
  {
   "cell_type": "code",
   "execution_count": 154,
   "id": "538b05cc-e818-46dd-b945-f24009335edd",
   "metadata": {},
   "outputs": [
    {
     "data": {
      "text/plain": [
       "3"
      ]
     },
     "execution_count": 154,
     "metadata": {},
     "output_type": "execute_result"
    }
   ],
   "source": [
    "# pop\n",
    "a = [1,2,3]\n",
    "a.pop()"
   ]
  },
  {
   "cell_type": "code",
   "execution_count": 155,
   "id": "5413c76b-c1f6-4b49-9fea-6cf2fe8e1700",
   "metadata": {},
   "outputs": [
    {
     "data": {
      "text/plain": [
       "[1, 2]"
      ]
     },
     "execution_count": 155,
     "metadata": {},
     "output_type": "execute_result"
    }
   ],
   "source": [
    "a"
   ]
  },
  {
   "cell_type": "code",
   "execution_count": 156,
   "id": "67495af2-4fdf-48c5-91fa-3ef367b3d48a",
   "metadata": {},
   "outputs": [
    {
     "data": {
      "text/plain": [
       "2"
      ]
     },
     "execution_count": 156,
     "metadata": {},
     "output_type": "execute_result"
    }
   ],
   "source": [
    "# count\n",
    "a = [1,2,3,1]\n",
    "a.count(1)"
   ]
  },
  {
   "cell_type": "code",
   "execution_count": 158,
   "id": "5e611fc2-297d-446f-83ce-766d4ba721f6",
   "metadata": {},
   "outputs": [
    {
     "data": {
      "text/plain": [
       "[1, 2, 3, 4, 5]"
      ]
     },
     "execution_count": 158,
     "metadata": {},
     "output_type": "execute_result"
    }
   ],
   "source": [
    "# extend\n",
    "a = [1,2,3]\n",
    "a.extend([4,5])\n",
    "a"
   ]
  },
  {
   "cell_type": "code",
   "execution_count": 159,
   "id": "7717b542-4ac8-450e-af90-acf10f073dea",
   "metadata": {},
   "outputs": [
    {
     "data": {
      "text/plain": [
       "[1, 2, 3, 4, 5, 6, 7]"
      ]
     },
     "execution_count": 159,
     "metadata": {},
     "output_type": "execute_result"
    }
   ],
   "source": [
    "b = [6,7]\n",
    "a.extend(b)\n",
    "a"
   ]
  },
  {
   "cell_type": "markdown",
   "id": "d34b4fdb-3340-42d6-b8ae-14d4d3ce5cfa",
   "metadata": {},
   "source": [
    "# 리스트 연산"
   ]
  },
  {
   "cell_type": "code",
   "execution_count": 160,
   "id": "10ff0faa-5a26-4412-b39c-f32dd97b0c45",
   "metadata": {},
   "outputs": [
    {
     "data": {
      "text/plain": [
       "3"
      ]
     },
     "execution_count": 160,
     "metadata": {},
     "output_type": "execute_result"
    }
   ],
   "source": [
    "a = 1\n",
    "a = a + 2\n",
    "a"
   ]
  },
  {
   "cell_type": "code",
   "execution_count": 161,
   "id": "04362532-21e6-4e51-be0d-3af151d4e08f",
   "metadata": {},
   "outputs": [
    {
     "data": {
      "text/plain": [
       "4"
      ]
     },
     "execution_count": 161,
     "metadata": {},
     "output_type": "execute_result"
    }
   ],
   "source": [
    "a += 1\n",
    "a"
   ]
  },
  {
   "cell_type": "code",
   "execution_count": 162,
   "id": "b28eefcb-1d74-4c88-ae4a-2991a2d5f308",
   "metadata": {},
   "outputs": [
    {
     "data": {
      "text/plain": [
       "[1, 2, 3, 4, 5]"
      ]
     },
     "execution_count": 162,
     "metadata": {},
     "output_type": "execute_result"
    }
   ],
   "source": [
    "a = [1,2,3]\n",
    "a += [4,5]\n",
    "a"
   ]
  },
  {
   "cell_type": "code",
   "execution_count": 165,
   "id": "fe38ad51-c9f8-4f08-8cc1-4e79de5884aa",
   "metadata": {},
   "outputs": [
    {
     "ename": "TypeError",
     "evalue": "'int' object is not iterable",
     "output_type": "error",
     "traceback": [
      "\u001b[1;31m---------------------------------------------------------------------------\u001b[0m",
      "\u001b[1;31mTypeError\u001b[0m                                 Traceback (most recent call last)",
      "Cell \u001b[1;32mIn[165], line 1\u001b[0m\n\u001b[1;32m----> 1\u001b[0m a \u001b[38;5;241m+\u001b[39m\u001b[38;5;241m=\u001b[39m \u001b[38;5;241m9\u001b[39m\n\u001b[0;32m      2\u001b[0m a\n",
      "\u001b[1;31mTypeError\u001b[0m: 'int' object is not iterable"
     ]
    }
   ],
   "source": [
    "a += 9\n",
    "a"
   ]
  },
  {
   "cell_type": "code",
   "execution_count": 171,
   "id": "b7265ade-77ed-41c2-b5ed-c4ec7ff0d52b",
   "metadata": {},
   "outputs": [
    {
     "data": {
      "text/plain": [
       "[6, 7, 9, 9]"
      ]
     },
     "execution_count": 171,
     "metadata": {},
     "output_type": "execute_result"
    }
   ],
   "source": [
    "b += [9]\n",
    "b"
   ]
  },
  {
   "cell_type": "markdown",
   "id": "026df4aa-ed51-41e3-8dd6-4a21cd69237f",
   "metadata": {},
   "source": [
    "# 튜플 자료형"
   ]
  },
  {
   "cell_type": "code",
   "execution_count": 174,
   "id": "22ebfc46-f365-42f9-bd15-56455c639b46",
   "metadata": {},
   "outputs": [
    {
     "name": "stdout",
     "output_type": "stream",
     "text": [
      "() <class 'tuple'>\n",
      "(1,) <class 'tuple'>\n",
      "(1, 2, 3) <class 'tuple'>\n",
      "(1, 2, 3) <class 'tuple'>\n",
      "('a', 'b', ('ab', 'cd')) <class 'tuple'>\n"
     ]
    }
   ],
   "source": [
    "# 데이터 조회 이동시 사용\n",
    "t1 = ()\n",
    "t2 = (1,)\n",
    "t3 = (1,2,3)\n",
    "t4 = 1,2,3\n",
    "t5 = ('a','b',('ab','cd'))\n",
    "\n",
    "print(t1, type(t1))\n",
    "print(t2, type(t2))\n",
    "print(t3, type(t3))\n",
    "print(t4, type(t4))\n",
    "print(t5, type(t5))"
   ]
  },
  {
   "cell_type": "code",
   "execution_count": 175,
   "id": "19161838-50ef-4118-8cf6-fb67fb8b9194",
   "metadata": {},
   "outputs": [
    {
     "data": {
      "text/plain": [
       "((), (1,))"
      ]
     },
     "execution_count": 175,
     "metadata": {},
     "output_type": "execute_result"
    }
   ],
   "source": [
    "t1,t2"
   ]
  },
  {
   "cell_type": "code",
   "execution_count": 176,
   "id": "0ff7671a-dd7c-4a22-8aa0-fdbfb71d1de2",
   "metadata": {},
   "outputs": [
    {
     "data": {
      "text/plain": [
       "(int, tuple)"
      ]
     },
     "execution_count": 176,
     "metadata": {},
     "output_type": "execute_result"
    }
   ],
   "source": [
    "type((1)), type((1, ))"
   ]
  },
  {
   "cell_type": "code",
   "execution_count": 177,
   "id": "feb131d9-9811-43cd-b01b-03ee338a84f1",
   "metadata": {},
   "outputs": [
    {
     "ename": "TypeError",
     "evalue": "'tuple' object doesn't support item deletion",
     "output_type": "error",
     "traceback": [
      "\u001b[1;31m---------------------------------------------------------------------------\u001b[0m",
      "\u001b[1;31mTypeError\u001b[0m                                 Traceback (most recent call last)",
      "Cell \u001b[1;32mIn[177], line 2\u001b[0m\n\u001b[0;32m      1\u001b[0m t1 \u001b[38;5;241m=\u001b[39m (\u001b[38;5;241m1\u001b[39m,\u001b[38;5;241m2\u001b[39m,\u001b[38;5;124m'\u001b[39m\u001b[38;5;124ma\u001b[39m\u001b[38;5;124m'\u001b[39m,\u001b[38;5;124m'\u001b[39m\u001b[38;5;124mb\u001b[39m\u001b[38;5;124m'\u001b[39m)\n\u001b[1;32m----> 2\u001b[0m \u001b[38;5;28;01mdel\u001b[39;00m t1[\u001b[38;5;241m0\u001b[39m]\n",
      "\u001b[1;31mTypeError\u001b[0m: 'tuple' object doesn't support item deletion"
     ]
    }
   ],
   "source": [
    "t1 = (1,2,'a','b')\n",
    "del t1[0]"
   ]
  },
  {
   "cell_type": "code",
   "execution_count": 178,
   "id": "dacbfaf6-59dd-4450-a64b-5d53b42af1ff",
   "metadata": {},
   "outputs": [
    {
     "ename": "TypeError",
     "evalue": "'tuple' object does not support item assignment",
     "output_type": "error",
     "traceback": [
      "\u001b[1;31m---------------------------------------------------------------------------\u001b[0m",
      "\u001b[1;31mTypeError\u001b[0m                                 Traceback (most recent call last)",
      "Cell \u001b[1;32mIn[178], line 1\u001b[0m\n\u001b[1;32m----> 1\u001b[0m t1[\u001b[38;5;241m0\u001b[39m] \u001b[38;5;241m=\u001b[39m \u001b[38;5;124m'\u001b[39m\u001b[38;5;124mc\u001b[39m\u001b[38;5;124m'\u001b[39m\n",
      "\u001b[1;31mTypeError\u001b[0m: 'tuple' object does not support item assignment"
     ]
    }
   ],
   "source": [
    "t1[0] = 'c'"
   ]
  },
  {
   "cell_type": "markdown",
   "id": "75ff95c7-a025-48b8-a9f3-27dba6835c74",
   "metadata": {},
   "source": [
    "# 튜플 다루기"
   ]
  },
  {
   "cell_type": "code",
   "execution_count": 179,
   "id": "8c1c9dad-3f6c-4c8b-9ab1-4142b4c12ea7",
   "metadata": {},
   "outputs": [
    {
     "data": {
      "text/plain": [
       "1"
      ]
     },
     "execution_count": 179,
     "metadata": {},
     "output_type": "execute_result"
    }
   ],
   "source": [
    "# 인덱싱\n",
    "t1 = (1,2,'a','b')\n",
    "t1[0]"
   ]
  },
  {
   "cell_type": "code",
   "execution_count": 180,
   "id": "c7e09fc6-c7b3-448d-8ccf-8209064bb5ab",
   "metadata": {},
   "outputs": [
    {
     "data": {
      "text/plain": [
       "(2, 'a', 'b')"
      ]
     },
     "execution_count": 180,
     "metadata": {},
     "output_type": "execute_result"
    }
   ],
   "source": [
    "t1[1:]"
   ]
  },
  {
   "cell_type": "code",
   "execution_count": 181,
   "id": "888f89ba-48d5-4f34-be02-9b31d0f92751",
   "metadata": {},
   "outputs": [
    {
     "data": {
      "text/plain": [
       "(1, 2, 'a', 'b', 3, 4)"
      ]
     },
     "execution_count": 181,
     "metadata": {},
     "output_type": "execute_result"
    }
   ],
   "source": [
    "t1 = (1,2,'a','b')\n",
    "t2 = (3,4)\n",
    "t3 = t1 + t2\n",
    "t3"
   ]
  },
  {
   "cell_type": "code",
   "execution_count": 183,
   "id": "1f2a6bde-fd69-4f75-833b-0e1627556eba",
   "metadata": {},
   "outputs": [
    {
     "data": {
      "text/plain": [
       "(3, 4, 3, 4, 3, 4)"
      ]
     },
     "execution_count": 183,
     "metadata": {},
     "output_type": "execute_result"
    }
   ],
   "source": [
    "t2 = (3,4)\n",
    "t3 = t2*3\n",
    "t3"
   ]
  },
  {
   "cell_type": "code",
   "execution_count": 184,
   "id": "f9f9be54-ca35-4533-89fe-13e6f193c709",
   "metadata": {},
   "outputs": [
    {
     "data": {
      "text/plain": [
       "6"
      ]
     },
     "execution_count": 184,
     "metadata": {},
     "output_type": "execute_result"
    }
   ],
   "source": [
    "# 튜플 길이 구하기\n",
    "len(t3)"
   ]
  },
  {
   "cell_type": "markdown",
   "id": "1d438991-3d62-4240-a6d8-fa91f392007b",
   "metadata": {},
   "source": [
    "# 딕셔너리 자료형"
   ]
  },
  {
   "cell_type": "code",
   "execution_count": null,
   "id": "949a4be1-b180-4353-a4df-4371913742d9",
   "metadata": {},
   "outputs": [],
   "source": []
  }
 ],
 "metadata": {
  "kernelspec": {
   "display_name": "Python 3 (ipykernel)",
   "language": "python",
   "name": "python3"
  },
  "language_info": {
   "codemirror_mode": {
    "name": "ipython",
    "version": 3
   },
   "file_extension": ".py",
   "mimetype": "text/x-python",
   "name": "python",
   "nbconvert_exporter": "python",
   "pygments_lexer": "ipython3",
   "version": "3.11.7"
  }
 },
 "nbformat": 4,
 "nbformat_minor": 5
}
