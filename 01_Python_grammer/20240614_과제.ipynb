{
 "cells": [
  {
   "cell_type": "markdown",
   "id": "e51da19d-9375-4587-85e2-1b4399ca8b14",
   "metadata": {},
   "source": [
    "# 201"
   ]
  },
  {
   "cell_type": "code",
   "execution_count": 3,
   "id": "d47d68a0-e9b7-468b-ba5f-4c3b37f8ac16",
   "metadata": {},
   "outputs": [],
   "source": [
    "def print_coin():\n",
    "    print(\"비트코인\")"
   ]
  },
  {
   "cell_type": "markdown",
   "id": "a7f50085-ae91-498c-b312-1944c74dc031",
   "metadata": {},
   "source": [
    "# 202"
   ]
  },
  {
   "cell_type": "code",
   "execution_count": 2,
   "id": "fd2ee766-f201-4610-98fe-f69a2f3b3ea9",
   "metadata": {},
   "outputs": [
    {
     "name": "stdout",
     "output_type": "stream",
     "text": [
      "비트코인\n"
     ]
    }
   ],
   "source": [
    "print_coin()"
   ]
  },
  {
   "cell_type": "markdown",
   "id": "c436b6a3-587b-4ec4-87d6-733cc9e79e70",
   "metadata": {},
   "source": [
    "# 203"
   ]
  },
  {
   "cell_type": "code",
   "execution_count": 5,
   "id": "6bcece95-3196-4679-86ad-a79a6d027468",
   "metadata": {},
   "outputs": [
    {
     "name": "stdout",
     "output_type": "stream",
     "text": [
      "비트코인\n",
      "비트코인\n",
      "비트코인\n",
      "비트코인\n",
      "비트코인\n",
      "비트코인\n",
      "비트코인\n",
      "비트코인\n",
      "비트코인\n",
      "비트코인\n",
      "비트코인\n",
      "비트코인\n",
      "비트코인\n",
      "비트코인\n",
      "비트코인\n",
      "비트코인\n",
      "비트코인\n",
      "비트코인\n",
      "비트코인\n",
      "비트코인\n",
      "비트코인\n",
      "비트코인\n",
      "비트코인\n",
      "비트코인\n",
      "비트코인\n",
      "비트코인\n",
      "비트코인\n",
      "비트코인\n",
      "비트코인\n",
      "비트코인\n",
      "비트코인\n",
      "비트코인\n",
      "비트코인\n",
      "비트코인\n",
      "비트코인\n",
      "비트코인\n",
      "비트코인\n",
      "비트코인\n",
      "비트코인\n",
      "비트코인\n",
      "비트코인\n",
      "비트코인\n",
      "비트코인\n",
      "비트코인\n",
      "비트코인\n",
      "비트코인\n",
      "비트코인\n",
      "비트코인\n",
      "비트코인\n",
      "비트코인\n",
      "비트코인\n",
      "비트코인\n",
      "비트코인\n",
      "비트코인\n",
      "비트코인\n",
      "비트코인\n",
      "비트코인\n",
      "비트코인\n",
      "비트코인\n",
      "비트코인\n",
      "비트코인\n",
      "비트코인\n",
      "비트코인\n",
      "비트코인\n",
      "비트코인\n",
      "비트코인\n",
      "비트코인\n",
      "비트코인\n",
      "비트코인\n",
      "비트코인\n",
      "비트코인\n",
      "비트코인\n",
      "비트코인\n",
      "비트코인\n",
      "비트코인\n",
      "비트코인\n",
      "비트코인\n",
      "비트코인\n",
      "비트코인\n",
      "비트코인\n",
      "비트코인\n",
      "비트코인\n",
      "비트코인\n",
      "비트코인\n",
      "비트코인\n",
      "비트코인\n",
      "비트코인\n",
      "비트코인\n",
      "비트코인\n",
      "비트코인\n",
      "비트코인\n",
      "비트코인\n",
      "비트코인\n",
      "비트코인\n",
      "비트코인\n",
      "비트코인\n",
      "비트코인\n",
      "비트코인\n",
      "비트코인\n",
      "비트코인\n"
     ]
    }
   ],
   "source": [
    "for i in range(100):\n",
    "    print_coin()"
   ]
  },
  {
   "cell_type": "markdown",
   "id": "4d454bc1-4c3c-4181-9b25-67c9452e3bc1",
   "metadata": {},
   "source": [
    "# 205"
   ]
  },
  {
   "cell_type": "code",
   "execution_count": 6,
   "id": "c441de5b-d4ee-45b9-9cd7-7212ba15c993",
   "metadata": {},
   "outputs": [
    {
     "ename": "NameError",
     "evalue": "name 'hello' is not defined",
     "output_type": "error",
     "traceback": [
      "\u001b[1;31m---------------------------------------------------------------------------\u001b[0m",
      "\u001b[1;31mNameError\u001b[0m                                 Traceback (most recent call last)",
      "Cell \u001b[1;32mIn[6], line 1\u001b[0m\n\u001b[1;32m----> 1\u001b[0m hello() \u001b[38;5;66;03m# 아직 hello 함수가 선언되지 않은 상태에서 호출 했기 때문에\u001b[39;00m\n\u001b[0;32m      2\u001b[0m \u001b[38;5;28;01mdef\u001b[39;00m \u001b[38;5;21mhello\u001b[39m():\n\u001b[0;32m      3\u001b[0m     \u001b[38;5;28mprint\u001b[39m(\u001b[38;5;124m\"\u001b[39m\u001b[38;5;124mHi\u001b[39m\u001b[38;5;124m\"\u001b[39m)\n",
      "\u001b[1;31mNameError\u001b[0m: name 'hello' is not defined"
     ]
    }
   ],
   "source": [
    "hello() # 아직 hello 함수가 정되지 않은 상태에서 호출 했기 때문에\n",
    "def hello():\n",
    "    print(\"Hi\")"
   ]
  },
  {
   "cell_type": "markdown",
   "id": "b04ac073-c825-48e5-9441-6905b8d78e52",
   "metadata": {},
   "source": [
    "# 206"
   ]
  },
  {
   "cell_type": "code",
   "execution_count": 7,
   "id": "5d0ac85f-6bc4-4845-87e9-6f2e31d2cb6d",
   "metadata": {},
   "outputs": [
    {
     "name": "stdout",
     "output_type": "stream",
     "text": [
      "A\n",
      "B\n",
      "C\n",
      "A\n",
      "B\n"
     ]
    }
   ],
   "source": [
    "def message() :\n",
    "    print(\"A\")\n",
    "    print(\"B\")\n",
    "\n",
    "message()\n",
    "print(\"C\")\n",
    "message()\n",
    "#A\n",
    "#b\n",
    "#C\n",
    "#A\n",
    "#b"
   ]
  },
  {
   "cell_type": "markdown",
   "id": "6a8bd841-e6fc-4faf-883a-a6054102627d",
   "metadata": {},
   "source": [
    "# 207"
   ]
  },
  {
   "cell_type": "code",
   "execution_count": 8,
   "id": "6df8617f-1293-42bf-a854-136f0826d4d5",
   "metadata": {},
   "outputs": [
    {
     "name": "stdout",
     "output_type": "stream",
     "text": [
      "A\n",
      "C\n",
      "B\n"
     ]
    }
   ],
   "source": [
    "print(\"A\")\n",
    "\n",
    "def message() :\n",
    "    print(\"B\")\n",
    "\n",
    "print(\"C\")\n",
    "message()\n",
    "\n",
    "#A\n",
    "#C\n",
    "#B"
   ]
  },
  {
   "cell_type": "markdown",
   "id": "fe84dfd0-7f7c-4800-82bf-25d564bdb41b",
   "metadata": {},
   "source": [
    "# 208"
   ]
  },
  {
   "cell_type": "code",
   "execution_count": 9,
   "id": "7a0e912f-4a5d-4770-9902-a1cdeea724d7",
   "metadata": {},
   "outputs": [
    {
     "name": "stdout",
     "output_type": "stream",
     "text": [
      "A\n",
      "C\n",
      "B\n",
      "E\n",
      "D\n"
     ]
    }
   ],
   "source": [
    "print(\"A\")\n",
    "def message1() :\n",
    "    print(\"B\")\n",
    "print(\"C\")\n",
    "def message2() :\n",
    "    print(\"D\")\n",
    "message1()\n",
    "print(\"E\")\n",
    "message2()\n",
    "#A\n",
    "#C\n",
    "#B\n",
    "#E\n",
    "#D"
   ]
  },
  {
   "cell_type": "markdown",
   "id": "078d4f98-ea5d-4d89-b42f-6e844653e536",
   "metadata": {},
   "source": [
    "# 209"
   ]
  },
  {
   "cell_type": "code",
   "execution_count": 10,
   "id": "2119d5e1-f5c4-4aef-8dc6-473f7f779381",
   "metadata": {},
   "outputs": [
    {
     "name": "stdout",
     "output_type": "stream",
     "text": [
      "B\n",
      "A\n"
     ]
    }
   ],
   "source": [
    "def message1():\n",
    "    print(\"A\")\n",
    "\n",
    "def message2():\n",
    "    print(\"B\")\n",
    "    message1()\n",
    "\n",
    "message2()\n",
    "\n",
    "#B\n",
    "#A"
   ]
  },
  {
   "cell_type": "markdown",
   "id": "7db775c1-ba89-4f27-81e0-c6e56249b084",
   "metadata": {},
   "source": [
    "# 210"
   ]
  },
  {
   "cell_type": "code",
   "execution_count": 11,
   "id": "14a75f70-5b74-43e0-b369-b0e17eda45db",
   "metadata": {},
   "outputs": [
    {
     "name": "stdout",
     "output_type": "stream",
     "text": [
      "B\n",
      "C\n",
      "B\n",
      "C\n",
      "B\n",
      "C\n",
      "A\n"
     ]
    }
   ],
   "source": [
    "def message1():\n",
    "    print(\"A\")\n",
    "\n",
    "def message2():\n",
    "    print(\"B\")\n",
    "\n",
    "def message3():\n",
    "    for i in range (3) :\n",
    "        message2()\n",
    "        print(\"C\")\n",
    "    message1()\n",
    "\n",
    "message3()\n",
    "#B\n",
    "#C\n",
    "#B\n",
    "#C\n",
    "#B\n",
    "#C\n",
    "#A"
   ]
  },
  {
   "cell_type": "markdown",
   "id": "2065f41d-bf7d-463d-811a-652b9682165c",
   "metadata": {},
   "source": [
    "# 211"
   ]
  },
  {
   "cell_type": "code",
   "execution_count": 12,
   "id": "35abc315-2b16-4947-8cf1-30f169cf6eee",
   "metadata": {},
   "outputs": [
    {
     "name": "stdout",
     "output_type": "stream",
     "text": [
      "안녕\n",
      "Hi\n"
     ]
    }
   ],
   "source": [
    "def 함수(문자열) :\n",
    "    print(문자열)\n",
    "\n",
    "함수(\"안녕\")\n",
    "함수(\"Hi\")\n",
    "\n",
    "#안녕\n",
    "# Hi"
   ]
  },
  {
   "cell_type": "markdown",
   "id": "acf3cec5-5a52-429b-87b5-4a099afd31e7",
   "metadata": {},
   "source": [
    "# 212"
   ]
  },
  {
   "cell_type": "markdown",
   "id": "92141c96-c108-46b9-94ca-fea4dd7ada03",
   "metadata": {},
   "source": [
    "def 함수(a, b) :\n",
    "    print(a + b)\n",
    "\n",
    "함수(3, 4)\n",
    "함수(7, 8)\n",
    "\n",
    "# 7\n",
    "# 15"
   ]
  },
  {
   "cell_type": "markdown",
   "id": "cd751c79-ddf5-42b5-92e9-7d6d6cc0b471",
   "metadata": {},
   "source": [
    "# 213"
   ]
  },
  {
   "cell_type": "code",
   "execution_count": 14,
   "id": "a10d1ca0-80f7-485a-adb0-b417890ce454",
   "metadata": {},
   "outputs": [],
   "source": [
    "def 함수(문자열) :\n",
    "    print(문자열)"
   ]
  },
  {
   "cell_type": "code",
   "execution_count": 15,
   "id": "4713061d-92ca-4ec5-923e-dfd7cdbafa1b",
   "metadata": {},
   "outputs": [
    {
     "ename": "TypeError",
     "evalue": "함수() missing 1 required positional argument: '문자열'",
     "output_type": "error",
     "traceback": [
      "\u001b[1;31m---------------------------------------------------------------------------\u001b[0m",
      "\u001b[1;31mTypeError\u001b[0m                                 Traceback (most recent call last)",
      "Cell \u001b[1;32mIn[15], line 1\u001b[0m\n\u001b[1;32m----> 1\u001b[0m 함수()\n",
      "\u001b[1;31mTypeError\u001b[0m: 함수() missing 1 required positional argument: '문자열'"
     ]
    }
   ],
   "source": [
    "함수()# 함수 정의에 매개변수가 있으나 인자로 넘기지 않았음"
   ]
  },
  {
   "cell_type": "markdown",
   "id": "b389625b-e10f-427f-8477-a9cea7fb5775",
   "metadata": {},
   "source": [
    "# 214"
   ]
  },
  {
   "cell_type": "code",
   "execution_count": 17,
   "id": "106511b5-522b-417f-8de2-a7680d61db4d",
   "metadata": {},
   "outputs": [
    {
     "ename": "TypeError",
     "evalue": "can only concatenate str (not \"int\") to str",
     "output_type": "error",
     "traceback": [
      "\u001b[1;31m---------------------------------------------------------------------------\u001b[0m",
      "\u001b[1;31mTypeError\u001b[0m                                 Traceback (most recent call last)",
      "Cell \u001b[1;32mIn[17], line 4\u001b[0m\n\u001b[0;32m      1\u001b[0m \u001b[38;5;28;01mdef\u001b[39;00m \u001b[38;5;21m함수\u001b[39m(a, b) :\n\u001b[0;32m      2\u001b[0m     \u001b[38;5;28mprint\u001b[39m(a \u001b[38;5;241m+\u001b[39m b)\n\u001b[1;32m----> 4\u001b[0m 함수(\u001b[38;5;124m\"\u001b[39m\u001b[38;5;124m안녕\u001b[39m\u001b[38;5;124m\"\u001b[39m, \u001b[38;5;241m3\u001b[39m)\n",
      "Cell \u001b[1;32mIn[17], line 2\u001b[0m, in \u001b[0;36m함수\u001b[1;34m(a, b)\u001b[0m\n\u001b[0;32m      1\u001b[0m \u001b[38;5;28;01mdef\u001b[39;00m \u001b[38;5;21m함수\u001b[39m(a, b) :\n\u001b[1;32m----> 2\u001b[0m     \u001b[38;5;28mprint\u001b[39m(a \u001b[38;5;241m+\u001b[39m b)\n",
      "\u001b[1;31mTypeError\u001b[0m: can only concatenate str (not \"int\") to str"
     ]
    }
   ],
   "source": [
    "def 함수(a, b) :\n",
    "    print(a + b)\n",
    "\n",
    "함수(\"안녕\", 3) # string type과 integer type은 더하기 연산이 불가능하다"
   ]
  },
  {
   "cell_type": "markdown",
   "id": "9a8cd8ad-5830-4a4e-ace0-b70a5d1b7cb1",
   "metadata": {},
   "source": [
    "# 215"
   ]
  },
  {
   "cell_type": "code",
   "execution_count": 18,
   "id": "4018cf2e-d4a3-4675-bf53-e72a71f21dea",
   "metadata": {},
   "outputs": [
    {
     "name": "stdout",
     "output_type": "stream",
     "text": [
      "안녕 :D\n"
     ]
    }
   ],
   "source": [
    "def print_with_smile (문자열) :\n",
    "    print(문자열+\" :D\")\n",
    "    \n",
    "print_with_smile(\"안녕\")"
   ]
  },
  {
   "cell_type": "markdown",
   "id": "08925ac4-a4b4-4a38-ad14-015aed15808b",
   "metadata": {},
   "source": [
    "# 216"
   ]
  },
  {
   "cell_type": "code",
   "execution_count": 19,
   "id": "e5d36c92-a3e3-4007-8230-0262ed340048",
   "metadata": {},
   "outputs": [
    {
     "name": "stdout",
     "output_type": "stream",
     "text": [
      "안녕하세요 :D\n"
     ]
    }
   ],
   "source": [
    "print_with_smile(\"안녕하세요\")"
   ]
  },
  {
   "cell_type": "markdown",
   "id": "4c96190d-48d8-4a82-9dd3-87fad9b7a203",
   "metadata": {},
   "source": [
    "# 217"
   ]
  },
  {
   "cell_type": "code",
   "execution_count": 20,
   "id": "4f815ed8-19d1-413b-9af4-94a29de1ce04",
   "metadata": {},
   "outputs": [
    {
     "name": "stdout",
     "output_type": "stream",
     "text": [
      "130.0\n"
     ]
    }
   ],
   "source": [
    "def print_upper_price(가격) :\n",
    "    print(가격*1.3)\n",
    "\n",
    "print_upper_price(100)"
   ]
  },
  {
   "cell_type": "markdown",
   "id": "c8973b3a-6280-4703-b3d1-6e3a4ea29dac",
   "metadata": {},
   "source": [
    "# 218"
   ]
  },
  {
   "cell_type": "code",
   "execution_count": 21,
   "id": "ab0ed9fe-1bad-47ae-b311-b7637c344a7d",
   "metadata": {},
   "outputs": [
    {
     "name": "stdout",
     "output_type": "stream",
     "text": [
      "3\n"
     ]
    }
   ],
   "source": [
    "def print_sum (a, b) :\n",
    "    print(a + b)\n",
    "\n",
    "print_sum(1,2)"
   ]
  },
  {
   "cell_type": "markdown",
   "id": "a8ca87dc-68d3-454f-85c3-dee7d6c14359",
   "metadata": {},
   "source": [
    "# 219"
   ]
  },
  {
   "cell_type": "code",
   "execution_count": 24,
   "id": "65a4dd18-fa4c-45d2-bb19-13548dfb59ed",
   "metadata": {},
   "outputs": [
    {
     "name": "stdout",
     "output_type": "stream",
     "text": [
      "1 + 2 = 3\n",
      "1 - 2 = -1\n",
      "1 & 2 = 2\n",
      "1 / 2 = 0.5\n"
     ]
    }
   ],
   "source": [
    "def print_arithmetic_operation (a, b) :\n",
    "    print(f\"{a} + {b} = {a+b}\")\n",
    "    print(f\"{a} - {b} = {a-b}\")\n",
    "    print(f\"{a} & {b} = {a*b}\")\n",
    "    print(f\"{a} / {b} = {a/b}\")\n",
    "\n",
    "print_arithmetic_operation(1,2)"
   ]
  },
  {
   "cell_type": "markdown",
   "id": "be2a0e87-8149-4dfc-803b-e40a52065be6",
   "metadata": {},
   "source": [
    "# 220"
   ]
  },
  {
   "cell_type": "code",
   "execution_count": 26,
   "id": "9da2a0e6-b765-467b-85f9-174fc202895e",
   "metadata": {},
   "outputs": [
    {
     "name": "stdout",
     "output_type": "stream",
     "text": [
      "3\n"
     ]
    }
   ],
   "source": [
    "def print_max(a, b, c):\n",
    "    if a > b and a > c:\n",
    "        print(a)\n",
    "    elif b > a and b > c:\n",
    "        print(b)\n",
    "    elif c > b and c > a:\n",
    "        print(c)\n",
    "\n",
    "print_max(1,2,3)"
   ]
  },
  {
   "cell_type": "markdown",
   "id": "6cb39309-ae6c-4bb6-a653-8fcce9cf2b1b",
   "metadata": {},
   "source": [
    "# 221"
   ]
  },
  {
   "cell_type": "code",
   "execution_count": 33,
   "id": "84ae6460-bedd-4fa8-a750-f92ff742503f",
   "metadata": {},
   "outputs": [
    {
     "name": "stdout",
     "output_type": "stream",
     "text": [
      "nohtyp\n"
     ]
    }
   ],
   "source": [
    "def print_reverse(문자):\n",
    "    print(문자[::-1])\n",
    "        \n",
    "print_reverse(\"python\")"
   ]
  },
  {
   "cell_type": "markdown",
   "id": "6bd88eaa-549b-448b-9a95-a2908f78ff0a",
   "metadata": {},
   "source": [
    "# 222"
   ]
  },
  {
   "cell_type": "code",
   "execution_count": 34,
   "id": "cf79bd88-510d-4c1c-b515-0b7c87b6f427",
   "metadata": {},
   "outputs": [
    {
     "name": "stdout",
     "output_type": "stream",
     "text": [
      "2.0\n"
     ]
    }
   ],
   "source": [
    "def print_score(scores):\n",
    "    print(sum(scores)/len(scores))\n",
    "        \n",
    "print_score ([1, 2, 3])"
   ]
  },
  {
   "cell_type": "markdown",
   "id": "86591de0-34f6-41da-8514-e98630998a51",
   "metadata": {},
   "source": [
    "# 223"
   ]
  },
  {
   "cell_type": "code",
   "execution_count": 35,
   "id": "950edd06-8511-44ec-8a6e-9b2170d89d41",
   "metadata": {},
   "outputs": [
    {
     "name": "stdout",
     "output_type": "stream",
     "text": [
      "2\n",
      "10\n",
      "12\n"
     ]
    }
   ],
   "source": [
    "def print_even(list):\n",
    "    for i in list:\n",
    "        if i % 2 == 0:\n",
    "            print(i)\n",
    "\n",
    "print_even ([1, 3, 2, 10, 12, 11, 15])"
   ]
  },
  {
   "cell_type": "markdown",
   "id": "7a6ba14c-1706-4256-97a5-9f69a2e3e556",
   "metadata": {},
   "source": [
    "# 224"
   ]
  },
  {
   "cell_type": "code",
   "execution_count": 42,
   "id": "068b6a6d-2412-4446-b840-7cba5968945c",
   "metadata": {},
   "outputs": [
    {
     "name": "stdout",
     "output_type": "stream",
     "text": [
      "이름\n",
      "나이\n",
      "성별\n"
     ]
    }
   ],
   "source": [
    "def print_keys(dict):\n",
    "    for key in dict.keys():\n",
    "        print(key)\n",
    "\n",
    "print_keys ({\"이름\":\"김말똥\", \"나이\":30, \"성별\":0})"
   ]
  },
  {
   "cell_type": "markdown",
   "id": "fce2479b-20e4-402d-9031-c01157c48656",
   "metadata": {},
   "source": [
    "# 225"
   ]
  },
  {
   "cell_type": "code",
   "execution_count": 43,
   "id": "c4d47a44-2c3b-47e2-b060-7bb37245c484",
   "metadata": {},
   "outputs": [
    {
     "name": "stdout",
     "output_type": "stream",
     "text": [
      "[100, 130, 100, 100]\n"
     ]
    }
   ],
   "source": [
    "my_dict = {\"10/26\" : [100, 130, 100, 100],\n",
    "           \"10/27\" : [10, 12, 10, 11]}\n",
    "def print_value_by_key(dict, key):\n",
    "    print(dict[key])\n",
    "\n",
    "print_value_by_key  (my_dict, \"10/26\")"
   ]
  },
  {
   "cell_type": "markdown",
   "id": "b4e1f45f-70a9-4395-9272-67f3691585ba",
   "metadata": {},
   "source": [
    "# 226"
   ]
  },
  {
   "cell_type": "code",
   "execution_count": 47,
   "id": "2d0b5ab2-0583-43ce-8199-958933ba412d",
   "metadata": {},
   "outputs": [
    {
     "name": "stdout",
     "output_type": "stream",
     "text": [
      "아이엠어보\n"
     ]
    }
   ],
   "source": [
    "def print_5xn(string):\n",
    "    if len(string) >= 5:\n",
    "        print(string[:5])\n",
    "    else:\n",
    "        print(string)\n",
    "\n",
    "print_5xn(\"아이엠어보이유알어걸\")"
   ]
  },
  {
   "cell_type": "markdown",
   "id": "b4d578ef-7469-4de3-a22b-56f60424eb58",
   "metadata": {},
   "source": [
    "# 227"
   ]
  },
  {
   "cell_type": "code",
   "execution_count": 46,
   "id": "d6b68379-8d90-4243-a482-46d9154e6cde",
   "metadata": {},
   "outputs": [
    {
     "name": "stdout",
     "output_type": "stream",
     "text": [
      "아이엠\n"
     ]
    }
   ],
   "source": [
    "def print_mxn(string, num):\n",
    "    if len(string) >= num:\n",
    "        print(string[:num])\n",
    "    else:\n",
    "        print(string)\n",
    "\n",
    "print_mxn(\"아이엠어보이유알어걸\", 3)"
   ]
  },
  {
   "cell_type": "markdown",
   "id": "5d5ce321-3e51-4d36-b8e4-e4ea9ef3c20c",
   "metadata": {},
   "source": [
    "# 228"
   ]
  },
  {
   "cell_type": "code",
   "execution_count": 51,
   "id": "fe6c32c9-f1de-4856-b238-7cae3a841255",
   "metadata": {},
   "outputs": [
    {
     "data": {
      "text/plain": [
       "1000000"
      ]
     },
     "execution_count": 51,
     "metadata": {},
     "output_type": "execute_result"
    }
   ],
   "source": [
    "def calc_monthly_salary(annual_salary):\n",
    "    return int(annual_salary / 12)\n",
    "\n",
    "calc_monthly_salary(12000000)"
   ]
  },
  {
   "cell_type": "markdown",
   "id": "376e265a-f878-4e8a-9eb2-7f507bc9780f",
   "metadata": {},
   "source": [
    "# 229"
   ]
  },
  {
   "cell_type": "code",
   "execution_count": 52,
   "id": "a6d5f7d2-0ac5-4769-a43f-d7957e3b103e",
   "metadata": {},
   "outputs": [
    {
     "name": "stdout",
     "output_type": "stream",
     "text": [
      "왼쪽: 100\n",
      "오른쪽: 200\n"
     ]
    }
   ],
   "source": [
    "def my_print (a, b) :\n",
    "    print(\"왼쪽:\", a)\n",
    "    print(\"오른쪽:\", b)\n",
    "# 왼쪽:100\n",
    "# 오른쪽:200\n",
    "my_print(a=100, b=200)"
   ]
  },
  {
   "cell_type": "markdown",
   "id": "71365075-bf7c-4106-931d-173ff330ea0c",
   "metadata": {},
   "source": [
    "# 230"
   ]
  },
  {
   "cell_type": "code",
   "execution_count": 54,
   "id": "65a35920-45ad-4b37-b7de-a18c0cb02ec2",
   "metadata": {},
   "outputs": [
    {
     "name": "stdout",
     "output_type": "stream",
     "text": [
      "왼쪽: 200\n",
      "오른쪽: 100\n"
     ]
    }
   ],
   "source": [
    "def my_print (a, b) :\n",
    "    print(\"왼쪽:\", a)\n",
    "    print(\"오른쪽:\", b)    \n",
    "# 왼쪽:200\n",
    "# 오른쪽:100\n",
    "my_print(b=100, a=200)"
   ]
  },
  {
   "cell_type": "markdown",
   "id": "11f40845-3c7c-4a85-9e00-d2e418610f72",
   "metadata": {},
   "source": [
    "# 231"
   ]
  },
  {
   "cell_type": "code",
   "execution_count": 56,
   "id": "153a26d1-3316-4d00-89f1-8b30bd93dd35",
   "metadata": {},
   "outputs": [
    {
     "ename": "NameError",
     "evalue": "name 'result' is not defined",
     "output_type": "error",
     "traceback": [
      "\u001b[1;31m---------------------------------------------------------------------------\u001b[0m",
      "\u001b[1;31mNameError\u001b[0m                                 Traceback (most recent call last)",
      "Cell \u001b[1;32mIn[56], line 5\u001b[0m\n\u001b[0;32m      3\u001b[0m \u001b[38;5;66;03m# result는 선언되어있는 변수가 아니므로 에러발생\u001b[39;00m\n\u001b[0;32m      4\u001b[0m n_plus_1(\u001b[38;5;241m3\u001b[39m)\n\u001b[1;32m----> 5\u001b[0m \u001b[38;5;28mprint\u001b[39m (result)\n",
      "\u001b[1;31mNameError\u001b[0m: name 'result' is not defined"
     ]
    }
   ],
   "source": [
    "def n_plus_1 (n) :\n",
    "    result = n + 1\n",
    "# result는 선언되어있는 변수가 아니므로 에러발생\n",
    "n_plus_1(3)\n",
    "print (result)"
   ]
  },
  {
   "cell_type": "markdown",
   "id": "b0a9cbc6-8ebf-44ac-9594-b4f94738f6a5",
   "metadata": {},
   "source": [
    "# 232"
   ]
  },
  {
   "cell_type": "code",
   "execution_count": 57,
   "id": "f20048c1-84e0-4012-95d8-3b796732f56a",
   "metadata": {},
   "outputs": [
    {
     "data": {
      "text/plain": [
       "'www.naver.com'"
      ]
     },
     "execution_count": 57,
     "metadata": {},
     "output_type": "execute_result"
    }
   ],
   "source": [
    "def make_url(addr):\n",
    "    return(\"www.\"+addr+\".com\")\n",
    "\n",
    "make_url(\"naver\")"
   ]
  },
  {
   "cell_type": "markdown",
   "id": "a3e33c17-e071-46cf-9399-006f58759abc",
   "metadata": {},
   "source": [
    "# 233"
   ]
  },
  {
   "cell_type": "code",
   "execution_count": 58,
   "id": "017b5223-8906-443c-9fc6-9c7b8435c10a",
   "metadata": {},
   "outputs": [
    {
     "data": {
      "text/plain": [
       "['a', 'b', 'c', 'd']"
      ]
     },
     "execution_count": 58,
     "metadata": {},
     "output_type": "execute_result"
    }
   ],
   "source": [
    "def make_list(문자):\n",
    "    list = []\n",
    "    for i in range(len(문자)):\n",
    "        list.append(문자[i])\n",
    "    return list\n",
    "\n",
    "make_list(\"abcd\")"
   ]
  },
  {
   "cell_type": "markdown",
   "id": "4a1e597b-8dda-4213-acca-91bdccabede2",
   "metadata": {},
   "source": [
    "# 234"
   ]
  },
  {
   "cell_type": "code",
   "execution_count": 2,
   "id": "1e54fa47-da1d-40c8-868d-bf2cdc1c6a15",
   "metadata": {},
   "outputs": [
    {
     "data": {
      "text/plain": [
       "[4, 6, 8]"
      ]
     },
     "execution_count": 2,
     "metadata": {},
     "output_type": "execute_result"
    }
   ],
   "source": [
    "def pickup_even(list):\n",
    "    temp_list = []\n",
    "    for i in list:\n",
    "        if i % 2 == 0:\n",
    "            temp_list.append(i)\n",
    "\n",
    "    return temp_list\n",
    "\n",
    "pickup_even([3, 4, 5, 6, 7, 8])"
   ]
  },
  {
   "cell_type": "markdown",
   "id": "b8f19bff-d4ee-40f6-b9cf-a42bfc83de6f",
   "metadata": {},
   "source": [
    "# 235"
   ]
  },
  {
   "cell_type": "code",
   "execution_count": 4,
   "id": "7f304e7c-4b21-4eac-9f5f-064dc2333256",
   "metadata": {},
   "outputs": [
    {
     "data": {
      "text/plain": [
       "int"
      ]
     },
     "execution_count": 4,
     "metadata": {},
     "output_type": "execute_result"
    }
   ],
   "source": [
    "def convert_int(문자):\n",
    "    return int(문자.replace(\",\", \"\"))\n",
    "\n",
    "convert_int(\"1,234,567\")"
   ]
  },
  {
   "cell_type": "markdown",
   "id": "2afac68e-325f-496a-b1c3-fcbd6a7b7e23",
   "metadata": {},
   "source": [
    "# 236"
   ]
  },
  {
   "cell_type": "code",
   "execution_count": 6,
   "id": "04ee899d-a8be-4679-a54f-eedd4646b490",
   "metadata": {},
   "outputs": [
    {
     "name": "stdout",
     "output_type": "stream",
     "text": [
      "22\n"
     ]
    }
   ],
   "source": [
    "def 함수(num) :\n",
    "    return num + 4\n",
    "\n",
    "a = 함수(10)\n",
    "b = 함수(a)\n",
    "c = 함수(b)\n",
    "\n",
    "#22\n",
    "\n",
    "print(c)"
   ]
  },
  {
   "cell_type": "markdown",
   "id": "a46a1dc1-41c9-4a64-b167-ae1a19ed5210",
   "metadata": {},
   "source": [
    "# 237"
   ]
  },
  {
   "cell_type": "code",
   "execution_count": 7,
   "id": "44085cca-bbd3-4f89-b091-561ff7c2a03f",
   "metadata": {},
   "outputs": [
    {
     "name": "stdout",
     "output_type": "stream",
     "text": [
      "22\n"
     ]
    }
   ],
   "source": [
    "def 함수(num) :\n",
    "    return num + 4\n",
    "\n",
    "c = 함수(함수(함수(10)))\n",
    "\n",
    "# 22\n",
    "\n",
    "print(c)"
   ]
  },
  {
   "cell_type": "markdown",
   "id": "2504de3b-b689-4b65-b4e7-45ced7f65070",
   "metadata": {},
   "source": [
    "# 238"
   ]
  },
  {
   "cell_type": "code",
   "execution_count": 8,
   "id": "03a1d525-623e-4f23-b5c7-d53811241a7a",
   "metadata": {},
   "outputs": [
    {
     "name": "stdout",
     "output_type": "stream",
     "text": [
      "140\n"
     ]
    }
   ],
   "source": [
    "def 함수1(num) :\n",
    "    return num + 4\n",
    "\n",
    "def 함수2(num) :\n",
    "    return num * 10\n",
    "\n",
    "a = 함수1(10)\n",
    "c = 함수2(a)\n",
    "\n",
    "# 140\n",
    "\n",
    "print(c)"
   ]
  },
  {
   "cell_type": "markdown",
   "id": "cbb87e4e-f0d0-4c12-bab0-9c5cf1d4c2df",
   "metadata": {},
   "source": [
    "# 239"
   ]
  },
  {
   "cell_type": "code",
   "execution_count": 9,
   "id": "2ac62511-e0c6-429b-b11a-28872fadaf3a",
   "metadata": {},
   "outputs": [
    {
     "name": "stdout",
     "output_type": "stream",
     "text": [
      "16\n"
     ]
    }
   ],
   "source": [
    "def 함수1(num) :\n",
    "    return num + 4\n",
    "\n",
    "def 함수2(num) :\n",
    "    num = num + 2\n",
    "    return 함수1(num)\n",
    "\n",
    "c = 함수2(10)\n",
    "\n",
    "# 16\n",
    "\n",
    "print(c)"
   ]
  },
  {
   "cell_type": "markdown",
   "id": "8d52bfac-ab3f-4c3e-a3e1-56960149c062",
   "metadata": {},
   "source": [
    "# 240"
   ]
  },
  {
   "cell_type": "code",
   "execution_count": 10,
   "id": "8b6f81f8-4bde-4b5f-84d4-7d5a3e0bf52a",
   "metadata": {},
   "outputs": [
    {
     "name": "stdout",
     "output_type": "stream",
     "text": [
      "28\n"
     ]
    }
   ],
   "source": [
    "def 함수0(num) :\n",
    "    return num * 2\n",
    "\n",
    "def 함수1(num) :\n",
    "    return 함수0(num + 2)\n",
    "\n",
    "def 함수2(num) :\n",
    "    num = num + 10\n",
    "    return 함수1(num)\n",
    "\n",
    "c = 함수2(2)\n",
    "\n",
    "# 28\n",
    "\n",
    "print(c)"
   ]
  }
 ],
 "metadata": {
  "kernelspec": {
   "display_name": "Python 3 (ipykernel)",
   "language": "python",
   "name": "python3"
  },
  "language_info": {
   "codemirror_mode": {
    "name": "ipython",
    "version": 3
   },
   "file_extension": ".py",
   "mimetype": "text/x-python",
   "name": "python",
   "nbconvert_exporter": "python",
   "pygments_lexer": "ipython3",
   "version": "3.11.7"
  }
 },
 "nbformat": 4,
 "nbformat_minor": 5
}
