{
 "cells": [
  {
   "cell_type": "markdown",
   "id": "2a1bd27c-21fa-4839-b38c-4363496e2f46",
   "metadata": {},
   "source": [
    "# 241"
   ]
  },
  {
   "cell_type": "code",
   "execution_count": 6,
   "id": "2f86bb41-6a7e-4148-9511-3d37313b81fc",
   "metadata": {},
   "outputs": [
    {
     "name": "stdout",
     "output_type": "stream",
     "text": [
      "2024-06-18 17:06:58.279406\n"
     ]
    }
   ],
   "source": [
    "import datetime\n",
    "print(datetime.datetime.now())"
   ]
  },
  {
   "cell_type": "markdown",
   "id": "b29209ab-8b94-415e-9400-67d603922ff9",
   "metadata": {},
   "source": [
    "# 242"
   ]
  },
  {
   "cell_type": "code",
   "execution_count": 7,
   "id": "be8dcb30-410c-4551-a88f-6298e78014fd",
   "metadata": {},
   "outputs": [
    {
     "name": "stdout",
     "output_type": "stream",
     "text": [
      "2024-06-18 17:07:59.676619 <class 'datetime.datetime'>\n"
     ]
    }
   ],
   "source": [
    "import datetime\n",
    "a = datetime.datetime.now()\n",
    "print(a, type(a))"
   ]
  },
  {
   "cell_type": "markdown",
   "id": "a8aca7eb-76de-4de3-aa07-256a269e7ea5",
   "metadata": {},
   "source": [
    "# 243"
   ]
  },
  {
   "cell_type": "code",
   "execution_count": 14,
   "id": "1c6bdf22-7af5-4572-bcdd-43d9e62c2da4",
   "metadata": {},
   "outputs": [
    {
     "name": "stdout",
     "output_type": "stream",
     "text": [
      "2024-06-13 17:11:55.035648\n",
      "2024-06-14 17:11:55.035648\n",
      "2024-06-15 17:11:55.035648\n",
      "2024-06-16 17:11:55.035648\n",
      "2024-06-17 17:11:55.035648\n"
     ]
    }
   ],
   "source": [
    "import datetime\n",
    "\n",
    "a = datetime.datetime.now()\n",
    "for i in range(5, 0, -1):\n",
    "    b = datetime.timedelta(i)\n",
    "    print(a - b)"
   ]
  },
  {
   "cell_type": "markdown",
   "id": "75421b7e-ded2-442f-80f6-c665cbfa5936",
   "metadata": {},
   "source": [
    "# 244"
   ]
  },
  {
   "cell_type": "code",
   "execution_count": 15,
   "id": "37969c7b-8c5b-49e3-a21e-ead21b110360",
   "metadata": {},
   "outputs": [
    {
     "data": {
      "text/plain": [
       "'17:13:06'"
      ]
     },
     "execution_count": 15,
     "metadata": {},
     "output_type": "execute_result"
    }
   ],
   "source": [
    "import datetime\n",
    "\n",
    "datetime.datetime.now().strftime('%X')"
   ]
  },
  {
   "cell_type": "markdown",
   "id": "c6079b79-294c-4f3c-829a-11a8fd787ffc",
   "metadata": {},
   "source": [
    "# 245"
   ]
  },
  {
   "cell_type": "code",
   "execution_count": 18,
   "id": "530e7d89-a3ba-45fb-ab49-bb517e7c03c5",
   "metadata": {},
   "outputs": [
    {
     "name": "stdout",
     "output_type": "stream",
     "text": [
      "2020-05-04 00:00:00\n"
     ]
    }
   ],
   "source": [
    "import datetime\n",
    "print(datetime.datetime.strptime(\"2020-05-04\", \"%Y-%m-%d\"))"
   ]
  },
  {
   "cell_type": "markdown",
   "id": "e43b5afb-57b7-4a3c-85df-ffe3c12fd8c3",
   "metadata": {},
   "source": [
    "# 246"
   ]
  },
  {
   "cell_type": "code",
   "execution_count": 21,
   "id": "4bcad547-f78c-432b-ada6-fb4aa8e93b11",
   "metadata": {},
   "outputs": [
    {
     "name": "stdout",
     "output_type": "stream",
     "text": [
      "2024-06-18 17:19:18.974238\n",
      "2024-06-18 17:19:19.974622\n",
      "2024-06-18 17:19:20.975197\n",
      "2024-06-18 17:19:21.975820\n",
      "2024-06-18 17:19:22.976321\n",
      "2024-06-18 17:19:23.976863\n",
      "2024-06-18 17:19:24.977210\n",
      "2024-06-18 17:19:25.977774\n",
      "2024-06-18 17:19:26.978399\n",
      "2024-06-18 17:19:27.978894\n"
     ]
    }
   ],
   "source": [
    "import time\n",
    "import datetime\n",
    "\n",
    "\n",
    "for i in range(0, 10):\n",
    "    print(datetime.datetime.now())\n",
    "    time.sleep(1)"
   ]
  },
  {
   "cell_type": "markdown",
   "id": "85f992fd-ef3e-4460-b56f-959b6117b58b",
   "metadata": {},
   "source": [
    "# 247"
   ]
  },
  {
   "cell_type": "code",
   "execution_count": null,
   "id": "a063fa16-d855-446c-98df-0be561460b72",
   "metadata": {},
   "outputs": [],
   "source": [
    "import 모듈_이름\n",
    "from 모듈_이름 import 모듈_함수\n",
    "from mod1 import add, sub\n",
    "from mod1 import *"
   ]
  },
  {
   "cell_type": "markdown",
   "id": "e0ce0b73-4ae2-4cb3-9b62-0c71a155caa9",
   "metadata": {},
   "source": [
    "# 248"
   ]
  },
  {
   "cell_type": "code",
   "execution_count": 26,
   "id": "1415a77e-cdd0-45c2-9971-6b655cb28c12",
   "metadata": {},
   "outputs": [
    {
     "data": {
      "text/plain": [
       "'C:\\\\workspace\\\\wassup3\\\\01_Python_grammer'"
      ]
     },
     "execution_count": 26,
     "metadata": {},
     "output_type": "execute_result"
    }
   ],
   "source": [
    "import os\n",
    "os.getcwd()"
   ]
  },
  {
   "cell_type": "markdown",
   "id": "78d9487c-4833-42e3-b93e-da1f51c4b03b",
   "metadata": {},
   "source": [
    "# 249"
   ]
  },
  {
   "cell_type": "code",
   "execution_count": 24,
   "id": "3f8f63b8-33aa-4a53-afd6-1f9652e57299",
   "metadata": {},
   "outputs": [],
   "source": [
    "import os\n",
    "os.rename(\"C:/Users/gkdme/OneDrive/바탕 화면/temp.txt\", \"C:/Users/gkdme/OneDrive/바탕 화면/temp2.txt\")"
   ]
  },
  {
   "cell_type": "markdown",
   "id": "25d5043d-b68d-47e6-a200-b4eecf799b5c",
   "metadata": {},
   "source": [
    "# 250"
   ]
  },
  {
   "cell_type": "code",
   "execution_count": 27,
   "id": "7f6b5ca6-e769-4e8d-ab88-0fd23e028cea",
   "metadata": {},
   "outputs": [
    {
     "name": "stdout",
     "output_type": "stream",
     "text": [
      "0.0\n",
      "0.1\n",
      "0.2\n",
      "0.30000000000000004\n",
      "0.4\n",
      "0.5\n",
      "0.6000000000000001\n",
      "0.7000000000000001\n",
      "0.8\n",
      "0.9\n",
      "1.0\n",
      "1.1\n",
      "1.2000000000000002\n",
      "1.3\n",
      "1.4000000000000001\n",
      "1.5\n",
      "1.6\n",
      "1.7000000000000002\n",
      "1.8\n",
      "1.9000000000000001\n",
      "2.0\n",
      "2.1\n",
      "2.2\n",
      "2.3000000000000003\n",
      "2.4000000000000004\n",
      "2.5\n",
      "2.6\n",
      "2.7\n",
      "2.8000000000000003\n",
      "2.9000000000000004\n",
      "3.0\n",
      "3.1\n",
      "3.2\n",
      "3.3000000000000003\n",
      "3.4000000000000004\n",
      "3.5\n",
      "3.6\n",
      "3.7\n",
      "3.8000000000000003\n",
      "3.9000000000000004\n",
      "4.0\n",
      "4.1000000000000005\n",
      "4.2\n",
      "4.3\n",
      "4.4\n",
      "4.5\n",
      "4.6000000000000005\n",
      "4.7\n",
      "4.800000000000001\n",
      "4.9\n"
     ]
    }
   ],
   "source": [
    "import numpy\n",
    "for i in numpy.arange(0, 5, 0.1):\n",
    "    print(i)\n",
    "    "
   ]
  },
  {
   "cell_type": "markdown",
   "id": "ee1eb8d1-8a3f-465f-9823-7c736c2a8561",
   "metadata": {},
   "source": [
    "# 291"
   ]
  },
  {
   "cell_type": "code",
   "execution_count": 57,
   "id": "bce89437-a57e-479b-bce9-883a627b843d",
   "metadata": {},
   "outputs": [],
   "source": [
    "f = open(\"C:/Users/gkdme/OneDrive/바탕 화면/매수종목1.txt\", mode=\"wt\", encoding=\"utf-8\")\n",
    "f.write(\"005930\\n\")\n",
    "f.write(\"005380\\n\")\n",
    "f.write(\"035420\")\n",
    "f.close()"
   ]
  },
  {
   "cell_type": "markdown",
   "id": "08422658-1e7c-45cf-92ff-2f104d9bfc83",
   "metadata": {},
   "source": [
    "# 292"
   ]
  },
  {
   "cell_type": "code",
   "execution_count": 60,
   "id": "ccfdf968-7d38-4c1e-b108-651b417fad84",
   "metadata": {},
   "outputs": [],
   "source": [
    "f = open(\"C:/Users/gkdme/OneDrive/바탕 화면/매수종목2.txt\", mode=\"wt\", encoding=\"utf-8\")\n",
    "f.write(\"005930 삼성전자\\n\")\n",
    "f.write(\"005380 현대차\\n\")\n",
    "f.write(\"035420 NAVER\")\n",
    "f.close()"
   ]
  },
  {
   "cell_type": "markdown",
   "id": "50f23072-93e3-4a5a-ac36-f00e0b052cfb",
   "metadata": {},
   "source": [
    "# 293"
   ]
  },
  {
   "cell_type": "code",
   "execution_count": 61,
   "id": "ed846ed3-93b0-45ae-addd-4b103bdaf501",
   "metadata": {},
   "outputs": [],
   "source": [
    "f = open(\"C:/Users/gkdme/OneDrive/바탕 화면/매수종목.txt\", mode=\"wt\", encoding=\"cp949\")\n",
    "f.write(\"종목명,종목코드,PER\\n\")\n",
    "f.write(\"삼성전자,005930,15.79\\n\")\n",
    "f.write(\"NAVER,035420,55.82\")\n",
    "f.close()"
   ]
  },
  {
   "cell_type": "markdown",
   "id": "ea7d4119-7c85-4dc9-b648-fcc3de28baa6",
   "metadata": {},
   "source": [
    "# 294"
   ]
  },
  {
   "cell_type": "code",
   "execution_count": 64,
   "id": "88dc1548-993e-4fbe-85eb-1d721bd58630",
   "metadata": {},
   "outputs": [
    {
     "name": "stdout",
     "output_type": "stream",
     "text": [
      "['005930', '005380', '035420']\n"
     ]
    }
   ],
   "source": [
    "f = open(\"C:/Users/gkdme/OneDrive/바탕 화면/매수종목1.txt\", encoding=\"utf-8\")\n",
    "a = f.readlines()\n",
    "b = []\n",
    "for i in a:\n",
    "    c = i.strip()\n",
    "    b.append(c)\n",
    "\n",
    "print(b)\n",
    "\n",
    "f.close()"
   ]
  },
  {
   "cell_type": "markdown",
   "id": "6e8b17d3-b15a-466c-9b95-e1b17deb5594",
   "metadata": {},
   "source": [
    "# 295"
   ]
  },
  {
   "cell_type": "code",
   "execution_count": 66,
   "id": "031a80e7-9bf3-4acc-b363-f3d2dce7b6c6",
   "metadata": {},
   "outputs": [
    {
     "name": "stdout",
     "output_type": "stream",
     "text": [
      "{'005930': '삼성전자', '005380': '현대차', '035420': 'NAVER'}\n"
     ]
    }
   ],
   "source": [
    "f = open(\"C:/Users/gkdme/OneDrive/바탕 화면/매수종목2.txt\", encoding=\"utf-8\")\n",
    "a = f.readlines()\n",
    "\n",
    "b = {}\n",
    "for i in a:\n",
    "    i = i.strip()\n",
    "    x, y = i.split()\n",
    "    b[x] = y\n",
    "\n",
    "print(b)\n",
    "f.close()"
   ]
  },
  {
   "cell_type": "markdown",
   "id": "2bdec39a-931a-488f-8e0c-31f9ef4598cf",
   "metadata": {},
   "source": [
    "# 296"
   ]
  },
  {
   "cell_type": "code",
   "execution_count": 68,
   "id": "8faa8104-ab2b-4598-ada4-c15f3cfbe081",
   "metadata": {},
   "outputs": [
    {
     "name": "stdout",
     "output_type": "stream",
     "text": [
      "10.31\n",
      "0\n",
      "8.0\n"
     ]
    }
   ],
   "source": [
    "per = [\"10.31\", \"\", \"8.00\"]\n",
    "\n",
    "for i in per:\n",
    "    try:\n",
    "        print(float(i))\n",
    "    except:\n",
    "         print(0)\n",
    "    "
   ]
  },
  {
   "cell_type": "markdown",
   "id": "1a015d80-8dfb-459d-b745-25aedee6bf84",
   "metadata": {},
   "source": [
    "# 297 "
   ]
  },
  {
   "cell_type": "code",
   "execution_count": 70,
   "id": "b3470476-7172-47db-ad49-c28df17cbf8a",
   "metadata": {},
   "outputs": [
    {
     "data": {
      "text/plain": [
       "[10.31, 0, 8.0]"
      ]
     },
     "execution_count": 70,
     "metadata": {},
     "output_type": "execute_result"
    }
   ],
   "source": [
    "per = [\"10.31\", \"\", \"8.00\"]\n",
    "\n",
    "a = []\n",
    "b\n",
    "for i in per:\n",
    "    try:\n",
    "        b = float(i)\n",
    "    except:\n",
    "        b = 0\n",
    "    a.append(b)\n",
    "a"
   ]
  },
  {
   "cell_type": "markdown",
   "id": "57c90aa7-b576-4cb6-8c96-49cee4cd212e",
   "metadata": {},
   "source": [
    "# 298"
   ]
  },
  {
   "cell_type": "code",
   "execution_count": 72,
   "id": "0912a88a-6a91-45df-85cc-640c18a39d09",
   "metadata": {},
   "outputs": [
    {
     "name": "stdout",
     "output_type": "stream",
     "text": [
      "0 나누기 에러\n"
     ]
    }
   ],
   "source": [
    "try:\n",
    "    b = 4 / 0\n",
    "except ZeroDivisionError:\n",
    "    print(\"0 나누기 에러\")"
   ]
  },
  {
   "cell_type": "markdown",
   "id": "aeeb2fb3-9672-4a57-8756-2f252cfb21c5",
   "metadata": {},
   "source": [
    "# 299"
   ]
  },
  {
   "cell_type": "code",
   "execution_count": 73,
   "id": "f23e4051-e6c8-46ff-a83b-2c204dc7fbe4",
   "metadata": {},
   "outputs": [
    {
     "name": "stdout",
     "output_type": "stream",
     "text": [
      "1\n",
      "2\n",
      "3\n",
      "list index out of range\n",
      "list index out of range\n"
     ]
    }
   ],
   "source": [
    "data = [1, 2, 3]\n",
    "\n",
    "for i in range(5):\n",
    "    try:\n",
    "        print(data[i])\n",
    "    except IndexError as e:\n",
    "        print(e)\n"
   ]
  },
  {
   "cell_type": "markdown",
   "id": "8b805fff-016b-46f9-a70b-755a1418876b",
   "metadata": {},
   "source": [
    "# 300"
   ]
  },
  {
   "cell_type": "code",
   "execution_count": 74,
   "id": "cdc51d93-afd7-48ac-a871-03b33da6e477",
   "metadata": {},
   "outputs": [
    {
     "name": "stdout",
     "output_type": "stream",
     "text": [
      "10.31\n",
      "노에러\n",
      "끝\n",
      "0\n",
      "끝\n",
      "8.0\n",
      "노에러\n",
      "끝\n"
     ]
    }
   ],
   "source": [
    "per = [\"10.31\", \"\", \"8.00\"]\n",
    "\n",
    "for i in per:\n",
    "    try:\n",
    "        print(float(i))\n",
    "    except:\n",
    "        print(0)\n",
    "    else:\n",
    "        print(\"노에러\")\n",
    "    finally:\n",
    "        print(\"끝\")"
   ]
  }
 ],
 "metadata": {
  "kernelspec": {
   "display_name": "Python 3 (ipykernel)",
   "language": "python",
   "name": "python3"
  },
  "language_info": {
   "codemirror_mode": {
    "name": "ipython",
    "version": 3
   },
   "file_extension": ".py",
   "mimetype": "text/x-python",
   "name": "python",
   "nbconvert_exporter": "python",
   "pygments_lexer": "ipython3",
   "version": "3.11.7"
  }
 },
 "nbformat": 4,
 "nbformat_minor": 5
}
