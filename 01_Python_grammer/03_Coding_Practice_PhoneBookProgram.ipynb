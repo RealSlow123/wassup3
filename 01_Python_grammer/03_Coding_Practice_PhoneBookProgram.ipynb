{
 "cells": [
  {
   "cell_type": "markdown",
   "metadata": {},
   "source": [
    "# 전화번호 프로그램 만들기\n",
    "\n",
    "* 홍길동 010-123-4567\n",
    "* 기능1 : 연락처 추가\n",
    "* 기능2 : 연락처 전체 보기\n",
    "* 기능3 : 검색, 이름을 입력받아서 전화번호 조회\n",
    "* 기능4 : 수정, 이름을 입력받아서 전화번호 입력수정\n",
    "* 기능5 : 삭제, 이름 입력받아서 삭제\n",
    "* 기능6 : 프로그램 종료"
   ]
  },
  {
   "cell_type": "code",
   "execution_count": null,
   "metadata": {},
   "outputs": [
    {
     "name": "stdout",
     "output_type": "stream",
     "text": [
      "########## 연락처 관리 시스템 메뉴 ##########\n",
      "1. 연락처 등록\n",
      "2. 연락처 전체보기\n",
      "3. 이름으로 연락처 조회\n",
      "4. 연락처 수정\n",
      "5. 연락처 삭제\n",
      "6. 종료\n",
      "##########################################\n"
     ]
    },
    {
     "name": "stdin",
     "output_type": "stream",
     "text": [
      "원하는 작업을 번호를 입력해주세요:  1\n",
      "등록할 사람의 이름을 입력하세요:  우리집다\n",
      "등록할 전화번호를 '-'을(를) 제외하고 입력하세요:  12341234123\n"
     ]
    },
    {
     "name": "stdout",
     "output_type": "stream",
     "text": [
      "등록 완료!\n",
      "\n",
      "########## 연락처 관리 시스템 메뉴 ##########\n",
      "1. 연락처 등록\n",
      "2. 연락처 전체보기\n",
      "3. 이름으로 연락처 조회\n",
      "4. 연락처 수정\n",
      "5. 연락처 삭제\n",
      "6. 종료\n",
      "##########################################\n"
     ]
    },
    {
     "name": "stdin",
     "output_type": "stream",
     "text": [
      "원하는 작업을 번호를 입력해주세요:  1\n",
      "등록할 사람의 이름을 입력하세요:  느그집일걸\n",
      "등록할 전화번호를 '-'을(를) 제외하고 입력하세요:  12341235414\n"
     ]
    },
    {
     "name": "stdout",
     "output_type": "stream",
     "text": [
      "등록 완료!\n",
      "\n",
      "########## 연락처 관리 시스템 메뉴 ##########\n",
      "1. 연락처 등록\n",
      "2. 연락처 전체보기\n",
      "3. 이름으로 연락처 조회\n",
      "4. 연락처 수정\n",
      "5. 연락처 삭제\n",
      "6. 종료\n",
      "##########################################\n"
     ]
    },
    {
     "name": "stdin",
     "output_type": "stream",
     "text": [
      "원하는 작업을 번호를 입력해주세요:  1\n",
      "등록할 사람의 이름을 입력하세요:  홍길동스님\n",
      "등록할 전화번호를 '-'을(를) 제외하고 입력하세요:  123142341241\n"
     ]
    },
    {
     "name": "stdout",
     "output_type": "stream",
     "text": [
      "등록 완료!\n",
      "\n",
      "########## 연락처 관리 시스템 메뉴 ##########\n",
      "1. 연락처 등록\n",
      "2. 연락처 전체보기\n",
      "3. 이름으로 연락처 조회\n",
      "4. 연락처 수정\n",
      "5. 연락처 삭제\n",
      "6. 종료\n",
      "##########################################\n"
     ]
    },
    {
     "name": "stdin",
     "output_type": "stream",
     "text": [
      "원하는 작업을 번호를 입력해주세요:  2\n"
     ]
    },
    {
     "name": "stdout",
     "output_type": "stream",
     "text": [
      "********** 연락처 등록 현황 **********\n",
      "이름           연락처\n",
      "우리집다        12341234123\n",
      "느그집일걸       12341235414\n",
      "홍길동스님       123142341241\n",
      "*************************************\n",
      "\n",
      "########## 연락처 관리 시스템 메뉴 ##########\n",
      "1. 연락처 등록\n",
      "2. 연락처 전체보기\n",
      "3. 이름으로 연락처 조회\n",
      "4. 연락처 수정\n",
      "5. 연락처 삭제\n",
      "6. 종료\n",
      "##########################################\n"
     ]
    }
   ],
   "source": [
    "num = 0\n",
    "man = \"\"\n",
    "phone_num = \"\"\n",
    "Phone_book = {}\n",
    "\n",
    "while True:\n",
    "    print(\"########## 연락처 관리 시스템 메뉴 ##########\")\n",
    "    print(\"1. 연락처 등록\")\n",
    "    print(\"2. 연락처 전체보기\")\n",
    "    print(\"3. 이름으로 연락처 조회\")\n",
    "    print(\"4. 연락처 수정\")\n",
    "    print(\"5. 연락처 삭제\")\n",
    "    print(\"6. 종료\")\n",
    "    print(\"##########################################\")\n",
    "    num = int(input(\"원하는 작업 번호를 입력해주세요: \"))\n",
    "    if num == 1:\n",
    "        man = input(\"등록할 사람의 이름을 입력하세요: \")\n",
    "        if man in Phone_book:\n",
    "            print(\"이미 등록되어 있습니다. 전화번호 수정이 필요하시면 4번 작업을 선택해 주세요.\")\n",
    "        else:\n",
    "            phone_num = input(\"등록할 전화번호를 '-'을(를) 제외하고 입력하세요: \")        \n",
    "            Phone_book[man] = phone_num\n",
    "            print(\"등록 완료!\")        \n",
    "    elif num == 2:\n",
    "        print(\"********** 연락처 등록 현황 **********\")\n",
    "        print(\"이름\",(\" \"*(11-len(\"이름\"))),\"연락처\")\n",
    "        for man in Phone_book:\n",
    "            print(man, (\" \"*(10-len(man))),Phone_book[man])\n",
    "        print(\"*************************************\")\n",
    "    elif num == 3:\n",
    "        man = input(\"연락처를 검색할 사람의 이름을 입력하세요: \")\n",
    "        print(\"********** 조회 결과 **********\")\n",
    "        if man in Phone_book:\n",
    "            phone_num = Phone_book[man]\n",
    "        else:\n",
    "            phone_num = \"등록된 역락처가 없습니다.\"\n",
    "        print(phone_num)\n",
    "        print(\"*******************************\") \n",
    "    elif num == 4:\n",
    "        man = input(\"연락처를 수정할 사람의 이름을 입력하세요: \")        \n",
    "        if man in Phone_book:\n",
    "            phone_num = input(\"새로운 엽락처를 입력하세요: \")  \n",
    "            Phone_book[man] = phone_num\n",
    "            print(\"수정 완료!\")\n",
    "        else:\n",
    "            print(\"등록된 역락처가 없습니다. 추가를 원하시면 1번 작업을 선택해 주세요.\")\n",
    "    elif num == 5:\n",
    "        man = input(\"연락처를 삭제할 사람의 이름을 입력하세요: \")        \n",
    "        if man in Phone_book:\n",
    "            del Phone_book[man]\n",
    "            print(\"삭제 완료!\")\n",
    "        else:\n",
    "            print(\"등록된 역락처가 없습니다.\")\n",
    "    elif num >= 6:\n",
    "        break\n",
    "    print()"
   ]
  }
 ],
 "metadata": {
  "kernelspec": {
   "display_name": "Python 3 (ipykernel)",
   "language": "python",
   "name": "python3"
  },
  "language_info": {
   "codemirror_mode": {
    "name": "ipython",
    "version": 3
   },
   "file_extension": ".py",
   "mimetype": "text/x-python",
   "name": "python",
   "nbconvert_exporter": "python",
   "pygments_lexer": "ipython3",
   "version": "3.11.7"
  },
  "toc": {
   "base_numbering": 1,
   "nav_menu": {},
   "number_sections": true,
   "sideBar": true,
   "skip_h1_title": false,
   "title_cell": "Table of Contents",
   "title_sidebar": "Contents",
   "toc_cell": false,
   "toc_position": {},
   "toc_section_display": true,
   "toc_window_display": false
  },
  "varInspector": {
   "cols": {
    "lenName": 16,
    "lenType": 16,
    "lenVar": 40
   },
   "kernels_config": {
    "python": {
     "delete_cmd_postfix": "",
     "delete_cmd_prefix": "del ",
     "library": "var_list.py",
     "varRefreshCmd": "print(var_dic_list())"
    },
    "r": {
     "delete_cmd_postfix": ") ",
     "delete_cmd_prefix": "rm(",
     "library": "var_list.r",
     "varRefreshCmd": "cat(var_dic_list()) "
    }
   },
   "types_to_exclude": [
    "module",
    "function",
    "builtin_function_or_method",
    "instance",
    "_Feature"
   ],
   "window_display": false
  }
 },
 "nbformat": 4,
 "nbformat_minor": 4
}
