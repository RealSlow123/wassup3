


class Calculator:
    def __init__(self):
        self.value = 0
    def add(self, val):
        self.value += val
        
class UpgradeCalculator(Calculator):
    def minus(self, val):
        self.calue = self.value- val

cal = UpgradeCalculator()
cal.add(10)
cal.minus(7)
print(cal.calue) # 10에서 7을 뺀 3을 출력





class Calculator:
    def __init__(self):
        self.value = 0
    def add(self, val):
        self.value += val
        
class MaxLimitCalculator(Calculator):
    def add(self, val):
        self.value += val
        if self.value > 100:
            self.value = 100

cal = MaxLimitCalculator()
cal.add(50) # 50 더하기
cal.add(60) # 60 더하기

print(cal.value) # 100 출력





# all({1, 2, abs(-3)-3}) 세 번째 값이 0이므로 False
# 유니토드 정수를 받고, 해당 유니코드를 다시 문자로 변환했으므로 True





for i in filter(lambda num : num > 0, [1, -2, 3, -5, 8, -3]):
  print(i, end = " ")





oct(0xea)





for i in (map(lambda a: a*2, [1, 2, 3, 4])):
  print(i, end = " ")





max([-8, 2, 7, 5, -3, 5, 0, 1]) * min([-8, 2, 7, 5, -3, 5, 0, 1])





round(17 / 3, 4)





import sys # 이건 이해가 잘 안되네....

#args = "1 2 3 4 5 6 7 8 9 10" 이걸 jupyter lab에서 돌리면 형변환 에러가 난다...
args = sys.argv[1:] # 이걸로 하고 myargv.py를 돌리면  왜 되지...?모르겟다....
number = 0
for i in args:
    number += int(i)
print(number)





import os
os.system('cd C:/workspace/wassup3/01_Python_grammer')
i = os.popen('dir').read()
print(i)





import glob
output = glob.glob('C:/workspace/wassup3/01_Python_grammer/*.ipynb')
output





import time
time.strftime('%Y/%m/%d %H:%M:%S', time.localtime(time.time()))





import random
로또번호 = []
while len(로또번호) < 6:
    번호 = random.randint(1, 45)
    if 번호 not in 로또번호:
        로또번호.append(번호)
print(로또번호)



