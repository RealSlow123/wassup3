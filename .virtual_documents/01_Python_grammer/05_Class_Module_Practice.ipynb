


class Calculator:
    def __init__(self):
        self.value = 0
    def add(self, val):
        self.value += val
        
class UpgradeCalculator(Calculator):
    def minus(self, val):
        self.calue = self.value- val

cal = UpgradeCalculator()
cal.add(10)
cal.minus(7)
print(cal.calue) # 10에서 7을 뺀 3을 출력





class Calculator:
    def __init__(self):
        self.value = 0
    def add(self, val):
        self.value += val
        
class MaxLimitCalculator(Calculator):
    def add(self, val):
        self.value += val
        if self.value > 100:
            self.value = 100

cal = MaxLimitCalculator()
cal.add(50) # 50 더하기
cal.add(60) # 60 더하기

print(cal.value) # 100 출력





# all({1, 2, abs(-3)-3}) 세 번째 값이 0이므로 False
# 유니토드 정수를 받고, 해당 유니코드를 다시 문자로 변환했으므로 True





for i in filter(lambda num : num > 0, [1, -2, 3, -5, 8, -3]):
  print(i, end = " ")





oct(0xea)





for i in (map(lambda a: a*2, [1, 2, 3, 4])):
  print(i, end = " ")





max([-8, 2, 7, 5, -3, 5, 0, 1]) * min([-8, 2, 7, 5, -3, 5, 0, 1])





round(17 / 3, 4)

































