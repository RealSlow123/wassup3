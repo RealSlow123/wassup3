


a = input()


a


# 프롬프트 사용자 입력받기
number = input("숫자를 입력하세요: ")
number





f = open("새파일.txt", 'w')
f.close()


open?


f = open("C:\\workspace\\wassup3\\01_Python_grammer\\output\\새파일.txt", 'w')
f.close()


f = open("output\\새파일.txt", 'w')
for i in range(1, 11):
    data = "%d번째 줄입니다.\n" % i
    f.write(data)
f.close()





f = open("output/새파일.txt", 'r')
line = f.readline()
print(line)
f.close()


f = open("output/새파일.txt", 'r')
while True:
    line = f.readline()
    if not line: break
    print(line, end = "")
f.close()


f = open("output/새파일.txt", 'r')
lines = f.readlines()
for line in lines:
    print(line.replace("\n", ""))
f.close()


f = open("output/새파일.txt", 'r')
lines = f.readlines()
for line in lines:
    print(line.strip())
f.close()


# 리드 함수 사용하기
f = open("output/새파일.txt", 'r')
data = f.read()
print(data)
f.close()





f = open("output/새파일.txt", 'r')
for line in f:
    print(line)
f.close()





f = open("output/새파일.txt", 'a')
for i in range(11, 20):
    data = "%d번째 줄입니다.\n" % i
    f.write(data)
f.close()





f = open("output/foo.txt", 'w')
f.write("Life is too short, you need python")
f.close()


with open("output/foo.txt", "w") as f:
    f.write("Life is too short, you need python")
