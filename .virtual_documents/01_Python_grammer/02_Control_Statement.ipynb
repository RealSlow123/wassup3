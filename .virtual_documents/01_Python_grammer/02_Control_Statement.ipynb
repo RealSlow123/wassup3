money = True
if money :
    print("택시를 타고 가라")
else :
    print("걸어 가라")


money = True
if money:
    print("택시를")
print("타고")
    print("가라")


money = True
if money:
    print("택시를")
    print("타고")
        print("가라")





# 비교 연산자
x = 2
y = 3
x > y


x < y


x != y


x == y


money = 2000
if money >= 3000:
    print("택시를 타고 가라")
else :
    print("걸어 가라")


# and or not
money = 2000
have_card = True
if money >= 3000 or have_card:
    print("택시를 타고 가라")
else :
    print("걸어 가라")





1 in [1,2,3]


1 not in [1,2,3]


'a' in ('a', 'b', 'c')


주머니 = ['돈', '담배', '라이터', '쓰레기']
if '돈' in 주머니 :
    print("택시를 타고 가라")
else :
    print("걸어 가라")





if '돈' in 주머니 :
    pass
else :
    print("걸어 가라")





주머니 = ['담배', '라이터', '쓰레기']
if '돈' in 주머니 :
    print("택시를 타고 가라")
else :
    if '카드' in 주머니 :
            print("택시를 타고 가라")
    else:
        print("걸어 가라")


주머니 = ['담배', '라이터', '쓰레기']
if '돈' in 주머니 :
    print("택시를 타고 가라")
elif '카드' in 주머니 :
    print("택시를 타고 가라")
else :
    print("걸어 가라")





score = 88
if score >= 60 :
    message = "합격"
else:
    message = "불합격"
print(message)


message = "합격" if score >= 60 else "불합격"
print(message)





# 열번 찍어 안넘어 가는 나무 없다
TreeHit = 0
while TreeHit < 10 :
    TreeHit = TreeHit + 1
    print(f"나무를 {TreeHit}번 찍었습니다")
    if TreeHit == 10 :
        print("나무가 넘어 갔습니다")





prompt = """
1. add
2. del
3. list
4. quit

Enter number :"""
print(prompt)


number = 0
while number < 4 :
    print(prompt)
    number = int(input())





money = 300
coffee = 10

while money :
    print("돈을 받았으니 커피를 줍니다.")
    coffee = coffee - 1
    print(f"남은 커피의 양은 {coffee} 입니다.")
    if coffee == 0:
        print("커피가 다 떨어져서 판매를 중지합니다.")
        break


money = 0
coffee = 10
remain = 0

while True :
    print("투입할 금액을 입력해 주세요.")
    money = int(input())
    if money >= 300 :
        remain = money - 300
        print("돈을 받았으니 커피를 줍니다.")
        if money > 300:
            print(f"거스름돈이 반환됩니다\n거스름돈: {remain}")
        coffee = coffee - 1        
        print(f"남은 커피의 양은 {coffee} 입니다.")
        if coffee == 0:
            print("커피가 다 떨어져서 판매를 중지합니다.")
            break
    else:
        print(f"투입한 금액이 부족합니다. 투입한 금액:{money}\n투입한 돈이 반환됩니다.")






# 전형적인 for 문
test_list = ["1","2","3"]
for i in test_list:
    print(i)


a = [(1,2), (3,4), (5,6)]
for (first, last) in a:
    print(first + last)


scores=[90, 25, 67, 45, 80]
합격불합격 = ""
학번 = 0
for score in scores:
    학번 += 1
    if score >= 60:
        합격불합격 = "합격"
    else:
        합격불합격 = "불합격"
    print(학번, score, 합격불합격)





scores=[90, 25, 67, 45, 80]
합격불합격 = ""
학번 = 0
for score in scores:
    학번 += 1
    if score >= 60:
        합격불합격 = "<축>합격<축>"
        print(학번, score, 합격불합격)    





for i in range(10):
    print(i)


for i in range(1, 10):
    print(i)


sum = 0
for i in range(1, 11):
    sum += i
print(sum)


marks = [90, 25, 67, 45, 80]
for number in range(len(marks)): # marks 리스트에 저장된 value 개수를 range를 만듬
    if marks[number] < 60: 
        continue
    print("%d번 학생 축하합니다. 합격입니다." % (number+1))


for i in range(2, 10):
    for j in range(1, 10):
        print(f"{i} X {j} = {i*j}")
    print("")





a = [1,2,3,4]
result = []
for num in a:
    result.append(num*3)
print(result)


a = [1,2,3,4]
result = [num * 3 for num in a]
print(result)


a = [1,2,3,4]
result = [num * 3 for num in a if num % 2 == 0]
print(result)


import time

start = time.time() 
numbers = [i for i in range(1000000)] 
end = time.time() 
print('List Comprehension Time:', end-start)

start = time.time() 
numbers = []
for i in range(1000000):
    numbers.append(i)
end = time.time() 
print('For loop Time:', end-start)


result = [x*y for x in range(2,10)
          for y in range(1,10)]
print(result)
