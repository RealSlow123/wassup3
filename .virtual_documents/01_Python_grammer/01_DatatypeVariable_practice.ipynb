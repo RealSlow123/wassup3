


scores = [80,75,55]
print("평균점수: ", sum(scores)/len(scores))





# 2로 나눈 나머지가 0이면 짝수, 1이면 홀수

if 13%2 == 0:
    print("짝수")
else:
    print("홀수")





pin = '881120-1068234'
yyyymmdd = pin.split("-")[0]# 입력
num =  pin.split("-")[1]# 입력
print(yyyymmdd) # 연월일 부분 출력
print(num) # 숫자부분 출력





pin = "881120-1068234"
print(pin[7])





a = "a:b:c:d"
b = a.replace(":", "#")
print(b)





a = [1, 3, 5, 4, 2]
a.sort(reverse=True)
#a.
print(a)





a = ['Life', 'is', 'too', 'short']
result = a[0]+" "+a[1]+" "+a[2]+" "+a[3]
print(result)





a = (1, 2, 3)
a = a + (4,)
print(a)





a = dict()
a['name'] = 'python'
a[('a',)] = 'python'
#a[[1]] = 'python' # 리스트는 키가 될 수 없다
a[250] = 'python'
a





a = {'A':90, 'B':80, 'C':70}
result = a["B"]
print(a)
print(result)





a = [1, 1, 1, 2, 2, 3, 3, 3, 4, 4, 5]
aSet = set(a)
b = list(aSet)
print(b)





# 파이썬은 기본적으로 얕은 복사이므로 b의 값도 변경된다
a = b = [1, 2, 3]
a[1] = 4
print(b)



