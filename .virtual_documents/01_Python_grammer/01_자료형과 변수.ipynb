


a=123


a


a=-178
a


a=0
a


a=1.2
a


a=-3.45
a


a=4.23E10
a


a=4.23E-10
a


a=0o177
a


a=0x8ff
b=0xABC
a, b





a=3
b=4
a+b


a-b


a*b


a/b





a**b





7%3


3%7





7//4


7/4





"Hello World!"


'Hello World!'


"""Hello World!"""


'''
Hello World!
'''





Python's favorite food is perl


'Python's favorite food is perl'


"Python's favorite food is perl"


"Pythoen is very easy." he says.


'"Pythoen is very easy." he says.'


'Python\'s favorite food is perl'


"\"Pythoen is very easy.\" he says."


"Life is too short, You need Python"


"Life is too short, \nYou need Python"


multiline = "Life is too short, \nYou need Python"
multiline


print(multiline)


multiline = '''Life is too short,
You need Python
'''
multiline


print(multiline)





head = "Python"
tail = " is fun!"
head + tail


a = "Python"
a*5


print('='*50)


a = "Life is too short"
len(a)





a = "Life is too short, You need Python"
len(a)


a[3]


a[13]


a[-1]


a[-7]


a[-0]





a = "Life is too short, You need Python"
a[0]+a[1]+a[2]+a[3]


a[0:4]


a[19:34]


a[19:]


a[19:-7]





a="20240610Sunny"
a[:8], a[8:]





a="pithon"
a[1] = 'y'
a


b = a[0] + 'y' + a[2:]
b





# 숫자 바로 대입
"I eat %d apples"%3


# 문자열 바로 대입
"I eat %s apples"%'five'


"I eat %s apples"%5


"I eat %d apples"%삼


# 숫자 값을 나타내는 변수로 대입
num = 3
"I eat %d apples"%num


# 2개 이상 값 넣기
num=10
day='three'
"I eat %d apples. so i was sick for %s days"%(num, day)


"I eat %d apples. so i was sick for %s days"%(day, num)


"I have %s apples"%3


"rate is %s"%3.234


"오늘의 습도는 %d% 입니다"%70


"오늘의 습도는 %d%% 입니다"%70





"%0.2f"%3.14159268


"%0.4f"%3.14159268





"I eat {} apples".format(3)


"I eat {} apples".format('five')


num=3
"I eat {} apples".format(num)


num=10
day='three'
"I eat {} apples. so i was sick for {} days".format(num, day)


"I eat {} apples. so i was sick for {} days".format(day, num)


"I eat {0} apples. so i was sick for {1} days".format(num, day)


"I eat {num} apples. so i was sick for {day} days".format(num=10, day=3)


"I eat {num} apples. so i was sick for {day} days".format( day=3, num=10)


"I eat {} apples. so i was sick for {day} days".format( day=3, 10)


"I eat {} apples. so i was sick for {day} days".format(10, day=3)





y=3.123411
"{0:0.4f}".format(y)





name = "홍길동"
age = 30
f'나의 이름은 {name}입니다. 나이는 {age}입니다.'


f"나는 내년이면 {age+1}살이 됩니다"


d={'name':'홍길동','age':30}
f'나의 이름은 {d["name"]} 입니다 나이는 {d["age"]}입니다'





# 문자 개수 세기 count
a = 'hobby'
a.count('b')


# 위치 알려주기 find => 오류를 유보시켜야 할 때
a = 'Python is the best choise'
a.find('b')


a.find('k')


# 위치 알려주기 index => 오류를 발생시켜야 할때
a = 'Life is too short'
a.index('t')


a.index('k')


# 문자열 삽입 join
a = 'abcd'
a


','.join(a)


a = ['a','b','c','d']
a


':'.join(a)





a = 'hi'
a.upper()


a = 'HI'
a.lower()


a.upper?


print?


help(print)


# https://www.python.org/doc/ <- 파이썬 찬 문서





a = "      hi      "
a.lstrip()


a.rstrip()





a = "Life is too short"
a.replace?


a.replace("Life", "Your leg")


a


a = a.replace("Life", "Your leg")
a





a.split()


a.split?


b = "a:b:c:d"
b


b.split(":")





a = 1
a,  type(a)


b = "python"
b, type(b)


c = [1,2,3,4]
c, type(c)


id(a)


# 복사
# 주소 복사
a = [1,2,3]
b = a
id(a), id(b)


# 값 복사
c = [1,2,3]
d = c.copy()
c, d, id(c), id(d)


a is b


a == b


del b


a


b


a = [1,2,3]
b = a
id(a), id(b)


a[1] = 4
a, b


a = [1,2,3]
b = a[:]
id(a), id(b)


a[:]





from copy import copy


a = [1,2,3]
a


b = copy(a)
id(a), id(b)


b is a


b == a





a, b = ("Python", "Life")
a,b


a, b = "Python", "Life"
a,b


a


b


[a, b] = ["Python", "Life"]
a


b


a = 3
b = 5
a,b = b,a
a,b





odd = [1,3,5,7,9]
odd


type(odd)


a = []
b = [1,2,3]
c = ['Life', 'is', 'too' , 'short']
d = [1,2, 'Life', 'is']
e = [1,2, ['Life', 'is']]
print(a, type(a))
print(b, type(b))
print(c, type(c))
print(d, type(d))
print(e, type(e))





a = [1,2,3]
a


a[0]


a[0] + a[2]


a = [1,2,3,['a','b','c']]
len(a)


a[3]


a[3][1]


# 삼중리스트 인데싱
a = [1,2,['a','b',['Life','is']]]
a


a[2][2][0]





a = [1,2,3,4,5]
a[2:4]


a[::2] #Step


a[1::2] #Step





a = [1,2,3,['a','b','c'],4,5]
a[2:5]


a[3][0:2]





a = [1,2,3]
del a[1]
a


a=[1,2,3,4,5]
del a[2:]
a





# 리스트 요소 추라 apped
a = [1,2,3]
a.append(4)
a


# 리스트 정렬
a = [1,3,2,4]
a


a.sort()
a


a.sort(reverse=True)
a


a = ['a','c','b']
a.reverse()
a


# 인덱스 반환
a = [1,2,3]
a.index(3)


a.index(0)


# 리스트 요소 삽입 insert
a = [1,2,3]
a.insert(0,4)
a


a.insert?


# remove
a = [1,2,3,1,2,3]
a.remove(3)
a


# pop
a = [1,2,3]
a.pop()


a


# count
a = [1,2,3,1]
a.count(1)


# extend
a = [1,2,3]
a.extend([4,5])
a


b = [6,7]
a.extend(b)
a





a = 1
a = a + 2
a


a += 1
a


a = [1,2,3]
a += [4,5]
a


a += 9
a


b += [9]
b





# 데이터 조회 이동시 사용
t1 = ()
t2 = (1,)
t3 = (1,2,3)
t4 = 1,2,3
t5 = ('a','b',('ab','cd'))

print(t1, type(t1))
print(t2, type(t2))
print(t3, type(t3))
print(t4, type(t4))
print(t5, type(t5))


t1,t2


type((1)), type((1, ))


t1 = (1,2,'a','b')
del t1[0]


t1[0] = 'c'





# 인덱싱
t1 = (1,2,'a','b')
t1[0]


t1[1:]


t1 = (1,2,'a','b')
t2 = (3,4)
t3 = t1 + t2
t3


t2 = (3,4)
t3 = t2*3
t3


# 튜플 길이 구하기
len(t3)





dic = {'name': 'pey', 'phone': '010-9999-1234', 'birth': '1118'}
dic


type(dic)


a = {1:'hi'}
a, type(a)


a = {'a': [1,2,3]} # 키에 시퀀스 타입은 안됨
a, type(a)


a = {1:'a'}


a[2] = 'b'
a


a['name'] = 'pey'
a


a[3] = [1,2,3]
a


del a[1]
a





# 키를 사용해서 벨류 얻기
grade = {'pey': 10, 'julliet': 99}


grade['pey']


grade['julliet']





a = {[1,2], 'hi'}





# 키 리스트 만들기 - Keys
dic = {'name':'pey', 'phone':'010-9999-1234', 'birth': '1118'}
dic.keys()


for k in dic.keys():
        print(k)


list(dic.keys())


# Values 리스트 만들기 - Values
dic.values()


# k, v 쌍으로 얻기 - items
dic.items()


# k, v 쌍 모두 지우기 - clear
dic.clear()
dic


# key로 Value 얻기 - get
dic = {'name':'pey', 'phone':'010-9999-1234', 'birth': '1118'}
dic.get('name')


dic.get('phone')


dic.get('nokey')


dic['nokey']


dic.get('nokey', 'a18')





'name' in dic


'email' in dic





s1 = set([1,2,3])
s1, type(s1)


s2 = set('Hello') #중복을 허용하지 않음, 유니크한 값만 집합에 저장됨
s2


l1 = list(s1)
l1[0]


s1[0]





s1 = set([1,2,3,4,5,6])
s2 = set([4,5,6,7,8,9])


# 교집함
s1.intersection(s2)


# 합집함
s1.union(s2)


s1|s2


s1&s2


# 차집합
s1-s2


s2-s1


s1.difference(s2)





 # 갑 1개 추가하기 - add
s1 = set([1,2,3])
s1.add(4)
s1


# 값 여러거 추가하기 - update
s1.update([4,5,6])
s1


# 특정 값 제거하기
s1.remove(2)


s1





# True False는 예약어라 소문자나 대문자로 쓰면 안됨
TRUE


false


True


a = True
b = False
type(a), type(b)


1 == 1


2 > 1


2 < 1





a = [1,2,3,4]
while a :
        print(a.pop())


if [] :
    print('참')
else :
    print('거짓')


bool("a")


bool("")


bool(" ")


bool(0)


bool(3)


True+False


True+True
