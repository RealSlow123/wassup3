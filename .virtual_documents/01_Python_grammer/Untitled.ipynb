


#사과
#귱
#수박
과일 = ["사과", "귤", "수박"]
for 변수 in 과일:
    print(변수)





#####
#####
#####
과일 = ["사과", "귤", "수박"]
for 변수 in 과일:
  print("#####")





#for 변수 in ["A", "B", "C"]:
#  print(변수)
print("A")
print("B")
print("C")





#for 변수 in ["A", "B", "C"]:
#  print("출력:", 변수)
print("출력:", "A")
print("출력:", "B")
print("출력:", "C")





#for 변수 in ["A", "B", "C"]:
#  b = 변수.lower()
#  print("변환:", b)

print("변환:", "A".lower())
print("변환:", "B".lower())
print("변환:", "C".lower())





for 변수 in [10, 20, 30]:
    print(변수)





for i in range(1,4):
    print(i*10)





for i in range(1,4):
    print(i*10)
    print("-------")





for i in range(1,4):
    if i == 1:
        print("++++")
    print(i*10)


for i in range(1,5):
    print("-------")





for i in [100, 200, 300]:
    print(i+10)





for i in ["김밥", "라면", "튀김"]:
    print("오늘의 메뉴:" , i)





for i in ["SK하이닉스", "삼성전자", "LG전자"]:
    print(len(i))





for i in ['dog', 'cat', 'parrot']:
    print(i, len(i))





for i in ['dog', 'cat', 'parrot']:
    print(i[0])





for i in [1, 2, 3]:
    print("3 X",i)





for i in [1, 2, 3]:
    print("3 X",i,"=",3*i)





리스트 = ["가", "나", "다", "라"]
for 변수 in 리스트[1:]:
  print(변수)





리스트 = ["가", "나", "다", "라"]
for 변수 in 리스트[: :2]:
  print(변수)





리스트 = ["가", "나", "다", "라"]
for i in range(4):
  print(리스트[3-i])





for i in [3, -20, -3, 44]:
    if i < 0:
        print(i)





for i in [3, 100, 23, 44]:
    if i % 3 == 0:
        print(i)





for i in [13, 21, 12, 14, 30, 18]:
    if i < 20 and i % 3 == 0:
        print(i)





for i in ["I", "study", "python", "language", "!"]:
    if len(i) >= 3:
        print(i)


for i in ["A", "b", "c", "D"]:
    if i.isupper():
        print(i)





for i in ["A", "b", "c", "D"]:
    if i.islower():
        print(i)





for i in ['dog', 'cat', 'parrot']:
    print(i.capitalize())





for i in ['hello.py', 'ex01.py', 'intro.hwp']:
    print(i.split(".")[0])





for i in ['intra.h', 'intra.c', 'define.h', 'run.py']:
    if i.split(".")[1] == 'h':
        print(i)    





for i in ['intra.h', 'intra.c', 'define.h', 'run.py']:
    if i.split(".")[1] == 'h' or i.split(".")[1] == 'c':
        print(i)    





for i in range(100):
    print(i)





for i in range(2002, 2051, 4):
    print(i)





for i in range(1, 31)[2::3]:
    print(i)





for i in range(100):
    print(99-i)





for i in range(1, 10):
    print(i/10)





for i in range(1, 10):
    print(f"3 X {i} = {3*i}")





for i in range(1, 10 , 2):
    print(f"3 X {i} = {3*i}")





sum = 0
for i in range(1, 11):
    sum += i
print("합 =",sum)





sum = 0
for i in range(1, 11,2):
    sum += i
print("합 =",sum)





곱 = 1
for i in range(1, 11):
    곱 *= i
print("합 =",곱)





price_list = [32100, 32150, 32000, 32500]
for i in range(4):
    print(price_list[i])





price_list = [32100, 32150, 32000, 32500]
for i in range(4):
    print(i, price_list[i])





price_list = [32100, 32150, 32000, 32500]
for i in range(4):
    print(3-i, price_list[i])





price_list = [32100, 32150, 32000, 32500]
for i in range(1, 4):
    print(i*10+90, price_list[i])





my_list = ["가", "나", "다", "라"]
for i in range(3):
    print(my_list[i], my_list[i+1])





my_list = ["가", "나", "다", "라", "마"]
for i in range(1, 4):
    print(my_list[i-1], my_list[i], my_list[i+1])





my_list = ["가", "나", "다", "라"]
for i in range(3):
    print(my_list[2-i+1], my_list[(2-i)])





my_list = [100, 200, 400, 800]
for i in range(3):
    print(my_list[i+1] - my_list[(i)])





my_list = [100, 200, 400, 800, 1000, 1300]
for i in range(4):
    print((my_list[i] + my_list[(i+1)] + my_list[i+2]) / 3)





low_prices  = [100, 200, 400, 800, 1000]
high_prices = [150, 300, 430, 880, 1000]
volatility = []
for i in range(5):
    volatility.append(high_prices[i] - low_prices[i])
print(volatility)





list=[]
temp_list = []
for i in range(1, 4):
    temp_list = []
    for j in range(1, 3):
        temp_list.append(i*100+j)
    list.append(temp_list)
print(list)





stock = [ ["시가", 100, 200, 300], ["종가", 80, 210, 330] ]
print(stock)





stock = { "시가":[100, 200, 300], "종가":[80, 210, 330] }
print(stock)





stock = { "10/10":[80, 110, 70, 90], "10/11":[210, 230, 190, 200] }
print(stock)





apart = [ [101, 102], [201, 202], [301, 302] ]
for i in apart:
    for j in i:
        print(j, "호")





apart = [ [101, 102], [201, 202], [301, 302] ]
for i in range(3):
    for j in range(2):
        print(apart[2-i][j], "호")





apart = [ [101, 102], [201, 202], [301, 302] ]
for i in range(3):
    for j in range(2):
        print(apart[2-i][1-j], "호")





apart = [ [101, 102], [201, 202], [301, 302] ]
for i in apart:
    for j in i:
        print(j, "호\n"+"-"*5 )





apart = [ [101, 102], [201, 202], [301, 302] ]
for i in apart:
    for j in i:
        print(j, "호")
    print("-"*5 )





apart = [ [101, 102], [201, 202], [301, 302] ]
for i in apart:
    for j in i:
        print(j, "호")
print("-"*5 )





data = [
    [ 2000,  3050,  2050,  1980],
    [ 7500,  2050,  2050,  1980],
    [15450, 15050, 15550, 14900]
]

for i in data:
    for j in i:
        print(float(j)*1.00014)





data = [
    [ 2000,  3050,  2050,  1980],
    [ 7500,  2050,  2050,  1980],
    [15450, 15050, 15550, 14900]
]

for i in data:
    for j in i:
        print(float(j)*1.00014)
    print("-"*5)





data = [
    [ 2000,  3050,  2050,  1980],
    [ 7500,  2050,  2050,  1980],
    [15450, 15050, 15550, 14900]
]
data_1 = []
for i in data:
    for j in i:
        data_1.append(float(j)*1.00014)

print(data_1)





data = [
    [ 2000,  3050,  2050,  1980],
    [ 7500,  2050,  2050,  1980],
    [15450, 15050, 15550, 14900]
]
data_1 = []
data_2 = []

for i in data:
    data_1 = []
    for j in i:
        data_1.append(float(j)*1.00014)
    data_2.append(data_1)
print(data_2)





ohlc = [["open", "high", "low", "close"],
        [100, 110, 70, 100],
        [200, 210, 180, 190],
        [300, 310, 300, 310]]
for row in range(1,4):
    print(ohlc[row][3])





ohlc = [["open", "high", "low", "close"],
        [100, 110, 70, 100],
        [200, 210, 180, 190],
        [300, 310, 300, 310]]
for row in range(1,4):
    if ohlc[row][3] > 150:
        print(ohlc[row][3])





ohlc = [["open", "high", "low", "close"],
        [100, 110, 70, 100],
        [200, 210, 180, 190],
        [300, 310, 300, 310]]
for row in range(1,4):
    if ohlc[row][3] >= ohlc[row][0]:
        print(ohlc[row][3])





ohlc = [["open", "high", "low", "close"],
        [100, 110, 70, 100],
        [200, 210, 180, 190],
        [300, 310, 300, 310]]
volatility = []
for row in range(1,4):
    volatility.append(ohlc[row][1] - ohlc[row][2])
print(volatility)





ohlc = [["open", "high", "low", "close"],
        [100, 110, 70, 100],
        [200, 210, 180, 190],
        [300, 310, 300, 310]]
for row in range(1,4):
    if ohlc[row][3] > ohlc[row][0]:
        print(ohlc[row][3]-ohlc[row][0])





ohlc = [["open", "high", "low", "close"],
        [100, 110, 70, 100],
        [200, 210, 180, 190],
        [300, 310, 300, 310]]
손익 = 0
for row in range(1,4):
    손익 += (ohlc[row][3] - ohlc[row][0])

print(손익)
