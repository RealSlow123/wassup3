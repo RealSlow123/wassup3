





a, b, *c = (0, 1, 2, 3, 4, 5)
a, b, c


scores = [8.8, 8.9, 8.7, 9.2, 9.3, 9.7, 9.9, 9.5, 7.8, 9.4]
*valid_score, a, b= scores
valid_score





scores = [8.8, 8.9, 8.7, 9.2, 9.3, 9.7, 9.9, 9.5, 7.8, 9.4]
a, b, *valid_score = scores
valid_score





scores = [8.8, 8.9, 8.7, 9.2, 9.3, 9.7, 9.9, 9.5, 7.8, 9.4]
a,  *valid_score, b = scores
valid_score





dic = {}
type(dic)





dic = {"메로나":1000, "폴라포":1200, "빵빠레":1800}
dic





dic["죠스바"] = 1200
dic["월드콘"] = 1500
dic





ice = {'메로나': 1000,
       '폴로포': 1200,
       '빵빠레': 1800,
       '죠스바': 1200,
       '월드콘': 1500}
print("메로나 가격: %d"%ice["메로나"])





ice = {'메로나': 1000,
       '폴로포': 1200,
       '빵빠레': 1800,
       '죠스바': 1200,
       '월드콘': 1500}
ice["메로나"] = 1300
ice["메로나"]





ice = {'메로나': 1000,
       '폴로포': 1200,
       '빵빠레': 1800,
       '죠스바': 1200,
       '월드콘': 1500}
del ice["메로나"]
ice





icecream = {'폴라포': 1200, '빵빠레': 1800, '월드콘': 1500, '메로나': 1000}
icecream['누가바']
# Key 값이 누가바인 데이터가 없으므로 에러 발생 





inventory = {"메로나":[300,20], "비비빅":[400,3], "죠스바":[250,100]}
inventory





inventory = {"메로나": [300, 20],
              "비비빅": [400, 3],
              "죠스바": [250, 100]}
inventory["메로나"][0]





inventory = {"메로나": [300, 20],
              "비비빅": [400, 3],
              "죠스바": [250, 100]}
inventory["메로나"][1]





inventory = {"메로나": [300, 20],
              "비비빅": [400, 3],
              "죠스바": [250, 100]}
inventory["월드콘"] = [500, 7]
inventory





icecream = {'탱크보이': 1200, '폴라포': 1200, '빵빠레': 1800, '월드콘': 1500, '메로나': 1000}
Keys = list(icecream.keys())
Keys


icecream = {'탱크보이': 1200, '폴라포': 1200, '빵빠레': 1800, '월드콘': 1500, '메로나': 1000}
values = list(icecream.values()) 
Sum = sum(values)
Sum





icecream = {'탱크보이': 1200, '폴라포': 1200, '빵빠레': 1800, '월드콘': 1500, '메로나': 1000}
new_product = {'팥빙수':2700, '아맛나':1000}
icecream.update(new_product)
icecream





keys = ("apple", "pear", "peach")
vals = (300, 250, 400)
result = dict(zip(keys, vals))
result





date = ['09/05', '09/06', '09/07', '09/08', '09/09']
close_price = [10500, 10300, 10100, 10800, 11000]
close_table = dict(zip(date, close_price))
close_table





# bool type





print(3 == 5) # False





print(3 < 5) # True





x = 4
print(1 < x < 5) # True





print ((3 == 3) and (4 != 3)) # True





print(3 >= 4) # False





if 4 < 3:
    print("Hello World.")
else:
    print("Hi, there.")  # Hi, there.





if True :
    print ("1")
    print ("2")
else :
    print("3")
print("4") # 1 2 4





if True :
    if False:
        print("1")
        print("2")
    else:
        print("3")
else :
    print("4")
print("5")     # 3 5





input_str = input()
input_str*2





print("숫자를 입력하세요:")
num = int(input())
print(num+10)





num = int(input())
if (num % 2) == 0:
    print("짝수")
else:
    print("홀수")





num = int(input())
calc = num + 20
if calc > 255:
    calc = 255

print(calc)






num = int(input())
calc = num + 20
if calc > 255:
    calc = 255
elif calc < 0 :
    calc = 0

print(calc)





time = input("현재시간: ")
if time[-2:] == "00":
    print("정각 입니다.")
else:
    print("정각이 아닙니다.")





fruit = ["사과", "포도", "홍시"]
search = input("좋아하는 과일은? ")

if search in fruit:
    print("정답입니다")
else:
    print("오답입니다")
    
    





warn_investment_list = ["Microsoft", "Google", "Naver", "Kakao", "SAMSUNG", "LG"]
search = input("종목명을 입력 :")

if search in warn_investment_list:
    print("투자 경고 종목입니다.")
else:
    print("투자 경고 종목이 아닙니다.")





fruit = {"봄" : "딸기", "여름" : "토마토", "가을" : "사과"}
search = input("제가좋아하는계절은: ")
if search in fruit:
    print("정답입니다")
else:
    print("오답입니다")





fruit = {"봄" : "딸기", "여름" : "토마토", "가을" : "사과"}
search = input("좋아하는과일은? ")
if search in fruit.values():
    print("정답입니다")
else:
    print("오답입니다")





temp = input("알파벳 입력: ")

if temp.islower():
    temp = temp.upper()
else:
    temp = temp.lower()

print(temp)





score = int(input("점수 입력: "))
grade=""

if score > 80:
    grade = 'A'
elif score > 60:
    grade = 'B'
elif score > 40:
    grade = 'C'
elif score > 20:
    grade = 'D'
else:
    grade = 'F'

print("grade is ", grade)





money_dic= {"달러":1167, "엔":1.096, "유로":1268, "위안":171}

input_money = input("입력: ")
unit=input_money.split[-2:]
ammout=float(input_money[:-3])
unit, ammout

print(ammout*money_dic[unit], "원")
