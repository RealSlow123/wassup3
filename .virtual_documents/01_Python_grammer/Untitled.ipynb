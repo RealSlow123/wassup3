


import datetime
print(datetime.datetime.now())





import datetime
a = datetime.datetime.now()
print(a, type(a))





import datetime

a = datetime.datetime.now()
for i in range(5, 0, -1):
    b = datetime.timedelta(i)
    print(a - b)





import datetime

datetime.datetime.now().strftime('%X')





import datetime
print(datetime.datetime.strptime("2020-05-04", "%Y-%m-%d"))





import time
import datetime


for i in range(0, 10):
    print(datetime.datetime.now())
    time.sleep(1)





import 모듈_이름
from 모듈_이름 import 모듈_함수
from mod1 import add, sub
from mod1 import *





import os
os.getcwd()





import os
os.rename("C:/Users/gkdme/OneDrive/바탕 화면/temp.txt", "C:/Users/gkdme/OneDrive/바탕 화면/temp2.txt")





import numpy
for i in numpy.arange(0, 5, 0.1):
    print(i)
    





f = open("C:/Users/gkdme/OneDrive/바탕 화면/매수종목1.txt", mode="wt", encoding="utf-8")
f.write("005930\n")
f.write("005380\n")
f.write("035420")
f.close()





f = open("C:/Users/gkdme/OneDrive/바탕 화면/매수종목2.txt", mode="wt", encoding="utf-8")
f.write("005930 삼성전자\n")
f.write("005380 현대차\n")
f.write("035420 NAVER")
f.close()





f = open("C:/Users/gkdme/OneDrive/바탕 화면/매수종목.txt", mode="wt", encoding="cp949")
f.write("종목명,종목코드,PER\n")
f.write("삼성전자,005930,15.79\n")
f.write("NAVER,035420,55.82")
f.close()





f = open("C:/Users/gkdme/OneDrive/바탕 화면/매수종목1.txt", encoding="utf-8")
a = f.readlines()
b = []
for i in a:
    c = i.strip()
    b.append(c)

print(b)

f.close()





f = open("C:/Users/gkdme/OneDrive/바탕 화면/매수종목2.txt", encoding="utf-8")
a = f.readlines()

b = {}
for i in a:
    i = i.strip()
    x, y = i.split()
    b[x] = y

print(b)
f.close()





per = ["10.31", "", "8.00"]

for i in per:
    try:
        print(float(i))
    except:
         print(0)
    





per = ["10.31", "", "8.00"]

a = []
b
for i in per:
    try:
        b = float(i)
    except:
        b = 0
    a.append(b)
a





try:
    b = 4 / 0
except ZeroDivisionError:
    print("0 나누기 에러")





data = [1, 2, 3]

for i in range(5):
    try:
        print(data[i])
    except IndexError as e:
        print(e)






per = ["10.31", "", "8.00"]

for i in per:
    try:
        print(float(i))
    except:
        print(0)
    else:
        print("노에러")
    finally:
        print("끝")
