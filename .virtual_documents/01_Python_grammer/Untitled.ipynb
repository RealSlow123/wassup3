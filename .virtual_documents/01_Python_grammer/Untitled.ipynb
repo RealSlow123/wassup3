








class Human:
    pass





areum = Human()





class Human:
    def __init__(self):
        print("응애응애")

areum = Human()





class Human:
    def __init__(self, 이름,  나이, 성별):
        self.이름 = 이름
        self.나이 = 나이
        self.성별 = 성별

areum = Human("아름", 25, "여")

areum.이름, areum.나이, areum.성별





areum.나이





class Human:
    def __init__(self, 이름,  나이, 성별):
        self.이름 = 이름
        self.나이 = 나이
        self.성별 = 성별
    def who(self):
        print(f"이름: {self.이름}, 나이: {self.나이}, 성별: {self.성별}")

areum = Human("아름", 25, "여")
areum.who()





class Human:
    def __init__(self, 이름,  나이, 성별):
        self.이름 = 이름
        self.나이 = 나이
        self.성별 = 성별
    def setInfo(self, 이름,  나이, 성별):
        self.이름 = 이름
        self.나이 = 나이
        self.성별 = 성별
    def who(self):
        print(f"이름: {self.이름}, 나이: {self.나이}, 성별: {self.성별}")

areum = Human("모름", 0, "모름")
areum.who()
areum.setInfo("아름", 25, "여자")
areum.who()





class Human:
    def __init__(self, 이름,  나이, 성별):
        self.이름 = 이름
        self.나이 = 나이
        self.성별 = 성별
    def __del__(self):
        print("나의 죽음을 알리지마라")
    def setInfo(self, 이름,  나이, 성별):
        self.이름 = 이름
        self.나이 = 나이
        self.성별 = 성별
    def who(self):
        print(f"이름: {self.이름}, 나이: {self.나이}, 성별: {self.성별}")

areum = Human("모름", 0, "모름")
del areum





class OMG : 
    def print() :
        print("Oh my god")

>>> >>> myStock = OMG()
>>> myStock.print()
TypeError Traceback (most recent call last)
<ipython-input-233-c85c04535b22> in <module>()
----> myStock.print()

TypeError: print() takes 0 positional arguments but 1 was given

# 클래스 함수의 매개변수에 self가 없기 때문에 호출한 객체를 인자로 넘겨주어야 한다.





class Stock:
    pass






class Stock:
    def __init__(self, 종목, 종목코드):
        self.종목 = 종목
        self.종목코드 = 종목코드

a = Stock("삼성전자", "005830")
a.종목, a.종목코드





class Stock:
    def __init__(self, 종목, 종목코드):
        self.종목 = 종목
        self.종목코드 = 종목코드
    def set_namme(self, 종목):
        self.종목 = 종목

a = Stock(None, None)
a.set_namme("삼설전자")
a.종목, a.종목코드





class Stock:
    def __init__(self, 종목, 종목코드):
        self.종목 = 종목
        self.종목코드 = 종목코드
    def set_namme(self, 종목):
        self.종목 = 종목
    def set_code(self, 종목코드):
        self.종목코드 = 종목코드

a = Stock(None, None)
a.set_code("005930")
a.종목, a.종목코드





class Stock:
    def __init__(self, 종목, 종목코드):
        self.종목 = 종목
        self.종목코드 = 종목코드
    def set_namme(self, 종목):
        self.종목 = 종목
    def set_code(self, 종목코드):
        self.종목코드 = 종목코드
    def get_namme(self):
        return  self.종목
    def get_code(self):
        return self.종목코드

삼성 = Stock("삼성전자", "005930")
삼성.get_namme(), 삼성.get_code()





class Stock:
    def __init__(self, 종목, 종목코드, PER, PBR, 배당수익):
        self.종목 = 종목
        self.종목코드 = 종목코드
        self.PER = PER
        self.PBR = PBR
        self.배당수익률 = 배당수익률
    def set_namme(self, 종목):
        self.종목 = 종목
        
    def set_code(self, 종목코드):
        self.종목코드 = 종목코드
        
    def get_namme(self):
        return  self.종목
        
    def get_code(self):
        return self.종목코드
    





class Stock:
    def __init__(self, 종목, 종목코드, PER, PBR, 배당수익률):
        self.종목 = 종목
        self.종목코드 = 종목코드
        self.PER = PER
        self.PBR = PBR
        self.배당수익률 = 배당수익률
    def set_namme(self, 종목):
        self.종목 = 종목
        
    def set_code(self, 종목코드):
        self.종목코드 = 종목코드
        
    def get_namme(self):
        return  self.종목
        
    def get_code(self):
        return self.종목코드

삼성 = Stock("삼성전자", "005930", 15.79, 1.33, 2.83)
삼성.종목, 삼성.종목코드, 삼성.PER, 삼성.PBR, 삼성.배당수익률





class Stock:
    def __init__(self, 종목, 종목코드, PER, PBR, 배당수익률):
        self.종목 = 종목
        self.종목코드 = 종목코드
        self.PER = PER
        self.PBR = PBR
        self.배당수익률 = 배당수익률
    def set_namme(self, 종목):
        self.종목 = 종목
        
    def set_code(self, 종목코드):
        self.종목코드 = 종목코드
        
    def set_per(self, PER):
        self.PER = PER

    def set_pbr(self, PBR):
        self.PBR = PBR
    
    def set_dividend (self, 배당수익률):
        self.배당수익률 = 배당수익률
        
    def get_namme(self):
        return  self.종목
        
    def get_code(self):
        return self.종목코드





class Stock:
    def __init__(self, 종목, 종목코드, PER, PBR, 배당수익률):
        self.종목 = 종목
        self.종목코드 = 종목코드
        self.PER = PER
        self.PBR = PBR
        self.배당수익률 = 배당수익률
    def set_namme(self, 종목):
        self.종목 = 종목
        
    def set_code(self, 종목코드):
        self.종목코드 = 종목코드
        
    def set_per(self, PER):
        self.PER = PER

    def set_pbr(self, PBR):
        self.PBR = PBR
    
    def set_dividend (self, 배당수익률):
        self.배당수익률 = 배당수익률
        
    def get_namme(self):
        return  self.종목
        
    def get_code(self):
        return self.종목코드

삼성 = Stock("삼성전자", "005930", 15.79, 1.33, 2.83)
print(삼성.배당수익률)
삼성.set_dividend(12.75)
print(삼성.배당수익률)





class Stock:
    def __init__(self, 종목, 종목코드, PER, PBR, 배당수익률):
        self.종목 = 종목
        self.종목코드 = 종목코드
        self.PER = PER
        self.PBR = PBR
        self.배당수익률 = 배당수익률
        
    def set_namme(self, 종목):
        self.종목 = 종목
        
    def set_code(self, 종목코드):
        self.종목코드 = 종목코드
        
    def set_per(self, PER):
        self.PER = PER

    def set_pbr(self, PBR):
        self.PBR = PBR
    
    def set_dividend (self, 배당수익률):
        self.배당수익률 = 배당수익률
        
    def get_namme(self):
        return  self.종목
        
    def get_code(self):
        return self.종목코드

종목 = []

삼성 = Stock("삼성전자", "005930", 15.79, 1.33, 2.83)
현대차 = Stock("현대차", "005380", 8.70, 0.35, 4.27)
LG전자 = Stock("LG전자", "066570", 317.34, 0.69, 1.37)

종목.append(삼성)
종목.append(현대차)
종목.append(LG전자)

for i in 종목:
    print(i.종목, i.PER)





import random

class Account:
    def __init__(self, 예금주, 잔액):
        self.예금주 = 예금주
        self.잔액 = 잔액
        self.은행이름 = "SC은행"
        self.계좌번호 = str(random.randrange(1, 999)).zfill(3) + "-" + str(random.randrange(1, 99)).zfill(2) + "-" + str(random.randrange(1, 999)).zfill(6)


a = Account("홍길동", 10000)
a.예금주, a.은행이름, a.계좌번호, a.잔액





import random

class Account:
    count = 0
    def __init__(self, 예금주, 잔액):
        self.예금주 = 예금주
        self.잔액 = 잔액
        self.은행이름 = "SC은행"
        self.계좌번호 = str(random.randrange(1, 999)).zfill(3) + "-" + str(random.randrange(1, 99)).zfill(2) + "-" + str(random.randrange(1, 999)).zfill(6)
        Account.count += 1

a = Account("홍길동", 10000)
b = Account("임꺽정", 20000)
Account.count





import random

class Account:
    count = 0
    def __init__(self, 예금주, 잔액):
        self.예금주 = 예금주
        self.잔액 = 잔액
        self.은행이름 = "SC은행"
        self.계좌번호 = str(random.randrange(1, 999)).zfill(3) + "-" + str(random.randrange(1, 99)).zfill(2) + "-" + str(random.randrange(1, 999)).zfill(6)
        Account.count += 1
    def get_account_num(Account):
        return Account.count

a = Account("홍길동", 10000)
b = Account("임꺽정", 20000)
a.get_account_num()





import random

class Account:
    count = 0
    def __init__(self, 예금주, 잔액):
        self.예금주 = 예금주
        self.잔액 = 잔액
        self.은행이름 = "SC은행"
        self.계좌번호 = str(random.randrange(1, 999)).zfill(3) + "-" + str(random.randrange(1, 99)).zfill(2) + "-" + str(random.randrange(1, 999)).zfill(6)
        Account.count += 1
        
    def get_account_num(Account):
        return Account.count
        
    def deposit(self, 입금액):
        if 입금액 > 0 :
            self.잔액 += 입금액

a = Account("홍길동", 10000)
print(a.잔액)
a.deposit(100)
print(a.잔액)





import random

class Account:
    count = 0
    def __init__(self, 예금주, 잔액):
        self.예금주 = 예금주
        self.잔액 = 잔액
        self.은행이름 = "SC은행"
        self.계좌번호 = str(random.randrange(1, 999)).zfill(3) + "-" + str(random.randrange(1, 99)).zfill(2) + "-" + str(random.randrange(1, 999)).zfill(6)
        Account.count += 1
        
    def get_account_num(Account):
        return Account.count
        
    def deposit(self, 입금액):
        if 입금액 > 0 :
            self.잔액 += 입금액
            
    def withdraw (self, 출금액):
        if self.잔액 > 출금액:
            self.잔액 -= 출금액

a = Account("홍길동", 10000)
print(a.잔액)
a.withdraw(100)
print(a.잔액)





import random

class Account:
    count = 0
    def __init__(self, 예금주, 잔액):
        self.예금주 = 예금주
        self.잔액 = 잔액
        self.은행이름 = "SC은행"
        self.계좌번호 = str(random.randrange(1, 999)).zfill(3) + "-" + str(random.randrange(1, 99)).zfill(2) + "-" + str(random.randrange(1, 999)).zfill(6)
        Account.count += 1
        
    def get_account_num(Account):
        return Account.count
        
    def deposit(self, 입금액):
        if 입금액 > 0 :
            self.잔액 += 입금액
        
    def withdraw (self, 출금액):
        if self.잔액 > 출금액:
            self.잔액 -= 출금액

    def display_info (self):
        print(f"은행이름: {self.은행이름}")
        print(f"예금주: {self.예금주}")
        print(f"계좌번호: {self.계좌번호}")
        print("잔고: ", f"{self.잔액:,}"+"원")


a = Account("홍길동", 10000)
a.display_info()





import random

class Account:
    count = 0
    deposit_count = 0
    def __init__(self, 예금주, 잔액):
        self.예금주 = 예금주
        self.잔액 = 잔액
        self.은행이름 = "SC은행"
        self.계좌번호 = str(random.randrange(1, 999)).zfill(3) + "-" + str(random.randrange(1, 99)).zfill(2) + "-" + str(random.randrange(1, 999)).zfill(6)
        Account.count += 1
        
    def get_account_num(Account):
        return Account.count
        
    def deposit(self, 입금액):
        if 입금액 > 0 :
            self.잔액 += 입금액
        self.deposit_count += 1
        if self.deposit_count == 5:
            self.잔액 *= 1.001
            self.deposit_count = 0
            
    def withdraw (self, 출금액):
        if self.잔액 > 출금액:
            self.잔액 -= 출금액

    def display_info (self):
        print(f"은행이름: {self.은행이름}")
        print(f"예금주: {self.예금주}")
        print(f"계좌번호: {self.계좌번호}")
        print("잔고: ", f"{self.잔액:,}"+"원")


a = Account("홍길동", 10000)
a.deposit(10000)
print(a.deposit_count)
a.deposit(10000)
print(a.deposit_count)
a.deposit(10000)
print(a.deposit_count)
a.deposit(10000)
print(a.deposit_count)
a.deposit(10000)
print(a.deposit_count)
a.잔액





import random
계좌리스트 = []
class Account:
    count = 0
    deposit_count = 0
    def __init__(self, 예금주, 잔액):
        self.예금주 = 예금주
        self.잔액 = 잔액
        self.은행이름 = "SC은행"
        self.계좌번호 = str(random.randrange(1, 999)).zfill(3) + "-" + str(random.randrange(1, 99)).zfill(2) + "-" + str(random.randrange(1, 999)).zfill(6)
        Account.count += 1
        
    def get_account_num(Account):
        return Account.count
        
    def deposit(self, 입금액):
        if 입금액 > 0 :
            self.잔액 += 입금액
        self.deposit_count += 1
        if self.deposit_count == 5:
            self.잔액 *= 1.001
            self.deposit_count = 0
            
    def withdraw (self, 출금액):
        if self.잔액 > 출금액:
            self.잔액 -= 출금액

    def display_info (self):
        print(f"은행이름: {self.은행이름}")
        print(f"예금주: {self.예금주}")
        print(f"계좌번호: {self.계좌번호}")
        print("잔고: ", f"{self.잔액:,}"+"원")


a = Account("홍길동", 10000)
b = Account("임꺽정", 20000)
c = Account("이순신", 30000)

계좌리스트.append(a)
계좌리스트.append(b)
계좌리스트.append(c)

for i in 계좌리스트:
    print(i.예금주)






a = Account("홍길동", 1000000)
b = Account("임꺽정", 200000)
c = Account("이순신", 3000000)

계좌리스트.append(a)
계좌리스트.append(b)
계좌리스트.append(c)

for i in 계좌리스트:
    if i.잔액 >= 1000000:
        print(i.예금주)





import random
계좌리스트 = []
class Account:
    count = 0
    deposit_count = 0
    입금내역 = []
    출금내역 = []
    def __init__(self, 예금주, 잔액):
        self.예금주 = 예금주
        self.잔액 = 잔액
        self.은행이름 = "SC은행"
        self.계좌번호 = str(random.randrange(1, 999)).zfill(3) + "-" + str(random.randrange(1, 99)).zfill(2) + "-" + str(random.randrange(1, 999)).zfill(6)
        Account.count += 1
        self.입금내역.clear()
        self.출금내역.clear()
    def get_account_num(Account):
        return Account.count
        
    def deposit(self, 입금액):
        if 입금액 > 0 :
            self.잔액 += 입금액
            self.입금내역.append(입금액)
        self.deposit_count += 1
        if self.deposit_count == 5:
            self.잔액 *= 1.01
            self.deposit_count = 0
            
    def withdraw (self, 출금액):
        if self.잔액 > 출금액:
            self.잔액 -= 출금액

    def withdraw (self, 출금액):
        if self.잔액 > 출금액:
            self.잔액 -= 출금액
            self.출금내역.append(출금액)

    def display_info (self):
        print(f"은행이름: {self.은행이름}")
        print(f"예금주: {self.예금주}")
        print(f"계좌번호: {self.계좌번호}")
        print("잔고: ", f"{self.잔액:,}"+"원")

    def deposit_history(self):
        for i in self.입금내역:
            print(i)
    
    def withdraw_history(self):
        for i in self.출금내역:
            print(i)

a = Account("홍길동", 10000)
a.deposit(10000)
a.deposit(5000)
a.deposit(100)
a.deposit_history()

a.withdraw(10000)
a.withdraw(3000)
a.withdraw_history()





class 차:
    def __init__(self, 바퀴, 가격):
        self.바퀴 = 바퀴
        self.가격 = 가격

car = 차(2, 1000)
print(car.바퀴)
print(car.가격)






class 차:
    def __init__(self, 바퀴, 가격):
        self.바퀴 = 바퀴
        self.가격 = 가격

class 자전차(차):
    pass

bicycle = 자전차(2, 100)
bicycle.가격





class 차:
    def __init__(self, 바퀴, 가격):
        self.바퀴 = 바퀴
        self.가격 = 가격

class 자전차(차):
    def __init__(self, 바퀴, 가격, 구동계):
        self.바퀴 = 바퀴
        self.가격 = 가격
        self.구동계 = 구동계

bicycle = 자전차(2, 100, "시마노")
bicycle.구동계





class 차:
    def __init__(self, 바퀴, 가격):
        self.바퀴 = 바퀴
        self.가격 = 가격

class 자동차(차):
    def __init__(self, 바퀴, 가격):
        self.바퀴 = 바퀴
        self.가격 = 가격
    def 정보(self):
        print(f"바퀴수 {self.바퀴}")
        print(f"가격 {self.가격}")

car = 자동차(4, 1000)
car.정보()





class 차:
    def __init__(self, 바퀴, 가격):
        self.바퀴 = 바퀴
        self.가격 = 가격

    def 정보(self):
            print(f"바퀴수 {self.바퀴}")
            print(f"가격 {self.가격}")

class 자전차(차):
    def __init__(self, 바퀴, 가격, 구동계):
        super().__init__(바퀴, 가격)
        self.구동계 = 구동계

bicycle = 자전차(2, 100, "시마노")
bicycle.정보()





class 차:
    def __init__(self, 바퀴, 가격):
        self.바퀴 = 바퀴
        self.가격 = 가격

    def 정보(self):
            print(f"바퀴수 {self.바퀴}")
            print(f"가격 {self.가격}")

class 자전차(차):
    def __init__(self, 바퀴, 가격, 구동계):
        super().__init__(바퀴, 가격)
        self.구동계 = 구동계
        
    def 정보(self):
        super().정보()
        print(f"구동계 {self.구동계}")

bicycle = 자전차(2, 100, "시마노")
bicycle.정보()





class 부모:
  def 호출(self):
    print("부모호출")

class 자식(부모):
  def 호출(self):
    print("자식호출")

나 = 자식()
나.호출()

# 자식호출





class 부모:
  def __init__(self):
    print("부모생성")

class 자식(부모):
  def __init__(self):
    print("자식생성")
      
나 = 자식()
# 자식생성





class 부모:
  def __init__(self):
    print("부모생성")

class 자식(부모):
  def __init__(self):
    print("자식생성")
    super().__init__()

나 = 자식()
# 자식생성
#부모생성



