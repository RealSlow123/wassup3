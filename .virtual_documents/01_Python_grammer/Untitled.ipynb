


print("Hello World")





print("Marry's cosmetics")





print('신씨가 소리 질렀다. "도둑이야"')





print("c:\Windows")





print("안녕하세요. \n만나서\t\t반갑습니다.") # \n은 줄바꿈, \t는 탭





print("오늘도", "일요일") # 오늘도 일요일











print('naver/kakao/sk/samsung')





print("first", end ='');print("second")





print(5/3)





삼성전자 = 50000
보유주식 = 10
print('총 평가금액 = ', 삼성전자*보유주식, '원')





시가총액 = '298조'
현재가 = '50,000원'
PER = 15.79
print(시가총액+', ', 현재가+', ', PER)





s = 'hello'
t = 'python'
print(s+'! '+t)





2 + 2 * 3 # 8





a = "132" # str
print(type(a))





num_str = "720"
num = int(num_str)
print(num, type(num))





num = 100
n_str = str(num)
print(n_str, type(n_str))





str_num = '15.79'
f_num = float(str_num)
print(f_num, type(f_num))





year = "2020"
i_year = int(year)
print(str(i_year-3) + ", ", str(i_year-2)+ ", ", i_year-1)





Price = 48584
Month = 36
Total_Price = Price * Month
print("총 금액 = ", Total_Price, " 원")





letters = 'python'
print(letters[0], letters[2])





license_plate = "24가 2210"
print(license_plate[4:])





str_temp = "홀짝홀짝홀짝"
print(str_temp[0::2])





string = "PYTHON"
print(string[::-1])





phone_number = "010-1111-2222"
phone_number = phone_number.replace('-', ' ')
print(phone_number)





phone_number = phone_number.replace(' ', '')
print(phone_number)





url = "http://sharebook.kr"
print(url[url.find('.')+1:])





lang = 'python'
lang[0] = 'P'
print(lang)   # 에러





string = 'abcdfe2a354a32a'
string = string.replace('a', 'A')
print(string)





string = 'abcd'
string.replace('b', 'B')
print(string) # abcd





a = "3"
b = "4"
print(a + b)  # 34





print("Hi" * 3) # HiHiHi





print("-" * 80)





t1 = 'python'
t2 = 'java'
print((t1 + " " + t2 + " ") * 4)





name1 = "김민수" 
age1 = 10
name2 = "이철희"
age2 = 13
print("이름: %s 나이: %d\n이름: %s 나이: %d"%(name1,age1,name2,age2))





print("이름: {} 나이: {}\n이름: {} 나이: {}".format(name1,age1,name2,age2))





print(f"이름: {name1} 나이: {age1}\n이름: {name2} 나이: {age2}")





상장주식수 = "5,969,782,550"
i_상장주식수 = int(상장주식수.replace(',', ''))
print(i_상장주식수)





분기 = "2020/03(E) (IFRS연결)"
print(분기[0:7])





data = "   삼성전자    "
data = data.strip(' ')
print(data)





ticker = "btc_krw"
print(ticker.upper())





ticker = "BTC_KRW"
print(ticker.lower())





temp = 'hello'
print(temp.capitalize())





file_name = "보고서.xlsx"
file_name.endswith(('xlsx','xls'))





file_name = "2020_보고서.xlsx"
file_name.startswith('2020')





ticker = "btc_krw"
print(ticker.split('_'))





date = "2020-05-01"
list = date.split('-')
Year = list[0]
Month = list[1]
Day = list[2]
print(f'{Year}년 {Month}월 {Day}일')





data = "039490     "
print(data.rstrip())





movie_rank = ['닥터 스트레인지','스플릿','럭키']
print(movie_rank)





movie_rank.append('베트맨')
print(movie_rank)





movie_rank.insert(1, '슈퍼맨')
print(movie_rank)





movie_rank.remove("럭키")
print(movie_rank)





movie_rank.pop()
movie_rank.pop()
print(movie_rank)





lang1 = ["C", "C++", "JAVA"]
lang2 = ["Python", "Go", "C#"]
langs = lang1 + lang2
print(langs)





nums = [1, 2, 3, 4, 5, 6, 7]
min_num = min(nums)
max_num = max(nums)
print(f"max: {max_num}\nmin: {min_num}")





nums = [1, 2, 3, 4, 5]
print(sum(nums))





cook = ["피자", "김밥", "만두", "양념치킨", "족발", "피자", "김치만두", "쫄면", "소시지", "라면", "팥빙수", "김치전"]
print(len(cook))





nums = [1, 2, 3, 4, 5]
print(sum(nums)/len(nums))





price = ['20180728', 100, 130, 140, 150, 160, 170]
print(price[1:])





nums = [1, 2, 3, 4, 5, 6, 7, 8, 9, 10]
print(nums[0::2])





print(nums[1::2])





nums = [1, 2, 3, 4, 5]
nums.reverse
print(nums)





interest = ['삼성전자', 'LG전자', 'Naver']
print(interest[0], interest[2])





interest = ['삼성전자', 'LG전자', 'Naver', 'SK하이닉스', '미래에셋대우']
print(" ".join(interest))





interest = ['삼성전자', 'LG전자', 'Naver', 'SK하이닉스', '미래에셋대우']
print("/".join(interest))





interest = ['삼성전자', 'LG전자', 'Naver', 'SK하이닉스', '미래에셋대우']
print("\n".join(interest))





string = "삼성전자/LG전자/Naver"
interest = string.split('/')
print(interest)





data = [2, 4, 3, 1, 5, 10, 9]
data.sort()
print(data)





movie_rank = ()
print(movie_rank, type(movie_rank))





movie_rank = ('닥터 스트레인지','스플릿','럭키')
print(movie_rank)











t = (1, 2, 3)
t[0] = 'a' # 튜플은 특정 인덱스의 데이터를 수정하는 것이 불가능함





t = 1, 2, 3, 4 # 튜플
print(type(t))





t = ('a', 'b', 'c')
t = ('A', 'b', 'c')
print(t)





interest = ('삼성전자', 'LG전자', 'SK Hynix')
#data = list(interest) # 이거 안됨....
l_interest = []
l_interest.extend(interest)

# ========== 다른 방법 ==========
# my_list = [x for x in my_tuple]
# my_list = [*my_tuple]
# ==========++++++++++++=========

print(l_interest)





interest = ['삼성전자', 'LG전자', 'SK Hynix']
t_interest = tuple(interest)
print(t_interest)





temp = ('apple', 'banana', 'cake')
a, b, c = temp
print(a, b, c) # apple banana cake





t_nums = tuple(range(2, 100, 2))
print(t_nums)
