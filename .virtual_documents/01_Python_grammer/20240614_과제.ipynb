


def print_coin():
    print("비트코인")





print_coin()





for i in range(100):
    print_coin()





hello() # 아직 hello 함수가 정되지 않은 상태에서 호출 했기 때문에
def hello():
    print("Hi")





def message() :
    print("A")
    print("B")

message()
print("C")
message()
#A
#b
#C
#A
#b





print("A")

def message() :
    print("B")

print("C")
message()

#A
#C
#B





print("A")
def message1() :
    print("B")
print("C")
def message2() :
    print("D")
message1()
print("E")
message2()
#A
#C
#B
#E
#D





def message1():
    print("A")

def message2():
    print("B")
    message1()

message2()

#B
#A





def message1():
    print("A")

def message2():
    print("B")

def message3():
    for i in range (3) :
        message2()
        print("C")
    message1()

message3()
#B
#C
#B
#C
#B
#C
#A





def 함수(문자열) :
    print(문자열)

함수("안녕")
함수("Hi")

#안녕
# Hi











def 함수(문자열) :
    print(문자열)


함수()# 함수 정의에 매개변수가 있으나 인자로 넘기지 않았음





def 함수(a, b) :
    print(a + b)

함수("안녕", 3) # string type과 integer type은 더하기 연산이 불가능하다





def print_with_smile (문자열) :
    print(문자열+" :D")
    
print_with_smile("안녕")





print_with_smile("안녕하세요")





def print_upper_price(가격) :
    print(가격*1.3)

print_upper_price(100)





def print_sum (a, b) :
    print(a + b)

print_sum(1,2)





def print_arithmetic_operation (a, b) :
    print(f"{a} + {b} = {a+b}")
    print(f"{a} - {b} = {a-b}")
    print(f"{a} & {b} = {a*b}")
    print(f"{a} / {b} = {a/b}")

print_arithmetic_operation(1,2)





def print_max(a, b, c):
    if a > b and a > c:
        print(a)
    elif b > a and b > c:
        print(b)
    elif c > b and c > a:
        print(c)

print_max(1,2,3)





def print_reverse(문자):
    print(문자[::-1])
        
print_reverse("python")





def print_score(scores):
    print(sum(scores)/len(scores))
        
print_score ([1, 2, 3])





def print_even(list):
    for i in list:
        if i % 2 == 0:
            print(i)

print_even ([1, 3, 2, 10, 12, 11, 15])





def print_keys(dict):
    for key in dict.keys():
        print(key)

print_keys ({"이름":"김말똥", "나이":30, "성별":0})





my_dict = {"10/26" : [100, 130, 100, 100],
           "10/27" : [10, 12, 10, 11]}
def print_value_by_key(dict, key):
    print(dict[key])

print_value_by_key  (my_dict, "10/26")





def print_5xn(string):
    if len(string) >= 5:
        print(string[:5])
    else:
        print(string)

print_5xn("아이엠어보이유알어걸")





def print_mxn(string, num):
    if len(string) >= num:
        print(string[:num])
    else:
        print(string)

print_mxn("아이엠어보이유알어걸", 3)





def calc_monthly_salary(annual_salary):
    return int(annual_salary / 12)

calc_monthly_salary(12000000)





def my_print (a, b) :
    print("왼쪽:", a)
    print("오른쪽:", b)
# 왼쪽:100
# 오른쪽:200
my_print(a=100, b=200)





def my_print (a, b) :
    print("왼쪽:", a)
    print("오른쪽:", b)    
# 왼쪽:200
# 오른쪽:100
my_print(b=100, a=200)





def n_plus_1 (n) :
    result = n + 1
# result는 선언되어있는 변수가 아니므로 에러발생
n_plus_1(3)
print (result)





def make_url(addr):
    return("www."+addr+".com")

make_url("naver")





def make_list(문자):
    list = []
    for i in range(len(문자)):
        list.append(문자[i])
    return list

make_list("abcd")





def pickup_even(list):
    temp_list = []
    for i in list:
        if i % 2 == 0:
            temp_list.append(i)

    return temp_list

pickup_even([3, 4, 5, 6, 7, 8])





def convert_int(문자):
    return int(문자.replace(",", ""))

convert_int("1,234,567")





def 함수(num) :
    return num + 4

a = 함수(10)
b = 함수(a)
c = 함수(b)

#22

print(c)





def 함수(num) :
    return num + 4

c = 함수(함수(함수(10)))

# 22

print(c)





def 함수1(num) :
    return num + 4

def 함수2(num) :
    return num * 10

a = 함수1(10)
c = 함수2(a)

# 140

print(c)





def 함수1(num) :
    return num + 4

def 함수2(num) :
    num = num + 2
    return 함수1(num)

c = 함수2(10)

# 16

print(c)





def 함수0(num) :
    return num * 2

def 함수1(num) :
    return 함수0(num + 2)

def 함수2(num) :
    num = num + 10
    return 함수1(num)

c = 함수2(2)

# 28

print(c)
