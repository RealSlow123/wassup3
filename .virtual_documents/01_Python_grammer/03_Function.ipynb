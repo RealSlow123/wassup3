


def add(a, b):
    return a + b


a = 3
b = 4
add(a, b)


c = add(a, b)
c





# 일반적인 함수의 형태
def add(a, b):
    result = a + b
    return result


# 앱력값이 없는 함수
def say():
    return 'hi'


say()





def add(a, b):
    print(f"{a} + {b} = {a + b}")


add(3, 4)


c = add(3, 4)


c





def sub(a, b):
    return a - b


sub(3, 7)


sub(a = 3, b = 7)


sub(b = 7, a = 3)





def add_many(*args):
    result = 0
    for i in args:
        result += i
    return result

add_many(1,2,3,4,5)


def calculator(Operator, *args):
    result = 0
    if Operator == "*":
        result = 1
        
    for i in args:
        if Operator == "+":
            result += i
        elif Operator == "*":            
            result *= i
        else:
            result = 0        
    return result


calculator("*", 1,2,3,4,5)





def print_kwargs(**kwargs):
    return kwargs
print_kwargs(a = 1)


print_kwargs(name = "KCM", age = 30)





def add_and_mul(a,b):
    return a+b, a*b

add_and_mul(1, 2)


a = add_and_mul(1, 2)


a, type(a)


a, b = add_and_mul(1, 2)
a


b


a, _ = add_and_mul(1, 2)
a


def add_and_mul(a,b):
    return a+b
    return a*b
add_and_mul(1, 2)





def say_nick(nick):
    if nick == "바보":
        return
    print("나의 별멸은 %s 입니다" %nick)


say_nick("야호")


say_nick("바보")





def say_myself(name, age, man=True): 
    print("나의 이름은 %s 입니다." % name) 
    print("나이는 %d살입니다." % age) 
    if man: 
        print("남자입니다.")
    else: 
        print("여자입니다.")
say_myself("하으뜸", 37)


say_myself("하뿅뿅", 37, man = False)


def say_myself(name, man=True, age): # 초기화를 해주고 싶은 매개변수는 맨뒤로...
    print("나의 이름은 %s 입니다." % name) 
    print("나이는 %d살입니다." % age) 
    if man: 
        print("남자입니다.") 
    else: 
        print("여자입니다.")


a = 1
def vartest(a):
    a = a + 1
    print(a)


vartest(a)


a





a = 1 
def vartest(a): 
    a = a +1 
    return a

a = vartest(a) 
print(a)


a = 1 
def vartest(): 
    global a 
    a = a+1

vartest() 
print(a)





add = lambda a, b: a+b
result = add(3, 4)
print(result)


result = add(3, 4)
print(result)
