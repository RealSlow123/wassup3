import pandas as pd
import numpy as np
import seaborn as sns
import matplotlib.pylab as plt
import koreanize_matplotlib


access_data = pd.read_table('data/mini.csv',sep=',')


access_data.head(15)


access_data.tail(15)


access_data.info()


access_data.isnull().sum()


normalization_df = (access_data - access_data.min())/(access_data.max() - access_data.min())
normalization_df.head()


dff = normalization_df.groupby('target').describe(percentiles=[.05, .1, .15,  .2, .25, .3, .35, .4, .45, .5, .55, .6, .65, .7, .75, .8, .85, .9, .95]).T


dff.to_excel('C:/workspace/wassup3/05_Data_Analysis/data/test4.xlsx')


access_data.describe()





access_data.groupby('target')['average_time_per_learning_session'].describe(percentiles=[.05, .1, .15,  .2, .25, .3, .35, .4, .45, .5, .55, .6, .65, .7, .75, .8, .85, .9, .95])


access_data4 = access_data.groupby('target').describe(percentiles=[.05, .1, .15,  .2, .25, .3, .35, .4, .45, .5, .55, .6, .65, .7, .75, .8, .85, .9, .95])


# access_data4.to_csv('C:/workspace/wassup3/05_Data_Analysis/data/test5.csv')
access_data4


access_data2 = access_data


del access_data2['user_id']


corr_1 = access_data2.corr()


print(corr_1['target'].sort_values(ascending=0))


# normalization_df = (access_data2 - access_data2.mean())/access_data2.std()
# del normalization_df['target']
# normalization_df.head()
corr_2 = corr_1['target'].sort_values(ascending=0)


# plt.figure(figsize=(12,16))
# normalization_df.plot()


access_data3 = access_data2[['average_time_per_learning_session', 'preferred_difficulty_level', 'community_engagement_level', 'monthly_active_learning_days', 'recent_learning_achievement', 'customer_inquiry_history', 'target']]


average_time = access_data2[['average_time_per_learning_session', 'target']]
average_time.rename(columns={'average_time_per_learning_session':'ATpLS'}, inplace=True)


average_time.sort_values('ATpLS').to_csv('C:/workspace/wassup3/05_Data_Analysis/data/test3.csv')


target1 = average_time[average_time['target'] == 1]
target0 = average_time[average_time['target'] == 0]


t1=target1.describe(percentiles=[.05, .1, .15,  .2, .25, .3, .35, .4, .45, .5, .55, .6, .65, .7, .75, .8, .85, .9, .95])


t2=target0.describe(percentiles=[.05, .1, .15,  .2, .25, .3, .35, .4, .45, .5, .55, .6, .65, .7, .75, .8, .85, .9, .95])


del t1['target']


t1 = t1.T


del t1['count']


t1 = t1.T.rename(columns={'ATpLS':'구독자 통계 정보'})


t1


del t2['target']


t2 = t2.T


del t2['count']


t2 = t2.T.rename(columns={'ATpLS':'비구독자 통계 정보'})


t2.index, t1.index


t3 = pd.concat([t1.T, t2.T])


t3 =  t3.T


t3.plot()


t3.drop('std',inplace=True)
t3.drop('min',inplace=True)
t3.drop('max',inplace=True)


t3, t3.plot()


a = target1['ATpLS'].to_frame()
a.sort_values('ATpLS', inplace=True)
b = target0['ATpLS'].to_frame()
b.sort_values('ATpLS', inplace=True)
if a.min()[0] < b.min()[0]:
    minv = a.min()[0]
else:
    minv = b.min()[0]
if minv < 1:
    minv = 0    

minv = int(minv)

if a.max()[0] < b.max()[0]:
    maxv = b.max()[0]
else:
    maxv = a.max()[0]
maxv = int(maxv)

l1 = []
l2 = []
l3 = []
term = int((maxv - minv)/20)

print(minv, maxv, term)
for i in range(minv+term, maxv+term, term):
    l1.append(i)
    c = a[(a['ATpLS'] > i - term) & (a['ATpLS'] <= i)].count()
    d = b[(b['ATpLS'] > i - term) & (b['ATpLS'] <= i)].count()    
    l2.append((c[0] / (c[0]+d[0]))*100)
    l3.append((c[0]+d[0]))

df = pd.DataFrame({"구간":l1, "구독자비율":l2, "이용자비율":l3})

df2 = pd.DataFrame({"구간":l1, "이용자수":l3})

df["이용자비율"] = df["이용자비율"]/df["이용자비율"].sum()*100

df.set_index("구간", inplace=True)
df2.set_index("구간", inplace=True)
df.plot()
df2.plot()


df[ df.index < 200 ]['이용자비율'].sum()


df[ df.index >= 200 ]['이용자비율'].sum()


under200 = df[ df.index < 200 ]['이용자비율'].sum()
overr200 = df[ df.index >= 200 ]['이용자비율'].sum()

slang_usage = ["200분 미만 학습자", "200분 이상 학습자"]
values = [under200, overr200]

plt.pie(values, labels=slang_usage, autopct='%.1f%%')
plt.show()


df


access_data2 = access_data[access_data['average_time_per_learning_session'] < 200]


access_data2.describe()


tt1 = access_data2[access_data2['target']==1]


tt2 = access_data2[access_data2['target']==0]


tt1['average_login_time'].plot()


tt2['average_login_time'].plot()


z = tt1.groupby('subscription_type')['subscription_type'].count()
list(z)



access_data2[['payment_pattern', 'subscription_type']]


lst1 = []
lst2 = []

ttt1 = tt1['payment_pattern'].sort_values().to_frame()

ttt2 = tt2['payment_pattern'].sort_values().to_frame()

ttt1.plot.hist(title="구독예정자 3개월 간 결제 패턴 히스토그램", bins=7)
ttt2.plot.hist(title="구독취소예정자 3개월 간 결제 패턴 히스토그램", bins=7)

# a = "1"
# plt.title(a)
# plt.hist(tt1['subscription_duration'])
# plt.show()
#tt1['subscription_duration'].describe(percentiles=[.1, .2, .3,  .4, .5, .6, .7, .8, .9]), tt2['subscription_duration'].describe(percentiles=[.1, .2, .3,  .4, .5, .6, .7, .8, .9])
# min1 = ttt1['subscription_duration'].min()
# max1 = ttt1['subscription_duration'].max()
# cnt=ttt1['subscription_duration'].count()
# term1 = int((max1 - min1)/10)



# for i in range(min1, max1, term1):
#     ttt = ttt1[(ttt1['subscription_duration'] >= i) & (ttt1['subscription_duration'] < i+term1)]
#     lst1.append((ttt.count()[0]/cnt)*100)

# min2 = ttt2['subscription_duration'].min()
# max2 = ttt2['subscription_duration'].max()
# cnt=ttt2['subscription_duration'].count()
# term2 = int((max2 - min2)/10)

# for i in range(min2, max2, term2):
#     ttt = ttt2[(ttt2['subscription_duration'] >= i) & (ttt2['subscription_duration'] < i+term2)]
#     lst2.append((ttt.count()[0]/cnt)*100)

# dff = pd.DataFrame({"구독예정":lst1, "구독취소예정":lst2})
# dff.plot(title="데이터 구간별 구독 기간 추이", xlabel="구간", ylabel="구독 기간")


qqq = access_data


qqq.sort_values('average_login_time', inplace=True)
qqq
temp = []
for i in range(0, 27):
    temp.append(qqq[(qqq['average_login_time'] >= i) & (qqq['average_login_time'] < i+1)]['total_completed_courses'].mean())

temp

#qqq = qqq[(qqq['average_login_time'] >= 14) & (qqq['average_login_time'] <= 16)]

temp
dff = pd.DataFrame({"평균 로그인 시간별 평균 완료 과목수":temp})
dff.plot.bar()


target11 = qqq[average_time['target'] == 1]
target00 = qqq[average_time['target'] == 0]



qqq = target11.sort_values('average_login_time')
temp = []
temp1 = []

temp2 = []
temp3 = []

temp4 = []
temp5 = []

for i in range(1, 27):
    temp.append(qqq[(qqq['average_login_time'] >= i-1) & (qqq['average_login_time'] < i)].count()[0])
    # temp2.append(qqq[(qqq['average_login_time'] >= i) & (qqq['average_login_time'] < i+1)]['total_completed_courses'].min())
    # temp4.append(qqq[(qqq['average_login_time'] >= i) & (qqq['average_login_time'] < i+1)]['total_completed_courses'].max())


# qqq = target00.sort_values('average_login_time')
# for i in range(1, 27):
#     temp1.append(qqq[(qqq['average_login_time'] >= i) & (qqq['average_login_time'] < i+1)].count()[0])
    # temp3.append(qqq[(qqq['average_login_time'] >= i) & (qqq['average_login_time'] < i+1)]['total_completed_courses'].min())
    # temp5.append(qqq[(qqq['average_login_time'] >= i) & (qqq['average_login_time'] < i+1)]['total_completed_courses'].max())
qqq = target00.sort_values('average_login_time')
for i in range(1, 27):
    temp1.append(qqq[(qqq['average_login_time'] >= i-1) & (qqq['average_login_time'] < i)].count()[0])
    
# del temp[0:1]
# del temp1[0:1]
# label = ['0~2', '2~4', '4~6', '6~8', '8~10', '10~12', '12~14', '14~16', '16~18', '18~20', '20~22', '22~24', '24~26']
# dff = pd.DataFrame({'구간':label, "구독예정자":temp, '구독 취소 예정자':temp1})
# dff
# dff = pd.DataFrame({"구독예정자":temp, '구독 취소 예정자':temp1})
# dff


dff = pd.DataFrame({"구독예정자":temp, '구독 취소 예정자':temp1})
dff.plot.bar(title='평균 접속 시간당 수강 완료 과목수')

# dff1= pd.DataFrame({"구독예정자":temp2, '구독 취소 예정자':temp3})
# dff1.plot.bar(title='평균 접속 시간당 수강 완료 과목수')

# dff2 = pd.DataFrame({"구독예정자":temp4, '구독 취소 예정자':temp5})
# dff2.plot.bar(title='평균 접속 시간당 수강 완료 과목수')

















































slang_usage = ["Basic", "Premium"]
values = list(z)

plt.pie(values, labels=slang_usage, autopct='%.1f%%')
plt.show()


x = tt2.groupby('subscription_type')['subscription_type'].count()
x


slang_usage = ["Basic", "Premium"]
values = list(x)

plt.pie(values, labels=slang_usage, autopct='%.1f%%')
plt.show()


ttt1 = access_data2.sort_values('target')
ttt1.groupby('target')['customer_inquiry_history'].count()


access_data


















































average_time = average_time[average_time.ATpLS < average_time.ATpLS.max()]


data2 = average_time.groupby('target').describe(percentiles=[.05, .1, .15,  .2, .25, .3, .35, .4, .45, .5, .55, .6, .65, .7, .75, .8, .85, .9, .95])


data2.to_csv('C:/workspace/wassup3/05_Data_Analysis/data/test2.csv')


access_data3.sort_values('average_time_per_learning_session').to_csv('C:/workspace/wassup3/05_Data_Analysis/data/test4.csv')


average_time.describe?
