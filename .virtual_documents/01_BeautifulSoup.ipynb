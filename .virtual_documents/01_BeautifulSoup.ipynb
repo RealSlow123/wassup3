





from bs4 import BeautifulSoup
import lxml                  


BeautifulSoup?


# sample
html = '''
<div id=prices >
    <table >
        <tr class=bb>
            <th class="bb lm lft">Date
            <th class="rgt bb">Open
            <th class="rgt bb">High
            <th class="rgt bb">Low
            <th class="rgt bb">Close
            <th class="rgt bb rm">Volume
        <tr>
            <td class="lm">Feb 28, 2014
            <td class="rgt">100.71
            <td class="rgt">100.71
            <td class="rgt">100.71
            <td class="rgt">100.71
            <td class="rgt rm">0
     </table>
'''


 #lxml의 HTML파서
BeautifulSoup(html, 'lxml')


# 파이썬 표준 html파서
BeautifulSoup(html, 'html.parser') 





html_file = open('sample/market.html', encoding='utf-8')
html_src = html_file.read()
html_file.close()


html_src


print(html_src)


# DOM구조로 변환(구문 분석)
soup = BeautifulSoup(html_src, 'lxml')


type(soup)


soup





soup.find?


soup.find('p')


type(soup.find('p'))


soup.find_all('p')


soup.find('p', id="orange")


soup.find_all(class_='fruit') 





soup.select?


soup.select('p')


soup.select_one('p')


# css셀렉터 문법
soup.select('#orange') # id 속성


soup.select_one('#orange')


soup.select('.price') # class 속성


soup.select('p#orange') #AND관계


# a태그 또는 스토어클래스에 해당하는 요소를 찾아줘
soup.select('a, .store')  # , = OR 관계


soup.select('.fruit.best') # 클래스값이 2개인 태그


soup.select('.fruit.best>a')


soup.select('.fruit.best > a') # > 자식관계(공백주의) )


soup.select('.fruit.best a')# 공백 자손 관계


soup.select('.fruit.best > span > a')


soup.select('.fruit.best a')


mylist = soup.select('.fruit.best a')
type(mylist)


type(mylist[0])


for tagItem in mylist :
    print(tagItem.text)


print(tagItem)


for item in mylist :
    print(item['href'])


items = soup.select('.fruit')


print(items)


for item in items:    
    name = item['title']
    price = item.find('span','price').text
    count = item.find('span','count').text
    store = item.find('span', 'store').text
    print(name, price, count, store) 





soup.find('p', id="orange")


e = soup.find('p', id="orange")


type(e)


e.name


e.attrs


e['title']


e.string


print(e.string)


e.strings


for item in e.strings:
    print(item)


e.text





# 부모 요소
e.parent


# 모든 조상 요소
e.parents


for item in e.parents:
    print(item.name)


# 모든 자손 요소(list)
e.contents


# 모든 자식 요소(eter)
e.children


for item in e.children:
    print(item.name)
