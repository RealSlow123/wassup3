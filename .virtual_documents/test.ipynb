print("hello")


pip install jupyter_nbextensions_configurator jupyter_contrib_nbextensions



