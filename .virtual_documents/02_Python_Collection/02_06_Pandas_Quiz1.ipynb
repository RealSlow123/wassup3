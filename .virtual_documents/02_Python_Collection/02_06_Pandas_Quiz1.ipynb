import pandas as pd
import numpy as np
import os


# ls data








data = {'kor':[40, 55, 66, 77, 34],
        'math':[70, 55, 66, 20, 40],
        'eng':[80, 95, 100, 77, 90]}

name_list = ['고길동','김희동','신윤지','이민호','박준희']   
df = pd.DataFrame(data, index=name_list)
df


df.loc['신머신'] = [55, 67, 88]
df.loc['윤파이'] = [90, 100, 90]
df


df['sci'] = [90, 45, 77, 90, 67, 90, 80]
df


print('eng 평균 =',df['eng'].mean())
df[df['eng'] > df['eng'].mean()]





student_list = [ { 'name' : 'John', 'major' : 'Computer Science', 'gender' : 'male'},
                 { 'name' : 'Nate', 'major' : 'Computer Science', 'gender' : 'male'},
                 { 'name' : 'Abrabam', 'major' : 'Physics', 'gender' : 'male'},
                 { 'name' : 'Brian', 'major' : 'Psychology', 'gender' : 'male'},
                 { 'name' : 'Jenny', 'major' : 'Economics', 'gender' : 'female'},
                 { 'name' : 'Yuba', 'major' : 'Economics', 'gender' : 'female'},
                 { 'name' : 'Jennifer', 'major' : 'Computer Science', 'gender' : 'female'},
                 { 'name' : 'Edward', 'major' : 'Computer Science', 'gender' : 'male'},
                 { 'name' : 'Sara', 'major' : 'Psychology', 'gender' : 'female'},
                 { 'name' : 'Wendy', 'major' : 'Economics', 'gender' : 'female'},
                 { 'name' : 'Sera', 'major' : 'Psychology', 'gender' : 'female'}
               ]

name_list = ['std1','std2','std3','std4','std5','std6','std7','std8','std9','std10','std11']   
df = pd.DataFrame(student_list)
df





name_list = ['std1','std2','std3','std4','std5','std6','std7','std8','std9','std10','std11']   
df.index = name_list
df





df_student_female = df[df['gender'] == 'female']
df_student_female





df_student_female = df_student_female.set_index('name').drop('gender', axis=1)
df_student_female





df_student2 = df[df['major'] != 'Computer Science'].set_index('name')
df_student2





idx = df_student2[(df_student2.index == 'Sara') | (df_student2.index == 'Brian')].index
df_student2.drop(idx , inplace=True)
df_student2['grade'] = [4.5, 4.0, 3.5, 4.0, 3.0]
df_student2





df_student2.rename(columns={'grade':'score'}, inplace=True)
df_student2 = df_student2[['gender', 'score', 'major']]
df_student2





df_student2.describe().loc[['mean', '25%', '50%', '75%']]











df_weather = pd.read_csv('C:/workspace/wassup3/02_Python_Collection/sample/기상온도_서울202012.csv', encoding='cp949', usecols=[2, 3, 5, 8])
df_weather





#df_weather['일시'].isnull().count()
for i in df_weather:
    print(i, '결측값 수 =', df_weather[i].isnull().sum())











df_weather[df_weather['일시'].isnull()]





df_weather.dropna(how='all', inplace=True)
df_weather


for i in df_weather:
    print(i, '결측값 수 =', df_weather[i].isnull().sum())





df_weather = df_weather.fillna(0)
df_weather


for i in df_weather:
    print(i, '결측값 수 =', df_weather[i].isnull().sum())





df_weather['일시'] = pd.to_datetime(df_weather['일시'])
df_weather.set_index('일시', inplace=True)
df_weather


df_weather.dtypes






df_weather['2000':]















