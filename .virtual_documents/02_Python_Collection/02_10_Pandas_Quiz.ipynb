import pandas as pd
import numpy as np
import os


ls





df_covid = pd.read_csv('C:/workspace/wassup3/02_Python_Collection/sample/seoul-covid19_6_30_.csv ')
df_covid





df_covid.drop('연번', axis=1, inplace=True)


df_covid.sort_values('환자', inplace=True)
df_covid.set_index('환자', inplace=True)
df_covid





df_covid2 = df_covid[['거주지', '확진일']]
df_covid2 = df_covid2.groupby(df_covid2.거주지)
df_covid2.count().sort_values("확진일", ascending=0)[0:5]





df_covid2.count().sort_values("확진일", ascending=0)[0:3]





# df_covid.reset_index(inplace=True)
lst=[]
df_covid['확진일'] = '2020.'+df_covid['확진일']
for i in df_covid['확진일']:
    lst.append(i.replace('.','-')[:-1])
    # /print(i)
df_covid['확진일'] = lst
# df_covid.set_index("확진일", inplace=True)
df_covid







idx = pd.to_datetime(lst)
df_covid['확진일'] = idx
df_covid





df_covid[(df_covid['확진일'] >= '2020-03-01') & (df_covid['확진일'] <= '2020-03-31')]





df_covid[(df_covid['확진일'].dt.weekday >= 5)]





list = []
for i in df_covid['접촉력']:
    if '콜센터' in i :
        list.append(True)
    else:
        list.append(False)

df_covid[list]





list = []
for i in df_covid['여행력']:
    if '우한' in i :
        list.append(True)
    else:
        list.append(False)

df_covid[list]





list = []
for i in df_covid['조치사항']:
    if '사망' in i :
        list.append(True)
    else:
        list.append(False)

df_covid3 = df_covid[list]
df_covid3, len(df_covid3)





df = pd.read_csv('C:/workspace/wassup3/02_Python_Collection/sample/전국 평균 분양가격.csv', encoding='cp949')
df





df = df.T
df





df2 = df.rename(columns=df.iloc[0])
df2 = df2.drop(df2.index[0])
df2






df2.index  = pd.to_datetime(df2.index)
df2





df2[df2.index >= '2015-06-01']





df3 = df2[['서울','인천','경기']]
df3





df_covid.to_csv('C:/workspace/wassup3/02_Python_Collection/output/평균분양가격_서울인천경기.csv',encoding='cp949')
