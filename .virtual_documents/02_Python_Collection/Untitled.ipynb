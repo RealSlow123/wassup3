


!pip install selenium


from selenium import webdriver
from selenium.webdriver.common.by import By
from selenium.webdriver.chrome.options import Options
import time
options = Options()
# options.add_argument("--start-maximized")
# options.add_argument("--headless=new") 
options


options.add_experimental_option("detach", True) #특정함수안에서 드라이버 생성시 함수종료될 때 브라우저 같이 종료되는 문제 대응





url = "http://naver.com"
driver = webdriver.Chrome(options=options)


driver.get(url)
time.sleep(2) 





driver.back()


driver.forward()


driver.refresh()





title = driver.title # 탭에 표시되는 사이트 명
url = driver.current_url # 현재 브라우저에 보여지는 페이지의 url
handle = driver.current_window_handle # window handle ID(창마다 다름?)
print(title, url, handle)





driver.find_element?


driver.find_element(By.ID, 'query')


# 키입력
driver.find_element(By.ID, 'query').send_keys('뉴진스')


driver.find_element(By.CLASS_NAME, 'search_input').send_keys('블랙핑크')


driver.find_element(By.NAME, 'query').send_keys('르세라핌')


driver.find_element(By.CSS_SELECTOR, '#query').send_keys('에스파')


driver.find_element(By.CSS_SELECTOR, '.search_input').send_keys('세븐틴')


driver.find_element(By.CSS_SELECTOR, "[title='검색어를 입력해 주세요.']").send_keys('트와이스')


driver.find_element(By.XPATH,"//*[@id='query']").send_keys('BTS')





driver.find_element(By.LINK_TEXT, '쇼핑')


driver.find_element(By.LINK_TEXT, '쇼핑').click()


# 일부 매칭
driver.find_element(By.PARTIAL_LINK_TEXT, '증').click()


# 테그로 찾기
# 태그는 너무 많은 요소가 있으므로 정확하게 대상을 찾을 때에는 권장 안함
driver.find_element(By.TAG_NAME, 'div')


# 여러개의 요소를찾을 때
links = driver.find_elements(By.CSS_SELECTOR, '.link_service')
links


links[0].get_attribute('href')


#list = ['메일', '카페', '블로그', '쇼핑', '뉴스', '증권', '부동산', '지도','웹툰','치지직']
for link in links:
    print(link.get_attribute('href'))





url = "file:///C:/workspace/wassup3/02_Python_Collection/sample/signin.html"
driver = webdriver.Chrome(options=options)
driver.get(url)
time.sleep(2) 


username = driver.find_element(By.NAME, 'username')
username.send_keys('korea')


pwd = driver.find_element(By.NAME, 'password')
pwd.send_keys('1234')


login =  driver.find_element(By.XPATH, '//*[@id="loginForm"]/input[3]')
login.click()


driver.back()


login =  driver.find_element(By.CSS_SELECTOR, "#loginForm > input[type=submit]:nth-child(5)")
login.click()


driver.back()


login =  driver.find_element(By.CSS_SELECTOR, "[value='Login']")
login.click()


driver.back()


username.clear()


pwd.clear()


username.submit()


driver.back()


driver.find_element(By.TAG_NAME, 'p').text


# html 소스 가져오기
driver.page_source


driver.close()
