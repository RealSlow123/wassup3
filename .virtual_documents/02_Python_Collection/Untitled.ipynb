from selenium import webdriver
from selenium.webdriver.common.by import By
from selenium.webdriver.chrome.options import Options
import math, time

options = Options()
options.add_argument('--window-size=974,1047')
options.add_argument('--window-position=-7,0')
options.add_experimental_option("detach", True)
search = '제주도'

URL = 'https://korean.visitkorea.or.kr/search/search_list.do?keyword='+search

driver = webdriver.Chrome(options=options)
driver.get(URL)
time.sleep(3)

driver.find_element(By.CSS_SELECTOR, "#s_recommend > .more_view > a").click()



tit_xpath = '//*[@id="search_result"]/ul/li[*]/div[1]/div[1]/a'
result = driver.find_elements(By.XPATH, tit_xpath)
len(result), result[0].text, result[1].text


for i, title in enumerate(result, 1):
#     print(i, title.text)
    print(i, title.text)


def FindLastPageNum():
    FindPageNum = True
    BoxNum = 1
    lastpage = 0
    driver.find_element(By.XPATH, f'/html/body/div[3]/div/div[1]/div[14]/a[{1}]').click()
    time.sleep(3)
    while True:
        try:
            strBoxNum = driver.find_element(By.XPATH, f'/html/body/div[3]/div/div[1]/div[14]/a[{BoxNum}]').text
            if strBoxNum.strip() == '끝':
                driver.find_element(By.XPATH, f'/html/body/div[3]/div/div[1]/div[14]/a[{BoxNum}]').click()
                time.sleep(3)
                BoxNum = 1
                continue
            elif strBoxNum.strip() != '':           
                if lastpage < int(strBoxNum.strip()):
                    lastpage = int(strBoxNum.strip())
            else:
                FindPageNum = False
            BoxNum += 1
        except ValueError:
            BoxNum += 1
        except :
            break
            
    driver.find_element(By.XPATH, f'/html/body/div[3]/div/div[1]/div[14]/a[{1}]').click()
    time.sleep(3)
    return lastpage



def GetMaxButtonNum():
    BoxNum = 1
    cycle = 0
    driver.find_element(By.XPATH, f'/html/body/div[3]/div/div[1]/div[14]/a[{1}]').click()
    time.sleep(3)
    while True:
        try:
            strBoxNum = driver.find_element(By.XPATH, f'/html/body/div[3]/div/div[1]/div[14]/a[{BoxNum}]').text
            BoxNum += 1
        except :
            BoxNum -= 1
            break
            
    return BoxNum

#print(GetMaxButtonNum())


def FindLastPageNum():
    FindPageNum = True
    BoxNum = 1
    lastpage = 0
    driver.find_element(By.XPATH, f'/html/body/div[3]/div/div[1]/div[14]/a[{1}]').click()
    time.sleep(3)
    while True:
        try:
            strBoxNum = driver.find_element(By.XPATH, f'/html/body/div[3]/div/div[1]/div[14]/a[{BoxNum}]').text
            if strBoxNum.strip() == '끝':
                driver.find_element(By.XPATH, f'/html/body/div[3]/div/div[1]/div[14]/a[{BoxNum}]').click()
                time.sleep(3)
                BoxNum = 1
                continue
            elif strBoxNum.strip() != '':           
                if lastpage < int(strBoxNum.strip()):
                    lastpage = int(strBoxNum.strip())
            else:
                FindPageNum = False
            BoxNum += 1
        except ValueError:
            BoxNum += 1
        except :
            break
            
    driver.find_element(By.XPATH, f'/html/body/div[3]/div/div[1]/div[14]/a[{1}]').click()
    time.sleep(3)
    return lastpage

chsngemaxpage = True
NextpPage = 1
lastpage = FindLastPageNum()
Finish = False
NextPageGroup = False
Itemnum = 76
i = 1
while Finish == False:
    NextPageGroup = False
    while NextPageGroup == False:
        strBoxNum = driver.find_element(By.XPATH, f'/html/body/div[3]/div/div[1]/div[14]/a[{i}]').text.strip()
        if strBoxNum == '다음':
            driver.find_element(By.XPATH, f'/html/body/div[3]/div/div[1]/div[14]/a[{i}]').click()
            time.sleep(3)
            i = 1
            break
        elif strBoxNum == '처음' or strBoxNum == '이전' or strBoxNum == '끝':
            i += 1
            continue
        else:
            driver.find_element(By.XPATH, f'/html/body/div[3]/div/div[1]/div[14]/a[{i}]').click()
            print('#'*20 + " " +strBoxNum+" 페이지 결과"+ " "+'#'*20)
            time.sleep(3)
            tit_xpath = '//*[@id="search_result"]/ul/li[*]/div[1]/div[1]/a'
            result = driver.find_elements(By.XPATH, tit_xpath)
            for j, title in enumerate(result, (1 + (len(result)*(int(strBoxNum)-1)))):
                print(j, title.text)
                if j >= Itemnum:
                    Finish = True
                    NextPageGroup = True
                    break
            i += 1
            if  int(strBoxNum) == lastpage:
                Finish = True
                break
        if Finish == True:
            break        

print("종료")

    
    #print(i)
    


type?


pip installer 
