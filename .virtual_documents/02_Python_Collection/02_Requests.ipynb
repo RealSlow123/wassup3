pip install requests





import requests
from bs4 import BeautifulSoup


PATH = 'https://finance.naver.com/'
resp = requests.get(PATH)


resp


resp?


requests.get?


resp.text


print(resp.text)


src = resp.text


soup = BeautifulSoup(src, 'lxml') 
print(soup)


mylist = soup.select('.section_strategy>ul')
for i in mylist:
    print(i.text)


mylist = soup.select('.section_strategy li a')

for i in mylist:
    print(i['href'])


mylist[0]['href']





url = mylist[0]['href']
PATH + url


from urllib.parse import urljoin
mylist = soup.select('.section_strategy li a')
news_title = []
news_url= []
for i in mylist:
    title = i.text
    url = urljoin(PATH, i['href'])
    print(title, url)
    news_title.append(title)
    news_url.append(url)

for i in news_title:
    print(i)

for i in news_url:
    print(i)






import pandas as pd


df = pd.DataFrame({'제목':news_title, '주소':news_url})
df


print(df)





df.to_excel('output/naver.xlsx', index = False)





import time
today = time.localtime()
time.ctime()


df.to_excel(f'output/{today.tm_year}_{today.tm_mon}_{today.tm_mday}naver.xlsx', index = False)


# 스트링 포메팅으로 날짜 포멧을 바꿔보자
'%d-%02d-%02d' % (today.tm_year, today.tm_mon, today.tm_mday)


file_name = '%d-%02d-%02d' % (today.tm_year, today.tm_mon, today.tm_mday)
excel_name = file_name + '.xlsx'
csv_name = file_name + '.csv'
print(excel_name, csv_name)


df.to_csv('output/'+csv_name, index = False)
#df.to_csv?

