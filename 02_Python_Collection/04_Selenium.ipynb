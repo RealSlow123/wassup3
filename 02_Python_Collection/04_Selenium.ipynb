{
 "cells": [
  {
   "cell_type": "markdown",
   "id": "58ddfaae-e9b2-474e-ace6-06bc34194512",
   "metadata": {},
   "source": [
    "# Selenium 사용하기\n",
    "- 크롬 115이상 버전부터 부터 드라이버 설치 불필요\n",
    "- 셀레니움4 부터 문법 변경\n",
    "- https://www.selenium.dev/documentation/ 셀레니움으로는 스크래핑하면 너무 느리므로, 동적 웹페이지 접속 및 이벤트 발생 역할 만 하고, 파싱은 BS4를 쓰는게 좋다."
   ]
  },
  {
   "cell_type": "code",
   "execution_count": 3,
   "id": "83eac061-98ac-48e3-9eca-3574473c8517",
   "metadata": {
    "collapsed": true,
    "jupyter": {
     "outputs_hidden": true
    }
   },
   "outputs": [
    {
     "name": "stdout",
     "output_type": "stream",
     "text": [
      "Requirement already satisfied: selenium in c:\\users\\gkdme\\anaconda3\\lib\\site-packages (4.22.0)\n",
      "Requirement already satisfied: urllib3<3,>=1.26 in c:\\users\\gkdme\\anaconda3\\lib\\site-packages (from urllib3[socks]<3,>=1.26->selenium) (2.0.7)\n",
      "Requirement already satisfied: trio~=0.17 in c:\\users\\gkdme\\anaconda3\\lib\\site-packages (from selenium) (0.25.1)\n",
      "Requirement already satisfied: trio-websocket~=0.9 in c:\\users\\gkdme\\anaconda3\\lib\\site-packages (from selenium) (0.11.1)\n",
      "Requirement already satisfied: certifi>=2021.10.8 in c:\\users\\gkdme\\anaconda3\\lib\\site-packages (from selenium) (2024.2.2)\n",
      "Requirement already satisfied: typing_extensions>=4.9.0 in c:\\users\\gkdme\\anaconda3\\lib\\site-packages (from selenium) (4.9.0)\n",
      "Requirement already satisfied: websocket-client>=1.8.0 in c:\\users\\gkdme\\anaconda3\\lib\\site-packages (from selenium) (1.8.0)\n",
      "Requirement already satisfied: attrs>=23.2.0 in c:\\users\\gkdme\\anaconda3\\lib\\site-packages (from trio~=0.17->selenium) (23.2.0)\n",
      "Requirement already satisfied: sortedcontainers in c:\\users\\gkdme\\anaconda3\\lib\\site-packages (from trio~=0.17->selenium) (2.4.0)\n",
      "Requirement already satisfied: idna in c:\\users\\gkdme\\anaconda3\\lib\\site-packages (from trio~=0.17->selenium) (3.4)\n",
      "Requirement already satisfied: outcome in c:\\users\\gkdme\\anaconda3\\lib\\site-packages (from trio~=0.17->selenium) (1.3.0.post0)\n",
      "Requirement already satisfied: sniffio>=1.3.0 in c:\\users\\gkdme\\anaconda3\\lib\\site-packages (from trio~=0.17->selenium) (1.3.0)\n",
      "Requirement already satisfied: cffi>=1.14 in c:\\users\\gkdme\\anaconda3\\lib\\site-packages (from trio~=0.17->selenium) (1.16.0)\n",
      "Requirement already satisfied: wsproto>=0.14 in c:\\users\\gkdme\\anaconda3\\lib\\site-packages (from trio-websocket~=0.9->selenium) (1.2.0)\n",
      "Requirement already satisfied: pysocks!=1.5.7,<2.0,>=1.5.6 in c:\\users\\gkdme\\anaconda3\\lib\\site-packages (from urllib3[socks]<3,>=1.26->selenium) (1.7.1)\n",
      "Requirement already satisfied: pycparser in c:\\users\\gkdme\\anaconda3\\lib\\site-packages (from cffi>=1.14->trio~=0.17->selenium) (2.21)\n",
      "Requirement already satisfied: h11<1,>=0.9.0 in c:\\users\\gkdme\\anaconda3\\lib\\site-packages (from wsproto>=0.14->trio-websocket~=0.9->selenium) (0.14.0)\n"
     ]
    }
   ],
   "source": [
    "!pip install selenium"
   ]
  },
  {
   "cell_type": "code",
   "execution_count": 28,
   "id": "d882b65e-8d81-435f-97a4-f675504a5875",
   "metadata": {},
   "outputs": [
    {
     "data": {
      "text/plain": [
       "<selenium.webdriver.chrome.options.Options at 0x183c5a30dd0>"
      ]
     },
     "execution_count": 28,
     "metadata": {},
     "output_type": "execute_result"
    }
   ],
   "source": [
    "from selenium import webdriver\n",
    "from selenium.webdriver.common.by import By\n",
    "from selenium.webdriver.chrome.options import Options\n",
    "import time\n",
    "options = Options()\n",
    "# options.add_argument(\"--start-maximized\")\n",
    "# options.add_argument(\"--headless=new\") \n",
    "options"
   ]
  },
  {
   "cell_type": "code",
   "execution_count": 8,
   "id": "2f7c2a32-0844-4db3-bff5-f417999fcf0e",
   "metadata": {},
   "outputs": [],
   "source": [
    "options.add_experimental_option(\"detach\", True) #특정함수안에서 드라이버 생성시 함수종료될 때 브라우저 같이 종료되는 문제 대응"
   ]
  },
  {
   "cell_type": "markdown",
   "id": "8bb21c53-f8f6-48f1-83cf-ca12c44118c4",
   "metadata": {},
   "source": [
    "## 브라우저 실행 및 페이지 접속"
   ]
  },
  {
   "cell_type": "code",
   "execution_count": 112,
   "id": "f36eb32b-8021-4cd6-be58-1813eb0b0d09",
   "metadata": {},
   "outputs": [],
   "source": [
    "url = \"http://naver.com\"\n",
    "driver = webdriver.Chrome(options=options)"
   ]
  },
  {
   "cell_type": "code",
   "execution_count": 21,
   "id": "2fac9336-1a34-4f6d-9d66-434816895d78",
   "metadata": {},
   "outputs": [],
   "source": [
    "driver.get(url)\n",
    "time.sleep(2) "
   ]
  },
  {
   "cell_type": "markdown",
   "id": "0e348e3d-4756-4582-8f73-c9ed6d0fa6b6",
   "metadata": {},
   "source": [
    "## 상호작용"
   ]
  },
  {
   "cell_type": "code",
   "execution_count": 22,
   "id": "ad6fdb9c-b35d-4c71-b62a-6d9c8629bcd8",
   "metadata": {},
   "outputs": [],
   "source": [
    "driver.back()"
   ]
  },
  {
   "cell_type": "code",
   "execution_count": 23,
   "id": "5136dfc0-2928-4b04-a611-5f02e469ef3d",
   "metadata": {},
   "outputs": [],
   "source": [
    "driver.forward()"
   ]
  },
  {
   "cell_type": "code",
   "execution_count": 24,
   "id": "6637e652-1cb8-47f5-93ca-f3dc03f8a060",
   "metadata": {},
   "outputs": [],
   "source": [
    "driver.refresh()"
   ]
  },
  {
   "cell_type": "markdown",
   "id": "d3e60d60-d605-49cb-99f7-01dd9c7b1e92",
   "metadata": {},
   "source": [
    "## 페이지 정보 가져오기"
   ]
  },
  {
   "cell_type": "code",
   "execution_count": 25,
   "id": "8fbe3af5-0d46-413b-bd51-653356deb7fc",
   "metadata": {},
   "outputs": [
    {
     "name": "stdout",
     "output_type": "stream",
     "text": [
      "NAVER https://www.naver.com/ 9E83CA162A6264E5719E81F56ACEADD4\n"
     ]
    }
   ],
   "source": [
    "title = driver.title # 탭에 표시되는 사이트 명\n",
    "url = driver.current_url # 현재 브라우저에 보여지는 페이지의 url\n",
    "handle = driver.current_window_handle # window handle ID(창마다 다름?)\n",
    "print(title, url, handle)"
   ]
  },
  {
   "cell_type": "markdown",
   "id": "a6916259-2426-4fca-ab72-438d05ddb532",
   "metadata": {},
   "source": [
    "## html 요소 찾기\n",
    "네이버 검색창을 핸들링 해보자"
   ]
  },
  {
   "cell_type": "code",
   "execution_count": 26,
   "id": "42187f9c-8a71-4b46-95eb-c61f4dc5cb31",
   "metadata": {},
   "outputs": [
    {
     "data": {
      "text/plain": [
       "\u001b[1;31mSignature:\u001b[0m \u001b[0mdriver\u001b[0m\u001b[1;33m.\u001b[0m\u001b[0mfind_element\u001b[0m\u001b[1;33m(\u001b[0m\u001b[0mby\u001b[0m\u001b[1;33m=\u001b[0m\u001b[1;34m'id'\u001b[0m\u001b[1;33m,\u001b[0m \u001b[0mvalue\u001b[0m\u001b[1;33m:\u001b[0m \u001b[0mOptional\u001b[0m\u001b[1;33m[\u001b[0m\u001b[0mstr\u001b[0m\u001b[1;33m]\u001b[0m \u001b[1;33m=\u001b[0m \u001b[1;32mNone\u001b[0m\u001b[1;33m)\u001b[0m \u001b[1;33m->\u001b[0m \u001b[0mselenium\u001b[0m\u001b[1;33m.\u001b[0m\u001b[0mwebdriver\u001b[0m\u001b[1;33m.\u001b[0m\u001b[0mremote\u001b[0m\u001b[1;33m.\u001b[0m\u001b[0mwebelement\u001b[0m\u001b[1;33m.\u001b[0m\u001b[0mWebElement\u001b[0m\u001b[1;33m\u001b[0m\u001b[1;33m\u001b[0m\u001b[0m\n",
       "\u001b[1;31mDocstring:\u001b[0m\n",
       "Find an element given a By strategy and locator.\n",
       "\n",
       ":Usage:\n",
       "    ::\n",
       "\n",
       "        element = driver.find_element(By.ID, 'foo')\n",
       "\n",
       ":rtype: WebElement\n",
       "\u001b[1;31mFile:\u001b[0m      c:\\users\\gkdme\\anaconda3\\lib\\site-packages\\selenium\\webdriver\\remote\\webdriver.py\n",
       "\u001b[1;31mType:\u001b[0m      method"
      ]
     },
     "metadata": {},
     "output_type": "display_data"
    }
   ],
   "source": [
    "driver.find_element?"
   ]
  },
  {
   "cell_type": "code",
   "execution_count": 29,
   "id": "80f29159-e392-4857-bae9-702da0dcffba",
   "metadata": {},
   "outputs": [
    {
     "data": {
      "text/plain": [
       "<selenium.webdriver.remote.webelement.WebElement (session=\"fde537c25bd55a0a5139c21fa233ffec\", element=\"f.9E83CA162A6264E5719E81F56ACEADD4.d.E927AB760D6B26DD9F52B029EC6A5A12.e.2715\")>"
      ]
     },
     "execution_count": 29,
     "metadata": {},
     "output_type": "execute_result"
    }
   ],
   "source": [
    "driver.find_element(By.ID, 'query')"
   ]
  },
  {
   "cell_type": "code",
   "execution_count": 30,
   "id": "877c8e22-dd5c-4e6e-a57c-8f83ae6f4169",
   "metadata": {},
   "outputs": [],
   "source": [
    "# 키입력\n",
    "driver.find_element(By.ID, 'query').send_keys('뉴진스')"
   ]
  },
  {
   "cell_type": "code",
   "execution_count": 32,
   "id": "cba0b868-37b1-45b8-bccc-a60209d24bad",
   "metadata": {},
   "outputs": [],
   "source": [
    "driver.find_element(By.CLASS_NAME, 'search_input').send_keys('블랙핑크')"
   ]
  },
  {
   "cell_type": "code",
   "execution_count": 34,
   "id": "a2047a16-2bb0-4d8b-9641-f11ff0d6533d",
   "metadata": {},
   "outputs": [],
   "source": [
    "driver.find_element(By.NAME, 'query').send_keys('르세라핌')"
   ]
  },
  {
   "cell_type": "code",
   "execution_count": 35,
   "id": "0d92d5cf-9e4c-4107-a6c9-654a9b1172f8",
   "metadata": {},
   "outputs": [],
   "source": [
    "driver.find_element(By.CSS_SELECTOR, '#query').send_keys('에스파')"
   ]
  },
  {
   "cell_type": "code",
   "execution_count": 36,
   "id": "126f2b32-9cbd-4f70-b80e-6ea83567ec25",
   "metadata": {},
   "outputs": [],
   "source": [
    "driver.find_element(By.CSS_SELECTOR, '.search_input').send_keys('세븐틴')"
   ]
  },
  {
   "cell_type": "code",
   "execution_count": 39,
   "id": "25d20804-daef-40f9-8a64-0342188ee86d",
   "metadata": {},
   "outputs": [],
   "source": [
    "driver.find_element(By.CSS_SELECTOR, \"[title='검색어를 입력해 주세요.']\").send_keys('트와이스')"
   ]
  },
  {
   "cell_type": "code",
   "execution_count": 40,
   "id": "6fd44954-f0c9-40c3-bf5a-0dd9142a2847",
   "metadata": {},
   "outputs": [],
   "source": [
    "driver.find_element(By.XPATH,\"//*[@id='query']\").send_keys('BTS')"
   ]
  },
  {
   "cell_type": "markdown",
   "id": "fcac223c-64d8-44e8-b1e9-bdd8da0dbceb",
   "metadata": {},
   "source": [
    "## 클릭\n",
    "네이버 쇼핑 메뉴 클릭"
   ]
  },
  {
   "cell_type": "code",
   "execution_count": 46,
   "id": "37a0eb1d-6728-4aa9-a843-778b804b928b",
   "metadata": {},
   "outputs": [
    {
     "data": {
      "text/plain": [
       "<selenium.webdriver.remote.webelement.WebElement (session=\"fde537c25bd55a0a5139c21fa233ffec\", element=\"f.9E83CA162A6264E5719E81F56ACEADD4.d.E927AB760D6B26DD9F52B029EC6A5A12.e.4511\")>"
      ]
     },
     "execution_count": 46,
     "metadata": {},
     "output_type": "execute_result"
    }
   ],
   "source": [
    "driver.find_element(By.LINK_TEXT, '쇼핑')"
   ]
  },
  {
   "cell_type": "code",
   "execution_count": 47,
   "id": "c808b116-2d1f-4ec1-b1f8-7fa581de29f6",
   "metadata": {},
   "outputs": [],
   "source": [
    "driver.find_element(By.LINK_TEXT, '쇼핑').click()"
   ]
  },
  {
   "cell_type": "code",
   "execution_count": 68,
   "id": "83d29465-e60e-4de7-a38c-0bdf9282b377",
   "metadata": {},
   "outputs": [],
   "source": [
    "# 일부 매칭\n",
    "driver.find_element(By.PARTIAL_LINK_TEXT, '증').click()"
   ]
  },
  {
   "cell_type": "code",
   "execution_count": 70,
   "id": "4b49feeb-8d49-42eb-af82-a878b7cad83d",
   "metadata": {},
   "outputs": [
    {
     "data": {
      "text/plain": [
       "<selenium.webdriver.remote.webelement.WebElement (session=\"fde537c25bd55a0a5139c21fa233ffec\", element=\"f.9E83CA162A6264E5719E81F56ACEADD4.d.E927AB760D6B26DD9F52B029EC6A5A12.e.2659\")>"
      ]
     },
     "execution_count": 70,
     "metadata": {},
     "output_type": "execute_result"
    }
   ],
   "source": [
    "# 테그로 찾기\n",
    "# 태그는 너무 많은 요소가 있으므로 정확하게 대상을 찾을 때에는 권장 안함\n",
    "driver.find_element(By.TAG_NAME, 'div')"
   ]
  },
  {
   "cell_type": "code",
   "execution_count": 71,
   "id": "d1794825-219e-4bff-858c-b906d241dfbc",
   "metadata": {
    "collapsed": true,
    "jupyter": {
     "outputs_hidden": true
    }
   },
   "outputs": [
    {
     "data": {
      "text/plain": [
       "[<selenium.webdriver.remote.webelement.WebElement (session=\"fde537c25bd55a0a5139c21fa233ffec\", element=\"f.9E83CA162A6264E5719E81F56ACEADD4.d.E927AB760D6B26DD9F52B029EC6A5A12.e.4490\")>,\n",
       " <selenium.webdriver.remote.webelement.WebElement (session=\"fde537c25bd55a0a5139c21fa233ffec\", element=\"f.9E83CA162A6264E5719E81F56ACEADD4.d.E927AB760D6B26DD9F52B029EC6A5A12.e.4497\")>,\n",
       " <selenium.webdriver.remote.webelement.WebElement (session=\"fde537c25bd55a0a5139c21fa233ffec\", element=\"f.9E83CA162A6264E5719E81F56ACEADD4.d.E927AB760D6B26DD9F52B029EC6A5A12.e.4504\")>,\n",
       " <selenium.webdriver.remote.webelement.WebElement (session=\"fde537c25bd55a0a5139c21fa233ffec\", element=\"f.9E83CA162A6264E5719E81F56ACEADD4.d.E927AB760D6B26DD9F52B029EC6A5A12.e.4511\")>,\n",
       " <selenium.webdriver.remote.webelement.WebElement (session=\"fde537c25bd55a0a5139c21fa233ffec\", element=\"f.9E83CA162A6264E5719E81F56ACEADD4.d.E927AB760D6B26DD9F52B029EC6A5A12.e.4518\")>,\n",
       " <selenium.webdriver.remote.webelement.WebElement (session=\"fde537c25bd55a0a5139c21fa233ffec\", element=\"f.9E83CA162A6264E5719E81F56ACEADD4.d.E927AB760D6B26DD9F52B029EC6A5A12.e.4525\")>,\n",
       " <selenium.webdriver.remote.webelement.WebElement (session=\"fde537c25bd55a0a5139c21fa233ffec\", element=\"f.9E83CA162A6264E5719E81F56ACEADD4.d.E927AB760D6B26DD9F52B029EC6A5A12.e.4532\")>,\n",
       " <selenium.webdriver.remote.webelement.WebElement (session=\"fde537c25bd55a0a5139c21fa233ffec\", element=\"f.9E83CA162A6264E5719E81F56ACEADD4.d.E927AB760D6B26DD9F52B029EC6A5A12.e.4539\")>,\n",
       " <selenium.webdriver.remote.webelement.WebElement (session=\"fde537c25bd55a0a5139c21fa233ffec\", element=\"f.9E83CA162A6264E5719E81F56ACEADD4.d.E927AB760D6B26DD9F52B029EC6A5A12.e.4546\")>,\n",
       " <selenium.webdriver.remote.webelement.WebElement (session=\"fde537c25bd55a0a5139c21fa233ffec\", element=\"f.9E83CA162A6264E5719E81F56ACEADD4.d.E927AB760D6B26DD9F52B029EC6A5A12.e.4554\")>,\n",
       " <selenium.webdriver.remote.webelement.WebElement (session=\"fde537c25bd55a0a5139c21fa233ffec\", element=\"f.9E83CA162A6264E5719E81F56ACEADD4.d.E927AB760D6B26DD9F52B029EC6A5A12.e.4561\")>,\n",
       " <selenium.webdriver.remote.webelement.WebElement (session=\"fde537c25bd55a0a5139c21fa233ffec\", element=\"f.9E83CA162A6264E5719E81F56ACEADD4.d.E927AB760D6B26DD9F52B029EC6A5A12.e.4572\")>]"
      ]
     },
     "execution_count": 71,
     "metadata": {},
     "output_type": "execute_result"
    }
   ],
   "source": [
    "# 여러개의 요소를찾을 때\n",
    "links = driver.find_elements(By.CSS_SELECTOR, '.link_service')\n",
    "links"
   ]
  },
  {
   "cell_type": "code",
   "execution_count": 72,
   "id": "01b49a0c-0f37-403d-954f-6ea7f103b64d",
   "metadata": {},
   "outputs": [
    {
     "data": {
      "text/plain": [
       "'https://mail.naver.com/'"
      ]
     },
     "execution_count": 72,
     "metadata": {},
     "output_type": "execute_result"
    }
   ],
   "source": [
    "links[0].get_attribute('href')"
   ]
  },
  {
   "cell_type": "code",
   "execution_count": 73,
   "id": "c0a45a3e-6846-4748-bc65-cef179659016",
   "metadata": {},
   "outputs": [
    {
     "name": "stdout",
     "output_type": "stream",
     "text": [
      "https://mail.naver.com/\n",
      "https://cafe.naver.com/\n",
      "https://blog.naver.com/\n",
      "https://shopping.naver.com/home\n",
      "https://news.naver.com/\n",
      "https://finance.naver.com/\n",
      "https://land.naver.com/\n",
      "https://map.naver.com/\n",
      "https://comic.naver.com/\n",
      "https://chzzk.naver.com/\n",
      "https://www.naver.com/#\n",
      "https://siape.veta.naver.com/rd?rk=F-Vh0V4XNfEA7DRnODxhIw&eltts=DCLofzx%2FfvetPO%2Byu3l4Ow%3D%3D&elu=5BA297C9C3C09BC2A363AD20A2AF2280AA600BB0F1224856B1E3B0CD8C7D5F6341BB3F4A77A5F39CD5816E901BFB74C92B046500D36C473274A2DF28B9D9C604F0D8675FDAF22A996AAEFDEE92BA1FCD697E5F7ECC82BD74C279AA95D9F31FA9106C54B228F25590EF823CA4768D621930DE9513FAD9CD3EC5D5F708FBFC00BD672814917EBB404BD7010217D009F225AF7505070A0AA54B327F7F0C0D46C726DEDBCAFFDC2B3BB65C7489EDD46C1AAF270F03F2E5A8D0A9C749BD37513D7219082AD3CC8B5945A883E7C9FDFC6304A1E4189EB86CD1BD1B026DB46ABAA89719702D50F41ACD74E32FCD68ADA0F2A9D5697E5F7ECC82BD74C279AA95D9F31FA9106C54B228F25590EF823CA4768D62195D4E4D60BA5FEB9884E942A0484E86C9B5D80057C76CE01F0F7C98BBD635339AB5A51C38321D5D9479E16EBF7FE0A1DBFA7EB36DF32203538E24B04844037F20B81290FDCE51374D2002734547A95160C9ADCF6CB37A8DFB9A56A82B7BB71E2D&tr=ndp\n"
     ]
    }
   ],
   "source": [
    "#list = ['메일', '카페', '블로그', '쇼핑', '뉴스', '증권', '부동산', '지도','웹툰','치지직']\n",
    "for link in links:\n",
    "    print(link.get_attribute('href'))"
   ]
  },
  {
   "cell_type": "markdown",
   "id": "34a4b9b0-9ced-4c55-b89c-683ed21b7c88",
   "metadata": {},
   "source": [
    "## 자동 로그인 연습"
   ]
  },
  {
   "cell_type": "code",
   "execution_count": 110,
   "id": "46d14761-2455-4011-b366-fba244ca4096",
   "metadata": {},
   "outputs": [],
   "source": [
    "url = \"file:///C:/workspace/wassup3/02_Python_Collection/sample/signin.html\"\n",
    "driver = webdriver.Chrome(options=options)\n",
    "driver.get(url)\n",
    "time.sleep(2) "
   ]
  },
  {
   "cell_type": "code",
   "execution_count": 99,
   "id": "17da99cc-6151-48b9-a477-8a2af1596061",
   "metadata": {},
   "outputs": [],
   "source": [
    "username = driver.find_element(By.NAME, 'username')\n",
    "username.send_keys('korea')"
   ]
  },
  {
   "cell_type": "code",
   "execution_count": 100,
   "id": "99198cd2-800f-4870-a666-914e6bb2e576",
   "metadata": {},
   "outputs": [],
   "source": [
    "pwd = driver.find_element(By.NAME, 'password')\n",
    "pwd.send_keys('1234')"
   ]
  },
  {
   "cell_type": "code",
   "execution_count": 80,
   "id": "9572cf35-6db7-4508-8f9b-09cd61074944",
   "metadata": {},
   "outputs": [],
   "source": [
    "login =  driver.find_element(By.XPATH, '//*[@id=\"loginForm\"]/input[3]')\n",
    "login.click()"
   ]
  },
  {
   "cell_type": "code",
   "execution_count": 81,
   "id": "7eda68fc-f402-4464-867c-fc1e5033fccb",
   "metadata": {},
   "outputs": [],
   "source": [
    "driver.back()"
   ]
  },
  {
   "cell_type": "code",
   "execution_count": 82,
   "id": "8021e366-ed34-41d9-bd2c-7781ab8090e1",
   "metadata": {},
   "outputs": [],
   "source": [
    "login =  driver.find_element(By.CSS_SELECTOR, \"#loginForm > input[type=submit]:nth-child(5)\")\n",
    "login.click()"
   ]
  },
  {
   "cell_type": "code",
   "execution_count": 83,
   "id": "abb302fb-b428-4253-89f5-aba6bdbd7a51",
   "metadata": {},
   "outputs": [],
   "source": [
    "driver.back()"
   ]
  },
  {
   "cell_type": "code",
   "execution_count": 84,
   "id": "ec4aec03-5be1-4b20-ab97-058e6162e790",
   "metadata": {},
   "outputs": [],
   "source": [
    "login =  driver.find_element(By.CSS_SELECTOR, \"[value='Login']\")\n",
    "login.click()"
   ]
  },
  {
   "cell_type": "code",
   "execution_count": 85,
   "id": "468d4ac4-0c80-48b5-b730-fba4ca150e4c",
   "metadata": {},
   "outputs": [],
   "source": [
    "driver.back()"
   ]
  },
  {
   "cell_type": "code",
   "execution_count": 101,
   "id": "f451d52d-67c1-4060-b179-7d4843d655e0",
   "metadata": {},
   "outputs": [],
   "source": [
    "username.clear()"
   ]
  },
  {
   "cell_type": "code",
   "execution_count": 102,
   "id": "a48e5979-5577-4efa-9283-abc49e5fbc78",
   "metadata": {},
   "outputs": [],
   "source": [
    "pwd.clear()"
   ]
  },
  {
   "cell_type": "code",
   "execution_count": 103,
   "id": "e611a5be-b5e1-4c28-82f3-7ecaac6c1225",
   "metadata": {},
   "outputs": [],
   "source": [
    "username.submit()"
   ]
  },
  {
   "cell_type": "code",
   "execution_count": 104,
   "id": "1da64d12-927b-405e-a3fa-ce52d89e6f0e",
   "metadata": {},
   "outputs": [],
   "source": [
    "driver.back()"
   ]
  },
  {
   "cell_type": "code",
   "execution_count": 105,
   "id": "546eeb90-d4a7-49d6-b1c4-096141bd366d",
   "metadata": {},
   "outputs": [
    {
     "data": {
      "text/plain": [
       "'Are you sure you want to do this?'"
      ]
     },
     "execution_count": 105,
     "metadata": {},
     "output_type": "execute_result"
    }
   ],
   "source": [
    "driver.find_element(By.TAG_NAME, 'p').text"
   ]
  },
  {
   "cell_type": "code",
   "execution_count": 106,
   "id": "8418b8be-3baa-4c23-98ea-0da55056a991",
   "metadata": {},
   "outputs": [
    {
     "data": {
      "text/plain": [
       "'<html><head></head><body>\\n        <h1> Sign In </h1>\\n        <form action=\"moved.html\" id=\"loginForm\">\\n            ID : <input name=\"username\" type=\"text\"> <br>\\n            Password : <input name=\"password\" type=\"password\"> <br>\\n\\n            <input name=\"continue\" type=\"submit\" value=\"Login\">\\n            <input name=\"continue\" type=\"button\" value=\"Clear\">\\n        \\n        </form>\\n\\n        <p>Are you sure you want to do this?</p>\\n        <a href=\"continue.html\">Continue</a>\\n        <a href=\"cancel.html\">Cancel</a>\\n\\n        <h1>Welcome</h1>\\n        <p>Site content goes here.</p>\\n        <p class=\"content\">Site content goes here.</p>\\n    \\n</body></html>'"
      ]
     },
     "execution_count": 106,
     "metadata": {},
     "output_type": "execute_result"
    }
   ],
   "source": [
    "# html 소스 가져오기\n",
    "driver.page_source"
   ]
  },
  {
   "cell_type": "code",
   "execution_count": 111,
   "id": "2cd18c22-097c-476b-bea3-5712a1853955",
   "metadata": {},
   "outputs": [],
   "source": [
    "driver.close()"
   ]
  }
 ],
 "metadata": {
  "kernelspec": {
   "display_name": "Python 3 (ipykernel)",
   "language": "python",
   "name": "python3"
  },
  "language_info": {
   "codemirror_mode": {
    "name": "ipython",
    "version": 3
   },
   "file_extension": ".py",
   "mimetype": "text/x-python",
   "name": "python",
   "nbconvert_exporter": "python",
   "pygments_lexer": "ipython3",
   "version": "3.11.7"
  }
 },
 "nbformat": 4,
 "nbformat_minor": 5
}
