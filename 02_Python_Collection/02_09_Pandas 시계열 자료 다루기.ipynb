{
 "cells": [
  {
   "cell_type": "markdown",
   "metadata": {
    "school_cell_uuid": "7d54ee7f802c45cfb71ada449384a607"
   },
   "source": [
    "# 4.8 시계열 자료 다루기"
   ]
  },
  {
   "cell_type": "markdown",
   "metadata": {},
   "source": [
    "```{margin}\n",
    "`DatetimeIndex`\n",
    "```"
   ]
  },
  {
   "cell_type": "code",
   "execution_count": 1,
   "metadata": {
    "ExecuteTime": {
     "end_time": "2023-11-21T14:10:54.300967Z",
     "start_time": "2023-11-21T14:10:54.297845Z"
    }
   },
   "outputs": [],
   "source": [
    "from datetime import datetime"
   ]
  },
  {
   "cell_type": "code",
   "execution_count": 2,
   "metadata": {
    "ExecuteTime": {
     "end_time": "2023-11-21T14:10:54.600447Z",
     "start_time": "2023-11-21T14:10:54.593134Z"
    }
   },
   "outputs": [
    {
     "data": {
      "text/plain": [
       "datetime.datetime(2023, 12, 22, 15, 30, 45)"
      ]
     },
     "execution_count": 2,
     "metadata": {},
     "output_type": "execute_result"
    }
   ],
   "source": [
    "dt = datetime(2023, 12, 22, 15, 30, 45)\n",
    "dt"
   ]
  },
  {
   "cell_type": "code",
   "execution_count": 3,
   "metadata": {
    "ExecuteTime": {
     "end_time": "2023-11-21T14:10:54.916880Z",
     "start_time": "2023-11-21T14:10:54.913255Z"
    }
   },
   "outputs": [
    {
     "name": "stdout",
     "output_type": "stream",
     "text": [
      "2023 12 22 15 30 45\n"
     ]
    }
   ],
   "source": [
    "print(dt.year, dt.month, dt.day, dt.hour, dt.minute, dt.second)"
   ]
  },
  {
   "cell_type": "code",
   "execution_count": 4,
   "metadata": {
    "ExecuteTime": {
     "end_time": "2023-11-21T14:10:55.246734Z",
     "start_time": "2023-11-21T14:10:55.242246Z"
    }
   },
   "outputs": [
    {
     "data": {
      "text/plain": [
       "datetime.datetime(2024, 7, 3, 16, 35, 43, 803074)"
      ]
     },
     "execution_count": 4,
     "metadata": {},
     "output_type": "execute_result"
    }
   ],
   "source": [
    "cur = datetime.now()\n",
    "cur"
   ]
  },
  {
   "cell_type": "markdown",
   "metadata": {},
   "source": [
    "## `DatetimeIndex` 인덱스"
   ]
  },
  {
   "cell_type": "markdown",
   "metadata": {
    "school_cell_uuid": "c4ff6bd707744fd5bab97a0a48aa0e56"
   },
   "source": [
    "시계열 자료는 인덱스가 날짜 혹은 시간인 데이터를 말한다.   \n",
    "판다스에서 시계열 자료를 생성하려면 인덱스를 `DatetimeIndex` 자료형으로 만들어야 한다.   \n",
    "`DatetimeIndex`는 특정한 순간에 기록된 타임스탬프(timestamp) 형식의 시계열 자료를 다루기 위한 인덱스이다.   \n",
    "타임스탬프 인덱스의 라벨값이 반드시 일정한 간격일 필요는 없다."
   ]
  },
  {
   "cell_type": "markdown",
   "metadata": {
    "school_cell_uuid": "ce5fee80fb074e519168a13a7c159f09"
   },
   "source": [
    "`DatetimeIndex` 인덱스는 다음과 같은 보조 함수를 사용하여 생성한다.\n",
    "\n",
    "* `pd.to_datetime` 함수\n",
    "* `pd.date_range` 함수"
   ]
  },
  {
   "cell_type": "markdown",
   "metadata": {},
   "source": [
    "```{margin}\n",
    "to_datetime\n",
    "```"
   ]
  },
  {
   "cell_type": "markdown",
   "metadata": {
    "school_cell_uuid": "a4111d07ea994b7182d2010b1019281c"
   },
   "source": [
    "`pd.to_datetime` 함수를 쓰면 날짜/시간을 나타내는 문자열을 자동으로 datetime 자료형으로 바꾼 후 `DatetimeIndex` 자료형 인덱스를 생성한다.\n",
    "https://docs.python.org/3/library/datetime.html#strftime-and-strptime-behavior"
   ]
  },
  {
   "cell_type": "code",
   "execution_count": 5,
   "metadata": {
    "ExecuteTime": {
     "end_time": "2023-11-21T14:12:38.251715Z",
     "start_time": "2023-11-21T14:12:38.249303Z"
    }
   },
   "outputs": [],
   "source": [
    "import pandas as pd"
   ]
  },
  {
   "cell_type": "code",
   "execution_count": 6,
   "metadata": {
    "ExecuteTime": {
     "end_time": "2023-11-21T14:12:38.631724Z",
     "start_time": "2023-11-21T14:12:38.625790Z"
    },
    "school_cell_uuid": "37627593f6d94bbca2c637eb1df845f1"
   },
   "outputs": [
    {
     "name": "stdout",
     "output_type": "stream",
     "text": [
      "<class 'str'>\n"
     ]
    },
    {
     "data": {
      "text/plain": [
       "DatetimeIndex(['2023-01-01', '2023-01-04', '2023-01-05', '2023-01-06'], dtype='datetime64[ns]', freq=None)"
      ]
     },
     "execution_count": 6,
     "metadata": {},
     "output_type": "execute_result"
    }
   ],
   "source": [
    "# format 생략해도 자동으로 잡히긴하지만 포맷을 지정하는게 좋음\n",
    "date_str = [\"2023, 1, 1\", \"2023, 1, 4\", \"2023, 1, 5\", \"2023, 1, 6\"]\n",
    "print(type(date_str[0]))\n",
    "idx = pd.to_datetime(date_str) \n",
    "idx"
   ]
  },
  {
   "cell_type": "markdown",
   "metadata": {
    "school_cell_uuid": "05d388a37b0343cab334b7dbf7fa9d95"
   },
   "source": [
    "이렇게 만들어진 인덱스를 사용하여 시리즈나 데이터프레임을 생성하면 된다."
   ]
  },
  {
   "cell_type": "code",
   "execution_count": 7,
   "metadata": {},
   "outputs": [],
   "source": [
    "import numpy as np"
   ]
  },
  {
   "cell_type": "code",
   "execution_count": 8,
   "metadata": {
    "ExecuteTime": {
     "end_time": "2023-11-21T14:11:21.696896Z",
     "start_time": "2023-11-21T14:11:21.689407Z"
    },
    "school_cell_uuid": "71e4a6adeafa4c199115489911fa9e98"
   },
   "outputs": [
    {
     "data": {
      "text/plain": [
       "2023-01-01    1.764052\n",
       "2023-01-04    0.400157\n",
       "2023-01-05    0.978738\n",
       "2023-01-06    2.240893\n",
       "dtype: float64"
      ]
     },
     "execution_count": 8,
     "metadata": {},
     "output_type": "execute_result"
    }
   ],
   "source": [
    "np.random.seed(0)\n",
    "s = pd.Series(np.random.randn(4), index=idx)\n",
    "s"
   ]
  },
  {
   "cell_type": "code",
   "execution_count": 9,
   "metadata": {
    "ExecuteTime": {
     "end_time": "2023-11-21T14:11:33.544546Z",
     "start_time": "2023-11-21T14:11:33.537566Z"
    }
   },
   "outputs": [
    {
     "name": "stdout",
     "output_type": "stream",
     "text": [
      "<class 'pandas.core.series.Series'>\n",
      "DatetimeIndex: 4 entries, 2023-01-01 to 2023-01-06\n",
      "Series name: None\n",
      "Non-Null Count  Dtype  \n",
      "--------------  -----  \n",
      "4 non-null      float64\n",
      "dtypes: float64(1)\n",
      "memory usage: 64.0 bytes\n"
     ]
    }
   ],
   "source": [
    "s.info()"
   ]
  },
  {
   "cell_type": "code",
   "execution_count": 10,
   "metadata": {
    "ExecuteTime": {
     "end_time": "2023-11-21T14:13:51.604373Z",
     "start_time": "2023-11-21T14:13:51.601391Z"
    }
   },
   "outputs": [],
   "source": [
    "data ={'2023년11월19일':[10,20,30],\n",
    "       '2023년11월20일':[40,50,60],\n",
    "       '2023년11월21일':[70,80,90],\n",
    "       '2023년11월22일':[100,120,130]}"
   ]
  },
  {
   "cell_type": "code",
   "execution_count": 11,
   "metadata": {
    "ExecuteTime": {
     "end_time": "2023-11-21T14:13:54.187458Z",
     "start_time": "2023-11-21T14:13:54.177076Z"
    }
   },
   "outputs": [
    {
     "data": {
      "text/html": [
       "<div>\n",
       "<style scoped>\n",
       "    .dataframe tbody tr th:only-of-type {\n",
       "        vertical-align: middle;\n",
       "    }\n",
       "\n",
       "    .dataframe tbody tr th {\n",
       "        vertical-align: top;\n",
       "    }\n",
       "\n",
       "    .dataframe thead th {\n",
       "        text-align: right;\n",
       "    }\n",
       "</style>\n",
       "<table border=\"1\" class=\"dataframe\">\n",
       "  <thead>\n",
       "    <tr style=\"text-align: right;\">\n",
       "      <th></th>\n",
       "      <th>2023년11월19일</th>\n",
       "      <th>2023년11월20일</th>\n",
       "      <th>2023년11월21일</th>\n",
       "      <th>2023년11월22일</th>\n",
       "    </tr>\n",
       "  </thead>\n",
       "  <tbody>\n",
       "    <tr>\n",
       "      <th>0</th>\n",
       "      <td>10</td>\n",
       "      <td>40</td>\n",
       "      <td>70</td>\n",
       "      <td>100</td>\n",
       "    </tr>\n",
       "    <tr>\n",
       "      <th>1</th>\n",
       "      <td>20</td>\n",
       "      <td>50</td>\n",
       "      <td>80</td>\n",
       "      <td>120</td>\n",
       "    </tr>\n",
       "    <tr>\n",
       "      <th>2</th>\n",
       "      <td>30</td>\n",
       "      <td>60</td>\n",
       "      <td>90</td>\n",
       "      <td>130</td>\n",
       "    </tr>\n",
       "  </tbody>\n",
       "</table>\n",
       "</div>"
      ],
      "text/plain": [
       "   2023년11월19일  2023년11월20일  2023년11월21일  2023년11월22일\n",
       "0           10           40           70          100\n",
       "1           20           50           80          120\n",
       "2           30           60           90          130"
      ]
     },
     "execution_count": 11,
     "metadata": {},
     "output_type": "execute_result"
    }
   ],
   "source": [
    "df = pd.DataFrame(data)\n",
    "df "
   ]
  },
  {
   "cell_type": "code",
   "execution_count": 12,
   "metadata": {
    "ExecuteTime": {
     "end_time": "2023-11-21T14:13:58.160032Z",
     "start_time": "2023-11-21T14:13:58.153286Z"
    }
   },
   "outputs": [
    {
     "data": {
      "text/html": [
       "<div>\n",
       "<style scoped>\n",
       "    .dataframe tbody tr th:only-of-type {\n",
       "        vertical-align: middle;\n",
       "    }\n",
       "\n",
       "    .dataframe tbody tr th {\n",
       "        vertical-align: top;\n",
       "    }\n",
       "\n",
       "    .dataframe thead th {\n",
       "        text-align: right;\n",
       "    }\n",
       "</style>\n",
       "<table border=\"1\" class=\"dataframe\">\n",
       "  <thead>\n",
       "    <tr style=\"text-align: right;\">\n",
       "      <th></th>\n",
       "      <th>0</th>\n",
       "      <th>1</th>\n",
       "      <th>2</th>\n",
       "    </tr>\n",
       "  </thead>\n",
       "  <tbody>\n",
       "    <tr>\n",
       "      <th>2023년11월19일</th>\n",
       "      <td>10</td>\n",
       "      <td>20</td>\n",
       "      <td>30</td>\n",
       "    </tr>\n",
       "    <tr>\n",
       "      <th>2023년11월20일</th>\n",
       "      <td>40</td>\n",
       "      <td>50</td>\n",
       "      <td>60</td>\n",
       "    </tr>\n",
       "    <tr>\n",
       "      <th>2023년11월21일</th>\n",
       "      <td>70</td>\n",
       "      <td>80</td>\n",
       "      <td>90</td>\n",
       "    </tr>\n",
       "    <tr>\n",
       "      <th>2023년11월22일</th>\n",
       "      <td>100</td>\n",
       "      <td>120</td>\n",
       "      <td>130</td>\n",
       "    </tr>\n",
       "  </tbody>\n",
       "</table>\n",
       "</div>"
      ],
      "text/plain": [
       "               0    1    2\n",
       "2023년11월19일   10   20   30\n",
       "2023년11월20일   40   50   60\n",
       "2023년11월21일   70   80   90\n",
       "2023년11월22일  100  120  130"
      ]
     },
     "execution_count": 12,
     "metadata": {},
     "output_type": "execute_result"
    }
   ],
   "source": [
    "df = df.T\n",
    "df"
   ]
  },
  {
   "cell_type": "code",
   "execution_count": 13,
   "metadata": {
    "ExecuteTime": {
     "end_time": "2023-11-21T14:14:03.965416Z",
     "start_time": "2023-11-21T14:14:03.960940Z"
    }
   },
   "outputs": [
    {
     "data": {
      "text/plain": [
       "(Index(['2023년11월19일', '2023년11월20일', '2023년11월21일', '2023년11월22일'], dtype='object'),\n",
       " str)"
      ]
     },
     "execution_count": 13,
     "metadata": {},
     "output_type": "execute_result"
    }
   ],
   "source": [
    "# object형은 시계열 데이터 아님\n",
    "df.index, type(df.index[0])"
   ]
  },
  {
   "cell_type": "code",
   "execution_count": 44,
   "metadata": {
    "ExecuteTime": {
     "end_time": "2023-11-21T14:15:31.015435Z",
     "start_time": "2023-11-21T14:15:31.009206Z"
    }
   },
   "outputs": [
    {
     "data": {
      "text/plain": [
       "DatetimeIndex(['2023-11-19', '2023-11-20', '2023-11-21', '2023-11-22'], dtype='datetime64[ns]', freq=None)"
      ]
     },
     "execution_count": 44,
     "metadata": {},
     "output_type": "execute_result"
    }
   ],
   "source": [
    "# 인덱스만 date타입으로 변경 \n",
    "df.index  = pd.to_datetime(df.index, format='%Y년%m월%d일')\n",
    "#df.index  = pd.to_datetime(df.index, format='mixed') # 가능하긴 한데 권장안함\n",
    "df.index"
   ]
  },
  {
   "cell_type": "markdown",
   "metadata": {},
   "source": [
    "```{margin}\n",
    "date_range\n",
    "```"
   ]
  },
  {
   "cell_type": "markdown",
   "metadata": {
    "school_cell_uuid": "fd052091c90d4e31be6feca8cceaa90c"
   },
   "source": [
    "`pd.date_range` 함수를 쓰면 모든 날짜/시간을 일일히 입력할 필요없이 시작일과 종료일 또는 시작일과 기간을 입력하면 범위 내의 인덱스를 생성해 준다."
   ]
  },
  {
   "cell_type": "code",
   "execution_count": 45,
   "metadata": {
    "ExecuteTime": {
     "end_time": "2023-11-21T14:11:43.614561Z",
     "start_time": "2023-11-21T14:11:43.608577Z"
    },
    "school_cell_uuid": "f9597a1a250140da93f1c16a006dc132"
   },
   "outputs": [
    {
     "data": {
      "text/plain": [
       "DatetimeIndex(['2023-11-01', '2023-11-02', '2023-11-03', '2023-11-04',\n",
       "               '2023-11-05', '2023-11-06', '2023-11-07', '2023-11-08',\n",
       "               '2023-11-09', '2023-11-10', '2023-11-11', '2023-11-12',\n",
       "               '2023-11-13', '2023-11-14', '2023-11-15', '2023-11-16',\n",
       "               '2023-11-17', '2023-11-18', '2023-11-19', '2023-11-20',\n",
       "               '2023-11-21', '2023-11-22', '2023-11-23', '2023-11-24',\n",
       "               '2023-11-25', '2023-11-26', '2023-11-27', '2023-11-28',\n",
       "               '2023-11-29', '2023-11-30'],\n",
       "              dtype='datetime64[ns]', freq='D')"
      ]
     },
     "execution_count": 45,
     "metadata": {},
     "output_type": "execute_result"
    }
   ],
   "source": [
    "pd.date_range(\"2023-11-1\", \"2023-11-30\")"
   ]
  },
  {
   "cell_type": "code",
   "execution_count": 46,
   "metadata": {
    "ExecuteTime": {
     "end_time": "2023-11-21T14:12:01.693706Z",
     "start_time": "2023-11-21T14:12:01.688719Z"
    },
    "school_cell_uuid": "476cee21be454c8b9503c06de4a4adf3"
   },
   "outputs": [
    {
     "data": {
      "text/plain": [
       "DatetimeIndex(['2023-11-01', '2023-11-02', '2023-11-03', '2023-11-04',\n",
       "               '2023-11-05', '2023-11-06', '2023-11-07', '2023-11-08',\n",
       "               '2023-11-09', '2023-11-10', '2023-11-11', '2023-11-12',\n",
       "               '2023-11-13', '2023-11-14', '2023-11-15', '2023-11-16',\n",
       "               '2023-11-17', '2023-11-18', '2023-11-19', '2023-11-20',\n",
       "               '2023-11-21', '2023-11-22', '2023-11-23', '2023-11-24',\n",
       "               '2023-11-25', '2023-11-26', '2023-11-27', '2023-11-28',\n",
       "               '2023-11-29', '2023-11-30', '2023-12-01', '2023-12-02',\n",
       "               '2023-12-03', '2023-12-04', '2023-12-05', '2023-12-06',\n",
       "               '2023-12-07', '2023-12-08', '2023-12-09', '2023-12-10'],\n",
       "              dtype='datetime64[ns]', freq='D')"
      ]
     },
     "execution_count": 46,
     "metadata": {},
     "output_type": "execute_result"
    }
   ],
   "source": [
    "pd.date_range(start=\"2023-11-1\", periods=40)"
   ]
  },
  {
   "cell_type": "markdown",
   "metadata": {
    "school_cell_uuid": "3bad3aff349649b083b4867843705dd0"
   },
   "source": [
    "`freq` 인수로 특정한 날짜만 생성되도록 할 수도 있다. 많이 사용되는 `freq` 인수값은 다음과 같다.\n",
    "\n",
    "* `s`: 초\n",
    "* `T`: 분\n",
    "* `H`: 시간\n",
    "* `D`: 일(day)\n",
    "* `B`: 주말이 아닌 평일\n",
    "* `W`: 주(일요일)\n",
    "* `W-MON`: 주(월요일)\n",
    "* `M`: 각 달(month)의 마지막 날\n",
    "* `MS`: 각 달의 첫날\n",
    "* `BM`: 주말이 아닌 평일 중에서 각 달의 마지막 날\n",
    "* `BMS`: 주말이 아닌 평일 중에서 각 달의 첫날\n",
    "* `WOM-2THU`: 각 달의 두번째 목요일\n",
    "* `Q-JAN`: 각 분기의 첫달의 마지막 날\n",
    "* `Q-DEC`: 각 분기의 마지막 달의 마지막 날\n",
    "\n",
    "보다 자세한 내용은 다음 웹사이트를 참조한다.\n",
    "\n",
    "* [https://pandas.pydata.org/pandas-docs/stable/user_guide/timeseries.html#dateoffset-objects](https://pandas.pydata.org/pandas-docs/stable/user_guide/timeseries.html#dateoffset-objects)"
   ]
  },
  {
   "cell_type": "code",
   "execution_count": 17,
   "metadata": {
    "ExecuteTime": {
     "end_time": "2023-11-21T14:12:15.448619Z",
     "start_time": "2023-11-21T14:12:15.441007Z"
    },
    "school_cell_uuid": "6608d599e5924ed5a87525d8eca61478"
   },
   "outputs": [
    {
     "data": {
      "text/plain": [
       "DatetimeIndex(['2023-12-01', '2023-12-04', '2023-12-05', '2023-12-06',\n",
       "               '2023-12-07', '2023-12-08', '2023-12-11', '2023-12-12',\n",
       "               '2023-12-13', '2023-12-14', '2023-12-15', '2023-12-18',\n",
       "               '2023-12-19', '2023-12-20', '2023-12-21', '2023-12-22',\n",
       "               '2023-12-25', '2023-12-26', '2023-12-27', '2023-12-28',\n",
       "               '2023-12-29'],\n",
       "              dtype='datetime64[ns]', freq='B')"
      ]
     },
     "execution_count": 17,
     "metadata": {},
     "output_type": "execute_result"
    }
   ],
   "source": [
    "pd.date_range(\"2023-12-1\", \"2023-12-30\", freq=\"B\")"
   ]
  },
  {
   "cell_type": "code",
   "execution_count": 18,
   "metadata": {
    "ExecuteTime": {
     "end_time": "2023-11-06T08:42:09.666532Z",
     "start_time": "2023-11-06T08:42:09.659551Z"
    },
    "school_cell_uuid": "6cd6c97dc5054162abf7e9f9a3a3093e"
   },
   "outputs": [
    {
     "data": {
      "text/plain": [
       "DatetimeIndex(['2023-12-03', '2023-12-10', '2023-12-17', '2023-12-24'], dtype='datetime64[ns]', freq='W-SUN')"
      ]
     },
     "execution_count": 18,
     "metadata": {},
     "output_type": "execute_result"
    }
   ],
   "source": [
    "pd.date_range(\"2023-12-1\", \"2023-12-30\", freq=\"W\")"
   ]
  },
  {
   "cell_type": "code",
   "execution_count": 19,
   "metadata": {
    "ExecuteTime": {
     "end_time": "2023-11-06T08:42:11.968587Z",
     "start_time": "2023-11-06T08:42:11.962829Z"
    },
    "school_cell_uuid": "6cd6c97dc5054162abf7e9f9a3a3093e"
   },
   "outputs": [
    {
     "data": {
      "text/plain": [
       "DatetimeIndex(['2023-12-04', '2023-12-11', '2023-12-18', '2023-12-25'], dtype='datetime64[ns]', freq='W-MON')"
      ]
     },
     "execution_count": 19,
     "metadata": {},
     "output_type": "execute_result"
    }
   ],
   "source": [
    "pd.date_range(\"2023-12-1\", \"2023-12-30\", freq=\"W-MON\")"
   ]
  },
  {
   "cell_type": "code",
   "execution_count": 20,
   "metadata": {
    "ExecuteTime": {
     "end_time": "2023-11-06T08:42:12.300357Z",
     "start_time": "2023-11-06T08:42:12.289943Z"
    },
    "school_cell_uuid": "303d33432bd64ad58b63fc397dd271f5"
   },
   "outputs": [
    {
     "data": {
      "text/plain": [
       "DatetimeIndex(['2023-11-01'], dtype='datetime64[ns]', freq='MS')"
      ]
     },
     "execution_count": 20,
     "metadata": {},
     "output_type": "execute_result"
    }
   ],
   "source": [
    "pd.date_range(\"2023-11-1\", \"2023-11-30\", freq=\"MS\")"
   ]
  },
  {
   "cell_type": "code",
   "execution_count": 21,
   "metadata": {
    "ExecuteTime": {
     "end_time": "2023-11-06T08:42:12.536722Z",
     "start_time": "2023-11-06T08:42:12.524754Z"
    },
    "school_cell_uuid": "9e558fec73084d179fa1d643395d2a85"
   },
   "outputs": [
    {
     "data": {
      "text/plain": [
       "DatetimeIndex(['2023-11-30'], dtype='datetime64[ns]', freq='M')"
      ]
     },
     "execution_count": 21,
     "metadata": {},
     "output_type": "execute_result"
    }
   ],
   "source": [
    "pd.date_range(\"2023-11-1\", \"2023-11-30\", freq=\"M\")"
   ]
  },
  {
   "cell_type": "code",
   "execution_count": 22,
   "metadata": {
    "ExecuteTime": {
     "end_time": "2023-11-06T08:42:12.755354Z",
     "start_time": "2023-11-06T08:42:12.744870Z"
    },
    "school_cell_uuid": "c4952b28e6b34afda26867c79a8a0aa6"
   },
   "outputs": [
    {
     "data": {
      "text/plain": [
       "DatetimeIndex(['2023-11-01'], dtype='datetime64[ns]', freq='BMS')"
      ]
     },
     "execution_count": 22,
     "metadata": {},
     "output_type": "execute_result"
    }
   ],
   "source": [
    "pd.date_range(\"2023-11-1\", \"2023-11-30\", freq=\"BMS\")"
   ]
  },
  {
   "cell_type": "code",
   "execution_count": 23,
   "metadata": {
    "ExecuteTime": {
     "end_time": "2023-11-06T08:42:12.997694Z",
     "start_time": "2023-11-06T08:42:12.988612Z"
    },
    "school_cell_uuid": "6b151f915de047bca5a6488a512d7d1c"
   },
   "outputs": [
    {
     "data": {
      "text/plain": [
       "DatetimeIndex(['2023-11-30'], dtype='datetime64[ns]', freq='BM')"
      ]
     },
     "execution_count": 23,
     "metadata": {},
     "output_type": "execute_result"
    }
   ],
   "source": [
    "pd.date_range(\"2023-11-1\", \"2023-11-30\", freq=\"BM\")"
   ]
  },
  {
   "cell_type": "code",
   "execution_count": 24,
   "metadata": {
    "ExecuteTime": {
     "end_time": "2023-11-06T08:42:13.597317Z",
     "start_time": "2023-11-06T08:42:13.588337Z"
    },
    "school_cell_uuid": "af918cf8514a47cfbfdda1663c544cec"
   },
   "outputs": [
    {
     "data": {
      "text/plain": [
       "DatetimeIndex(['2023-11-09'], dtype='datetime64[ns]', freq='WOM-2THU')"
      ]
     },
     "execution_count": 24,
     "metadata": {},
     "output_type": "execute_result"
    }
   ],
   "source": [
    "pd.date_range(\"2023-11-1\", \"2023-11-30\", freq=\"WOM-2THU\")"
   ]
  },
  {
   "cell_type": "code",
   "execution_count": 25,
   "metadata": {
    "ExecuteTime": {
     "end_time": "2023-11-06T08:42:13.881804Z",
     "start_time": "2023-11-06T08:42:13.873455Z"
    },
    "school_cell_uuid": "c726f07103874171bedce2e22533f7a9"
   },
   "outputs": [
    {
     "data": {
      "text/plain": [
       "DatetimeIndex(['2023-01-31', '2023-04-30', '2023-07-31', '2023-10-31'], dtype='datetime64[ns]', freq='Q-JAN')"
      ]
     },
     "execution_count": 25,
     "metadata": {},
     "output_type": "execute_result"
    }
   ],
   "source": [
    "pd.date_range(\"2023-01-1\", \"2023-11-30\", freq=\"Q-JAN\")"
   ]
  },
  {
   "cell_type": "code",
   "execution_count": 26,
   "metadata": {
    "ExecuteTime": {
     "end_time": "2023-11-06T08:42:14.192968Z",
     "start_time": "2023-11-06T08:42:14.184372Z"
    },
    "school_cell_uuid": "c726f07103874171bedce2e22533f7a9"
   },
   "outputs": [
    {
     "data": {
      "text/plain": [
       "DatetimeIndex(['2023-03-31', '2023-06-30', '2023-09-30'], dtype='datetime64[ns]', freq='Q-DEC')"
      ]
     },
     "execution_count": 26,
     "metadata": {},
     "output_type": "execute_result"
    }
   ],
   "source": [
    "pd.date_range(\"2023-01-1\", \"2023-11-30\", freq=\"Q-DEC\")"
   ]
  },
  {
   "cell_type": "markdown",
   "metadata": {
    "school_cell_uuid": "6c52ae3d5ccb4f9ea14aa8673c287d85"
   },
   "source": [
    "## `shift` 연산"
   ]
  },
  {
   "cell_type": "markdown",
   "metadata": {
    "school_cell_uuid": "ed3a5e938ba64f5484ea726069fa8e97"
   },
   "source": [
    "시계열 데이터의 인덱스는 시간이나 날짜를 나타내기 때문에 날짜 이동 등의 다양한 연산이 가능하다.   \n",
    "예를 들어 `shift` 연산을 사용하면 인덱스는 그대로 두고 데이터만 이동할 수도 있다."
   ]
  },
  {
   "cell_type": "code",
   "execution_count": 27,
   "metadata": {
    "ExecuteTime": {
     "end_time": "2023-11-06T08:42:53.791120Z",
     "start_time": "2023-11-06T08:42:53.777869Z"
    },
    "school_cell_uuid": "7c4b915c88ee4be28a67786ceb1ff69e"
   },
   "outputs": [
    {
     "data": {
      "text/plain": [
       "2018-01-31    1.764052\n",
       "2018-02-28    0.400157\n",
       "2018-03-31    0.978738\n",
       "2018-04-30    2.240893\n",
       "Freq: M, dtype: float64"
      ]
     },
     "execution_count": 27,
     "metadata": {},
     "output_type": "execute_result"
    }
   ],
   "source": [
    "np.random.seed(0)\n",
    "ts = pd.Series(np.random.randn(4), index=pd.date_range(\n",
    "    \"2018-1-1\", periods=4, freq=\"M\"))\n",
    "ts"
   ]
  },
  {
   "cell_type": "code",
   "execution_count": 28,
   "metadata": {
    "ExecuteTime": {
     "end_time": "2023-11-06T08:42:55.684146Z",
     "start_time": "2023-11-06T08:42:55.675726Z"
    },
    "school_cell_uuid": "6bce1f04b30f495f8e90b11739a7f921"
   },
   "outputs": [
    {
     "data": {
      "text/plain": [
       "2018-01-31         NaN\n",
       "2018-02-28    1.764052\n",
       "2018-03-31    0.400157\n",
       "2018-04-30    0.978738\n",
       "Freq: M, dtype: float64"
      ]
     },
     "execution_count": 28,
     "metadata": {},
     "output_type": "execute_result"
    }
   ],
   "source": [
    "ts.shift(1)"
   ]
  },
  {
   "cell_type": "code",
   "execution_count": 29,
   "metadata": {
    "ExecuteTime": {
     "end_time": "2023-11-06T08:43:01.203397Z",
     "start_time": "2023-11-06T08:43:01.188472Z"
    },
    "school_cell_uuid": "9bf7c19b851a44df95d38a9e5180baa5"
   },
   "outputs": [
    {
     "data": {
      "text/plain": [
       "2018-01-31    0.400157\n",
       "2018-02-28    0.978738\n",
       "2018-03-31    2.240893\n",
       "2018-04-30         NaN\n",
       "Freq: M, dtype: float64"
      ]
     },
     "execution_count": 29,
     "metadata": {},
     "output_type": "execute_result"
    }
   ],
   "source": [
    "ts.shift(-1)"
   ]
  },
  {
   "cell_type": "code",
   "execution_count": 30,
   "metadata": {
    "ExecuteTime": {
     "end_time": "2023-11-06T08:43:30.322725Z",
     "start_time": "2023-11-06T08:43:30.312461Z"
    },
    "school_cell_uuid": "bf53db50efff4a0b9ff686300dc6a1c4"
   },
   "outputs": [
    {
     "data": {
      "text/plain": [
       "2018-02-28    1.764052\n",
       "2018-03-31    0.400157\n",
       "2018-04-30    0.978738\n",
       "2018-05-31    2.240893\n",
       "Freq: M, dtype: float64"
      ]
     },
     "execution_count": 30,
     "metadata": {},
     "output_type": "execute_result"
    }
   ],
   "source": [
    "ts.shift(1, freq=\"M\")"
   ]
  },
  {
   "cell_type": "code",
   "execution_count": 31,
   "metadata": {
    "ExecuteTime": {
     "end_time": "2023-11-06T08:43:35.628608Z",
     "start_time": "2023-11-06T08:43:35.616658Z"
    }
   },
   "outputs": [
    {
     "data": {
      "text/plain": [
       "2018-02-04    1.764052\n",
       "2018-03-04    0.400157\n",
       "2018-04-01    0.978738\n",
       "2018-05-06    2.240893\n",
       "dtype: float64"
      ]
     },
     "execution_count": 31,
     "metadata": {},
     "output_type": "execute_result"
    }
   ],
   "source": [
    "ts.shift(1, freq=\"W\")"
   ]
  },
  {
   "cell_type": "markdown",
   "metadata": {
    "school_cell_uuid": "770673825a1a40d0b6741808a628edfa"
   },
   "source": [
    "## `resample` 연산"
   ]
  },
  {
   "cell_type": "markdown",
   "metadata": {
    "school_cell_uuid": "1c1b825db0d3484e8f778e5bb2496d10"
   },
   "source": [
    "`resample` 연산을 쓰면 시간 간격을 재조정하는 리샘플링(resampling)이 가능하다.    \n",
    "이 때 시간 구간이 작아지면 데이터 양이 증가한다고 해서 업-샘플링(up-sampling)이라 하고    \n",
    "시간 구간이 커지면 데이터 양이 감소한다고 해서 다운-샘플링(down-sampling)이라 부른다."
   ]
  },
  {
   "cell_type": "code",
   "execution_count": 32,
   "metadata": {
    "ExecuteTime": {
     "end_time": "2023-11-06T08:43:57.693211Z",
     "start_time": "2023-11-06T08:43:57.684229Z"
    },
    "school_cell_uuid": "c0ce7a3b53954f87abbbe4dbd23ffbd2"
   },
   "outputs": [
    {
     "data": {
      "text/plain": [
       "2018-03-22    1.488252\n",
       "2018-03-23    1.895889\n",
       "2018-03-24    1.178780\n",
       "2018-03-25   -0.179925\n",
       "2018-03-26   -1.070753\n",
       "2018-03-27    1.054452\n",
       "2018-03-28   -0.403177\n",
       "2018-03-29    1.222445\n",
       "2018-03-30    0.208275\n",
       "2018-03-31    0.976639\n",
       "2018-04-01    0.356366\n",
       "2018-04-02    0.706573\n",
       "2018-04-03    0.010500\n",
       "2018-04-04    1.785870\n",
       "2018-04-05    0.126912\n",
       "2018-04-06    0.401989\n",
       "2018-04-07    1.883151\n",
       "2018-04-08   -1.347759\n",
       "2018-04-09   -1.270485\n",
       "2018-04-10    0.969397\n",
       "Freq: D, dtype: float64"
      ]
     },
     "execution_count": 32,
     "metadata": {},
     "output_type": "execute_result"
    }
   ],
   "source": [
    "ts = pd.Series(np.random.randn(100), index=pd.date_range(\"2018-1-1\", periods=100, freq=\"D\"))\n",
    "ts.tail(20)"
   ]
  },
  {
   "cell_type": "markdown",
   "metadata": {
    "school_cell_uuid": "76ed6719f0974c1b9c0380feb5bec180"
   },
   "source": [
    "다운-샘플링의 경우에는 원래의 데이터가 그룹으로 묶이기 때문에 그룹바이(groupby)때와 같이 그룹 연산을 해서 대표값을 구해야 한다."
   ]
  },
  {
   "cell_type": "code",
   "execution_count": 33,
   "metadata": {},
   "outputs": [
    {
     "data": {
      "text/plain": [
       "<pandas.core.resample.DatetimeIndexResampler object at 0x0000020C17962ED0>"
      ]
     },
     "execution_count": 33,
     "metadata": {},
     "output_type": "execute_result"
    }
   ],
   "source": [
    "ts.resample('W')"
   ]
  },
  {
   "cell_type": "code",
   "execution_count": 34,
   "metadata": {
    "ExecuteTime": {
     "end_time": "2023-11-06T08:44:09.283114Z",
     "start_time": "2023-11-06T08:44:09.266282Z"
    },
    "school_cell_uuid": "293752ebf54641fc831846a7ead19096"
   },
   "outputs": [
    {
     "data": {
      "text/plain": [
       "2018-01-07    0.305776\n",
       "2018-01-14    0.629064\n",
       "2018-01-21   -0.006910\n",
       "2018-01-28    0.277065\n",
       "2018-02-04   -0.144972\n",
       "2018-02-11   -0.496299\n",
       "2018-02-18   -0.474473\n",
       "2018-02-25   -0.201222\n",
       "2018-03-04   -0.775142\n",
       "2018-03-11    0.052868\n",
       "2018-03-18   -0.450379\n",
       "2018-03-25    0.601892\n",
       "2018-04-01    0.334893\n",
       "2018-04-08    0.509605\n",
       "2018-04-15   -0.150544\n",
       "Freq: W-SUN, dtype: float64"
      ]
     },
     "execution_count": 34,
     "metadata": {},
     "output_type": "execute_result"
    }
   ],
   "source": [
    "ts.resample('W').mean()"
   ]
  },
  {
   "cell_type": "code",
   "execution_count": 35,
   "metadata": {
    "ExecuteTime": {
     "end_time": "2023-11-06T08:44:18.213750Z",
     "start_time": "2023-11-06T08:44:18.199795Z"
    },
    "school_cell_uuid": "d7c9890078004169b34a557164f129f5"
   },
   "outputs": [
    {
     "data": {
      "text/plain": [
       "2018-01-31    1.867558\n",
       "2018-02-28    0.156349\n",
       "2018-03-31   -1.726283\n",
       "2018-04-30    0.356366\n",
       "Freq: M, dtype: float64"
      ]
     },
     "execution_count": 35,
     "metadata": {},
     "output_type": "execute_result"
    }
   ],
   "source": [
    "ts.resample('M').first()"
   ]
  },
  {
   "cell_type": "markdown",
   "metadata": {
    "school_cell_uuid": "12f3a566eb4c41738797e094843d0f43"
   },
   "source": [
    "날짜가 아닌 시/분 단위에서는 구간위 왼쪽 한계값(가장 빠른 값)은 포함하고   \n",
    "오른쪽 한계값(가장 늦은 값)은 포함하지 않는다.   \n",
    "즉, 가장 늦은 값은 다음 구간에 포함된다. 예를 들어 10분 간격으로 구간을 만들면 10의 배수가 되는 시각은 구간의 시작점이 된다."
   ]
  },
  {
   "cell_type": "code",
   "execution_count": 36,
   "metadata": {
    "ExecuteTime": {
     "end_time": "2023-11-06T08:44:37.746970Z",
     "start_time": "2023-11-06T08:44:37.736995Z"
    },
    "school_cell_uuid": "be97af4119bd46d69d249294de2dba1c"
   },
   "outputs": [
    {
     "data": {
      "text/plain": [
       "2018-01-01 00:00:00   -1.173123\n",
       "2018-01-01 00:01:00    1.943621\n",
       "2018-01-01 00:02:00   -0.413619\n",
       "2018-01-01 00:03:00   -0.747455\n",
       "2018-01-01 00:04:00    1.922942\n",
       "2018-01-01 00:05:00    1.480515\n",
       "2018-01-01 00:06:00    1.867559\n",
       "2018-01-01 00:07:00    0.906045\n",
       "2018-01-01 00:08:00   -0.861226\n",
       "2018-01-01 00:09:00    1.910065\n",
       "2018-01-01 00:10:00   -0.268003\n",
       "2018-01-01 00:11:00    0.802456\n",
       "2018-01-01 00:12:00    0.947252\n",
       "2018-01-01 00:13:00   -0.155010\n",
       "2018-01-01 00:14:00    0.614079\n",
       "2018-01-01 00:15:00    0.922207\n",
       "2018-01-01 00:16:00    0.376426\n",
       "2018-01-01 00:17:00   -1.099401\n",
       "2018-01-01 00:18:00    0.298238\n",
       "2018-01-01 00:19:00    1.326386\n",
       "Freq: T, dtype: float64"
      ]
     },
     "execution_count": 36,
     "metadata": {},
     "output_type": "execute_result"
    }
   ],
   "source": [
    "ts = pd.Series(np.random.randn(60), index=pd.date_range(\n",
    "    \"2018-1-1\", periods=60, freq=\"T\"))\n",
    "ts.head(20)"
   ]
  },
  {
   "cell_type": "code",
   "execution_count": 37,
   "metadata": {
    "ExecuteTime": {
     "end_time": "2023-11-06T08:45:14.054666Z",
     "start_time": "2023-11-06T08:45:14.044428Z"
    },
    "school_cell_uuid": "9080aeb351774c32923d54a62b0b9340"
   },
   "outputs": [
    {
     "data": {
      "text/plain": [
       "2018-01-01 00:00:00    6.835324\n",
       "2018-01-01 00:10:00    3.764630\n",
       "2018-01-01 00:20:00    0.776495\n",
       "2018-01-01 00:30:00   -0.538336\n",
       "2018-01-01 00:40:00    1.828234\n",
       "2018-01-01 00:50:00    0.167957\n",
       "Freq: 10T, dtype: float64"
      ]
     },
     "execution_count": 37,
     "metadata": {},
     "output_type": "execute_result"
    }
   ],
   "source": [
    "ts.resample('10T').sum()"
   ]
  },
  {
   "cell_type": "markdown",
   "metadata": {
    "school_cell_uuid": "d56640fdc6454a4ab6fc13d6037ef192"
   },
   "source": [
    "왼쪽이 아니라 오른쪽 한계값을 구간에 포함하려면 `closed=\"right\"` 인수를 사용한다. 이 때는 10의 배수가 되는 시각이 앞 구간에 포함된다."
   ]
  },
  {
   "cell_type": "code",
   "execution_count": 38,
   "metadata": {
    "ExecuteTime": {
     "end_time": "2023-11-06T08:45:44.317182Z",
     "start_time": "2023-11-06T08:45:44.307212Z"
    },
    "school_cell_uuid": "6b979c1732e947d2a6b4f210a8acd1f7"
   },
   "outputs": [
    {
     "ename": "TypeError",
     "evalue": "'DatetimeIndexResampler' object is not callable",
     "output_type": "error",
     "traceback": [
      "\u001b[1;31m---------------------------------------------------------------------------\u001b[0m",
      "\u001b[1;31mTypeError\u001b[0m                                 Traceback (most recent call last)",
      "Cell \u001b[1;32mIn[38], line 1\u001b[0m\n\u001b[1;32m----> 1\u001b[0m ts\u001b[38;5;241m.\u001b[39mresample(\u001b[38;5;124m'\u001b[39m\u001b[38;5;124mW\u001b[39m\u001b[38;5;124m'\u001b[39m)(\u001b[38;5;124m'\u001b[39m\u001b[38;5;124m10T\u001b[39m\u001b[38;5;124m'\u001b[39m, closed\u001b[38;5;241m=\u001b[39m\u001b[38;5;124m\"\u001b[39m\u001b[38;5;124mright\u001b[39m\u001b[38;5;124m\"\u001b[39m)\u001b[38;5;241m.\u001b[39msum()\n",
      "\u001b[1;31mTypeError\u001b[0m: 'DatetimeIndexResampler' object is not callable"
     ]
    }
   ],
   "source": [
    "ts.resample('W')('10T', closed=\"right\").sum()"
   ]
  },
  {
   "cell_type": "markdown",
   "metadata": {
    "school_cell_uuid": "f941fd4732304035af2977ec9164f5a2"
   },
   "source": [
    "`ohlc` 메서드는 구간의 시고저종(open, high, low, close)값을 구한다."
   ]
  },
  {
   "cell_type": "code",
   "execution_count": null,
   "metadata": {
    "ExecuteTime": {
     "end_time": "2023-11-06T08:46:09.779662Z",
     "start_time": "2023-11-06T08:46:09.757736Z"
    },
    "school_cell_uuid": "07e0baad82574cf98d4c79a68b43e41f"
   },
   "outputs": [],
   "source": [
    "ts.resample('5T').ohlc()"
   ]
  },
  {
   "cell_type": "code",
   "execution_count": null,
   "metadata": {
    "ExecuteTime": {
     "end_time": "2023-11-06T08:46:23.317401Z",
     "start_time": "2023-11-06T08:46:23.299856Z"
    }
   },
   "outputs": [],
   "source": [
    "ts.resample('5T', closed='right').ohlc()"
   ]
  },
  {
   "cell_type": "markdown",
   "metadata": {
    "school_cell_uuid": "5b4fb3fee379420e83812348e7d74b14"
   },
   "source": [
    "업-샘플링의 경우에는 실제로 존재하지 않는 데이터를 만들어야 한다.    \n",
    "이 때는 앞에서 나온 데이터를 뒤에서 그대로 쓰는 forward filling 방식과    \n",
    "뒤에서 나올 데이터를 앞에서 미리 쓰는 backward filling 방식을 사용할 수 있다.   \n",
    "각각 `ffill`, `bfill` 메서드를 이용한다."
   ]
  },
  {
   "cell_type": "code",
   "execution_count": null,
   "metadata": {
    "ExecuteTime": {
     "end_time": "2023-11-03T08:48:18.011201Z",
     "start_time": "2023-11-03T08:48:17.998565Z"
    },
    "school_cell_uuid": "4e4dfa87aaa84d9fac24a26a07c56c0f"
   },
   "outputs": [],
   "source": [
    "ts.resample('30s').ffill().head(20)"
   ]
  },
  {
   "cell_type": "code",
   "execution_count": null,
   "metadata": {
    "ExecuteTime": {
     "end_time": "2023-11-06T08:47:31.960083Z",
     "start_time": "2023-11-06T08:47:31.945468Z"
    },
    "school_cell_uuid": "e5d35e6fc62b455a97fc164c48a13489"
   },
   "outputs": [],
   "source": [
    "ts.resample('30s').bfill().head(20)"
   ]
  },
  {
   "cell_type": "markdown",
   "metadata": {},
   "source": [
    "## `dt` 접근자"
   ]
  },
  {
   "cell_type": "markdown",
   "metadata": {},
   "source": [
    "datetime 자료형 시리즈에는 dt 접근자가 있어 datetime 자료형이 가진 몇가지 유용한 속성과 메서드를 사용할 수 있다."
   ]
  },
  {
   "cell_type": "code",
   "execution_count": null,
   "metadata": {
    "ExecuteTime": {
     "end_time": "2023-11-06T08:47:37.676901Z",
     "start_time": "2023-11-06T08:47:37.652966Z"
    }
   },
   "outputs": [],
   "source": [
    "s = pd.Series(pd.date_range(\"2020-12-25\", periods=100, freq=\"D\"))\n",
    "s"
   ]
  },
  {
   "cell_type": "markdown",
   "metadata": {},
   "source": [
    "예를 들어 `year`, `month`, `day`, `weekday` 등의 속성을 이용하면 년, 월, 일, 요일 정보를 빼낼 수 있다."
   ]
  },
  {
   "cell_type": "code",
   "execution_count": null,
   "metadata": {
    "ExecuteTime": {
     "end_time": "2023-11-06T08:47:41.194412Z",
     "start_time": "2023-11-06T08:47:41.187395Z"
    }
   },
   "outputs": [],
   "source": [
    "s.dt.year"
   ]
  },
  {
   "cell_type": "code",
   "execution_count": null,
   "metadata": {
    "ExecuteTime": {
     "end_time": "2023-11-06T08:47:43.883465Z",
     "start_time": "2023-11-06T08:47:43.875344Z"
    }
   },
   "outputs": [],
   "source": [
    "s.dt.weekday"
   ]
  },
  {
   "cell_type": "markdown",
   "metadata": {},
   "source": [
    "`strftime` 메서드를 이용하여 문자열을 만드는 것도 가능하다."
   ]
  },
  {
   "cell_type": "code",
   "execution_count": null,
   "metadata": {
    "ExecuteTime": {
     "end_time": "2023-11-06T08:47:45.979897Z",
     "start_time": "2023-11-06T08:47:45.969685Z"
    }
   },
   "outputs": [],
   "source": [
    "s.dt.strftime(\"%Y년 %m월 %d일\")"
   ]
  },
  {
   "cell_type": "markdown",
   "metadata": {},
   "source": [
    "## 연습문제\n",
    "````\n",
    "\n",
    "다음 명령으로 만들어진 데이터프레임에 대해 월별 value의 합계를 구하라.\n",
    "(힌트: `groupby` 메서드와 `dt` 접근자를 사용하라)\n",
    "\n",
    "```\n",
    "np.random.seed(0)\n",
    "df = pd.DataFrame({\n",
    "    \"date\": pd.date_range(\"2020-12-25\", periods=100, freq=\"D\"), \n",
    "    \"value\": np.random.randint(100, size=(100,))\n",
    "})\n",
    "```\n",
    "````"
   ]
  },
  {
   "cell_type": "code",
   "execution_count": null,
   "metadata": {
    "ExecuteTime": {
     "end_time": "2023-11-06T08:48:29.414416Z",
     "start_time": "2023-11-06T08:48:29.410212Z"
    }
   },
   "outputs": [],
   "source": [
    "import pandas as pd\n",
    "import numpy as np"
   ]
  },
  {
   "cell_type": "code",
   "execution_count": null,
   "metadata": {
    "ExecuteTime": {
     "end_time": "2023-11-06T08:48:44.475828Z",
     "start_time": "2023-11-06T08:48:44.461869Z"
    },
    "scrolled": true
   },
   "outputs": [],
   "source": [
    "np.random.seed(0)\n",
    "df = pd.DataFrame({\n",
    "    \"date\": pd.date_range(\"2020-12-25\", periods=100, freq=\"D\"), \n",
    "    \"value\": np.random.randint(100, size=(100,))\n",
    "})\n",
    "df"
   ]
  },
  {
   "cell_type": "code",
   "execution_count": null,
   "metadata": {
    "ExecuteTime": {
     "end_time": "2023-11-06T08:49:18.857214Z",
     "start_time": "2023-11-06T08:49:18.842057Z"
    }
   },
   "outputs": [],
   "source": [
    "df['month']=df['date'].dt.month\n",
    "df"
   ]
  },
  {
   "cell_type": "code",
   "execution_count": null,
   "metadata": {
    "ExecuteTime": {
     "end_time": "2023-11-06T08:49:30.339563Z",
     "start_time": "2023-11-06T08:49:30.331967Z"
    }
   },
   "outputs": [],
   "source": [
    "df.groupby('month')['value'].sum()"
   ]
  },
  {
   "cell_type": "code",
   "execution_count": null,
   "metadata": {},
   "outputs": [],
   "source": [
    "# datetime index로도 풀어보자\n",
    "np.random.seed(0)\n",
    "df = pd.DataFrame({\n",
    "    \"date\": pd.date_range(\"2020-12-25\", periods=100, freq=\"D\"), \n",
    "    \"value\": np.random.randint(100, size=(100,))})\n",
    "df = df.set_index('date')\n",
    "df.resample('M').sum()"
   ]
  },
  {
   "cell_type": "markdown",
   "metadata": {},
   "source": [
    "# 주식 데이터로 연습하기\n",
    "* !pip install pandas_datareader\n",
    "* !pip install yfinance\n",
    "- 각종 금융정보를 dataframe으로 제공하는 라이브러리"
   ]
  },
  {
   "cell_type": "code",
   "execution_count": null,
   "metadata": {},
   "outputs": [],
   "source": [
    "import matplotlib.pyplot as plt\n",
    "plt.style.use(\"ggplot\")\n",
    "\n",
    "# 한글 및 특정 문자 깨짐 문제 해결\n",
    "# import koreanize_matplotlib # 시본의 한글 깨짐은 해결못하지만 - 깨짐 해결\n",
    "from matplotlib import font_manager, rc # 폰트 세팅을 위한 모듈 추가\n",
    "font_path = \"C:/Windows/Fonts/malgun.ttf\" # 사용할 폰트명 경로 삽입\n",
    "font = font_manager.FontProperties(fname = font_path).get_name()\n",
    "rc('font', family = font)"
   ]
  },
  {
   "cell_type": "code",
   "execution_count": null,
   "metadata": {
    "ExecuteTime": {
     "end_time": "2023-11-21T13:15:45.769042Z",
     "start_time": "2023-11-21T13:15:45.540604Z"
    }
   },
   "outputs": [],
   "source": [
    "from pandas_datareader import data \n",
    "import yfinance as yfin\n",
    "yfin.pdr_override()"
   ]
  },
  {
   "cell_type": "code",
   "execution_count": null,
   "metadata": {
    "ExecuteTime": {
     "end_time": "2023-11-21T13:14:06.473122Z",
     "start_time": "2023-11-21T13:14:06.468078Z"
    }
   },
   "outputs": [],
   "source": [
    "data.get_data_yahoo?"
   ]
  },
  {
   "cell_type": "code",
   "execution_count": null,
   "metadata": {
    "ExecuteTime": {
     "end_time": "2023-11-21T13:21:39.618786Z",
     "start_time": "2023-11-21T13:21:38.644291Z"
    },
    "scrolled": true
   },
   "outputs": [],
   "source": [
    "# 삼성전자 주가 읽어오기(종목코드, start, end)\n",
    "sdf = data.get_data_yahoo('005930.KS') # 삼성전자 KOSPI 지수, 끝을 생략하는 오늘까지 가져옴\n",
    "sdf"
   ]
  },
  {
   "cell_type": "code",
   "execution_count": null,
   "metadata": {
    "ExecuteTime": {
     "end_time": "2023-11-21T13:22:09.441991Z",
     "start_time": "2023-11-21T13:22:09.437004Z"
    }
   },
   "outputs": [],
   "source": [
    "sdf.index"
   ]
  },
  {
   "cell_type": "code",
   "execution_count": null,
   "metadata": {},
   "outputs": [],
   "source": [
    "sdf['Close'].plot()"
   ]
  },
  {
   "cell_type": "code",
   "execution_count": null,
   "metadata": {
    "ExecuteTime": {
     "end_time": "2023-11-21T13:21:45.894453Z",
     "start_time": "2023-11-21T13:21:45.725198Z"
    }
   },
   "outputs": [],
   "source": [
    "plt.plot(sdf['Close'])\n",
    "plt.show()"
   ]
  },
  {
   "cell_type": "markdown",
   "metadata": {},
   "source": [
    "## 이동 평균(Move Average)\n",
    "- 기간별 추세 확인시 사용"
   ]
  },
  {
   "cell_type": "code",
   "execution_count": null,
   "metadata": {
    "ExecuteTime": {
     "end_time": "2023-11-21T13:19:26.078365Z",
     "start_time": "2023-11-21T13:19:26.068495Z"
    }
   },
   "outputs": [],
   "source": [
    "data1 = [[1,2],[3,4],[5,8],[7,6],[9,12],[11,10],[13,16],[15,20]]\n",
    "df = pd.DataFrame( data1, columns=['A', 'B'] )\n",
    "\n",
    "df.index=['2023-01-01','2023-02-01','2023-03-01','2023-04-01',\n",
    "          '2023-05-01','2023-06-01','2023-07-01','2023-08-01']\n",
    "df"
   ]
  },
  {
   "cell_type": "code",
   "execution_count": null,
   "metadata": {
    "ExecuteTime": {
     "end_time": "2023-11-21T13:19:43.941172Z",
     "start_time": "2023-11-21T13:19:43.932197Z"
    }
   },
   "outputs": [],
   "source": [
    "#rolling 객체의 멤버함수 mean, sum, max, min\n",
    "df.rolling(window=2).mean() \n",
    "# 1행값 nan, 2행값 = 2행 - 1행 ..."
   ]
  },
  {
   "cell_type": "code",
   "execution_count": null,
   "metadata": {
    "ExecuteTime": {
     "end_time": "2023-11-21T13:20:06.701735Z",
     "start_time": "2023-11-21T13:20:06.692767Z"
    }
   },
   "outputs": [],
   "source": [
    "df.rolling(window=3).mean()"
   ]
  },
  {
   "cell_type": "code",
   "execution_count": null,
   "metadata": {
    "ExecuteTime": {
     "end_time": "2023-11-21T13:20:30.795185Z",
     "start_time": "2023-11-21T13:20:30.635831Z"
    }
   },
   "outputs": [],
   "source": [
    "plt.xticks(rotation=45)\n",
    "plt.plot(df.index, df['B'])\n",
    "plt.plot(df.index, df['B'].rolling(window=2).mean())\n",
    "plt.show()"
   ]
  },
  {
   "cell_type": "code",
   "execution_count": null,
   "metadata": {
    "ExecuteTime": {
     "end_time": "2023-11-21T13:22:33.938536Z",
     "start_time": "2023-11-21T13:22:33.932046Z"
    }
   },
   "outputs": [],
   "source": [
    "sdf['Close'].rolling(window=120).mean()"
   ]
  },
  {
   "cell_type": "code",
   "execution_count": null,
   "metadata": {
    "ExecuteTime": {
     "end_time": "2023-11-21T13:22:36.593244Z",
     "start_time": "2023-11-21T13:22:36.363837Z"
    }
   },
   "outputs": [],
   "source": [
    "plt.xticks(rotation=45)\n",
    "plt.plot(sdf.index, sdf['Close'])\n",
    "plt.plot(sdf.index, sdf['Close'].rolling(window=120).mean(), 'b--')"
   ]
  },
  {
   "cell_type": "markdown",
   "metadata": {},
   "source": [
    "## 시계열데이터 인덱싱 슬라이싱\n",
    "- 인덱스가 datetime형일 경우, 인덱스로 슬라이싱이 가능하다(object는 불가)"
   ]
  },
  {
   "cell_type": "code",
   "execution_count": null,
   "metadata": {
    "ExecuteTime": {
     "end_time": "2023-11-21T13:22:50.553199Z",
     "start_time": "2023-11-21T13:22:50.547701Z"
    }
   },
   "outputs": [],
   "source": [
    "sdf.index"
   ]
  },
  {
   "cell_type": "code",
   "execution_count": null,
   "metadata": {
    "ExecuteTime": {
     "end_time": "2023-11-21T13:35:53.503664Z",
     "start_time": "2023-11-21T13:35:53.483695Z"
    }
   },
   "outputs": [],
   "source": [
    "# 2023년 조회하기 # sdf['2023'] 에러남, 칼럼 조회와 헷갈리니 가능하면 loc을 쓰자\n",
    "sdf.loc['2023']"
   ]
  },
  {
   "cell_type": "code",
   "execution_count": null,
   "metadata": {
    "ExecuteTime": {
     "end_time": "2023-11-21T13:39:26.850907Z",
     "start_time": "2023-11-21T13:39:26.835429Z"
    },
    "scrolled": true
   },
   "outputs": [],
   "source": [
    "sdf.loc['2023-11']"
   ]
  },
  {
   "cell_type": "code",
   "execution_count": null,
   "metadata": {
    "ExecuteTime": {
     "end_time": "2023-11-21T13:39:38.298340Z",
     "start_time": "2023-11-21T13:39:38.283134Z"
    }
   },
   "outputs": [],
   "source": [
    "sdf.loc['2022':'2023']"
   ]
  },
  {
   "cell_type": "code",
   "execution_count": null,
   "metadata": {
    "ExecuteTime": {
     "end_time": "2023-11-21T13:40:25.145371Z",
     "start_time": "2023-11-21T13:40:25.130426Z"
    }
   },
   "outputs": [],
   "source": [
    "sdf.loc['2020-12-01':'2022-12-31']"
   ]
  },
  {
   "cell_type": "code",
   "execution_count": null,
   "metadata": {
    "ExecuteTime": {
     "end_time": "2023-11-21T13:40:37.098050Z",
     "start_time": "2023-11-21T13:40:37.082958Z"
    }
   },
   "outputs": [],
   "source": [
    "sdf['year'] = sdf.index.year\n",
    "sdf"
   ]
  },
  {
   "cell_type": "markdown",
   "metadata": {},
   "source": [
    "## 시계열 데이터의 통계(집계)\n"
   ]
  },
  {
   "cell_type": "code",
   "execution_count": null,
   "metadata": {
    "ExecuteTime": {
     "end_time": "2023-11-21T13:42:34.321547Z",
     "start_time": "2023-11-21T13:42:34.298418Z"
    },
    "scrolled": true
   },
   "outputs": [],
   "source": [
    "# 년도별 평균(수치데이터 칼럼 전체 적용 ), 년도 칼럼 활용\n",
    "round(sdf.groupby('year').mean()) # groupby객체 멤버함수 sum mean max min agg"
   ]
  },
  {
   "cell_type": "code",
   "execution_count": null,
   "metadata": {
    "ExecuteTime": {
     "end_time": "2023-11-21T13:42:43.323131Z",
     "start_time": "2023-11-21T13:42:43.300432Z"
    },
    "scrolled": true
   },
   "outputs": [],
   "source": [
    "# 인덱스의 연도만 추출해서 그루핑\n",
    "round(sdf.groupby(sdf.index.year).mean())"
   ]
  },
  {
   "cell_type": "code",
   "execution_count": null,
   "metadata": {
    "ExecuteTime": {
     "end_time": "2023-11-21T13:44:53.287225Z",
     "start_time": "2023-11-21T13:44:53.268101Z"
    }
   },
   "outputs": [],
   "source": [
    "# 연도 및 월별\n",
    "sdf.groupby([sdf.index.year, sdf.index.month]).mean()"
   ]
  },
  {
   "cell_type": "markdown",
   "metadata": {},
   "source": [
    "## resample : 시계열데이터 전용 집계함수\n",
    "resample rule\n",
    "http://pandas.pydata.org/pandas-docs/stable/user_guide/timeseries.html"
   ]
  },
  {
   "cell_type": "code",
   "execution_count": null,
   "metadata": {
    "ExecuteTime": {
     "end_time": "2023-11-21T13:45:47.517124Z",
     "start_time": "2023-11-21T13:45:47.505544Z"
    },
    "scrolled": true
   },
   "outputs": [],
   "source": [
    "sdf.resample?"
   ]
  },
  {
   "cell_type": "code",
   "execution_count": null,
   "metadata": {
    "ExecuteTime": {
     "end_time": "2023-11-21T13:48:34.766567Z",
     "start_time": "2023-11-21T13:48:34.748614Z"
    },
    "scrolled": true
   },
   "outputs": [],
   "source": [
    "# DatetimeIndexResample : sum, mean, max, min\n",
    "sdf.resample(rule='Y').mean()"
   ]
  },
  {
   "cell_type": "code",
   "execution_count": null,
   "metadata": {
    "ExecuteTime": {
     "end_time": "2023-11-21T13:48:53.308260Z",
     "start_time": "2023-11-21T13:48:53.290371Z"
    }
   },
   "outputs": [],
   "source": [
    "sdf.resample(rule='Q').mean()"
   ]
  },
  {
   "cell_type": "code",
   "execution_count": null,
   "metadata": {
    "ExecuteTime": {
     "end_time": "2023-11-21T13:48:35.217003Z",
     "start_time": "2023-11-21T13:48:35.195062Z"
    }
   },
   "outputs": [],
   "source": [
    "sdf.resample(rule='M').mean()"
   ]
  },
  {
   "cell_type": "code",
   "execution_count": null,
   "metadata": {
    "ExecuteTime": {
     "end_time": "2023-11-21T13:48:38.171121Z",
     "start_time": "2023-11-21T13:48:38.130170Z"
    }
   },
   "outputs": [],
   "source": [
    "# 주별, default 월-일, 요일구간을 정할 수 있다\n",
    "sdf.resample(rule='W').mean()"
   ]
  },
  {
   "cell_type": "code",
   "execution_count": null,
   "metadata": {
    "ExecuteTime": {
     "end_time": "2023-11-21T13:49:04.685497Z",
     "start_time": "2023-11-21T13:49:04.666547Z"
    }
   },
   "outputs": [],
   "source": [
    "sdf.resample(rule='D').mean()"
   ]
  },
  {
   "cell_type": "code",
   "execution_count": null,
   "metadata": {
    "ExecuteTime": {
     "end_time": "2023-11-21T13:50:48.293262Z",
     "start_time": "2023-11-21T13:50:48.274471Z"
    }
   },
   "outputs": [],
   "source": [
    "sdf.loc['2023-12'].resample(rule='H').mean()"
   ]
  },
  {
   "cell_type": "code",
   "execution_count": null,
   "metadata": {
    "ExecuteTime": {
     "end_time": "2023-11-21T13:50:57.623446Z",
     "start_time": "2023-11-21T13:50:57.602240Z"
    }
   },
   "outputs": [],
   "source": [
    "sdf.loc['2023-12'].resample(rule='T').mean()"
   ]
  },
  {
   "cell_type": "code",
   "execution_count": null,
   "metadata": {
    "ExecuteTime": {
     "end_time": "2023-11-21T13:51:02.366206Z",
     "start_time": "2023-11-21T13:51:02.234569Z"
    }
   },
   "outputs": [],
   "source": [
    "sdf.loc['2023-12'].resample(rule='S').mean()"
   ]
  },
  {
   "cell_type": "markdown",
   "metadata": {},
   "source": [
    "## 연습문제 : 교통사고 데이터 분석\n",
    "1. 3개의 데이터를 병합하시오.   \n",
    "\n",
    "====이후문제는 병합한 데이터프레임을 이용 ===========\n",
    "\n",
    "2. 인덱스를 datetime 으로 만드시오.   \n",
    "\n",
    "3. 년도 및 월별, 분기별, 평균 사망자를 보여주시오.   \n",
    "\n",
    "4.  2016년 사고대비 사망율을 구하시오.   \n",
    "\n",
    "5. 2014년도 월별 사망, 부상 데이터를 그래프로 보여주시오.   \n",
    "\n",
    "6. 2015년 대비  사망이 가장 많이 증가한 2016년 도 월을 구하시오.   "
   ]
  },
  {
   "cell_type": "code",
   "execution_count": null,
   "metadata": {
    "ExecuteTime": {
     "end_time": "2023-11-21T14:19:47.849092Z",
     "start_time": "2023-11-21T14:19:47.829010Z"
    }
   },
   "outputs": [],
   "source": [
    "# 1. 3개 데이터 병합\n",
    "data_2014 = pd.read_csv('data/2014년 졸음운전 교통사고.csv', encoding='ANSI', index_col='구분')\n",
    "data_2015 = pd.read_csv('data/2015년 졸음운전 교통사고.csv', encoding='ANSI', index_col='구분')\n",
    "data_2016 = pd.read_csv('data/2016년 졸음운전 교통사고.csv', encoding='ANSI', index_col='구분')\n",
    "data_2014.head()"
   ]
  },
  {
   "cell_type": "code",
   "execution_count": null,
   "metadata": {
    "ExecuteTime": {
     "end_time": "2023-11-21T14:19:48.436528Z",
     "start_time": "2023-11-21T14:19:48.418322Z"
    }
   },
   "outputs": [],
   "source": [
    "data_2014.info(), data_2015.info(), data_2016.info()"
   ]
  },
  {
   "cell_type": "code",
   "execution_count": null,
   "metadata": {
    "ExecuteTime": {
     "end_time": "2023-11-21T14:19:48.858931Z",
     "start_time": "2023-11-21T14:19:48.849833Z"
    },
    "scrolled": true
   },
   "outputs": [],
   "source": [
    "data_total = pd.concat([data_2014, data_2015, data_2016], axis=0)\n",
    "data_total"
   ]
  },
  {
   "cell_type": "code",
   "execution_count": null,
   "metadata": {
    "ExecuteTime": {
     "end_time": "2023-11-21T14:19:49.071474Z",
     "start_time": "2023-11-21T14:19:49.066374Z"
    }
   },
   "outputs": [],
   "source": [
    "# 2. 인덱스를 datetime 으로 만드시요\n",
    "data_total.index"
   ]
  },
  {
   "cell_type": "code",
   "execution_count": null,
   "metadata": {
    "ExecuteTime": {
     "end_time": "2023-11-21T14:19:49.258073Z",
     "start_time": "2023-11-21T14:19:49.251561Z"
    }
   },
   "outputs": [],
   "source": [
    "data_total.index  = pd.to_datetime(data_total.index, format= '%Y년%m월')\n",
    "data_total.index"
   ]
  },
  {
   "cell_type": "code",
   "execution_count": null,
   "metadata": {
    "ExecuteTime": {
     "end_time": "2023-11-21T14:19:49.434665Z",
     "start_time": "2023-11-21T14:19:49.418710Z"
    },
    "scrolled": true
   },
   "outputs": [],
   "source": [
    "# 3. 년도 및 월별, 분기별 평균 사망자를 보여주시요\n",
    "data_total[['사망(명)']].groupby([data_total.index.quarter, data_total.index.year, data_total.index.month]).mean()"
   ]
  },
  {
   "cell_type": "code",
   "execution_count": null,
   "metadata": {
    "ExecuteTime": {
     "end_time": "2023-11-21T14:19:49.580059Z",
     "start_time": "2023-11-21T14:19:49.563366Z"
    }
   },
   "outputs": [],
   "source": [
    "data_total[['사망(명)']].resample(rule='Q').mean()"
   ]
  },
  {
   "cell_type": "code",
   "execution_count": null,
   "metadata": {
    "ExecuteTime": {
     "end_time": "2023-11-21T14:19:49.738126Z",
     "start_time": "2023-11-21T14:19:49.729316Z"
    },
    "scrolled": true
   },
   "outputs": [],
   "source": [
    "# 4.  2016년 사고대비 사망율을 구하시요\n",
    "data_total.loc['2016']['사망(명)']/ data_total.loc['2016']['사고(건)']"
   ]
  },
  {
   "cell_type": "code",
   "execution_count": null,
   "metadata": {
    "ExecuteTime": {
     "end_time": "2023-11-21T14:19:49.889158Z",
     "start_time": "2023-11-21T14:19:49.882422Z"
    }
   },
   "outputs": [],
   "source": [
    "round ( data_total.loc['2016']['사망(명)'].sum()/ data_total.loc['2016']['사고(건)'].sum(), 2 )"
   ]
  },
  {
   "cell_type": "code",
   "execution_count": null,
   "metadata": {
    "ExecuteTime": {
     "end_time": "2023-11-21T14:19:51.509115Z",
     "start_time": "2023-11-21T14:19:50.034647Z"
    }
   },
   "outputs": [],
   "source": [
    "import matplotlib\n",
    "import matplotlib.pyplot as plt\n",
    "import seaborn as sns\n",
    "plt.style.use(\"ggplot\")\n",
    "# 관련 라이브러리 임포트 \n",
    "import matplotlib.font_manager as fm\n",
    "#  한글글꼴로 변경\n",
    "# plt.rcParams['font.family'] = '한글글꼴명'\n",
    "plt.rcParams['font.size'] = 11.0\n",
    "# plt.rcParams['font.family'] = 'batang'\n",
    "plt.rcParams['font.family'] = 'Malgun Gothic'\n",
    "\n",
    "# 그래프에서 마이너스 폰트 깨지는 문제에 대한 대처\n",
    "matplotlib.rcParams['axes.unicode_minus'] = False"
   ]
  },
  {
   "cell_type": "code",
   "execution_count": null,
   "metadata": {
    "ExecuteTime": {
     "end_time": "2023-11-21T14:20:03.701444Z",
     "start_time": "2023-11-21T14:20:03.347284Z"
    }
   },
   "outputs": [],
   "source": [
    "# 5. 2014년도 월별 사망, 부상 데이터를 그래프로 보여주시요\n",
    "data_total.loc['2014'][['사망(명)','부상(명)']].plot(kind='bar') # 보기 힘들다 이중축으로 만들어 보면어떨까?  바+꺾은선\n",
    "# plt.xticks(rotation=45)\n",
    "# plt.plot(temp_2014.index, temp_2014)"
   ]
  },
  {
   "cell_type": "code",
   "execution_count": null,
   "metadata": {
    "ExecuteTime": {
     "end_time": "2023-11-21T14:20:03.774830Z",
     "start_time": "2023-11-21T14:20:03.774830Z"
    }
   },
   "outputs": [],
   "source": [
    "data_total.loc['2016']"
   ]
  },
  {
   "cell_type": "code",
   "execution_count": null,
   "metadata": {
    "ExecuteTime": {
     "end_time": "2023-11-21T14:20:04.233295Z",
     "start_time": "2023-11-21T14:20:04.225799Z"
    },
    "scrolled": true
   },
   "outputs": [],
   "source": [
    "# 6. 2015년 대비  사망이 가장 많이 증가한 2016년 도 월을 구하시요\n",
    "(data_total.loc['2016', '사망(명)'].values\n",
    " - data_total.loc['2015', '사망(명)'].values).argmax() # 가장 높은 값의 인덱스를 반환\n",
    "# 과연 맞을까?"
   ]
  },
  {
   "cell_type": "code",
   "execution_count": null,
   "metadata": {
    "ExecuteTime": {
     "end_time": "2023-11-21T14:20:04.776267Z",
     "start_time": "2023-11-21T14:20:04.769651Z"
    }
   },
   "outputs": [],
   "source": [
    "result = (data_total.loc['2016', '사망(명)'].values \n",
    "                     - data_total.loc['2015', '사망(명)'].values)\n",
    "result"
   ]
  },
  {
   "cell_type": "code",
   "execution_count": null,
   "metadata": {
    "ExecuteTime": {
     "end_time": "2023-11-21T14:20:05.265091Z",
     "start_time": "2023-11-21T14:20:05.258111Z"
    },
    "scrolled": true
   },
   "outputs": [],
   "source": [
    "sr = pd.Series( result, index= range(1,13))\n",
    "sr"
   ]
  },
  {
   "cell_type": "code",
   "execution_count": null,
   "metadata": {},
   "outputs": [],
   "source": [
    "sr.nlargest( 1, keep='all') # 상위 n개의 값을  반환,  keep (first 동등하면 첫번째것, all은 전체, )\n",
    "# 5월과 6월이 해당함"
   ]
  },
  {
   "cell_type": "code",
   "execution_count": null,
   "metadata": {},
   "outputs": [],
   "source": [
    "sr.nlargest?"
   ]
  }
 ],
 "metadata": {
  "kernelspec": {
   "display_name": "Python 3 (ipykernel)",
   "language": "python",
   "name": "python3"
  },
  "language_info": {
   "codemirror_mode": {
    "name": "ipython",
    "version": 3
   },
   "file_extension": ".py",
   "mimetype": "text/x-python",
   "name": "python",
   "nbconvert_exporter": "python",
   "pygments_lexer": "ipython3",
   "version": "3.11.7"
  },
  "latex_envs": {
   "LaTeX_envs_menu_present": true,
   "autoclose": false,
   "autocomplete": true,
   "bibliofile": "biblio.bib",
   "cite_by": "apalike",
   "current_citInitial": 1,
   "eqLabelWithNumbers": true,
   "eqNumInitial": 1,
   "hotkeys": {
    "equation": "Ctrl-E",
    "itemize": "Ctrl-I"
   },
   "labels_anchors": false,
   "latex_user_defs": false,
   "report_style_numbering": false,
   "user_envs_cfg": false
  },
  "toc": {
   "base_numbering": 1,
   "nav_menu": {},
   "number_sections": true,
   "sideBar": true,
   "skip_h1_title": false,
   "title_cell": "Table of Contents",
   "title_sidebar": "Contents",
   "toc_cell": false,
   "toc_position": {
    "height": "calc(100% - 180px)",
    "left": "10px",
    "top": "150px",
    "width": "192px"
   },
   "toc_section_display": true,
   "toc_window_display": false
  },
  "varInspector": {
   "cols": {
    "lenName": 16,
    "lenType": 16,
    "lenVar": 40
   },
   "kernels_config": {
    "python": {
     "delete_cmd_postfix": "",
     "delete_cmd_prefix": "del ",
     "library": "var_list.py",
     "varRefreshCmd": "print(var_dic_list())"
    },
    "r": {
     "delete_cmd_postfix": ") ",
     "delete_cmd_prefix": "rm(",
     "library": "var_list.r",
     "varRefreshCmd": "cat(var_dic_list()) "
    }
   },
   "types_to_exclude": [
    "module",
    "function",
    "builtin_function_or_method",
    "instance",
    "_Feature"
   ],
   "window_display": false
  }
 },
 "nbformat": 4,
 "nbformat_minor": 4
}
