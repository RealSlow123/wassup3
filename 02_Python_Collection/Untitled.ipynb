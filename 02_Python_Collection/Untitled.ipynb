{
 "cells": [
  {
   "cell_type": "code",
   "execution_count": 5,
   "id": "a5e8bf19-a096-4f99-8d08-dca74c3ba53d",
   "metadata": {},
   "outputs": [],
   "source": [
    "from selenium import webdriver\n",
    "from selenium.webdriver.common.by import By\n",
    "from selenium.webdriver.chrome.options import Options\n",
    "import math, time\n",
    "\n",
    "options = Options()\n",
    "options.add_argument('--window-size=974,1047')\n",
    "options.add_argument('--window-position=-7,0')\n",
    "options.add_experimental_option(\"detach\", True)\n",
    "search = '제주도'\n",
    "\n",
    "URL = 'https://korean.visitkorea.or.kr/search/search_list.do?keyword='+search\n",
    "\n",
    "driver = webdriver.Chrome(options=options)\n",
    "driver.get(URL)\n",
    "time.sleep(3)\n",
    "\n",
    "driver.find_element(By.CSS_SELECTOR, \"#s_recommend > .more_view > a\").click()\n"
   ]
  },
  {
   "cell_type": "code",
   "execution_count": 6,
   "id": "bd7f53d7-038d-4d6c-b025-9af94fb7dffa",
   "metadata": {},
   "outputs": [
    {
     "data": {
      "text/plain": [
       "(10, '해변산책부터 레이싱까지, 제주 반려동물 동반여행 추천 코스', '제주도가 품은 신비의 화산 숲, 환상숲곶자왈공원')"
      ]
     },
     "execution_count": 6,
     "metadata": {},
     "output_type": "execute_result"
    }
   ],
   "source": [
    "tit_xpath = '//*[@id=\"search_result\"]/ul/li[*]/div[1]/div[1]/a'\n",
    "result = driver.find_elements(By.XPATH, tit_xpath)\n",
    "len(result), result[0].text, result[1].text"
   ]
  },
  {
   "cell_type": "code",
   "execution_count": 47,
   "id": "ee4b7427-78b4-46c8-86b9-e9e0e8f697a7",
   "metadata": {},
   "outputs": [
    {
     "name": "stdout",
     "output_type": "stream",
     "text": [
      "1 해변산책부터 레이싱까지, 제주 반려동물 동반여행 추천 코스\n",
      "2 제주도가 품은 신비의 화산 숲, 환상숲곶자왈공원\n",
      "3 한국관광공사 추천 2월 걷기여행길, 이른 봄을 맞이하는 제주도 걷기길\n",
      "4 제주도의 숨겨진 재미를 찾는\n",
      "<놀멍, 배우멍 제주마을체험 - 1일형 체험학습>\n",
      "5 제주도 조천읍 버킷리스트 여행지 작성하기\n",
      "6 김창열의 회귀 철학을 건축으로 표현한 미술관, 제주도립김창열미술관\n",
      "7 [국내 트레킹 추천]\n",
      "제주 올레길 걷기 여행,\n",
      "준비부터 코스 선택까지 꿀팁 총정리!\n",
      "8 4월 제주도 가볼 만한, 가파도 청보리 축제\n",
      "9 제주도 유채꽃 명소 추천, 봄에 떠나는 인생샷 여행\n",
      "10 소소한 '제주여행' 꿀팁! 〈겨울편〉\n"
     ]
    }
   ],
   "source": [
    "for i, title in enumerate(result, 1):\n",
    "#     print(i, title.text)\n",
    "    print(i, title.text)"
   ]
  },
  {
   "cell_type": "code",
   "execution_count": 135,
   "id": "ae3af7db-24ab-4957-9cc7-9a2a35e10cbe",
   "metadata": {},
   "outputs": [
    {
     "name": "stdout",
     "output_type": "stream",
     "text": [
      "29\n"
     ]
    }
   ],
   "source": [
    "def FindLastPageNum():\n",
    "    FindPageNum = True\n",
    "    BoxNum = 1\n",
    "    lastpage = 0\n",
    "    driver.find_element(By.XPATH, f'/html/body/div[3]/div/div[1]/div[14]/a[{1}]').click()\n",
    "    time.sleep(3)\n",
    "    while True:\n",
    "        try:\n",
    "            strBoxNum = driver.find_element(By.XPATH, f'/html/body/div[3]/div/div[1]/div[14]/a[{BoxNum}]').text\n",
    "            if strBoxNum.strip() == '끝':\n",
    "                driver.find_element(By.XPATH, f'/html/body/div[3]/div/div[1]/div[14]/a[{BoxNum}]').click()\n",
    "                time.sleep(3)\n",
    "                BoxNum = 1\n",
    "                continue\n",
    "            elif strBoxNum.strip() != '':           \n",
    "                if lastpage < int(strBoxNum.strip()):\n",
    "                    lastpage = int(strBoxNum.strip())\n",
    "            else:\n",
    "                FindPageNum = False\n",
    "            BoxNum += 1\n",
    "        except ValueError:\n",
    "            BoxNum += 1\n",
    "        except :\n",
    "            break\n",
    "            \n",
    "    driver.find_element(By.XPATH, f'/html/body/div[3]/div/div[1]/div[14]/a[{1}]').click()\n",
    "    time.sleep(3)\n",
    "    return lastpage\n"
   ]
  },
  {
   "cell_type": "code",
   "execution_count": 120,
   "id": "4a20ee20-8607-4f77-b278-0eff7760dba9",
   "metadata": {},
   "outputs": [
    {
     "name": "stdout",
     "output_type": "stream",
     "text": [
      "7\n"
     ]
    }
   ],
   "source": [
    "def GetMaxButtonNum():\n",
    "    BoxNum = 1\n",
    "    cycle = 0\n",
    "    driver.find_element(By.XPATH, f'/html/body/div[3]/div/div[1]/div[14]/a[{1}]').click()\n",
    "    time.sleep(3)\n",
    "    while True:\n",
    "        try:\n",
    "            strBoxNum = driver.find_element(By.XPATH, f'/html/body/div[3]/div/div[1]/div[14]/a[{BoxNum}]').text\n",
    "            BoxNum += 1\n",
    "        except :\n",
    "            BoxNum -= 1\n",
    "            break\n",
    "            \n",
    "    return BoxNum\n",
    "\n",
    "#print(GetMaxButtonNum())"
   ]
  },
  {
   "cell_type": "code",
   "execution_count": 145,
   "id": "7ef2208b-bd97-4fba-be8e-7b2498f3c9d4",
   "metadata": {},
   "outputs": [
    {
     "name": "stdout",
     "output_type": "stream",
     "text": [
      "#################### 1 페이지 결과 ####################\n",
      "1 해변산책부터 레이싱까지, 제주 반려동물 동반여행 추천 코스\n",
      "2 제주도가 품은 신비의 화산 숲, 환상숲곶자왈공원\n",
      "3 한국관광공사 추천 2월 걷기여행길, 이른 봄을 맞이하는 제주도 걷기길\n",
      "4 제주도의 숨겨진 재미를 찾는\n",
      "<놀멍, 배우멍 제주마을체험 - 1일형 체험학습>\n",
      "5 제주도 조천읍 버킷리스트 여행지 작성하기\n",
      "6 김창열의 회귀 철학을 건축으로 표현한 미술관, 제주도립김창열미술관\n",
      "7 [국내 트레킹 추천]\n",
      "제주 올레길 걷기 여행,\n",
      "준비부터 코스 선택까지 꿀팁 총정리!\n",
      "8 4월 제주도 가볼 만한, 가파도 청보리 축제\n",
      "9 제주도 유채꽃 명소 추천, 봄에 떠나는 인생샷 여행\n",
      "10 소소한 '제주여행' 꿀팁! 〈겨울편〉\n",
      "#################### 2 페이지 결과 ####################\n",
      "11 연말연시 제주도 여행 추천 코스,\n",
      "가족여행 가볼 만한 곳\n",
      "12 새하얀 눈으로 덮인 제주도 설경 명소 4\n",
      "13 제주 6월 걷기 좋은 길, 성안올레 1코스 원도심 투어\n",
      "14 사계절 자연의 아름다움을 간직한 제주시 댕댕이 추천코스\n",
      "15 제주도 '한정'여행지,\n",
      "제주도의 이색 공간을 찾아서\n",
      "16 멈춤과 완보로 만나는 제주 생각하는정원\n",
      "17 2월 놓치지 말아야 할 제주 관광 10선\n",
      "<2월 제주, 먼저 온 봄기운에 마음 돌랑돌랑>\n",
      "18 제주의 아크로폴리스를 아시나요? - 제주 원도심 (제주목관아 중심)\n",
      "19 맛있는 음식에 여행의 기쁨은 두 배! <제주 식도락 여행>\n",
      "20 제주 여행, 은빛 물결이 일렁이는 제주도 억새 명소 모음\n",
      "#################### 3 페이지 결과 ####################\n",
      "21 반려견과 떠나는 여행 <제주 반려견 숙소&카페>\n",
      "22 설렘과 여유가 가득한 제주 여행\n",
      "23 빛으로 물든 '로맨틱 제주' <제주 야간 관광지>\n",
      "24 12월 놓치지 말아야 할 제주 관광 10선\n",
      "<올해도 애쓴 당신과 나, 12월의 제주에서 쉬멍쉬멍>\n",
      "25 마음까지 화사해지는\n",
      "제주도 봄꽃 여행\n",
      "26 제주도 서쪽에서 즐기는 꽉 찬 여행 코스\n",
      "27 [팜스테이션] 제주공항과 아름다운 해안이 인접한 워케이션 공간\n",
      "28 제주의 숨겨진 구석구석을 살펴보자, 제주도 박물관 여행\n",
      "29 안심관광에 알맞은 최고의 야외 공연과 체험 - 제주 더마(馬)파크\n",
      "30 [질그랭이 거점 센터] 조용한 제주 해안마을에서 즐기는 워케이션\n",
      "#################### 4 페이지 결과 ####################\n",
      "31 [제주] 푸른 밤의 따뜻한 꿈\n",
      "32 1월 놓치지 말아야 할 제주 관광 10선\n",
      "<멋진 새날을 희망하며, 엄블랑한 1월 제주>\n",
      "33 섬 속의 섬 그리고 가장 제주다운 섬, 제주 우도\n",
      "34 제주 해녀들의 “호오이 호오이” 숨비소리 찾는 여행 – 제주해녀박물관과 숨비소리길\n",
      "35 제주도 서귀포 가볼 만한 곳,\n",
      "초록이 가득한 남쪽 여행 코스\n",
      "36 돌이 나에게 말을 걸어오는 시적(詩的)인 곳– 제주돌문화공원\n",
      "37 [디어먼데이 제주] 월요병이 없는 세상을 꿈꾸는 이들의 제주 워케이션\n",
      "38 비움과 채움의 조화로 완성한 웰니스 라이프, 제주901\n",
      "39 제주의 자연과 제주인의 삶을 최단시간에 알 수 있는 곳! - 제주민속자연사박물관\n",
      "40 환경생태가 살아있는 진짜 제주의 숲을 만나다 – 제주절물자연휴양림과 장생의 숲길\n",
      "#################### 5 페이지 결과 ####################\n",
      "41 [제주도 가볼 만한 곳] 섬 안에 섬을 여행하는 방법, 가파도 여행 코스\n",
      "42 제주 가볼만한 곳. 가족과 함께 제주도 구석구석, 당일치기 필수 코스 4\n",
      "43 [번아웃 트래블 EP.1] 넉살 발성에 귀가 뚫렸습니다! | 제주도여행\n",
      "44 [김녕 어촌체험휴양마을] 제주 김녕바다를 바라보며 업무를 즐기는 워케이션\n",
      "45 엄마 아빠에겐 쉼표, 아이에겐 느낌표! 아이와 떠나는 제주 여행\n",
      "46 [온실(프립캠프)] 업무와 휴식, 액티비티까지 한 번에 즐기는 제주도 워케이션\n",
      "47 랜선으로 먼저 온 봄 맞이하기!\n",
      "일출로 시작하는 제주도 동쪽 코스\n",
      "48 [국내여행 버킷리스트 3탄] 올 여름엔 제주도 자전거 여행이다!\n",
      "49 2월 제주 여행, 성산일출봉 근처 인생사진 명소로 유명한 제주 동쪽 핫플레이스 4\n",
      "50 [코사이어티 빌리지] 녹음이 우거진 제주 동쪽 영감의 공간\n",
      "#################### 6 페이지 결과 ####################\n",
      "51 식재료 수확체험부터 시작하는 완벽한 쿠킹클래스 - 제주 토토아뜰리에\n",
      "52 나만 알고 싶은 제주 액티비티 ①\n",
      "원시 숲과 벵뒤못과 밀리터리 카,\n",
      "어디에도 없던 리얼 오프로드의 세계\n",
      "53 탄소 없는 섬, 제주의 미래를 만나다_제주CFI에너지미래관\n",
      "54 자연 속에서 더욱 단단해지는 가족애, 제주돌문화공원과 교래자연휴양림\n",
      "55 감성 넘치는 인생 사진, 가을 제주 120% 즐기기\n",
      "56 [제주] 연말을 조금 더 특별하게 제주도의 방\n",
      "57 '효리네 민박'의 색다른 변신!\n",
      "감성 넘치는 제주 로컬 소품샵 소길별하\n",
      "58 '제주 별미 여행' 흑돼지, 말고기에 각재기국과 어랭이물회도 맛보자\n",
      "59 마음에 위안을 주는 제주의 맛\n",
      "60 겨울에 만나는 초록빛 곶자왈, 제주 청수마을\n",
      "#################### 7 페이지 결과 ####################\n",
      "61 가장 먼저 맞이하는 봄날의 하이라이트 '제주 벚꽃 명소'\n",
      "62 보석 같은 섬에 예술을 덧입히다,\n",
      "제주 추자도\n",
      "63 [여행 카드] 제주도에서 만나는 스위스 마을\n",
      "64 2024 여행가는 달 추천 관광지 [제주]\n",
      "65 길 위의 지질 과학관, 제주도 사계리 지질 여행\n",
      "66 [360도 영상] 제주 항공 편\n",
      "67 제주의 특색을 잘 간직한 안심 산책길, 천지연폭포\n",
      "68 제주 트레킹, 탁 트인 풍경 속을 거니는 제주 걷기 좋은 오름 4\n",
      "69 태곳적 제주와 조우하는 신비로운 숲, 동백동산\n",
      "70 화산섬 제주의 아름다움을 찾아나선 꿈결 같은 산책, 사려니숲길(제주시험림)\n",
      "#################### 8 페이지 결과 ####################\n",
      "71 제주시 원도심을 걷다, 성안올레\n",
      "72 제주의 땅과 바다, 바람을 품은 안식처에서 즐기는 웰니스 스테이\n",
      "73 제주의 즐겁고 달콤한 겨울 박물관들\n",
      "74 신비롭고 청정한 자연을 품은 제주 서귀포시 댕댕이 추천코스\n",
      "75 세계자연유산(UNESCO)의 봄을 느끼며, 제주도 동부 여행\n",
      "76 제주의 숨은 명소! '진짜 제주'를 만나는 곳, 애월읍 봉성리\n",
      "종료\n"
     ]
    }
   ],
   "source": [
    "def FindLastPageNum():\n",
    "    FindPageNum = True\n",
    "    BoxNum = 1\n",
    "    lastpage = 0\n",
    "    driver.find_element(By.XPATH, f'/html/body/div[3]/div/div[1]/div[14]/a[{1}]').click()\n",
    "    time.sleep(3)\n",
    "    while True:\n",
    "        try:\n",
    "            strBoxNum = driver.find_element(By.XPATH, f'/html/body/div[3]/div/div[1]/div[14]/a[{BoxNum}]').text\n",
    "            if strBoxNum.strip() == '끝':\n",
    "                driver.find_element(By.XPATH, f'/html/body/div[3]/div/div[1]/div[14]/a[{BoxNum}]').click()\n",
    "                time.sleep(3)\n",
    "                BoxNum = 1\n",
    "                continue\n",
    "            elif strBoxNum.strip() != '':           \n",
    "                if lastpage < int(strBoxNum.strip()):\n",
    "                    lastpage = int(strBoxNum.strip())\n",
    "            else:\n",
    "                FindPageNum = False\n",
    "            BoxNum += 1\n",
    "        except ValueError:\n",
    "            BoxNum += 1\n",
    "        except :\n",
    "            break\n",
    "            \n",
    "    driver.find_element(By.XPATH, f'/html/body/div[3]/div/div[1]/div[14]/a[{1}]').click()\n",
    "    time.sleep(3)\n",
    "    return lastpage\n",
    "\n",
    "chsngemaxpage = True\n",
    "NextpPage = 1\n",
    "lastpage = FindLastPageNum()\n",
    "Finish = False\n",
    "NextPageGroup = False\n",
    "Itemnum = 76\n",
    "i = 1\n",
    "while Finish == False:\n",
    "    NextPageGroup = False\n",
    "    while NextPageGroup == False:\n",
    "        strBoxNum = driver.find_element(By.XPATH, f'/html/body/div[3]/div/div[1]/div[14]/a[{i}]').text.strip()\n",
    "        if strBoxNum == '다음':\n",
    "            driver.find_element(By.XPATH, f'/html/body/div[3]/div/div[1]/div[14]/a[{i}]').click()\n",
    "            time.sleep(3)\n",
    "            i = 1\n",
    "            break\n",
    "        elif strBoxNum == '처음' or strBoxNum == '이전' or strBoxNum == '끝':\n",
    "            i += 1\n",
    "            continue\n",
    "        else:\n",
    "            driver.find_element(By.XPATH, f'/html/body/div[3]/div/div[1]/div[14]/a[{i}]').click()\n",
    "            print('#'*20 + \" \" +strBoxNum+\" 페이지 결과\"+ \" \"+'#'*20)\n",
    "            time.sleep(3)\n",
    "            tit_xpath = '//*[@id=\"search_result\"]/ul/li[*]/div[1]/div[1]/a'\n",
    "            result = driver.find_elements(By.XPATH, tit_xpath)\n",
    "            for j, title in enumerate(result, (1 + (len(result)*(int(strBoxNum)-1)))):\n",
    "                print(j, title.text)\n",
    "                if j >= Itemnum:\n",
    "                    Finish = True\n",
    "                    NextPageGroup = True\n",
    "                    break\n",
    "            i += 1\n",
    "            if  int(strBoxNum) == lastpage:\n",
    "                Finish = True\n",
    "                break\n",
    "        if Finish == True:\n",
    "            break        \n",
    "\n",
    "print(\"종료\")\n",
    "\n",
    "    \n",
    "    #print(i)\n",
    "    "
   ]
  },
  {
   "cell_type": "code",
   "execution_count": 108,
   "id": "54bcdbe2-be7a-4d6d-814a-b43dcc21c69c",
   "metadata": {},
   "outputs": [
    {
     "data": {
      "text/plain": [
       "\u001b[1;31mInit signature:\u001b[0m \u001b[0mtype\u001b[0m\u001b[1;33m(\u001b[0m\u001b[0mself\u001b[0m\u001b[1;33m,\u001b[0m \u001b[1;33m/\u001b[0m\u001b[1;33m,\u001b[0m \u001b[1;33m*\u001b[0m\u001b[0margs\u001b[0m\u001b[1;33m,\u001b[0m \u001b[1;33m**\u001b[0m\u001b[0mkwargs\u001b[0m\u001b[1;33m)\u001b[0m\u001b[1;33m\u001b[0m\u001b[1;33m\u001b[0m\u001b[0m\n",
       "\u001b[1;31mDocstring:\u001b[0m     \n",
       "type(object) -> the object's type\n",
       "type(name, bases, dict, **kwds) -> a new type\n",
       "\u001b[1;31mType:\u001b[0m           type\n",
       "\u001b[1;31mSubclasses:\u001b[0m     ABCMeta, EnumType, _AnyMeta, NamedTupleMeta, _TypedDictMeta, _DeprecatedType, _ABC, MetaHasDescriptors, PyCStructType, UnionType, ..."
      ]
     },
     "metadata": {},
     "output_type": "display_data"
    }
   ],
   "source": [
    "type?"
   ]
  },
  {
   "cell_type": "code",
   "execution_count": null,
   "id": "70c8521e-d96b-4c2b-973d-1b74a724c3e2",
   "metadata": {},
   "outputs": [],
   "source": [
    "pip installer "
   ]
  }
 ],
 "metadata": {
  "kernelspec": {
   "display_name": "Python 3 (ipykernel)",
   "language": "python",
   "name": "python3"
  },
  "language_info": {
   "codemirror_mode": {
    "name": "ipython",
    "version": 3
   },
   "file_extension": ".py",
   "mimetype": "text/x-python",
   "name": "python",
   "nbconvert_exporter": "python",
   "pygments_lexer": "ipython3",
   "version": "3.11.7"
  }
 },
 "nbformat": 4,
 "nbformat_minor": 5
}
